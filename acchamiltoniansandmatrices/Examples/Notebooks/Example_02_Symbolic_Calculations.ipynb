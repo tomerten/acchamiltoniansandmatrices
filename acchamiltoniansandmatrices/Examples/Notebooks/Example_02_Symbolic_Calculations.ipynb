{
 "cells": [
  {
   "cell_type": "code",
   "execution_count": 1,
   "metadata": {
    "slideshow": {
     "slide_type": "skip"
    }
   },
   "outputs": [
    {
     "data": {
      "text/html": [
       "<style>.container { width:90% !important; }</style>"
      ],
      "text/plain": [
       "<IPython.core.display.HTML object>"
      ]
     },
     "metadata": {},
     "output_type": "display_data"
    }
   ],
   "source": [
    "from IPython.core.display import display, HTML\n",
    "display(HTML(\"<style>.container { width:90% !important; }</style>\"))"
   ]
  },
  {
   "cell_type": "code",
   "execution_count": 2,
   "metadata": {
    "slideshow": {
     "slide_type": "skip"
    }
   },
   "outputs": [],
   "source": [
    "%load_ext autoreload\n",
    "%autoreload 2"
   ]
  },
  {
   "cell_type": "code",
   "execution_count": 3,
   "metadata": {
    "slideshow": {
     "slide_type": "skip"
    }
   },
   "outputs": [],
   "source": [
    "from sympy import (\n",
    "    Derivative, \n",
    "    S, \n",
    "    Symbol, \n",
    "    series, \n",
    "    sqrt, \n",
    "    symbols, \n",
    "    oo, \n",
    "    limit, \n",
    "    Rational, \n",
    "    cos, \n",
    "    sin, \n",
    "    cosh, \n",
    "    sinh, \n",
    "    Matrix, \n",
    "    simplify, \n",
    "    latex, \n",
    "    lambdify,\n",
    "    Function,\n",
    "    collect,\n",
    "    lambdify,\n",
    "    solve,\n",
    "    Eq,\n",
    "    Poly\n",
    ")\n",
    "import numpy as np\n",
    "import pandas as pd\n",
    "from sympy import init_printing\n",
    "init_printing() \n",
    "\n",
    "from sympy.printing.latex import print_latex\n",
    "from matplotlib import pyplot as plt\n",
    "from mpl_toolkits.mplot3d import axes3d\n",
    "import matplotlib.pyplot as plt\n",
    "from matplotlib import cm\n",
    "%matplotlib notebook\n",
    "from pymad_hzb.PlotTools import new_plot_elems_madx\n",
    "from mpl_toolkits.mplot3d import axes3d\n",
    "import matplotlib.pyplot as plt\n",
    "from matplotlib import cm"
   ]
  },
  {
   "cell_type": "code",
   "execution_count": 4,
   "metadata": {
    "slideshow": {
     "slide_type": "skip"
    }
   },
   "outputs": [],
   "source": [
    "from acchamiltoniansandmatrices.Matrices.SymbMatrices import (\n",
    "    RsymbFODO, \n",
    "    RsymbDrift6D, \n",
    "    RsymbQuad6D, \n",
    "    RsymbQuad6DChroma, \n",
    "    RsymbQuad6DThin\n",
    ")\n",
    "from acchamiltoniansandmatrices.Matrices.NumpyMatrices import (\n",
    "    RnpFODO, \n",
    "    RnpDrift6D, \n",
    "    RnpQuad6D, \n",
    "    RnpQuad6DChroma, \n",
    "    RnpQuad6DThin\n",
    ")\n",
    "from acchamiltoniansandmatrices.Hamiltonians.LatticeElementHamiltonians import (\n",
    "    HamDrift6D, \n",
    "    HamDrift6DParaxialSecondOrder, \n",
    "    HamQuad6D, \n",
    "    HamQuad6DParaxialSecondOrder, \n",
    "    HamQuad6DParaxialSecondOrderChroma,\n",
    ")\n",
    "from acchamiltoniansandmatrices.Hamiltonians.Operators import Poisson\n",
    "from acchamiltoniansandmatrices.Tracking.LinearMatrixTracking import nestList, LinMap, GenerateNDimCoordinateGrid\n",
    "from acchamiltoniansandmatrices.LieMaps.LieOperator import LieOperator\n",
    "from acchamiltoniansandmatrices.LieMaps.Poisson import PoissonBracket\n",
    "\n",
    "from acchamiltoniansandmatrices.Utils.JupyterHelpFunctions import hide_toggle\n",
    "from acchamiltoniansandmatrices.Utils.SymbolicFunctions import SymbolTrick, fixedpoints2D"
   ]
  },
  {
   "cell_type": "code",
   "execution_count": 5,
   "metadata": {
    "slideshow": {
     "slide_type": "skip"
    }
   },
   "outputs": [],
   "source": [
    "x, px, y, py, z, delta, eps, h , k0, k1, k2, sigma, betag ,f = symbols('x p_x y p_y z delta epsilon h k_0 k_1 k_2 sigma beta_gamma f', real=True)\n",
    "L, beta0, gamma0 = symbols(\" L beta_0 gamma_0\", real=True, positive=True)"
   ]
  },
  {
   "cell_type": "markdown",
   "metadata": {
    "slideshow": {
     "slide_type": "slide"
    }
   },
   "source": [
    "# accHamiltoniansAndMatrices: intro to symbolic calculations"
   ]
  },
  {
   "cell_type": "markdown",
   "metadata": {
    "slideshow": {
     "slide_type": "fragment"
    }
   },
   "source": [
    "**M. Arlandoo, J. Frank, T. Mertens**"
   ]
  },
  {
   "cell_type": "markdown",
   "metadata": {
    "slideshow": {
     "slide_type": "slide"
    }
   },
   "source": [
    "# Overview"
   ]
  },
  {
   "cell_type": "markdown",
   "metadata": {
    "slideshow": {
     "slide_type": "fragment"
    }
   },
   "source": [
    "- defining generic functions\n",
    "- Poisson Brackets\n",
    "- Lie Operators"
   ]
  },
  {
   "cell_type": "markdown",
   "metadata": {
    "slideshow": {
     "slide_type": "slide"
    }
   },
   "source": [
    "# Symbolic Calculations"
   ]
  },
  {
   "cell_type": "markdown",
   "metadata": {
    "slideshow": {
     "slide_type": "fragment"
    }
   },
   "source": [
    "The package has the goal to allow basic calculations with Lie maps, where the most commonly used Hamiltonians in accelerator physcis are implemented symbolically using Sympy. The pacakage has other modules for which we refer to the other example notebooks."
   ]
  },
  {
   "cell_type": "markdown",
   "metadata": {
    "slideshow": {
     "slide_type": "fragment"
    }
   },
   "source": [
    "**Side note on displaying of expressions:**\n",
    "\n",
    "The package still fails to print the first two arguments without the variables when displaying the Hamiltonian. The underlying cause is that these arguments are not custom defined, like the PoissonBracket, but native sympy objects. Due to this the lowest end of the recursive printing depends on the native implementation for these objects. I did not implement an overloading of these methods yet."
   ]
  },
  {
   "cell_type": "markdown",
   "metadata": {
    "slideshow": {
     "slide_type": "slide"
    }
   },
   "source": [
    "# Defining generic Functions"
   ]
  },
  {
   "cell_type": "markdown",
   "metadata": {
    "slideshow": {
     "slide_type": "fragment"
    }
   },
   "source": [
    "We start by defining some generic functions where for simplicty we use only $x$ and $px$ as independent variables."
   ]
  },
  {
   "cell_type": "code",
   "execution_count": 6,
   "metadata": {
    "slideshow": {
     "slide_type": "fragment"
    }
   },
   "outputs": [],
   "source": [
    "A = Function(\"A\", commutative=False)(x,px)\n",
    "B = Function(\"B\", commutative=False)(x,px)\n",
    "C = Function(\"C\", commutative=False)(x,px)\n",
    "D = Function(\"D\", commutative=False)(x,px)\n",
    "E = Function(\"E\", commutative=False)(x,px)"
   ]
  },
  {
   "cell_type": "markdown",
   "metadata": {
    "slideshow": {
     "slide_type": "slide"
    }
   },
   "source": [
    "# Poisson Brackets"
   ]
  },
  {
   "cell_type": "markdown",
   "metadata": {
    "slideshow": {
     "slide_type": "subslide"
    }
   },
   "source": [
    "## Primitive brackets"
   ]
  },
  {
   "cell_type": "code",
   "execution_count": 8,
   "metadata": {
    "slideshow": {
     "slide_type": "fragment"
    }
   },
   "outputs": [
    {
     "data": {
      "image/png": "[encoded data removed]",
      "text/latex": [
       "$\\displaystyle \\lbrace A,B \\rbrace $"
      ],
      "text/plain": [
       "PoissonBracket(A(x, p_x), B(x, p_x))"
      ]
     },
     "execution_count": 8,
     "metadata": {},
     "output_type": "execute_result"
    }
   ],
   "source": [
    "pbab = PoissonBracket(A,B)\n",
    "pbab"
   ]
  },
  {
   "cell_type": "code",
   "execution_count": 9,
   "metadata": {
    "slideshow": {
     "slide_type": "fragment"
    }
   },
   "outputs": [
    {
     "name": "stdout",
     "output_type": "stream",
     "text": [
      "\u001b[31mNothing to evaluate - missing coordinates and momenta!\u001b[0m\n"
     ]
    },
    {
     "data": {
      "image/png": "[encoded data removed]",
      "text/latex": [
       "$\\displaystyle \\lbrace A,B \\rbrace $"
      ],
      "text/plain": [
       "PoissonBracket(A(x, p_x), B(x, p_x))"
      ]
     },
     "execution_count": 9,
     "metadata": {},
     "output_type": "execute_result"
    }
   ],
   "source": [
    "# no independent variables are defined\n",
    "pbab.doit()"
   ]
  },
  {
   "cell_type": "code",
   "execution_count": 12,
   "metadata": {
    "slideshow": {
     "slide_type": "fragment"
    }
   },
   "outputs": [
    {
     "data": {
      "image/png": "[encoded data removed]",
      "text/latex": [
       "$\\displaystyle - \\frac{\\partial}{\\partial p_{x}} A{\\left(x,p_{x} \\right)} \\frac{\\partial}{\\partial x} B{\\left(x,p_{x} \\right)} + \\frac{\\partial}{\\partial x} A{\\left(x,p_{x} \\right)} \\frac{\\partial}{\\partial p_{x}} B{\\left(x,p_{x} \\right)}$"
      ],
      "text/plain": [
       "   ∂            ∂              ∂             ∂           \n",
       "- ───(A(x, pₓ))⋅──(B(x, pₓ)) + ──(A(x, pₓ))⋅───(B(x, pₓ))\n",
       "  ∂pₓ           ∂x             ∂x           ∂pₓ          "
      ]
     },
     "execution_count": 12,
     "metadata": {},
     "output_type": "execute_result"
    }
   ],
   "source": [
    "pbab = PoissonBracket(A,B,coords=[x],mom=[px])\n",
    "pbab.doit()"
   ]
  },
  {
   "cell_type": "code",
   "execution_count": 13,
   "metadata": {
    "slideshow": {
     "slide_type": "fragment"
    }
   },
   "outputs": [
    {
     "data": {
      "image/png": "[encoded data removed]",
      "text/latex": [
       "$\\displaystyle 0$"
      ],
      "text/plain": [
       "0"
      ]
     },
     "execution_count": 13,
     "metadata": {},
     "output_type": "execute_result"
    }
   ],
   "source": [
    "pbab = PoissonBracket(A,B,coords=[y],mom=[px])\n",
    "pbab.doit()"
   ]
  },
  {
   "cell_type": "markdown",
   "metadata": {
    "slideshow": {
     "slide_type": "subslide"
    }
   },
   "source": [
    "## Primitive brackets - expand"
   ]
  },
  {
   "cell_type": "code",
   "execution_count": 14,
   "metadata": {
    "slideshow": {
     "slide_type": "fragment"
    }
   },
   "outputs": [
    {
     "data": {
      "image/png": "[encoded data removed]",
      "text/latex": [
       "$\\displaystyle \\lbrace A + B,C \\rbrace $"
      ],
      "text/plain": [
       "PoissonBracket(A(x, p_x) + B(x, p_x), C(x, p_x))"
      ]
     },
     "execution_count": 14,
     "metadata": {},
     "output_type": "execute_result"
    }
   ],
   "source": [
    "pbapbc = PoissonBracket(A+B,C, coords=[x],mom=[px])\n",
    "pbapbc"
   ]
  },
  {
   "cell_type": "code",
   "execution_count": 18,
   "metadata": {
    "slideshow": {
     "slide_type": "fragment"
    }
   },
   "outputs": [
    {
     "data": {
      "image/png": "[encoded data removed]",
      "text/latex": [
       "$\\displaystyle \\lbrace A,C \\rbrace  + \\lbrace B,C \\rbrace $"
      ],
      "text/plain": [
       "PoissonBracket(A(x, p_x), C(x, p_x)) + PoissonBracket(B(x, p_x), C(x, p_x))"
      ]
     },
     "execution_count": 18,
     "metadata": {},
     "output_type": "execute_result"
    }
   ],
   "source": [
    "pbapbc.expand(commutator=True)"
   ]
  },
  {
   "cell_type": "code",
   "execution_count": 17,
   "metadata": {
    "slideshow": {
     "slide_type": "fragment"
    }
   },
   "outputs": [
    {
     "data": {
      "image/png": "[encoded data removed]",
      "text/latex": [
       "$\\displaystyle - \\frac{\\partial}{\\partial p_{x}} A{\\left(x,p_{x} \\right)} \\frac{\\partial}{\\partial x} C{\\left(x,p_{x} \\right)} + \\frac{\\partial}{\\partial x} A{\\left(x,p_{x} \\right)} \\frac{\\partial}{\\partial p_{x}} C{\\left(x,p_{x} \\right)} - \\frac{\\partial}{\\partial p_{x}} B{\\left(x,p_{x} \\right)} \\frac{\\partial}{\\partial x} C{\\left(x,p_{x} \\right)} + \\frac{\\partial}{\\partial x} B{\\left(x,p_{x} \\right)} \\frac{\\partial}{\\partial p_{x}} C{\\left(x,p_{x} \\right)}$"
      ],
      "text/plain": [
       "   ∂            ∂              ∂             ∂               ∂            ∂   \n",
       "- ───(A(x, pₓ))⋅──(C(x, pₓ)) + ──(A(x, pₓ))⋅───(C(x, pₓ)) - ───(B(x, pₓ))⋅──(C\n",
       "  ∂pₓ           ∂x             ∂x           ∂pₓ             ∂pₓ           ∂x  \n",
       "\n",
       "           ∂             ∂           \n",
       "(x, pₓ)) + ──(B(x, pₓ))⋅───(C(x, pₓ))\n",
       "           ∂x           ∂pₓ          "
      ]
     },
     "execution_count": 17,
     "metadata": {},
     "output_type": "execute_result"
    }
   ],
   "source": [
    "pbapbc.expand(commutator=True).doit()"
   ]
  },
  {
   "cell_type": "code",
   "execution_count": 21,
   "metadata": {
    "slideshow": {
     "slide_type": "fragment"
    }
   },
   "outputs": [
    {
     "data": {
      "image/png": "[encoded data removed]",
      "text/latex": [
       "$\\displaystyle \\lbrace A{\\left(x,p_{x} \\right)} B{\\left(x,p_{x} \\right)},C \\rbrace $"
      ],
      "text/plain": [
       "PoissonBracket(A(x, p_x)*B(x, p_x), C(x, p_x))"
      ]
     },
     "execution_count": 21,
     "metadata": {},
     "output_type": "execute_result"
    }
   ],
   "source": [
    "# printing issue - needs to be updated\n",
    "pbatbc = PoissonBracket(A*B,C, coords=[x],mom=[px])\n",
    "pbatbc"
   ]
  },
  {
   "cell_type": "code",
   "execution_count": 22,
   "metadata": {
    "slideshow": {
     "slide_type": "fragment"
    }
   },
   "outputs": [
    {
     "data": {
      "image/png": "[encoded data removed]",
      "text/latex": [
       "$\\displaystyle A{\\left(x,p_{x} \\right)} \\lbrace B,C \\rbrace  + \\lbrace A,C \\rbrace  B{\\left(x,p_{x} \\right)}$"
      ],
      "text/plain": [
       "A(x, pₓ)⋅PoissonBracket(B(x, p_x), C(x, p_x)) + PoissonBracket(A(x, p_x), C(x,\n",
       " p_x))⋅B(x, pₓ)"
      ]
     },
     "execution_count": 22,
     "metadata": {},
     "output_type": "execute_result"
    }
   ],
   "source": [
    "# notice the order - these are operators ORDER MATTERS!!!!\n",
    "pbatbc.expand(commutator=True)"
   ]
  },
  {
   "cell_type": "code",
   "execution_count": 23,
   "metadata": {
    "slideshow": {
     "slide_type": "fragment"
    }
   },
   "outputs": [
    {
     "data": {
      "image/png": "[encoded data removed]",
      "text/latex": [
       "$\\displaystyle \\left(- \\frac{\\partial}{\\partial p_{x}} A{\\left(x,p_{x} \\right)} \\frac{\\partial}{\\partial x} C{\\left(x,p_{x} \\right)} + \\frac{\\partial}{\\partial x} A{\\left(x,p_{x} \\right)} \\frac{\\partial}{\\partial p_{x}} C{\\left(x,p_{x} \\right)}\\right) B{\\left(x,p_{x} \\right)} + A{\\left(x,p_{x} \\right)} \\left(- \\frac{\\partial}{\\partial p_{x}} B{\\left(x,p_{x} \\right)} \\frac{\\partial}{\\partial x} C{\\left(x,p_{x} \\right)} + \\frac{\\partial}{\\partial x} B{\\left(x,p_{x} \\right)} \\frac{\\partial}{\\partial p_{x}} C{\\left(x,p_{x} \\right)}\\right)$"
      ],
      "text/plain": [
       "⎛   ∂            ∂              ∂             ∂           ⎞                   \n",
       "⎜- ───(A(x, pₓ))⋅──(C(x, pₓ)) + ──(A(x, pₓ))⋅───(C(x, pₓ))⎟⋅B(x, pₓ) + A(x, pₓ\n",
       "⎝  ∂pₓ           ∂x             ∂x           ∂pₓ          ⎠                   \n",
       "\n",
       "  ⎛   ∂            ∂              ∂             ∂           ⎞\n",
       ")⋅⎜- ───(B(x, pₓ))⋅──(C(x, pₓ)) + ──(B(x, pₓ))⋅───(C(x, pₓ))⎟\n",
       "  ⎝  ∂pₓ           ∂x             ∂x           ∂pₓ          ⎠"
      ]
     },
     "execution_count": 23,
     "metadata": {},
     "output_type": "execute_result"
    }
   ],
   "source": [
    "pbatbc.expand(commutator=True).doit()"
   ]
  },
  {
   "cell_type": "markdown",
   "metadata": {
    "slideshow": {
     "slide_type": "subslide"
    }
   },
   "source": [
    "## Double brackets"
   ]
  },
  {
   "cell_type": "code",
   "execution_count": 24,
   "metadata": {
    "slideshow": {
     "slide_type": "fragment"
    }
   },
   "outputs": [
    {
     "data": {
      "image/png": "[encoded data removed]",
      "text/latex": [
       "$\\displaystyle \\lbrace A,\\lbrace B,C \\rbrace  \\rbrace $"
      ],
      "text/plain": [
       "PoissonBracket(A(x, p_x), PoissonBracket(B(x, p_x), C(x, p_x)))"
      ]
     },
     "execution_count": 24,
     "metadata": {},
     "output_type": "execute_result"
    }
   ],
   "source": [
    "pbabc = PoissonBracket(A,PoissonBracket(B,C))\n",
    "pbabc"
   ]
  },
  {
   "cell_type": "code",
   "execution_count": 27,
   "metadata": {
    "slideshow": {
     "slide_type": "fragment"
    }
   },
   "outputs": [
    {
     "data": {
      "image/png": "[encoded data removed]",
      "text/latex": [
       "$\\displaystyle 0$"
      ],
      "text/plain": [
       "0"
      ]
     },
     "execution_count": 27,
     "metadata": {},
     "output_type": "execute_result"
    }
   ],
   "source": [
    "# independent coordinates and momenta of outmost bracket are enforced\n",
    "pbabc = PoissonBracket(A,PoissonBracket(B,C,coords=[x],mom=[px]),coords=[y],mom=[py])\n",
    "pbabc.doit()"
   ]
  },
  {
   "cell_type": "code",
   "execution_count": 29,
   "metadata": {
    "slideshow": {
     "slide_type": "fragment"
    }
   },
   "outputs": [
    {
     "data": {
      "image/png": "[encoded data removed]",
      "text/latex": [
       "$\\displaystyle - \\frac{\\partial}{\\partial p_{x}} A{\\left(x,p_{x} \\right)} \\left(- \\frac{\\partial}{\\partial p_{x}} B{\\left(x,p_{x} \\right)} \\frac{\\partial^{2}}{\\partial x^{2}} C{\\left(x,p_{x} \\right)} + \\frac{\\partial}{\\partial x} B{\\left(x,p_{x} \\right)} \\frac{\\partial^{2}}{\\partial x\\partial p_{x}} C{\\left(x,p_{x} \\right)} + \\frac{\\partial^{2}}{\\partial x^{2}} B{\\left(x,p_{x} \\right)} \\frac{\\partial}{\\partial p_{x}} C{\\left(x,p_{x} \\right)} - \\frac{\\partial^{2}}{\\partial x\\partial p_{x}} B{\\left(x,p_{x} \\right)} \\frac{\\partial}{\\partial x} C{\\left(x,p_{x} \\right)}\\right) + \\frac{\\partial}{\\partial x} A{\\left(x,p_{x} \\right)} \\left(- \\frac{\\partial}{\\partial p_{x}} B{\\left(x,p_{x} \\right)} \\frac{\\partial^{2}}{\\partial x\\partial p_{x}} C{\\left(x,p_{x} \\right)} - \\frac{\\partial^{2}}{\\partial p_{x}^{2}} B{\\left(x,p_{x} \\right)} \\frac{\\partial}{\\partial x} C{\\left(x,p_{x} \\right)} + \\frac{\\partial}{\\partial x} B{\\left(x,p_{x} \\right)} \\frac{\\partial^{2}}{\\partial p_{x}^{2}} C{\\left(x,p_{x} \\right)} + \\frac{\\partial^{2}}{\\partial x\\partial p_{x}} B{\\left(x,p_{x} \\right)} \\frac{\\partial}{\\partial p_{x}} C{\\left(x,p_{x} \\right)}\\right)$"
      ],
      "text/plain": [
       "                ⎛                  2                             2            \n",
       "   ∂            ⎜   ∂             ∂              ∂              ∂             \n",
       "- ───(A(x, pₓ))⋅⎜- ───(B(x, pₓ))⋅───(C(x, pₓ)) + ──(B(x, pₓ))⋅──────(C(x, pₓ))\n",
       "  ∂pₓ           ⎜  ∂pₓ             2             ∂x           ∂x ∂pₓ          \n",
       "                ⎝                ∂x                                           \n",
       "\n",
       "     2                              2                         ⎞               \n",
       "    ∂             ∂                ∂              ∂           ⎟   ∂           \n",
       " + ───(B(x, pₓ))⋅───(C(x, pₓ)) - ──────(B(x, pₓ))⋅──(C(x, pₓ))⎟ + ──(A(x, pₓ))\n",
       "     2           ∂pₓ             ∂x ∂pₓ           ∂x          ⎟   ∂x          \n",
       "   ∂x                                                         ⎠               \n",
       "\n",
       " ⎛                   2                 2                                      \n",
       " ⎜   ∂              ∂                 ∂             ∂              ∂          \n",
       "⋅⎜- ───(B(x, pₓ))⋅──────(C(x, pₓ)) - ────(B(x, pₓ))⋅──(C(x, pₓ)) + ──(B(x, pₓ)\n",
       " ⎜  ∂pₓ           ∂x ∂pₓ                2           ∂x             ∂x         \n",
       " ⎝                                   ∂pₓ                                      \n",
       "\n",
       "    2                 2                          ⎞\n",
       "   ∂                 ∂               ∂           ⎟\n",
       ")⋅────(C(x, pₓ)) + ──────(B(x, pₓ))⋅───(C(x, pₓ))⎟\n",
       "     2             ∂x ∂pₓ           ∂pₓ          ⎟\n",
       "  ∂pₓ                                            ⎠"
      ]
     },
     "execution_count": 29,
     "metadata": {},
     "output_type": "execute_result"
    }
   ],
   "source": [
    "pbabc = PoissonBracket(A,PoissonBracket(B,C,coords=[x],mom=[px]),coords=[x],mom=[px])\n",
    "pbabc.doit()"
   ]
  },
  {
   "cell_type": "markdown",
   "metadata": {
    "slideshow": {
     "slide_type": "slide"
    }
   },
   "source": [
    "# Lie Operators"
   ]
  },
  {
   "cell_type": "markdown",
   "metadata": {
    "slideshow": {
     "slide_type": "subslide"
    }
   },
   "source": [
    "## Defining Lie Operators"
   ]
  },
  {
   "cell_type": "markdown",
   "metadata": {
    "slideshow": {
     "slide_type": "fragment"
    }
   },
   "source": [
    "Using the above defined generic functions we can now define the Lie Operators."
   ]
  },
  {
   "cell_type": "code",
   "execution_count": 30,
   "metadata": {
    "slideshow": {
     "slide_type": "fragment"
    }
   },
   "outputs": [],
   "source": [
    "Aop = LieOperator(A,x,px)\n",
    "Bop = LieOperator(B,x,px)\n",
    "Cop = LieOperator(C,x,px)"
   ]
  },
  {
   "cell_type": "code",
   "execution_count": 31,
   "metadata": {
    "slideshow": {
     "slide_type": "fragment"
    }
   },
   "outputs": [
    {
     "data": {
      "image/png": "[encoded data removed]",
      "text/latex": [
       "$\\displaystyle e^{:A:}$"
      ],
      "text/plain": [
       "LieOperator(A(x, p_x), [x], [p_x])"
      ]
     },
     "execution_count": 31,
     "metadata": {},
     "output_type": "execute_result"
    }
   ],
   "source": [
    "Aop"
   ]
  },
  {
   "cell_type": "markdown",
   "metadata": {
    "slideshow": {
     "slide_type": "subslide"
    }
   },
   "source": [
    "## Basics"
   ]
  },
  {
   "cell_type": "markdown",
   "metadata": {
    "slideshow": {
     "slide_type": "fragment"
    }
   },
   "source": [
    "Lie operators can be combined, i.e.:\n",
    "$$e^{:A:}e^{:B:}$$\n",
    "using the **BCH** method, which is implemented **up to fourth order**."
   ]
  },
  {
   "cell_type": "code",
   "execution_count": 32,
   "metadata": {
    "slideshow": {
     "slide_type": "fragment"
    }
   },
   "outputs": [
    {
     "data": {
      "image/png": "[encoded data removed]",
      "text/latex": [
       "$\\displaystyle e^{:A+B:}$"
      ],
      "text/plain": [
       "LieOperator(A(x, p_x) + B(x, p_x), [x], [p_x])"
      ]
     },
     "execution_count": 32,
     "metadata": {},
     "output_type": "execute_result"
    }
   ],
   "source": [
    "Aop.BCH(Bop,1)"
   ]
  },
  {
   "cell_type": "code",
   "execution_count": 33,
   "metadata": {
    "slideshow": {
     "slide_type": "fragment"
    }
   },
   "outputs": [
    {
     "data": {
      "image/png": "[encoded data removed]",
      "text/latex": [
       "$\\displaystyle e^{:A+B + \\frac{\\lbrace A,B \\rbrace }{2}:}$"
      ],
      "text/plain": [
       "LieOperator(A(x, p_x) + B(x, p_x) + PoissonBracket(A(x, p_x), B(x, p_x))/2, [x\n",
       "], [p_x])"
      ]
     },
     "execution_count": 33,
     "metadata": {},
     "output_type": "execute_result"
    }
   ],
   "source": [
    "Aop.BCH(Bop,2)"
   ]
  },
  {
   "cell_type": "code",
   "execution_count": 34,
   "metadata": {
    "slideshow": {
     "slide_type": "fragment"
    }
   },
   "outputs": [
    {
     "data": {
      "image/png": "[encoded data removed]",
      "text/latex": [
       "$\\displaystyle e^{:A+B + \\frac{\\lbrace A,B \\rbrace }{2} + \\frac{\\lbrace A,\\lbrace A,B \\rbrace  \\rbrace }{12} - \\frac{\\lbrace - \\lbrace A,B \\rbrace ,B \\rbrace }{12}:}$"
      ],
      "text/plain": [
       "LieOperator(A(x, p_x) + B(x, p_x) + PoissonBracket(A(x, p_x), B(x, p_x))/2 + P\n",
       "oissonBracket(A(x, p_x), PoissonBracket(A(x, p_x), B(x, p_x)))/12 - PoissonBra\n",
       "cket(-PoissonBracket(A(x, p_x), B(x, p_x)), B(x, p_x))/12, [x], [p_x])"
      ]
     },
     "execution_count": 34,
     "metadata": {},
     "output_type": "execute_result"
    }
   ],
   "source": [
    "Aop.BCH(Bop,3)"
   ]
  },
  {
   "cell_type": "code",
   "execution_count": 35,
   "metadata": {
    "slideshow": {
     "slide_type": "fragment"
    }
   },
   "outputs": [
    {
     "data": {
      "image/png": "[encoded data removed]",
      "text/latex": [
       "$\\displaystyle e^{:A+B + \\frac{\\lbrace A,B \\rbrace }{2} + \\frac{\\lbrace A,\\lbrace A,B \\rbrace  \\rbrace }{12} - \\frac{\\lbrace B,\\lbrace A,\\lbrace A,B \\rbrace  \\rbrace  \\rbrace }{24} - \\frac{\\lbrace - \\lbrace A,B \\rbrace ,B \\rbrace }{12}:}$"
      ],
      "text/plain": [
       "LieOperator(A(x, p_x) + B(x, p_x) + PoissonBracket(A(x, p_x), B(x, p_x))/2 + P\n",
       "oissonBracket(A(x, p_x), PoissonBracket(A(x, p_x), B(x, p_x)))/12 - PoissonBra\n",
       "cket(B(x, p_x), PoissonBracket(A(x, p_x), PoissonBracket(A(x, p_x), B(x, p_x))\n",
       "))/24 - PoissonBracket(-PoissonBracket(A(x, p_x), B(x, p_x)), B(x, p_x))/12, [\n",
       "x], [p_x])"
      ]
     },
     "execution_count": 35,
     "metadata": {},
     "output_type": "execute_result"
    }
   ],
   "source": [
    "Aop.BCH(Bop,4)"
   ]
  },
  {
   "cell_type": "markdown",
   "metadata": {
    "slideshow": {
     "slide_type": "subslide"
    }
   },
   "source": [
    "## Hamiltonians"
   ]
  },
  {
   "cell_type": "code",
   "execution_count": 36,
   "metadata": {
    "slideshow": {
     "slide_type": "fragment"
    }
   },
   "outputs": [
    {
     "data": {
      "image/png": "[encoded data removed]",
      "text/latex": [
       "$\\displaystyle A{\\left(x,p_{x} \\right)} + B{\\left(x,p_{x} \\right)} + \\frac{\\lbrace A,B \\rbrace }{2} + \\frac{\\lbrace A,\\lbrace A,B \\rbrace  \\rbrace }{12} - \\frac{\\lbrace B,\\lbrace A,\\lbrace A,B \\rbrace  \\rbrace  \\rbrace }{24} - \\frac{\\lbrace - \\lbrace A,B \\rbrace ,B \\rbrace }{12}$"
      ],
      "text/plain": [
       "                      PoissonBracket(A(x, p_x), B(x, p_x))   PoissonBracket(A(\n",
       "A(x, pₓ) + B(x, pₓ) + ──────────────────────────────────── + ─────────────────\n",
       "                                       2                                      \n",
       "\n",
       "x, p_x), PoissonBracket(A(x, p_x), B(x, p_x)))   PoissonBracket(B(x, p_x), Poi\n",
       "────────────────────────────────────────────── - ─────────────────────────────\n",
       "              12                                                              \n",
       "\n",
       "ssonBracket(A(x, p_x), PoissonBracket(A(x, p_x), B(x, p_x))))   PoissonBracket\n",
       "───────────────────────────────────────────────────────────── - ──────────────\n",
       "               24                                                             \n",
       "\n",
       "(-PoissonBracket(A(x, p_x), B(x, p_x)), B(x, p_x))\n",
       "──────────────────────────────────────────────────\n",
       "                 12                               "
      ]
     },
     "execution_count": 36,
     "metadata": {},
     "output_type": "execute_result"
    }
   ],
   "source": [
    "# extracting the Hamiltonian\n",
    "Aop.BCH(Bop,4).ham"
   ]
  },
  {
   "cell_type": "code",
   "execution_count": 37,
   "metadata": {
    "slideshow": {
     "slide_type": "fragment"
    }
   },
   "outputs": [
    {
     "data": {
      "image/png": "[encoded data removed]",
      "text/latex": [
       "$\\displaystyle A{\\left(x,p_{x} \\right)} + B{\\left(x,p_{x} \\right)} + C{\\left(x,p_{x} \\right)} + \\frac{\\lbrace \\frac{\\lbrace A,B \\rbrace }{2} + A + B,C \\rbrace }{2} + \\frac{\\lbrace A,B \\rbrace }{2}$"
      ],
      "text/plain": [
       "                                 PoissonBracket(A(x, p_x) + B(x, p_x) + Poisso\n",
       "A(x, pₓ) + B(x, pₓ) + C(x, pₓ) + ─────────────────────────────────────────────\n",
       "                                                                             2\n",
       "\n",
       "nBracket(A(x, p_x), B(x, p_x))/2, C(x, p_x))   PoissonBracket(A(x, p_x), B(x, \n",
       "──────────────────────────────────────────── + ───────────────────────────────\n",
       "                                                                2             \n",
       "\n",
       "p_x))\n",
       "─────\n",
       "     "
      ]
     },
     "execution_count": 37,
     "metadata": {},
     "output_type": "execute_result"
    }
   ],
   "source": [
    "H1 = Aop.BCH(Bop,2).BCH(Cop,2).ham\n",
    "H1"
   ]
  },
  {
   "cell_type": "markdown",
   "metadata": {
    "slideshow": {
     "slide_type": "fragment"
    }
   },
   "source": [
    "Let us clean this up a bit by expanding the Poisson Brackets."
   ]
  },
  {
   "cell_type": "code",
   "execution_count": 38,
   "metadata": {
    "slideshow": {
     "slide_type": "fragment"
    }
   },
   "outputs": [
    {
     "data": {
      "image/png": "[encoded data removed]",
      "text/latex": [
       "$\\displaystyle A{\\left(x,p_{x} \\right)} + B{\\left(x,p_{x} \\right)} + C{\\left(x,p_{x} \\right)} + \\frac{\\lbrace A,B \\rbrace }{2} + \\frac{\\lbrace A,C \\rbrace }{2} + \\frac{\\lbrace B,C \\rbrace }{2} - \\frac{\\lbrace C,\\lbrace A,B \\rbrace  \\rbrace }{4}$"
      ],
      "text/plain": [
       "                                 PoissonBracket(A(x, p_x), B(x, p_x))   Poisso\n",
       "A(x, pₓ) + B(x, pₓ) + C(x, pₓ) + ──────────────────────────────────── + ──────\n",
       "                                                  2                           \n",
       "\n",
       "nBracket(A(x, p_x), C(x, p_x))   PoissonBracket(B(x, p_x), C(x, p_x))   Poisso\n",
       "────────────────────────────── + ──────────────────────────────────── - ──────\n",
       "           2                                      2                           \n",
       "\n",
       "nBracket(C(x, p_x), PoissonBracket(A(x, p_x), B(x, p_x)))\n",
       "─────────────────────────────────────────────────────────\n",
       "                         4                               "
      ]
     },
     "execution_count": 38,
     "metadata": {},
     "output_type": "execute_result"
    }
   ],
   "source": [
    "Aop.BCH(Bop,2).BCH(Cop,2).ham.expand(commutator=True)"
   ]
  }
 ],
 "metadata": {
  "celltoolbar": "Slideshow",
  "kernelspec": {
   "display_name": "Python 3",
   "language": "python",
   "name": "python3"
  },
  "language_info": {
   "codemirror_mode": {
    "name": "ipython",
    "version": 3
   },
   "file_extension": ".py",
   "mimetype": "text/x-python",
   "name": "python",
   "nbconvert_exporter": "python",
   "pygments_lexer": "ipython3",
   "version": "3.6.10"
  },
  "toc": {
   "base_numbering": 1,
   "nav_menu": {},
   "number_sections": true,
   "sideBar": true,
   "skip_h1_title": false,
   "title_cell": "Table of Contents",
   "title_sidebar": "Contents",
   "toc_cell": false,
   "toc_position": {},
   "toc_section_display": true,
   "toc_window_display": false
  }
 },
 "nbformat": 4,
 "nbformat_minor": 4
}
