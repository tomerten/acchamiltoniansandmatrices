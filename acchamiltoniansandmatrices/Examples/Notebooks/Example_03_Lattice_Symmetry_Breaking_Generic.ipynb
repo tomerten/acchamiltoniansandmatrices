{
 "cells": [
  {
   "cell_type": "code",
   "execution_count": 1,
   "metadata": {
    "slideshow": {
     "slide_type": "skip"
    }
   },
   "outputs": [
    {
     "data": {
      "text/html": [
       "<style>.container { width:90% !important; }</style>"
      ],
      "text/plain": [
       "<IPython.core.display.HTML object>"
      ]
     },
     "metadata": {},
     "output_type": "display_data"
    }
   ],
   "source": [
    "from IPython.core.display import display, HTML\n",
    "display(HTML(\"<style>.container { width:90% !important; }</style>\"))"
   ]
  },
  {
   "cell_type": "code",
   "execution_count": 2,
   "metadata": {
    "slideshow": {
     "slide_type": "skip"
    }
   },
   "outputs": [],
   "source": [
    "%load_ext autoreload\n",
    "%autoreload 2"
   ]
  },
  {
   "cell_type": "code",
   "execution_count": 3,
   "metadata": {
    "slideshow": {
     "slide_type": "skip"
    }
   },
   "outputs": [],
   "source": [
    "from sympy import (\n",
    "    Derivative, \n",
    "    S, \n",
    "    Symbol, \n",
    "    series, \n",
    "    sqrt, \n",
    "    symbols, \n",
    "    oo, \n",
    "    limit, \n",
    "    Rational, \n",
    "    cos, \n",
    "    sin, \n",
    "    cosh, \n",
    "    sinh, \n",
    "    Matrix, \n",
    "    simplify, \n",
    "    latex, \n",
    "    lambdify,\n",
    "    Function,\n",
    "    collect,\n",
    "    lambdify,\n",
    "    solve,\n",
    "    Eq,\n",
    "    Poly\n",
    ")\n",
    "import numpy as np\n",
    "import pandas as pd\n",
    "from sympy import init_printing\n",
    "init_printing() \n",
    "\n",
    "from sympy.printing.latex import print_latex\n",
    "from matplotlib import pyplot as plt\n",
    "from mpl_toolkits.mplot3d import axes3d\n",
    "import matplotlib.pyplot as plt\n",
    "from matplotlib import cm\n",
    "%matplotlib notebook\n",
    "from pymad_hzb.PlotTools import new_plot_elems_madx\n",
    "from mpl_toolkits.mplot3d import axes3d\n",
    "import matplotlib.pyplot as plt\n",
    "from matplotlib import cm"
   ]
  },
  {
   "cell_type": "code",
   "execution_count": 4,
   "metadata": {
    "slideshow": {
     "slide_type": "skip"
    }
   },
   "outputs": [],
   "source": [
    "from acchamiltoniansandmatrices.Matrices.SymbMatrices import (\n",
    "    RsymbFODO, \n",
    "    RsymbDrift6D, \n",
    "    RsymbQuad6D, \n",
    "    RsymbQuad6DChroma, \n",
    "    RsymbQuad6DThin\n",
    ")\n",
    "from acchamiltoniansandmatrices.Matrices.NumpyMatrices import (\n",
    "    RnpFODO, \n",
    "    RnpDrift6D, \n",
    "    RnpQuad6D, \n",
    "    RnpQuad6DChroma, \n",
    "    RnpQuad6DThin\n",
    ")\n",
    "from acchamiltoniansandmatrices.Hamiltonians.LatticeElementHamiltonians import (\n",
    "    HamDrift6D, \n",
    "    HamDrift6DParaxialSecondOrder, \n",
    "    HamQuad6D, \n",
    "    HamQuad6DParaxialSecondOrder, \n",
    "    HamQuad6DParaxialSecondOrderChroma,\n",
    ")\n",
    "from acchamiltoniansandmatrices.Hamiltonians.Operators import Poisson\n",
    "from acchamiltoniansandmatrices.Tracking.LinearMatrixTracking import nestList, LinMap, GenerateNDimCoordinateGrid\n",
    "from acchamiltoniansandmatrices.LieMaps.LieOperator import LieOperator\n",
    "from acchamiltoniansandmatrices.LieMaps.Poisson import PoissonBracket\n",
    "\n",
    "from acchamiltoniansandmatrices.Utils.JupyterHelpFunctions import hide_toggle\n",
    "from acchamiltoniansandmatrices.Utils.SymbolicFunctions import SymbolTrick, fixedpoints2D"
   ]
  },
  {
   "cell_type": "code",
   "execution_count": 5,
   "metadata": {
    "slideshow": {
     "slide_type": "skip"
    }
   },
   "outputs": [],
   "source": [
    "x, px, y, py, z, delta, eps, h , k0, k1, k2, sigma, betag ,f = symbols('x p_x y p_y z delta epsilon h k_0 k_1 k_2 sigma beta_gamma f', real=True)\n",
    "L, beta0, gamma0 = symbols(\" L beta_0 gamma_0\", real=True, positive=True)"
   ]
  },
  {
   "cell_type": "code",
   "execution_count": 6,
   "metadata": {
    "slideshow": {
     "slide_type": "skip"
    }
   },
   "outputs": [],
   "source": [
    "A = Function(\"A\", commutative=False)(x,px)\n",
    "B = Function(\"B\", commutative=False)(x,px)\n",
    "C = Function(\"C\", commutative=False)(x,px)\n",
    "D = Function(\"D\", commutative=False)(x,px)\n",
    "E = Function(\"E\", commutative=False)(x,px)\n",
    "\n",
    "Aop = LieOperator(A,x,px)\n",
    "Bop = LieOperator(B,x,px)\n",
    "Cop = LieOperator(C,x,px)"
   ]
  },
  {
   "cell_type": "markdown",
   "metadata": {
    "slideshow": {
     "slide_type": "slide"
    }
   },
   "source": [
    "# accHamiltoniansAndMatrices: Lattice Symmetry Breaking (generic)"
   ]
  },
  {
   "cell_type": "markdown",
   "metadata": {
    "slideshow": {
     "slide_type": "fragment"
    }
   },
   "source": [
    "**M. Arlandoo, J. Frank, T. Mertens**"
   ]
  },
  {
   "cell_type": "markdown",
   "metadata": {
    "slideshow": {
     "slide_type": "slide"
    }
   },
   "source": [
    "# Overview"
   ]
  },
  {
   "cell_type": "markdown",
   "metadata": {
    "slideshow": {
     "slide_type": "fragment"
    }
   },
   "source": [
    "- general\n",
    "- Symmetry\n",
    "- Symmetry Breaking"
   ]
  },
  {
   "cell_type": "markdown",
   "metadata": {
    "slideshow": {
     "slide_type": "slide"
    }
   },
   "source": [
    "# Generic Symmetry Breaking in an Accelerator Lattice"
   ]
  },
  {
   "cell_type": "markdown",
   "metadata": {
    "slideshow": {
     "slide_type": "slide"
    }
   },
   "source": [
    "# General "
   ]
  },
  {
   "cell_type": "markdown",
   "metadata": {
    "slideshow": {
     "slide_type": "fragment"
    }
   },
   "source": [
    "We  start by considering the following lattice:\n",
    "$$A-B-C$$\n",
    "where A,B and C are generic Hamiltonian operators for lattice elements, **or effective Hamiltonian operators for sublattices**, and we consider the beam coming from the left (this important for the ordering of the operators).\n",
    "\n",
    "The corresponding Lie map is given by:\n",
    "$$e^{A(q^0_i,p^0_i)}e^{B(q^1_i,p^1_i)}e^{C(q^2_i,p^2_i)}$$\n",
    "and after the correct coordinate transformations this becomes:\n",
    "$$e^{C(q^0_i,p^0_i)}e^{B(q^0_i,p^0_i)}e^{A(q^0_i,p^0_i)}$$\n",
    "\n",
    "The operators A,B and C in the exponents need to be combined using the BCH formula. Doing this order by order, where with order we mean the number of iterative Poisson brackets and not the order of the resulting polynomial in the independent coordinates, we get:\n",
    "$$H_0 = A +B + C$$\n",
    "\n",
    "For the higher orders we go step by step. Let us start by first having a look at $H_1$ for the first three elements.\n",
    "$$H_1 = A + B + C + \\frac{\\lbrace \\frac{\\lbrace A,B \\rbrace }{2} + A + B,C \\rbrace }{2} + \\frac{\\lbrace A,B \\rbrace }{2}$$\n"
   ]
  },
  {
   "cell_type": "markdown",
   "metadata": {
    "slideshow": {
     "slide_type": "slide"
    }
   },
   "source": [
    "# Symmetry"
   ]
  },
  {
   "cell_type": "markdown",
   "metadata": {
    "slideshow": {
     "slide_type": "fragment"
    }
   },
   "source": [
    "One can immediately see the effect of the BCH formula, making things very complicated very quickly. \n",
    "\n",
    "An interesting question to ask is what happens if $C=A$."
   ]
  },
  {
   "cell_type": "code",
   "execution_count": 11,
   "metadata": {
    "slideshow": {
     "slide_type": "fragment"
    }
   },
   "outputs": [
    {
     "data": {
      "image/png": "[encoded data removed]",
      "text/latex": [
       "$\\displaystyle A{\\left(x,p_{x} \\right)} + B{\\left(x,p_{x} \\right)} + C{\\left(x,p_{x} \\right)} + \\frac{\\lbrace A,B \\rbrace }{2} + \\frac{\\lbrace A,C \\rbrace }{2} + \\frac{\\lbrace B,C \\rbrace }{2} - \\frac{\\lbrace C,\\lbrace A,B \\rbrace  \\rbrace }{4}$"
      ],
      "text/plain": [
       "                                 PoissonBracket(A(x, p_x), B(x, p_x))   Poisso\n",
       "A(x, pₓ) + B(x, pₓ) + C(x, pₓ) + ──────────────────────────────────── + ──────\n",
       "                                                  2                           \n",
       "\n",
       "nBracket(A(x, p_x), C(x, p_x))   PoissonBracket(B(x, p_x), C(x, p_x))   Poisso\n",
       "────────────────────────────── + ──────────────────────────────────── - ──────\n",
       "           2                                      2                           \n",
       "\n",
       "nBracket(C(x, p_x), PoissonBracket(A(x, p_x), B(x, p_x)))\n",
       "─────────────────────────────────────────────────────────\n",
       "                         4                               "
      ]
     },
     "execution_count": 11,
     "metadata": {},
     "output_type": "execute_result"
    }
   ],
   "source": [
    "# without symmetry\n",
    "Aop.BCH(Bop,2).BCH(Cop,2).ham.expand(commutator=True)"
   ]
  },
  {
   "cell_type": "code",
   "execution_count": 7,
   "metadata": {},
   "outputs": [
    {
     "name": "stdout",
     "output_type": "stream",
     "text": [
      "A{\\left(x,p_{x} \\right)} + B{\\left(x,p_{x} \\right)} + C{\\left(x,p_{x} \\right)} + \\frac{\\lbrace A,B \\rbrace }{2} + \\frac{\\lbrace A,C \\rbrace }{2} + \\frac{\\lbrace B,C \\rbrace }{2} - \\frac{\\lbrace C,\\lbrace A,B \\rbrace  \\rbrace }{4}\n"
     ]
    }
   ],
   "source": [
    "print_latex(Aop.BCH(Bop,2).BCH(Cop,2).ham.expand(commutator=True))"
   ]
  },
  {
   "cell_type": "code",
   "execution_count": 12,
   "metadata": {
    "slideshow": {
     "slide_type": "fragment"
    }
   },
   "outputs": [
    {
     "data": {
      "image/png": "[encoded data removed]",
      "text/latex": [
       "$\\displaystyle 2 A{\\left(x,p_{x} \\right)} + B{\\left(x,p_{x} \\right)} - \\frac{\\lbrace A,\\lbrace A,B \\rbrace  \\rbrace }{4}$"
      ],
      "text/plain": [
       "                        PoissonBracket(A(x, p_x), PoissonBracket(A(x, p_x), B(\n",
       "2⋅A(x, pₓ) + B(x, pₓ) - ──────────────────────────────────────────────────────\n",
       "                                                       4                      \n",
       "\n",
       "x, p_x)))\n",
       "─────────\n",
       "         "
      ]
     },
     "execution_count": 12,
     "metadata": {},
     "output_type": "execute_result"
    }
   ],
   "source": [
    "# with symmetry\n",
    "Aop.BCH(Bop,2).BCH(Cop,2).ham.expand(commutator=True).subs(C,A)"
   ]
  },
  {
   "cell_type": "code",
   "execution_count": 8,
   "metadata": {},
   "outputs": [
    {
     "name": "stdout",
     "output_type": "stream",
     "text": [
      "2 A{\\left(x,p_{x} \\right)} + B{\\left(x,p_{x} \\right)} - \\frac{\\lbrace A,\\lbrace A,B \\rbrace  \\rbrace }{4}\n"
     ]
    }
   ],
   "source": [
    "print_latex(Aop.BCH(Bop,2).BCH(Cop,2).ham.expand(commutator=True).subs(C,A))"
   ]
  },
  {
   "cell_type": "markdown",
   "metadata": {
    "slideshow": {
     "slide_type": "fragment"
    }
   },
   "source": [
    "**The terms with a single Poisson bracket have been canceled out!**\n",
    "\n",
    "Let us now break the symmetry lightly and assume that $C = A + \\delta A$."
   ]
  },
  {
   "cell_type": "markdown",
   "metadata": {
    "slideshow": {
     "slide_type": "slide"
    }
   },
   "source": [
    "# Explicit Symmetry Breaking"
   ]
  },
  {
   "cell_type": "code",
   "execution_count": 13,
   "metadata": {
    "slideshow": {
     "slide_type": "fragment"
    }
   },
   "outputs": [
    {
     "data": {
      "image/png": "[encoded data removed]",
      "text/latex": [
       "$\\displaystyle \\delta A{\\left(x,p_{x} \\right)}$"
      ],
      "text/plain": [
       "\\delta A(x, pₓ)"
      ]
     },
     "execution_count": 13,
     "metadata": {},
     "output_type": "execute_result"
    }
   ],
   "source": [
    "da = Function(\"\\delta A\", commutative=False)(x,px)\n",
    "da"
   ]
  },
  {
   "cell_type": "code",
   "execution_count": 14,
   "metadata": {
    "slideshow": {
     "slide_type": "fragment"
    }
   },
   "outputs": [
    {
     "data": {
      "image/png": "[encoded data removed]",
      "text/latex": [
       "$\\displaystyle 2 A{\\left(x,p_{x} \\right)} + B{\\left(x,p_{x} \\right)} + \\delta A{\\left(x,p_{x} \\right)} + \\frac{\\lbrace A,\\delta A \\rbrace }{2} - \\frac{\\lbrace A,\\lbrace A,B \\rbrace  \\rbrace }{4} + \\frac{\\lbrace B,\\delta A \\rbrace }{2} + \\frac{\\lbrace \\lbrace A,B \\rbrace ,\\delta A \\rbrace }{4}$"
      ],
      "text/plain": [
       "                                          PoissonBracket(A(x, p_x), \\delta A(x\n",
       "2⋅A(x, pₓ) + B(x, pₓ) + \\delta A(x, pₓ) + ────────────────────────────────────\n",
       "                                                               2              \n",
       "\n",
       ", p_x))   PoissonBracket(A(x, p_x), PoissonBracket(A(x, p_x), B(x, p_x)))   Po\n",
       "─────── - ─────────────────────────────────────────────────────────────── + ──\n",
       "                                         4                                    \n",
       "\n",
       "issonBracket(B(x, p_x), \\delta A(x, p_x))   PoissonBracket(PoissonBracket(A(x,\n",
       "───────────────────────────────────────── + ──────────────────────────────────\n",
       "                   2                                                          \n",
       "\n",
       " p_x), B(x, p_x)), \\delta A(x, p_x))\n",
       "────────────────────────────────────\n",
       "4                                   "
      ]
     },
     "execution_count": 14,
     "metadata": {},
     "output_type": "execute_result"
    }
   ],
   "source": [
    "Aop.BCH(Bop,2).BCH(Cop,2).ham.expand(commutator=True).subs(C,A+da).expand(commutator=True)"
   ]
  },
  {
   "cell_type": "markdown",
   "metadata": {
    "slideshow": {
     "slide_type": "fragment"
    }
   },
   "source": [
    "Slightly breaking the symmetry between the elements $A$ and $C$ immediately introduces new terms\n",
    "in the Hamiltonian:\n",
    "$$2 A{\\left(x,p_{x} \\right)} + B{\\left(x,p_{x} \\right)} + \\delta A{\\left(x,p_{x} \\right)} + \n",
    "\\underbrace{\\color{blue}{\\frac{\\lbrace A,\\delta A \\rbrace }{2}}}_{\\color{red}{\\text{SB1}}} \n",
    "- \\frac{\\lbrace A,\\lbrace A,B \\rbrace  \\rbrace }{4} \n",
    "+ \\underbrace{\\color{blue}{\\frac{\\lbrace B,\\delta A \\rbrace }{2}}}_{\\color{red}{\\text{SB2}}}  + \n",
    "\\underbrace{\\color{gray}{\\frac{\\lbrace \\lbrace A,B \\rbrace ,\\delta A \\rbrace }{4}}}_{\\color{red}{\\text{SB3}}} $$\n",
    "where SB stands for Symmetry Breaking. Note that these terms are directly proportional to the amount of symmetry breaking. "
   ]
  }
 ],
 "metadata": {
  "celltoolbar": "Slideshow",
  "kernelspec": {
   "display_name": "Python 3",
   "language": "python",
   "name": "python3"
  },
  "language_info": {
   "codemirror_mode": {
    "name": "ipython",
    "version": 3
   },
   "file_extension": ".py",
   "mimetype": "text/x-python",
   "name": "python",
   "nbconvert_exporter": "python",
   "pygments_lexer": "ipython3",
   "version": "3.6.12"
  },
  "toc": {
   "base_numbering": 1,
   "nav_menu": {},
   "number_sections": true,
   "sideBar": true,
   "skip_h1_title": false,
   "title_cell": "Table of Contents",
   "title_sidebar": "Contents",
   "toc_cell": false,
   "toc_position": {},
   "toc_section_display": true,
   "toc_window_display": false
  }
 },
 "nbformat": 4,
 "nbformat_minor": 4
}
