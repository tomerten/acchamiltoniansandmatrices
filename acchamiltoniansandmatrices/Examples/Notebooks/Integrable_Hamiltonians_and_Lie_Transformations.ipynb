{
 "cells": [
  {
   "cell_type": "code",
   "execution_count": 1,
   "metadata": {},
   "outputs": [
    {
     "data": {
      "text/html": [
       "<style>.container { width:90% !important; }</style>"
      ],
      "text/plain": [
       "<IPython.core.display.HTML object>"
      ]
     },
     "metadata": {},
     "output_type": "display_data"
    }
   ],
   "source": [
    "from IPython.core.display import display, HTML\n",
    "display(HTML(\"<style>.container { width:90% !important; }</style>\"))"
   ]
  },
  {
   "cell_type": "code",
   "execution_count": 2,
   "metadata": {},
   "outputs": [],
   "source": [
    "from sympy import (\n",
    "    Derivative, \n",
    "    S, \n",
    "    Symbol, \n",
    "    series, \n",
    "    sqrt, \n",
    "    symbols, \n",
    "    oo, \n",
    "    limit, \n",
    "    Rational, \n",
    "    cos, \n",
    "    sin, \n",
    "    cosh, \n",
    "    sinh, \n",
    "    Matrix, \n",
    "    simplify, \n",
    "    latex, \n",
    "    lambdify,\n",
    "    Function,\n",
    "    collect,\n",
    "    lambdify,\n",
    "    solve,\n",
    "    Eq,\n",
    "    Poly,\n",
    "    Derivative,\n",
    "    together\n",
    ")\n",
    "import numpy as np\n",
    "import pandas as pd\n",
    "from sympy import init_printing\n",
    "init_printing() \n",
    "\n",
    "from sympy.printing.latex import print_latex\n",
    "from matplotlib import pyplot as plt\n",
    "from mpl_toolkits.mplot3d import axes3d\n",
    "import matplotlib.pyplot as plt\n",
    "from matplotlib import cm\n",
    "%matplotlib notebook\n",
    "from pymad_hzb.PlotTools import new_plot_elems_madx\n",
    "from mpl_toolkits.mplot3d import axes3d\n",
    "import matplotlib.pyplot as plt\n",
    "from matplotlib import cm"
   ]
  },
  {
   "cell_type": "markdown",
   "metadata": {},
   "source": [
    "# Introduction"
   ]
  },
  {
   "cell_type": "markdown",
   "metadata": {},
   "source": [
    "Homogeneous polynomials can be written as a sum of integrable polynomials of the same degree. The Hamiltonians associated with these integrable polynomials are obviously integrable so that the corresponding Lie transformations can be evaluated exactly. With this an integrable polynomial factorization has been developed that converts a symplectic map in form of Drat-Finn factorization into a product of exactly evaluable Lie transformations associated with the integrable polynomials. \n",
    "\n",
    "The factorization bases of integrable polynomials allows to consider a factorization using high-order integrators so that a symplectic map can always be evaluated with desired accuracy."
   ]
  },
  {
   "cell_type": "markdown",
   "metadata": {},
   "source": [
    "# Taylor Map and the Lie Transformation"
   ]
  },
  {
   "cell_type": "markdown",
   "metadata": {},
   "source": [
    "**<span style=\"color:darkred;\">EVERYTHING IS A MAP! Elements of a set can be identified with the identity map.</span>**"
   ]
  },
  {
   "cell_type": "markdown",
   "metadata": {},
   "source": [
    "$$\\vec{z}^f=\\mathcal{M}\\vec{z}^i,$$\n",
    "where\n",
    "$$\\vec{z}= (q_1,p_1,q_2,p_2,q_3,p_3)$$\n",
    "with the $p_i$ the conjugate momenta of the $q_i$.\n",
    "The problem lies in the fact that $\\mathcal{M}$ is a non-linear functional operator."
   ]
  },
  {
   "cell_type": "markdown",
   "metadata": {},
   "source": [
    "In general we are not interested in translations. In that case the map can be written as a product of Lie Transformations by means of Dragt-Finn factorization:\n",
    "$$\\mathcal{M}\\vec{z}=\\mathcal{R}\\prod_{i=3}^\\infty \\exp\\left(:f_i:\\right)\\vec{z},$$\n",
    "with $\\mathcal{R}$ the linear symplectic transformation, and the $f_i$ are homogeneous polynomials in $\\vec{z}$ of degree $i$, and $:f_i:$ the Lie operator associated with $f_i$, defined by the Poisson bracket operation:\n",
    "$$:f_i: := \\sum_{l=1}^3\\left( \\frac{\\partial f_i}{\\partial q_l} \\frac{\\partial}{\\partial p_l} -\\frac{\\partial f_i}{\\partial q_l} \\frac{\\partial }{\\partial q_l}  \\right)$$\n",
    "and\n",
    "$$\\exp \\left( :f: \\right)=\\sum_{n=0}^\\infty\\frac{1}{n!}(:f:)^n$$.\n",
    "\n",
    "Furthermore, in its analytic domain, $\\mathcal{M}\\vec{z}$ can be expanded in a power series of $\\vec{z}$:\n",
    "$$\\mathcal{M}\\vec{z}=\\sum_{i=1}^\\infty\\vec{U}_i(\\vec{z})=\\sum_{i=1}^N\\vec{U}_i(\\vec{z}) + \\epsilon(N+1),$$\n",
    "where\n",
    "$$\\vec{U}_i(\\vec{z})=\\sum_{\\sum\\sigma_j=i}\\vec{u}_i(\\vec{\\sigma})q_1^{\\sigma_1}p_1^{\\sigma_2}q_2^{\\sigma_3}p_2^{\\sigma_4}q_3^{\\sigma_5}p_3^{\\sigma_6}$$\n",
    "and $\\epsilon(N+1)$ is a remainder series consisting of terms higher than degree $N$.\n",
    "\n",
    "Truncating this power series expansion results in the Nth-order Taylor map:\n",
    "$$\\vec{U}=\\sum_{i=1}^N\\vec{U}_i,$$\n",
    "which is no longer symplectic due to the truncation."
   ]
  },
  {
   "cell_type": "markdown",
   "metadata": {},
   "source": [
    "Symplecticity can be recovered by converting $\\vec{U}_i$ into a product of Lie transformations with an accuracy up to the truncation order N:\n",
    "$$\\vec{U}(\\vec{z})=\\mathcal{R}\\prod_{i=3}^N \\exp(:f_i:)\\vec{z} + \\epsilon(N+1)$$.\n",
    "Tracking with this form requires evaluation of Lie transformations, equivqlent ot solving the Hamiltonian $H=-f_i$ which cannot be done in general.\n",
    "\n",
    "The challenge, evaluate $\\exp(:f_i:)\\vec{z}$ approximately without violating symplecticity and with controllable accuracy."
   ]
  },
  {
   "cell_type": "markdown",
   "metadata": {},
   "source": [
    "# Integrable polynomials in Lie Transformations"
   ]
  },
  {
   "cell_type": "markdown",
   "metadata": {},
   "source": [
    "**Definition:**\n",
    "The associated Hamiltonian of a polynomial $f_i(\\vec{z}$ is defined by 4H=-f_i$."
   ]
  },
  {
   "cell_type": "markdown",
   "metadata": {},
   "source": [
    "**Definition:**\n",
    "A polynomial in $\\vec{z}$ is called an integrable polynomial if its associated Hamiltonian and its associated Lie transformation can be evaluated exactly."
   ]
  },
  {
   "cell_type": "markdown",
   "metadata": {},
   "source": [
    "Let $\\lbrace g_i^{(k)} \\vert k=1,2,\\cdots,N_g \\rbrace$ denote a set of integrable polynomials of degree $i$. Than any polynomial can be expressed as a sum of integrable polynomials of the same degree :\n",
    "$$f_i(\\vec{z})=\\sum_{(\\sum \\sigma_j)=i} a(\\vec{\\sigma}) q_1^{\\sigma_1} p_1^{\\sigma_2}q_2^{\\sigma_3}p_2^{\\sigma_4}q_3^{\\sigma_5}p_3^{\\sigma_6}=\\sum_{k-1}^{N_g}g_i^{(k)},$$\n",
    "with $f_i$ homogeneous polynomials fo degree $i$ and $a(\\vec{\\sigma})$ constant coefficients. After factorization in a product of Lie transformations with the associated integrable polynomials $\\exp (:f_i:)\\vec{z}$ can be evaluated directly."
   ]
  },
  {
   "cell_type": "markdown",
   "metadata": {},
   "source": [
    "Note that the number of integrable polynomials is much smaller than the number of monomials. This means that the accuracy of factorization with Lie transformations associated with $g_i^{(k)}$ can be done to a reasonable order while having a reasonable computing speed for the symplectic tracking."
   ]
  },
  {
   "cell_type": "markdown",
   "metadata": {},
   "source": [
    "**Integrable systems:**\n",
    "- Hamiltonians of one degree of freedom (Polynomials in a pair of canonical variables)\n",
    "- Hamiltonians with linear equations of motion (homogeneous polynomials in $\\vec{z}$ of degree 1 or 2 - translations and harmonic oscillators).\n",
    "- Systems that can be transformed in their action-angle variables (kick-Hamiltonians)\n",
    "- Non-linear systems that can be separated in (uncoupled) versions of the above cases. (Hamiltonian consists only of a product of any monomial in one degree of freedom and a homogeneous polynomial of degree 1 or 2 in the other degrees of freedom).\n",
    "\n",
    "This allows to construct an optimal set of integrable polynomials for a homogeneous polynomial of any degree.\n",
    "The total number of monomials of degree $i$ in $d$ variables is given by:\n",
    "$$N(i,d)=C^i_{i+d-1}=\\frac{(i+d-1)!}{i!(d-1)!}$$\n"
   ]
  },
  {
   "cell_type": "markdown",
   "metadata": {},
   "source": [
    "# INTEGRABLE POLYNOMIALS"
   ]
  },
  {
   "cell_type": "markdown",
   "metadata": {},
   "source": [
    "## Degree 3"
   ]
  },
  {
   "cell_type": "markdown",
   "metadata": {},
   "source": [
    "Degree 3 and 6 variables results in 56 monomials, that can be grouped into 8 integrable polynomials of degree 3, $\\lbrace g_3^{(n)}\\vert n=1,2,\\cdots,8 \\rbrace$."
   ]
  },
  {
   "cell_type": "markdown",
   "metadata": {},
   "source": [
    "$$\n",
    "g_3^{(1)} = c_{3,1}^{(1)} q_1^3 + c_{3,2}^{(1)} q_1^2p_1 + c_{3,3}^{(1)} q_2^3 + c_{3,4}^{(1)} q_2^2p_2 + c_{3,5}^{(1)} q_3^3 + c_{3,6}^{(1)} q_3^2p_3,\\\\\n",
    "g_3^{(2)} = c_{3,1}^{(2)} p_1^3 + c_{3,2}^{(2)} p_1^2q_1 + c_{3,3}^{(2)} p_2^3 + c_{3,4}^{(2)} p_2^2q_2 + c_{3,5}^{(2)} p_3^3 + c_{3,6}^{(2)} p_3^2q_3,\\\\\n",
    "g_3^{(2+i)} =\n",
    "$$"
   ]
  },
  {
   "cell_type": "code",
   "execution_count": null,
   "metadata": {},
   "outputs": [],
   "source": []
  }
 ],
 "metadata": {
  "kernelspec": {
   "display_name": "Python 3",
   "language": "python",
   "name": "python3"
  },
  "language_info": {
   "codemirror_mode": {
    "name": "ipython",
    "version": 3
   },
   "file_extension": ".py",
   "mimetype": "text/x-python",
   "name": "python",
   "nbconvert_exporter": "python",
   "pygments_lexer": "ipython3",
   "version": "3.6.12"
  },
  "toc": {
   "base_numbering": 1,
   "nav_menu": {},
   "number_sections": true,
   "sideBar": true,
   "skip_h1_title": false,
   "title_cell": "Table of Contents",
   "title_sidebar": "Contents",
   "toc_cell": false,
   "toc_position": {},
   "toc_section_display": true,
   "toc_window_display": false
  }
 },
 "nbformat": 4,
 "nbformat_minor": 4
}
