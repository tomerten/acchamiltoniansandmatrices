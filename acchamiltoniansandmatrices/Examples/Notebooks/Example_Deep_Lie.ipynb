{
 "cells": [
  {
   "cell_type": "code",
   "execution_count": 1,
   "metadata": {},
   "outputs": [
    {
     "data": {
      "text/html": [
       "<style>.container { width:90% !important; }</style>"
      ],
      "text/plain": [
       "<IPython.core.display.HTML object>"
      ]
     },
     "metadata": {},
     "output_type": "display_data"
    }
   ],
   "source": [
    "from IPython.core.display import display, HTML\n",
    "display(HTML(\"<style>.container { width:90% !important; }</style>\"))\n",
    "\n",
    "%load_ext autoreload\n",
    "%autoreload 2"
   ]
  },
  {
   "cell_type": "code",
   "execution_count": 2,
   "metadata": {},
   "outputs": [],
   "source": [
    "import numpy as np\n",
    "\n",
    "import sympy\n",
    "from sympy import Symbol,sqrt, symbols, oo, Derivative,diff, Matrix, print_latex, Rational, simplify, O\n",
    "\n",
    "import matplotlib.pyplot as plt\n",
    "\n",
    "\n",
    "import tensorflow as tf\n",
    "\n",
    "import keras\n",
    "from keras import backend as K\n",
    "from keras.engine.topology import Layer\n",
    "from keras.models import Sequential\n",
    "\n",
    "\n",
    "from keras.layers import Dense, LSTM\n",
    "\n",
    "import random\n",
    "\n",
    "from IPython.display import HTML\n",
    "\n",
    "from tqdm import tqdm"
   ]
  },
  {
   "cell_type": "code",
   "execution_count": 3,
   "metadata": {},
   "outputs": [],
   "source": [
    "from acchamiltoniansandmatrices.LieMaps.Poisson import PoissonBracket\n",
    "from acchamiltoniansandmatrices.Factorization.Factorization import taylor_to_lie, taylor_to_weight_mat, taylorize\n",
    "from acchamiltoniansandmatrices.LieMaps.LieOperator import LieOperator\n",
    "from acchamiltoniansandmatrices.MachineLearning.DeepLie_mods import LieMapBuilder, LieLayer, printlist\n",
    "from acchamiltoniansandmatrices.Hamiltonians.LatticeElementHamiltonians import (\n",
    "    HamDrift6D, \n",
    "    HamDrift4D,\n",
    "    HamDrift6DParaxialSecondOrder, \n",
    "    HamQuad6D, \n",
    "    HamQuad4D,\n",
    "    HamQuad6DParaxialSecondOrder, \n",
    "    HamQuad6DParaxialSecondOrderChroma,\n",
    "    HamSext6D\n",
    ")\n",
    "from acchamiltoniansandmatrices.Matrices.SymbMatrices import RsymbQuad4D\n",
    "from acchamiltoniansandmatrices.Matrices.NumpyMatrices import RnpQuad4D"
   ]
  },
  {
   "cell_type": "code",
   "execution_count": 26,
   "metadata": {},
   "outputs": [],
   "source": [
    "x, px, y, py, z, pz, delta, eps, h , k0, k1, k2, sigma, betag ,f = symbols('x p_x y p_y z p_z delta epsilon h k_0 k_1 k_2 sigma beta_gamma f', real=True)\n",
    "L, beta0, gamma0 = symbols(\" L beta_0 gamma_0\", real=True, positive=True)"
   ]
  },
  {
   "cell_type": "code",
   "execution_count": 5,
   "metadata": {},
   "outputs": [],
   "source": [
    "def drift(r,l):\n",
    "    \"\"\"\n",
    "    Drift map 4D\n",
    "    \"\"\"\n",
    "    rep = list(zip([L,x,px,y,py],[l,r[0],r[1],r[2],r[3]]))\n",
    "    \n",
    "    H = HamDrift4D(beta0,gamma0,L,x,px,y,py).subs(beta0*gamma0,oo).subs(beta0,1)\n",
    "    \n",
    "    xn = x + diff(H,px)\n",
    "    pxn = px\n",
    "    yn = y + diff(H,py)\n",
    "    pyn = py\n",
    "\n",
    "    return xn.subs(rep), pxn.subs(rep), yn.subs(rep), pyn.subs(rep)\n",
    "\n",
    "def quadf(r,l,k):\n",
    "    \"\"\"\n",
    "    Quad map 4D\n",
    "    \"\"\"\n",
    "    rep = list(zip([L,k1,x,px,y,py],[l,k,r[0],r[1],r[2],r[3]]))\n",
    "    zn = RsymbQuad4D(beta0, gamma0,L,k1)*Matrix([[x],[px],[y],[py]])\n",
    "    return zn[0].subs(rep), zn[1].subs(rep), zn[2].subs(rep), zn[3].subs(rep),"
   ]
  },
  {
   "cell_type": "code",
   "execution_count": 6,
   "metadata": {},
   "outputs": [],
   "source": [
    "def make_rhs(_ham,_coords,_mom):\n",
    "    _rhs = []\n",
    "    for coord, mom in zip(_coords,_mom):\n",
    "        _rhs.append(PoissonBracket(coord, _ham,coords=_coords,mom=_mom).doit())\n",
    "        _rhs.append(PoissonBracket(mom, _ham,coords=_coords,mom=_mom).doit())\n",
    "    \n",
    "    return _rhs"
   ]
  },
  {
   "cell_type": "markdown",
   "metadata": {},
   "source": [
    "# Approximations"
   ]
  },
  {
   "cell_type": "markdown",
   "metadata": {},
   "source": [
    "The first approximations we will make are\n",
    "$$\\frac{1}{\\beta_0^2\\gamma_0^2} \\rightarrow 0 \\\\\n",
    "\\beta_0 \\rightarrow 1,\n",
    "$$\n",
    "in that order."
   ]
  },
  {
   "cell_type": "code",
   "execution_count": 7,
   "metadata": {},
   "outputs": [],
   "source": [
    "# substitution lists\n",
    "repbg  = list(zip([beta0*gamma0, beta0],[oo,1]))\n",
    "repeps = list(zip([x,px,y,py],[eps*x,eps*px,y*eps,py*eps]))"
   ]
  },
  {
   "cell_type": "code",
   "execution_count": 8,
   "metadata": {},
   "outputs": [
    {
     "data": {
      "text/latex": [
       "$\\displaystyle L \\delta + \\frac{L p_{x}^{2}}{2 \\sqrt{\\delta^{2} + 2 \\delta + 1}} + \\frac{L p_{y}^{2}}{2 \\sqrt{\\delta^{2} + 2 \\delta + 1}} - L \\sqrt{\\delta^{2} + 2 \\delta + 1}$"
      ],
      "text/plain": [
       "L*delta + L*p_x**2/(2*sqrt(delta**2 + 2*delta + 1)) + L*p_y**2/(2*sqrt(delta**2 + 2*delta + 1)) - L*sqrt(delta**2 + 2*delta + 1)"
      ]
     },
     "execution_count": 8,
     "metadata": {},
     "output_type": "execute_result"
    }
   ],
   "source": [
    "# Drift first order\n",
    "HamDrift6D(beta0,gamma0,L,x,px,y,py,delta).subs(repbg).subs(repeps).series(eps,0,4).removeO().subs(eps,1).expand().collect(1)"
   ]
  },
  {
   "cell_type": "code",
   "execution_count": 9,
   "metadata": {},
   "outputs": [
    {
     "data": {
      "text/latex": [
       "$\\displaystyle L \\delta + \\frac{L p_{x}^{4} \\sqrt{\\delta^{2} + 2 \\delta + 1}}{8 \\left(\\delta^{4} + 4 \\delta^{3} + 6 \\delta^{2} + 4 \\delta + 1\\right)} + \\frac{L p_{x}^{2} p_{y}^{2} \\sqrt{\\delta^{2} + 2 \\delta + 1}}{4 \\left(\\delta^{4} + 4 \\delta^{3} + 6 \\delta^{2} + 4 \\delta + 1\\right)} + \\frac{L p_{x}^{2}}{2 \\sqrt{\\delta^{2} + 2 \\delta + 1}} + \\frac{L p_{y}^{4} \\sqrt{\\delta^{2} + 2 \\delta + 1}}{8 \\left(\\delta^{4} + 4 \\delta^{3} + 6 \\delta^{2} + 4 \\delta + 1\\right)} + \\frac{L p_{y}^{2}}{2 \\sqrt{\\delta^{2} + 2 \\delta + 1}} - L \\sqrt{\\delta^{2} + 2 \\delta + 1}$"
      ],
      "text/plain": [
       "L*delta + L*p_x**4*sqrt(delta**2 + 2*delta + 1)/(8*(delta**4 + 4*delta**3 + 6*delta**2 + 4*delta + 1)) + L*p_x**2*p_y**2*sqrt(delta**2 + 2*delta + 1)/(4*(delta**4 + 4*delta**3 + 6*delta**2 + 4*delta + 1)) + L*p_x**2/(2*sqrt(delta**2 + 2*delta + 1)) + L*p_y**4*sqrt(delta**2 + 2*delta + 1)/(8*(delta**4 + 4*delta**3 + 6*delta**2 + 4*delta + 1)) + L*p_y**2/(2*sqrt(delta**2 + 2*delta + 1)) - L*sqrt(delta**2 + 2*delta + 1)"
      ]
     },
     "execution_count": 9,
     "metadata": {},
     "output_type": "execute_result"
    }
   ],
   "source": [
    "# Drift second order\n",
    "HamDrift6D(beta0,gamma0,L,x,px,y,py,delta).subs(repbg).subs(repeps).series(eps,0,6).removeO().subs(eps,1).expand().collect(1)"
   ]
  },
  {
   "cell_type": "code",
   "execution_count": 10,
   "metadata": {},
   "outputs": [
    {
     "data": {
      "text/latex": [
       "$\\displaystyle L \\delta + \\frac{L p_{x}^{6} \\sqrt{\\delta^{2} + 2 \\delta + 1}}{16 \\left(\\delta^{6} + 6 \\delta^{5} + 15 \\delta^{4} + 20 \\delta^{3} + 15 \\delta^{2} + 6 \\delta + 1\\right)} + \\frac{3 L p_{x}^{4} p_{y}^{2} \\sqrt{\\delta^{2} + 2 \\delta + 1}}{16 \\left(\\delta^{6} + 6 \\delta^{5} + 15 \\delta^{4} + 20 \\delta^{3} + 15 \\delta^{2} + 6 \\delta + 1\\right)} + \\frac{L p_{x}^{4} \\sqrt{\\delta^{2} + 2 \\delta + 1}}{8 \\left(\\delta^{4} + 4 \\delta^{3} + 6 \\delta^{2} + 4 \\delta + 1\\right)} + \\frac{3 L p_{x}^{2} p_{y}^{4} \\sqrt{\\delta^{2} + 2 \\delta + 1}}{16 \\left(\\delta^{6} + 6 \\delta^{5} + 15 \\delta^{4} + 20 \\delta^{3} + 15 \\delta^{2} + 6 \\delta + 1\\right)} + \\frac{L p_{x}^{2} p_{y}^{2} \\sqrt{\\delta^{2} + 2 \\delta + 1}}{4 \\left(\\delta^{4} + 4 \\delta^{3} + 6 \\delta^{2} + 4 \\delta + 1\\right)} + \\frac{L p_{x}^{2}}{2 \\sqrt{\\delta^{2} + 2 \\delta + 1}} + \\frac{L p_{y}^{6} \\sqrt{\\delta^{2} + 2 \\delta + 1}}{16 \\left(\\delta^{6} + 6 \\delta^{5} + 15 \\delta^{4} + 20 \\delta^{3} + 15 \\delta^{2} + 6 \\delta + 1\\right)} + \\frac{L p_{y}^{4} \\sqrt{\\delta^{2} + 2 \\delta + 1}}{8 \\left(\\delta^{4} + 4 \\delta^{3} + 6 \\delta^{2} + 4 \\delta + 1\\right)} + \\frac{L p_{y}^{2}}{2 \\sqrt{\\delta^{2} + 2 \\delta + 1}} - L \\sqrt{\\delta^{2} + 2 \\delta + 1}$"
      ],
      "text/plain": [
       "L*delta + L*p_x**6*sqrt(delta**2 + 2*delta + 1)/(16*(delta**6 + 6*delta**5 + 15*delta**4 + 20*delta**3 + 15*delta**2 + 6*delta + 1)) + 3*L*p_x**4*p_y**2*sqrt(delta**2 + 2*delta + 1)/(16*(delta**6 + 6*delta**5 + 15*delta**4 + 20*delta**3 + 15*delta**2 + 6*delta + 1)) + L*p_x**4*sqrt(delta**2 + 2*delta + 1)/(8*(delta**4 + 4*delta**3 + 6*delta**2 + 4*delta + 1)) + 3*L*p_x**2*p_y**4*sqrt(delta**2 + 2*delta + 1)/(16*(delta**6 + 6*delta**5 + 15*delta**4 + 20*delta**3 + 15*delta**2 + 6*delta + 1)) + L*p_x**2*p_y**2*sqrt(delta**2 + 2*delta + 1)/(4*(delta**4 + 4*delta**3 + 6*delta**2 + 4*delta + 1)) + L*p_x**2/(2*sqrt(delta**2 + 2*delta + 1)) + L*p_y**6*sqrt(delta**2 + 2*delta + 1)/(16*(delta**6 + 6*delta**5 + 15*delta**4 + 20*delta**3 + 15*delta**2 + 6*delta + 1)) + L*p_y**4*sqrt(delta**2 + 2*delta + 1)/(8*(delta**4 + 4*delta**3 + 6*delta**2 + 4*delta + 1)) + L*p_y**2/(2*sqrt(delta**2 + 2*delta + 1)) - L*sqrt(delta**2 + 2*delta + 1)"
      ]
     },
     "execution_count": 10,
     "metadata": {},
     "output_type": "execute_result"
    }
   ],
   "source": [
    "# Drift third order\n",
    "HamDrift6D(beta0,gamma0,L,x,px,y,py,delta).subs(repbg).subs(repeps).series(eps,0,8).removeO().subs(eps,1).expand().collect(1)"
   ]
  },
  {
   "cell_type": "code",
   "execution_count": 11,
   "metadata": {},
   "outputs": [
    {
     "data": {
      "text/latex": [
       "$\\displaystyle L \\left(\\frac{k_{1} \\left(x^{2} - y^{2}\\right)}{2} + \\frac{p_{x}^{2}}{2} + \\frac{p_{y}^{2}}{2}\\right)$"
      ],
      "text/plain": [
       "L*(k_1*(x**2 - y**2)/2 + p_x**2/2 + p_y**2/2)"
      ]
     },
     "execution_count": 11,
     "metadata": {},
     "output_type": "execute_result"
    }
   ],
   "source": [
    "HamQuad6DParaxialSecondOrder(beta0,gamma0,L,x,px,y,py,delta,k1).subs(delta,0).collect(k1/2)"
   ]
  },
  {
   "cell_type": "code",
   "execution_count": 12,
   "metadata": {},
   "outputs": [
    {
     "data": {
      "text/latex": [
       "$\\displaystyle \\frac{p_{x}^{4}}{8} + \\frac{p_{x}^{2} p_{y}^{2}}{4} + \\frac{p_{x}^{2}}{2} + \\frac{p_{y}^{4}}{8} + \\frac{p_{y}^{2}}{2} - 1$"
      ],
      "text/plain": [
       "p_x**4/8 + p_x**2*p_y**2/4 + p_x**2/2 + p_y**4/8 + p_y**2/2 - 1"
      ]
     },
     "execution_count": 12,
     "metadata": {},
     "output_type": "execute_result"
    }
   ],
   "source": [
    "H_drift = simplify(HamDrift4D(beta0,gamma0,L,x,px,y,py).subs(repbg).subs(repeps).series(eps,0,6).removeO().subs(eps,1)/L)\n",
    "H_drift"
   ]
  },
  {
   "cell_type": "code",
   "execution_count": 13,
   "metadata": {},
   "outputs": [
    {
     "data": {
      "text/latex": [
       "$\\displaystyle \\frac{k_{1} \\left(x^{2} - y^{2}\\right)}{2} + \\frac{p_{x}^{2}}{2} + \\frac{p_{y}^{2}}{2} - 1$"
      ],
      "text/plain": [
       "k_1*(x**2 - y**2)/2 + p_x**2/2 + p_y**2/2 - 1"
      ]
     },
     "execution_count": 13,
     "metadata": {},
     "output_type": "execute_result"
    }
   ],
   "source": [
    "H_quad = simplify(HamQuad6DParaxialSecondOrder(beta0,gamma0,L,x,px,y,py,delta,k1).subs(delta,0).collect(k1/2)/L)-1\n",
    "H_quad"
   ]
  },
  {
   "cell_type": "code",
   "execution_count": 14,
   "metadata": {},
   "outputs": [],
   "source": [
    "sym_x, sym_y, sym_z, sym_px, sym_py, sym_pz, sym_k, sym_l, sym_d = sympy.symbols('x y z p_x p_y delta k_{Q} L D')\n",
    "J = np.array([[0,1,0,0],[-1,0,0,0],[0,0,0,1],[0,0,-1,0]])"
   ]
  },
  {
   "cell_type": "code",
   "execution_count": 15,
   "metadata": {},
   "outputs": [],
   "source": [
    "i_coord = [sym_x,sym_y]\n",
    "i_mom = [sym_px,sym_py]\n",
    "tot_coords = [sym_x,sym_px,sym_y,sym_py]\n",
    "\n",
    "\n",
    "approx_degree = 3\n",
    "approx_degree_quad = 2\n",
    "\n",
    "_epstemp = sympy.symbols('e')\n",
    "full_drift = - sqrt(1 - _epstemp*(sym_px ** 2 + sym_py ** 2))\n",
    "\n",
    "\n",
    "H_drift = full_drift.series(_epstemp,n=approx_degree).removeO().subs(_epstemp,1)\n",
    "\n",
    "\n",
    "H_drift_quad = full_drift.series(_epstemp,n=approx_degree_quad).removeO().subs(_epstemp,1)\n",
    "H_quad = H_drift_quad + sym_k*(sym_x**2 - sym_y**2)/2"
   ]
  },
  {
   "cell_type": "code",
   "execution_count": 16,
   "metadata": {},
   "outputs": [
    {
     "data": {
      "text/latex": [
       "$\\displaystyle \\frac{p_{x}^{4}}{8} + \\frac{p_{x}^{2} p_{y}^{2}}{4} + \\frac{p_{x}^{2}}{2} + \\frac{p_{y}^{4}}{8} + \\frac{p_{y}^{2}}{2} - 1$"
      ],
      "text/plain": [
       "p_x**4/8 + p_x**2*p_y**2/4 + p_x**2/2 + p_y**4/8 + p_y**2/2 - 1"
      ]
     },
     "execution_count": 16,
     "metadata": {},
     "output_type": "execute_result"
    }
   ],
   "source": [
    "H_drift"
   ]
  },
  {
   "cell_type": "code",
   "execution_count": 17,
   "metadata": {},
   "outputs": [
    {
     "data": {
      "text/latex": [
       "$\\displaystyle \\frac{k_{Q} \\left(x^{2} - y^{2}\\right)}{2} + \\frac{p_{x}^{2}}{2} + \\frac{p_{y}^{2}}{2} - 1$"
      ],
      "text/plain": [
       "k_{Q}*(x**2 - y**2)/2 + p_x**2/2 + p_y**2/2 - 1"
      ]
     },
     "execution_count": 17,
     "metadata": {},
     "output_type": "execute_result"
    }
   ],
   "source": [
    "H_quad"
   ]
  },
  {
   "cell_type": "markdown",
   "metadata": {},
   "source": [
    "# FODO: Runge-Kutta integrator vs exact drift"
   ]
  },
  {
   "cell_type": "code",
   "execution_count": 14,
   "metadata": {},
   "outputs": [],
   "source": [
    "# sympletic\n",
    "J = np.array([[0,1,0,0],[-1,0,0,0],[0,0,0,1],[0,0,-1,0]])"
   ]
  },
  {
   "cell_type": "code",
   "execution_count": 67,
   "metadata": {},
   "outputs": [],
   "source": [
    "_k1 = 0.5\n",
    "_k2 = -0.5\n",
    "delta = 0\n",
    "\n",
    "_ld = 2.5\n",
    "_lqf = 0.25\n",
    "_lqd = 0.5\n",
    "\n",
    "_r0 = [[10e-7,0,10e-7,0],\n",
    "       [10e-4,0,10e-4,0],\n",
    "       [0.1,0,0.1,0],\n",
    "       [0.25,0,0.25,0],\n",
    "       [0.5,0,0.5,0],\n",
    "       [1,0,1,0],\n",
    "       [2,0,2,0]\n",
    "      ]\n",
    "\n",
    "i_coord = [x,y]\n",
    "i_mom = [px,py]\n",
    "invector = [x,px,y,py]"
   ]
  },
  {
   "cell_type": "code",
   "execution_count": 16,
   "metadata": {},
   "outputs": [
    {
     "name": "stdout",
     "output_type": "stream",
     "text": [
      "3.6.12\n"
     ]
    }
   ],
   "source": [
    "from platform import python_version\n",
    "print(python_version())"
   ]
  },
  {
   "cell_type": "code",
   "execution_count": 17,
   "metadata": {},
   "outputs": [],
   "source": [
    "def Ivanov_RK(kq1,kq2,l_d,l_qf,l_qd,_state, _order=1):\n",
    "    exp_order = _order\n",
    "    integrator_loops = 10\n",
    "\n",
    "    state = np.array(_state)\n",
    "\n",
    "    drift_rhs = make_rhs(H_drift,i_coord,i_mom)\n",
    "    quadf_rhs = make_rhs(H_quad.subs(k1,kq1),i_coord,i_mom)\n",
    "    quadd_rhs = make_rhs(H_quad.subs(k1,kq2),i_coord,i_mom)\n",
    "\n",
    "\n",
    "    map_builder_drift = LieMapBuilder(state, drift_rhs, order=exp_order)\n",
    "    R_drift = map_builder_drift.getInitR()\n",
    "    R_drift = map_builder_drift.propogate(h=l_d/integrator_loops, N=integrator_loops, verbose=False)\n",
    "\n",
    "    map_builder_quadf = LieMapBuilder(state, quadf_rhs, order=exp_order)\n",
    "    R_quadf = map_builder_quadf.getInitR()\n",
    "    R_quadf = map_builder_quadf.propogate(h=l_qf/integrator_loops, N=integrator_loops, verbose=False)\n",
    "\n",
    "    map_builder_quadd = LieMapBuilder(state, quadd_rhs, order=exp_order)\n",
    "    R_quadd = map_builder_quadd.getInitR()\n",
    "    R_quadd = map_builder_quadd.propogate(h=l_qd/integrator_loops, N=integrator_loops, verbose=False)\n",
    "\n",
    "    W_drift_RK = map_builder_drift.convert_weights_to_full_nn(R_drift)\n",
    "    W_quadf_RK = map_builder_quadf.convert_weights_to_full_nn(R_quadf)\n",
    "    W_quadd_RK = map_builder_quadd.convert_weights_to_full_nn(R_quadd)\n",
    "\n",
    "\n",
    "    dim = len(state)  # predefined state vector dimension, contains physical parameters of a particle\n",
    "    order = _order # predefined order of nonlinearity, order of Lie map\n",
    "\n",
    "\n",
    "    Drift_RK = LieLayer(output_dim = dim, order = order, input_shape = (dim,))\n",
    "    QuadF_RK = LieLayer(output_dim = dim, order = order, input_shape = (dim,))\n",
    "    QuadD_RK = LieLayer(output_dim = dim, order = order, input_shape = (dim,))\n",
    "\n",
    "    lattice = [QuadF_RK, Drift_RK, QuadD_RK, Drift_RK, QuadF_RK]\n",
    "\n",
    "    # simply construct a neural network (computatuonal graph)\n",
    "    fodo_RK = Sequential()\n",
    "    for el in lattice:\n",
    "        fodo_RK.add(el)\n",
    "\n",
    "    Drift_RK.set_weights(W_drift_RK)\n",
    "    QuadF_RK.set_weights(W_quadf_RK)\n",
    "    QuadD_RK.set_weights(W_quadd_RK)\n",
    "    \n",
    "    \n",
    "    W_drift_RK_corr = [W_drift_RK[0],correct_weigths(W_drift_RK[1]),W_drift_RK[2],W_drift_RK[3]]\n",
    "    W_quadf_RK_corr = [W_quadf_RK[0],correct_weigths(W_quadf_RK[1]),W_quadf_RK[2],W_quadf_RK[3]]\n",
    "    W_quadd_RK_corr = [W_quadd_RK[0],correct_weigths(W_quadd_RK[1]),W_quadd_RK[2],W_quadd_RK[3]]\n",
    "    \n",
    "    \n",
    "    printlist(W_drift_RK_corr)\n",
    "    printlist(W_quadf_RK_corr)\n",
    "    printlist(W_quadd_RK_corr)\n",
    "    \n",
    "\n",
    "    Drift_RK_corr = LieLayer(output_dim = dim, order = order, input_shape = (dim,))\n",
    "    QuadF_RK_corr = LieLayer(output_dim = dim, order = order, input_shape = (dim,))\n",
    "    QuadD_RK_corr = LieLayer(output_dim = dim, order = order, input_shape = (dim,))\n",
    "\n",
    "    lattice = [QuadF_RK_corr, Drift_RK_corr, QuadD_RK_corr, Drift_RK_corr, QuadF_RK_corr]\n",
    "\n",
    "    # simply construct a neural network (computatuonal graph)\n",
    "    fodo_RK_corr = Sequential()\n",
    "    for el in lattice:\n",
    "        fodo_RK_corr.add(el)\n",
    "\n",
    "    Drift_RK_corr.set_weights(W_drift_RK_corr)\n",
    "    QuadF_RK_corr.set_weights(W_quadf_RK_corr)\n",
    "    QuadD_RK_corr.set_weights(W_quadd_RK_corr)\n",
    "    \n",
    "    return fodo_RK, fodo_RK_corr\n"
   ]
  },
  {
   "cell_type": "code",
   "execution_count": 35,
   "metadata": {},
   "outputs": [],
   "source": [
    "def LieTrackingt(kq1,kq2,l_d,l_qf,l_qd,tot_coords,_order=2):\n",
    "    taylor_order = _order\n",
    "    \n",
    "    H_quadf = H_quad.subs(k1,kq1)\n",
    "    H_quadd = H_quad.subs(k1,kq2)\n",
    " \n",
    "    L_drift = LieOperator(-l_d * H_drift,i_coord,i_mom)\n",
    "    L_quadf = LieOperator(-l_qf * H_quadf,i_coord,i_mom)\n",
    "    L_quadd = LieOperator(-l_qd * H_quadd,i_coord,i_mom)\n",
    "    \n",
    "    taylor_drift = taylorize(L_drift,taylor_order)\n",
    "    taylor_quadf = taylorize(L_quadf,taylor_order)\n",
    "    taylor_quadd = taylorize(L_quadd,taylor_order)\n",
    "    \n",
    "    print(taylor_drift)\n",
    "    print(taylor_quadf)\n",
    "    print(taylor_quadd)\n",
    "    \n",
    "    nn_drift = taylor_to_weight_mat(taylor_drift, [x,px,y,py])\n",
    "    nn_quadf = taylor_to_weight_mat(taylor_quadf, [x,px,y,py])\n",
    "    nn_quadd = taylor_to_weight_mat(taylor_quadd, [x,px,y,py])\n",
    "\n",
    "    print(nn_drift)\n",
    "    print(nn_quadf)\n",
    "    print(nn_quadd)\n",
    "\n",
    "    \n",
    "#     corr_drift = correct_weights(M_taylor_drift[0])\n",
    "    corr_qf = correct_weigths(nn_quadf[0])\n",
    "    corr_qd = correct_weigths(nn_quadd[0])\n",
    "    \n",
    "    disp = np.array([[0,0,0,0]])\n",
    "\n",
    "\n",
    "    W_drift_Lie = [disp] + nn_drift\n",
    "    W_quadf_Lie = [disp] + nn_quadf\n",
    "    W_quadd_Lie = [disp] + nn_quadd\n",
    "    \n",
    "    \n",
    "    W_drift_Lie_corr = [disp] + nn_drift\n",
    "    W_quadf_Lie_corr = [disp] + [corr_qf]\n",
    "    W_quadd_Lie_corr = [disp] + [corr_qd]\n",
    "\n",
    "\n",
    "    printlist(W_drift_Lie_corr)\n",
    "    printlist(W_quadf_Lie_corr)\n",
    "    printlist(W_quadd_Lie_corr)\n",
    "\n",
    "\n",
    "    dim = len(tot_coords)\n",
    "\n",
    "\n",
    "    # e.g. QFA helps focusing particle in radial direction, and QDA in vertical one\n",
    "    Drift_Lie = LieLayer(output_dim = dim, order = len(nn_drift), input_shape = (dim,))\n",
    "    QuadF_Lie = LieLayer(output_dim = dim, order = len(nn_quadf), input_shape = (dim,))\n",
    "    QuadD_Lie = LieLayer(output_dim = dim, order = len(nn_quadf), input_shape = (dim,))\n",
    "\n",
    "    lattice = [QuadF_Lie, Drift_Lie, QuadD_Lie, Drift_Lie, QuadF_Lie]\n",
    "\n",
    "    # simply construct a neural network (computatuonal graph)\n",
    "    fodo_Lie = Sequential()\n",
    "    for el in lattice:\n",
    "        fodo_Lie.add(el)\n",
    "\n",
    "    Drift_Lie.set_weights(W_drift_Lie)\n",
    "    QuadF_Lie.set_weights(W_quadf_Lie)\n",
    "    QuadD_Lie.set_weights(W_quadd_Lie)\n",
    "    \n",
    "    \n",
    "\n",
    "    Drift_Lie_corr = LieLayer(output_dim = dim, order = len(nn_drift), input_shape = (dim,))\n",
    "    QuadF_Lie_corr = LieLayer(output_dim = dim, order = len(nn_quadf), input_shape = (dim,))\n",
    "    QuadD_Lie_corr = LieLayer(output_dim = dim, order = len(nn_quadd), input_shape = (dim,))\n",
    "\n",
    "    lattice = [QuadF_Lie_corr, Drift_Lie_corr, QuadD_Lie_corr, Drift_Lie_corr, QuadF_Lie_corr]\n",
    "\n",
    "    # simply construct a neural network (computatuonal graph)\n",
    "    fodo_Lie_corr = Sequential()\n",
    "    for el in lattice:\n",
    "        fodo_Lie_corr.add(el)\n",
    "\n",
    "    Drift_Lie_corr.set_weights(W_drift_Lie_corr)\n",
    "    QuadF_Lie_corr.set_weights(W_quadf_Lie_corr)\n",
    "    QuadD_Lie_corr.set_weights(W_quadd_Lie_corr)\n",
    "    \n",
    "    return fodo_Lie, fodo_Lie_corr\n",
    "\n",
    "def correct_weigths(M):\n",
    "    m11 = M[0,0]\n",
    "    m12 = M[0,1]\n",
    "    m21 = M[1,0]\n",
    "    m22 = M[1,1]\n",
    "    \n",
    "    error = np.linalg.norm(np.dot(M.T,np.dot(J,M)) - J)\n",
    "    \n",
    "    \n",
    "                           \n",
    "    \n",
    "    if m11*m22 - m12*m21 != 1:\n",
    "        print('Symplectic error: ', error)\n",
    "        if m11 != 0:\n",
    "            m22 = (1+m12*m21)/m11\n",
    "        elif m21 != 0:\n",
    "            m12 = (1-m11*m22)/m21\n",
    "        elif m12 != 0:\n",
    "            m21 = (1-m11*m22)/m12\n",
    "        else:\n",
    "            m11 = 1/m22\n",
    "    else:\n",
    "        print(\"The upper sub-matrix is symplectic.\")\n",
    "        \n",
    "    m33 = M[2,2]\n",
    "    m34 = M[2,3]\n",
    "    m43 = M[3,2]\n",
    "    m44 = M[3,3]\n",
    "    \n",
    "    if m33*m44 - m34*m43 != 1:\n",
    "        if m33 != 0:\n",
    "            m44 = (1+m34*m43)/m33\n",
    "        elif m43 != 0:\n",
    "            m34 = (1-m33*m44)/m43\n",
    "        elif m43 != 0:\n",
    "            m34 = (1-m33*m44)/m43\n",
    "        else:\n",
    "            m33 = 1/m44\n",
    "    else:\n",
    "        print(\"The lower sub-matrix is symplectic.\")\n",
    "    \n",
    "    return np.array([[m11,m12,0,0],[m21,m22,0,0],[0,0,m33,m34],[0,0,m43,m44]])\n",
    "\n",
    "def TrackFodo(r0,duration=100):\n",
    "    X_RK = []\n",
    "    X_Lie = []\n",
    "    X_Lie_corr = []\n",
    "    X_RK_corr = []\n",
    "\n",
    "    X_Exact = []\n",
    "\n",
    "\n",
    "\n",
    "    for pos in r0:\n",
    "        X0 = np.array(pos).reshape((-1, 4))\n",
    "        X_RK.append(X0)\n",
    "        X_Lie.append(X0)\n",
    "        X_Lie_corr.append(X0)\n",
    "        X_RK_corr.append(X0)\n",
    "\n",
    "        pos = np.array(pos)\n",
    "        X_Exact.append(pos)\n",
    "\n",
    "        for i in tqdm(range(duration)): \n",
    "            X_RK.append(fodo_RK.predict(X_RK[-1]))\n",
    "            X_Lie.append(fodo_Lie.predict(X_Lie[-1]))\n",
    "            X_Lie_corr.append(fodo_Lie_corr.predict(X_Lie_corr[-1]))\n",
    "            X_RK_corr.append(fodo_RK_corr.predict(X_RK_corr[-1]))\n",
    "\n",
    "            r = quadf(pos,_lqf,_k1)\n",
    "            r = drift(r,_ld)\n",
    "            r = quadf(r,_lqd,_k2)\n",
    "            r = drift(r,_ld)\n",
    "            r = quadf(r,_lqf,_k1)\n",
    "            \n",
    "            \n",
    "            X_Exact.append(r)\n",
    "            pos = np.copy(r)\n",
    "            \n",
    "    X_RK = np.array(X_RK)\n",
    "    X_Lie = np.array(X_Lie)\n",
    "    X_Lie_corr = np.array(X_Lie_corr)\n",
    "    X_RK_corr = np.array(X_RK_corr)\n",
    "    X_Exact = np.array(X_Exact)\n",
    "    \n",
    "    return X_RK, X_Lie, X_Exact, X_Lie_corr, X_RK_corr"
   ]
  },
  {
   "cell_type": "code",
   "execution_count": 23,
   "metadata": {},
   "outputs": [],
   "source": [
    "\n",
    "def drift(r,l):\n",
    "    x = r[0]\n",
    "    px = r[1]\n",
    "    y = r[2]\n",
    "    py = r[3]\n",
    "    \n",
    "    xn = x + l * px / np.sqrt(1 - px**2 - py**2)\n",
    "    pxn = px\n",
    "    yn = y + l * py / np.sqrt(1 - px**2 - py**2)\n",
    "    pyn = py\n",
    "\n",
    "    \n",
    "    return xn, pxn, yn, pyn\n",
    "\n",
    "def quadf(r,l,k):\n",
    "    x = r[0]\n",
    "    px = r[1]\n",
    "    y = r[2]\n",
    "    py = r[3]\n",
    "    \n",
    "    \n",
    "    k = np.abs(k)\n",
    "\n",
    "    \n",
    "    omega = np.sqrt(k)\n",
    "    sin = np.sin(omega*l)\n",
    "    cos = np.cos(omega*l)\n",
    "    sinh = np.sinh(omega * l)\n",
    "    cosh = np.cosh(omega * l)\n",
    "    \n",
    "    xn = cos * x + sin * px / omega\n",
    "    pxn = cos * px - sin * omega * x\n",
    "    yn = cosh * y + sinh * py / omega\n",
    "    pyn = sinh * omega * y + cosh * py\n",
    "    \n",
    "    return xn, pxn, yn, pyn\n",
    "\n",
    "def quadff(r,l,k):\n",
    "    x = r[0]\n",
    "    px = r[1]\n",
    "    y = r[2]\n",
    "    py = r[3]\n",
    "    \n",
    "    \n",
    "    \n",
    "    k = np.abs(k)\n",
    "    \n",
    "    omega = np.sqrt(k)\n",
    "    sin = np.sin(omega*l)\n",
    "    cos = np.cos(omega*l)\n",
    "    sinh = np.sinh(omega * l)\n",
    "    cosh = np.cosh(omega * l)\n",
    "    \n",
    "    xn = cosh * x + sinh * px / omega\n",
    "    pxn = cosh * px + sinh * omega * x\n",
    "    yn = cos * y + sin * py / omega\n",
    "    pyn = cos * py - sin * omega * y\n",
    "    \n",
    "    return xn, pxn, yn, pyn\n",
    "\n",
    "def LieTracking(kq1,kq2,l_d,l_qf,l_qd,tot_coords,_order=2):\n",
    "    print(kq1,kq2,l_d,l_qf,l_qd,tot_coords)\n",
    "    taylor_order = _order\n",
    "\n",
    "    H_quadf = H_quad.subs(k1,kq1)\n",
    "    H_quadd = H_quad.subs(k1,kq2)\n",
    "    \n",
    "    print(H_quadf)\n",
    "    print(H_quadd)\n",
    "\n",
    "    L_drift = LieOperator(-l_d * H_drift,i_coord,i_mom)\n",
    "    L_quadf = LieOperator(-l_qf * H_quadf,i_coord,i_mom)\n",
    "    L_quadd = LieOperator(-l_qd * H_quadd,i_coord,i_mom)\n",
    "\n",
    "\n",
    "    taylor_drift = taylorize(L_drift,taylor_order)\n",
    "    taylor_quadf = taylorize(L_quadf,taylor_order)\n",
    "    taylor_quadd = taylorize(L_quadd,taylor_order)\n",
    "    \n",
    "    print(taylor_drift)\n",
    "    print(taylor_quadf)\n",
    "    print(taylor_quadd)\n",
    "    \n",
    "    nn_drift = taylor_to_weight_mat(taylor_drift)\n",
    "    nn_quadf = taylor_to_weight_mat(taylor_quadf)\n",
    "    nn_quadd = taylor_to_weight_mat(taylor_quadd)\n",
    "\n",
    "    print(nn_drift)\n",
    "    print(nn_quadf)\n",
    "    print(nn_quadd)\n",
    "\n",
    "    \n",
    "#     corr_drift = correct_weights(M_taylor_drift[0])\n",
    "    corr_qf = correct_weigths(nn_quadf[0])\n",
    "    corr_qd = correct_weigths(nn_quadd[0])\n",
    "    \n",
    "    disp = np.array([[0,0,0,0]])\n",
    "\n",
    "\n",
    "    W_drift_Lie = [disp] + nn_drift\n",
    "    W_quadf_Lie = [disp] + nn_quadf\n",
    "    W_quadd_Lie = [disp] + nn_quadd\n",
    "    \n",
    "    \n",
    "    W_drift_Lie_corr = [disp] + nn_drift\n",
    "    W_quadf_Lie_corr = [disp] + [corr_qf]\n",
    "    W_quadd_Lie_corr = [disp] + [corr_qd]\n",
    "\n",
    "\n",
    "    printlist(W_drift_Lie_corr)\n",
    "    printlist(W_quadf_Lie_corr)\n",
    "    printlist(W_quadd_Lie_corr)\n",
    "\n",
    "\n",
    "    dim = len(tot_coords)\n",
    "\n",
    "\n",
    "    # e.g. QFA helps focusing particle in radial direction, and QDA in vertical one\n",
    "    Drift_Lie = LieLayer(output_dim = dim, order = len(nn_drift), input_shape = (dim,))\n",
    "    QuadF_Lie = LieLayer(output_dim = dim, order = len(nn_quadf), input_shape = (dim,))\n",
    "    QuadD_Lie = LieLayer(output_dim = dim, order = len(nn_quadd), input_shape = (dim,))\n",
    "\n",
    "    lattice = [QuadF_Lie, Drift_Lie, QuadD_Lie, Drift_Lie, QuadF_Lie]\n",
    "\n",
    "    # simply construct a neural network (computatuonal graph)\n",
    "    fodo_Lie = Sequential()\n",
    "    for el in lattice:\n",
    "        fodo_Lie.add(el)\n",
    "\n",
    "    Drift_Lie.set_weights(W_drift_Lie)\n",
    "    QuadF_Lie.set_weights(W_quadf_Lie)\n",
    "    QuadD_Lie.set_weights(W_quadd_Lie)\n",
    "    \n",
    "    \n",
    "\n",
    "    Drift_Lie_corr = LieLayer(output_dim = dim, order = len(nn_drift), input_shape = (dim,))\n",
    "    QuadF_Lie_corr = LieLayer(output_dim = dim, order = len(nn_quadf), input_shape = (dim,))\n",
    "    QuadD_Lie_corr = LieLayer(output_dim = dim, order = len(nn_quadd), input_shape = (dim,))\n",
    "\n",
    "    lattice = [QuadF_Lie_corr, Drift_Lie_corr, QuadD_Lie_corr, Drift_Lie_corr, QuadF_Lie_corr]\n",
    "\n",
    "    # simply construct a neural network (computatuonal graph)\n",
    "    fodo_Lie_corr = Sequential()\n",
    "    for el in lattice:\n",
    "        fodo_Lie_corr.add(el)\n",
    "\n",
    "    Drift_Lie_corr.set_weights(W_drift_Lie_corr)\n",
    "    QuadF_Lie_corr.set_weights(W_quadf_Lie_corr)\n",
    "    QuadD_Lie_corr.set_weights(W_quadd_Lie_corr)\n",
    "    \n",
    "    return fodo_Lie, fodo_Lie_corr\n"
   ]
  },
  {
   "cell_type": "code",
   "execution_count": 19,
   "metadata": {
    "scrolled": true
   },
   "outputs": [
    {
     "name": "stdout",
     "output_type": "stream",
     "text": [
      "[x p_x y p_y]\n",
      "[p_x**3/2 + p_x*p_y**2/2 + p_x, 0, p_x**2*p_y/2 + p_y**3/2 + p_y, 0]\n",
      "[x p_x y p_y]\n",
      "[p_x, -0.5*x, p_y, 0.5*y]\n",
      "[x p_x y p_y]\n",
      "[p_x, 0.5*x, p_y, -0.5*y]\n",
      "The upper sub-matrix is symplectic.\n",
      "The lower sub-matrix is symplectic.\n",
      "Symplectic error:  0.0010416666826491077\n",
      "Symplectic error:  0.004166667689569775\n",
      "[[0. 0. 0. 0.]]\n",
      "[[1.  0.  0.  0. ]\n",
      " [2.5 1.  0.  0. ]\n",
      " [0.  0.  1.  0. ]\n",
      " [0.  0.  2.5 1. ]]\n",
      "[[0. 0. 0. 0.]\n",
      " [0. 0. 0. 0.]\n",
      " [0. 0. 0. 0.]\n",
      " [0. 0. 0. 0.]\n",
      " [0. 0. 0. 0.]\n",
      " [0. 0. 0. 0.]\n",
      " [0. 0. 0. 0.]\n",
      " [0. 0. 0. 0.]\n",
      " [0. 0. 0. 0.]\n",
      " [0. 0. 0. 0.]\n",
      " [0. 0. 0. 0.]\n",
      " [0. 0. 0. 0.]\n",
      " [0. 0. 0. 0.]\n",
      " [0. 0. 0. 0.]\n",
      " [0. 0. 0. 0.]\n",
      " [0. 0. 0. 0.]]\n",
      "[[0.   0.   0.   0.  ]\n",
      " [0.   0.   0.   0.  ]\n",
      " [0.   0.   0.   0.  ]\n",
      " [0.   0.   0.   0.  ]\n",
      " [0.   0.   0.   0.  ]\n",
      " [0.   0.   0.   0.  ]\n",
      " [0.   0.   0.   0.  ]\n",
      " [0.   0.   0.   0.  ]\n",
      " [0.   0.   0.   0.  ]\n",
      " [0.   0.   0.   0.  ]\n",
      " [0.   0.   0.   0.  ]\n",
      " [0.   0.   0.   0.  ]\n",
      " [0.   0.   0.   0.  ]\n",
      " [0.   0.   0.   0.  ]\n",
      " [0.   0.   0.   0.  ]\n",
      " [0.   0.   0.   0.  ]\n",
      " [0.   0.   0.   0.  ]\n",
      " [0.   0.   0.   0.  ]\n",
      " [0.   0.   0.   0.  ]\n",
      " [0.   0.   0.   0.  ]\n",
      " [0.   0.   0.   0.  ]\n",
      " [1.25 0.   0.   0.  ]\n",
      " [0.   0.   0.   0.  ]\n",
      " [0.   0.   1.25 0.  ]\n",
      " [0.   0.   0.   0.  ]\n",
      " [0.   0.   0.   0.  ]\n",
      " [0.   0.   0.   0.  ]\n",
      " [0.   0.   0.   0.  ]\n",
      " [0.   0.   0.   0.  ]\n",
      " [0.   0.   0.   0.  ]\n",
      " [0.   0.   0.   0.  ]\n",
      " [1.25 0.   0.   0.  ]\n",
      " [0.   0.   0.   0.  ]\n",
      " [0.   0.   0.   0.  ]\n",
      " [0.   0.   0.   0.  ]\n",
      " [0.   0.   0.   0.  ]\n",
      " [0.   0.   0.   0.  ]\n",
      " [0.   0.   0.   0.  ]\n",
      " [0.   0.   0.   0.  ]\n",
      " [0.   0.   0.   0.  ]\n",
      " [0.   0.   0.   0.  ]\n",
      " [0.   0.   0.   0.  ]\n",
      " [0.   0.   0.   0.  ]\n",
      " [0.   0.   0.   0.  ]\n",
      " [0.   0.   0.   0.  ]\n",
      " [0.   0.   0.   0.  ]\n",
      " [0.   0.   0.   0.  ]\n",
      " [0.   0.   0.   0.  ]\n",
      " [0.   0.   0.   0.  ]\n",
      " [0.   0.   0.   0.  ]\n",
      " [0.   0.   0.   0.  ]\n",
      " [0.   0.   0.   0.  ]\n",
      " [0.   0.   0.   0.  ]\n",
      " [0.   0.   0.   0.  ]\n",
      " [0.   0.   0.   0.  ]\n",
      " [0.   0.   0.   0.  ]\n",
      " [0.   0.   0.   0.  ]\n",
      " [0.   0.   0.   0.  ]\n",
      " [0.   0.   0.   0.  ]\n",
      " [0.   0.   0.   0.  ]\n",
      " [0.   0.   0.   0.  ]\n",
      " [0.   0.   0.   0.  ]\n",
      " [0.   0.   0.   0.  ]\n",
      " [0.   0.   1.25 0.  ]]\n",
      "[[0. 0. 0. 0.]]\n",
      "[[ 0.98467242 -0.12438076  0.          0.        ]\n",
      " [ 0.24876151  0.98414339  0.          0.        ]\n",
      " [ 0.          0.          1.01540166  0.12562099]\n",
      " [ 0.          0.          0.25124198  1.0159145 ]]\n",
      "[[0. 0. 0. 0.]\n",
      " [0. 0. 0. 0.]\n",
      " [0. 0. 0. 0.]\n",
      " [0. 0. 0. 0.]\n",
      " [0. 0. 0. 0.]\n",
      " [0. 0. 0. 0.]\n",
      " [0. 0. 0. 0.]\n",
      " [0. 0. 0. 0.]\n",
      " [0. 0. 0. 0.]\n",
      " [0. 0. 0. 0.]\n",
      " [0. 0. 0. 0.]\n",
      " [0. 0. 0. 0.]\n",
      " [0. 0. 0. 0.]\n",
      " [0. 0. 0. 0.]\n",
      " [0. 0. 0. 0.]\n",
      " [0. 0. 0. 0.]]\n",
      "[[0. 0. 0. 0.]\n",
      " [0. 0. 0. 0.]\n",
      " [0. 0. 0. 0.]\n",
      " [0. 0. 0. 0.]\n",
      " [0. 0. 0. 0.]\n",
      " [0. 0. 0. 0.]\n",
      " [0. 0. 0. 0.]\n",
      " [0. 0. 0. 0.]\n",
      " [0. 0. 0. 0.]\n",
      " [0. 0. 0. 0.]\n",
      " [0. 0. 0. 0.]\n",
      " [0. 0. 0. 0.]\n",
      " [0. 0. 0. 0.]\n",
      " [0. 0. 0. 0.]\n",
      " [0. 0. 0. 0.]\n",
      " [0. 0. 0. 0.]\n",
      " [0. 0. 0. 0.]\n",
      " [0. 0. 0. 0.]\n",
      " [0. 0. 0. 0.]\n",
      " [0. 0. 0. 0.]\n",
      " [0. 0. 0. 0.]\n",
      " [0. 0. 0. 0.]\n",
      " [0. 0. 0. 0.]\n",
      " [0. 0. 0. 0.]\n",
      " [0. 0. 0. 0.]\n",
      " [0. 0. 0. 0.]\n",
      " [0. 0. 0. 0.]\n",
      " [0. 0. 0. 0.]\n",
      " [0. 0. 0. 0.]\n",
      " [0. 0. 0. 0.]\n",
      " [0. 0. 0. 0.]\n",
      " [0. 0. 0. 0.]\n",
      " [0. 0. 0. 0.]\n",
      " [0. 0. 0. 0.]\n",
      " [0. 0. 0. 0.]\n",
      " [0. 0. 0. 0.]\n",
      " [0. 0. 0. 0.]\n",
      " [0. 0. 0. 0.]\n",
      " [0. 0. 0. 0.]\n",
      " [0. 0. 0. 0.]\n",
      " [0. 0. 0. 0.]\n",
      " [0. 0. 0. 0.]\n",
      " [0. 0. 0. 0.]\n",
      " [0. 0. 0. 0.]\n",
      " [0. 0. 0. 0.]\n",
      " [0. 0. 0. 0.]\n",
      " [0. 0. 0. 0.]\n",
      " [0. 0. 0. 0.]\n",
      " [0. 0. 0. 0.]\n",
      " [0. 0. 0. 0.]\n",
      " [0. 0. 0. 0.]\n",
      " [0. 0. 0. 0.]\n",
      " [0. 0. 0. 0.]\n",
      " [0. 0. 0. 0.]\n",
      " [0. 0. 0. 0.]\n",
      " [0. 0. 0. 0.]\n",
      " [0. 0. 0. 0.]\n",
      " [0. 0. 0. 0.]\n",
      " [0. 0. 0. 0.]\n",
      " [0. 0. 0. 0.]\n",
      " [0. 0. 0. 0.]\n",
      " [0. 0. 0. 0.]\n",
      " [0. 0. 0. 0.]\n",
      " [0. 0. 0. 0.]]\n",
      "[[0. 0. 0. 0.]]\n",
      "[[ 1.06205312  0.25498898  0.          0.        ]\n",
      " [ 0.50997796  1.0640134   0.          0.        ]\n",
      " [ 0.          0.          0.93913211 -0.24506696]\n",
      " [ 0.          0.          0.49013392  0.93691224]]\n",
      "[[0. 0. 0. 0.]\n",
      " [0. 0. 0. 0.]\n",
      " [0. 0. 0. 0.]\n",
      " [0. 0. 0. 0.]\n",
      " [0. 0. 0. 0.]\n",
      " [0. 0. 0. 0.]\n",
      " [0. 0. 0. 0.]\n",
      " [0. 0. 0. 0.]\n",
      " [0. 0. 0. 0.]\n",
      " [0. 0. 0. 0.]\n",
      " [0. 0. 0. 0.]\n",
      " [0. 0. 0. 0.]\n",
      " [0. 0. 0. 0.]\n",
      " [0. 0. 0. 0.]\n",
      " [0. 0. 0. 0.]\n",
      " [0. 0. 0. 0.]]\n",
      "[[0. 0. 0. 0.]\n",
      " [0. 0. 0. 0.]\n",
      " [0. 0. 0. 0.]\n",
      " [0. 0. 0. 0.]\n",
      " [0. 0. 0. 0.]\n",
      " [0. 0. 0. 0.]\n",
      " [0. 0. 0. 0.]\n",
      " [0. 0. 0. 0.]\n",
      " [0. 0. 0. 0.]\n",
      " [0. 0. 0. 0.]\n",
      " [0. 0. 0. 0.]\n",
      " [0. 0. 0. 0.]\n",
      " [0. 0. 0. 0.]\n",
      " [0. 0. 0. 0.]\n",
      " [0. 0. 0. 0.]\n",
      " [0. 0. 0. 0.]\n",
      " [0. 0. 0. 0.]\n",
      " [0. 0. 0. 0.]\n",
      " [0. 0. 0. 0.]\n",
      " [0. 0. 0. 0.]\n",
      " [0. 0. 0. 0.]\n",
      " [0. 0. 0. 0.]\n",
      " [0. 0. 0. 0.]\n",
      " [0. 0. 0. 0.]\n",
      " [0. 0. 0. 0.]\n",
      " [0. 0. 0. 0.]\n",
      " [0. 0. 0. 0.]\n",
      " [0. 0. 0. 0.]\n",
      " [0. 0. 0. 0.]\n",
      " [0. 0. 0. 0.]\n",
      " [0. 0. 0. 0.]\n",
      " [0. 0. 0. 0.]\n",
      " [0. 0. 0. 0.]\n",
      " [0. 0. 0. 0.]\n",
      " [0. 0. 0. 0.]\n",
      " [0. 0. 0. 0.]\n",
      " [0. 0. 0. 0.]\n",
      " [0. 0. 0. 0.]\n",
      " [0. 0. 0. 0.]\n",
      " [0. 0. 0. 0.]\n",
      " [0. 0. 0. 0.]\n",
      " [0. 0. 0. 0.]\n",
      " [0. 0. 0. 0.]\n",
      " [0. 0. 0. 0.]\n",
      " [0. 0. 0. 0.]\n",
      " [0. 0. 0. 0.]\n",
      " [0. 0. 0. 0.]\n",
      " [0. 0. 0. 0.]\n",
      " [0. 0. 0. 0.]\n",
      " [0. 0. 0. 0.]\n",
      " [0. 0. 0. 0.]\n",
      " [0. 0. 0. 0.]\n",
      " [0. 0. 0. 0.]\n",
      " [0. 0. 0. 0.]\n",
      " [0. 0. 0. 0.]\n",
      " [0. 0. 0. 0.]\n",
      " [0. 0. 0. 0.]\n",
      " [0. 0. 0. 0.]\n",
      " [0. 0. 0. 0.]\n",
      " [0. 0. 0. 0.]\n",
      " [0. 0. 0. 0.]\n",
      " [0. 0. 0. 0.]\n",
      " [0. 0. 0. 0.]\n",
      " [0. 0. 0. 0.]]\n"
     ]
    }
   ],
   "source": [
    "fodo_RK, fodo_RK_corr = Ivanov_RK(_k1,_k2,_ld,_lqf,_lqd,invector,_order=3)"
   ]
  },
  {
   "cell_type": "code",
   "execution_count": 36,
   "metadata": {},
   "outputs": [
    {
     "name": "stdout",
     "output_type": "stream",
     "text": [
      "[1.25*p_x**3 + 1.25*p_x*p_y**2 + 2.5*p_x + x, p_x, 1.25*p_x**2*p_y + 1.25*p_y**3 + 2.5*p_y + y, p_y]\n",
      "[0.248697916666667*p_x + 0.984415690104167*x, 0.984415690104167*p_x - 0.124348958333333*x, 0.251302083333333*p_y + 1.01566569010417*y, 1.01566569010417*p_y + 0.125651041666667*y]\n",
      "[0.510416666666667*p_x + 1.06315104166667*x, 1.06315104166667*p_x + 0.255208333333333*x, 0.489583333333333*p_y + 0.938151041666667*y, 0.938151041666667*p_y - 0.244791666666667*y]\n",
      "2020-12-15 17:11:18,448 - root -INFO - Extracting weight matrices from Taylor vector.\n",
      "2020-12-15 17:11:18,497 - root -INFO - Extracting weight matrices from Taylor vector.\n",
      "2020-12-15 17:11:18,503 - root -INFO - Extracting weight matrices from Taylor vector.\n",
      "[array([[1. , 0. , 0. , 0. ],\n",
      "       [2.5, 1. , 0. , 0. ],\n",
      "       [0. , 0. , 1. , 0. ],\n",
      "       [0. , 0. , 2.5, 1. ]]), array([[0., 0., 0., 0.],\n",
      "       [0., 0., 0., 0.],\n",
      "       [0., 0., 0., 0.],\n",
      "       [0., 0., 0., 0.],\n",
      "       [0., 0., 0., 0.],\n",
      "       [0., 0., 0., 0.],\n",
      "       [0., 0., 0., 0.],\n",
      "       [0., 0., 0., 0.],\n",
      "       [0., 0., 0., 0.],\n",
      "       [0., 0., 0., 0.],\n",
      "       [0., 0., 0., 0.],\n",
      "       [0., 0., 0., 0.],\n",
      "       [0., 0., 0., 0.],\n",
      "       [0., 0., 0., 0.],\n",
      "       [0., 0., 0., 0.],\n",
      "       [0., 0., 0., 0.]]), array([[0.  , 0.  , 0.  , 0.  ],\n",
      "       [0.  , 0.  , 0.  , 0.  ],\n",
      "       [0.  , 0.  , 0.  , 0.  ],\n",
      "       [0.  , 0.  , 0.  , 0.  ],\n",
      "       [0.  , 0.  , 0.  , 0.  ],\n",
      "       [0.  , 0.  , 0.  , 0.  ],\n",
      "       [0.  , 0.  , 0.  , 0.  ],\n",
      "       [0.  , 0.  , 0.  , 0.  ],\n",
      "       [0.  , 0.  , 0.  , 0.  ],\n",
      "       [0.  , 0.  , 0.  , 0.  ],\n",
      "       [0.  , 0.  , 0.  , 0.  ],\n",
      "       [0.  , 0.  , 0.  , 0.  ],\n",
      "       [0.  , 0.  , 0.  , 0.  ],\n",
      "       [0.  , 0.  , 0.  , 0.  ],\n",
      "       [0.  , 0.  , 0.  , 0.  ],\n",
      "       [0.  , 0.  , 0.  , 0.  ],\n",
      "       [0.  , 0.  , 0.  , 0.  ],\n",
      "       [0.  , 0.  , 0.  , 0.  ],\n",
      "       [0.  , 0.  , 0.  , 0.  ],\n",
      "       [0.  , 0.  , 0.  , 0.  ],\n",
      "       [0.  , 0.  , 0.  , 0.  ],\n",
      "       [1.25, 0.  , 0.  , 0.  ],\n",
      "       [0.  , 0.  , 0.  , 0.  ],\n",
      "       [0.  , 0.  , 1.25, 0.  ],\n",
      "       [0.  , 0.  , 0.  , 0.  ],\n",
      "       [0.  , 0.  , 0.  , 0.  ],\n",
      "       [0.  , 0.  , 0.  , 0.  ],\n",
      "       [0.  , 0.  , 0.  , 0.  ],\n",
      "       [0.  , 0.  , 0.  , 0.  ],\n",
      "       [0.  , 0.  , 0.  , 0.  ],\n",
      "       [0.  , 0.  , 0.  , 0.  ],\n",
      "       [1.25, 0.  , 0.  , 0.  ],\n",
      "       [0.  , 0.  , 0.  , 0.  ],\n",
      "       [0.  , 0.  , 0.  , 0.  ],\n",
      "       [0.  , 0.  , 0.  , 0.  ],\n",
      "       [0.  , 0.  , 0.  , 0.  ],\n",
      "       [0.  , 0.  , 0.  , 0.  ],\n",
      "       [0.  , 0.  , 0.  , 0.  ],\n",
      "       [0.  , 0.  , 0.  , 0.  ],\n",
      "       [0.  , 0.  , 0.  , 0.  ],\n",
      "       [0.  , 0.  , 0.  , 0.  ],\n",
      "       [0.  , 0.  , 0.  , 0.  ],\n",
      "       [0.  , 0.  , 0.  , 0.  ],\n",
      "       [0.  , 0.  , 0.  , 0.  ],\n",
      "       [0.  , 0.  , 0.  , 0.  ],\n",
      "       [0.  , 0.  , 0.  , 0.  ],\n",
      "       [0.  , 0.  , 0.  , 0.  ],\n",
      "       [0.  , 0.  , 0.  , 0.  ],\n",
      "       [0.  , 0.  , 0.  , 0.  ],\n",
      "       [0.  , 0.  , 0.  , 0.  ],\n",
      "       [0.  , 0.  , 0.  , 0.  ],\n",
      "       [0.  , 0.  , 0.  , 0.  ],\n",
      "       [0.  , 0.  , 0.  , 0.  ],\n",
      "       [0.  , 0.  , 0.  , 0.  ],\n",
      "       [0.  , 0.  , 0.  , 0.  ],\n",
      "       [0.  , 0.  , 0.  , 0.  ],\n",
      "       [0.  , 0.  , 0.  , 0.  ],\n",
      "       [0.  , 0.  , 0.  , 0.  ],\n",
      "       [0.  , 0.  , 0.  , 0.  ],\n",
      "       [0.  , 0.  , 0.  , 0.  ],\n",
      "       [0.  , 0.  , 0.  , 0.  ],\n",
      "       [0.  , 0.  , 0.  , 0.  ],\n",
      "       [0.  , 0.  , 0.  , 0.  ],\n",
      "       [0.  , 0.  , 1.25, 0.  ]])]\n",
      "[array([[ 0.98441569, -0.12434896,  0.        ,  0.        ],\n",
      "       [ 0.24869792,  0.98441569,  0.        ,  0.        ],\n",
      "       [ 0.        ,  0.        ,  1.01566569,  0.12565104],\n",
      "       [ 0.        ,  0.        ,  0.25130208,  1.01566569]])]\n",
      "[array([[ 1.06315104,  0.25520833,  0.        ,  0.        ],\n",
      "       [ 0.51041667,  1.06315104,  0.        ,  0.        ],\n",
      "       [ 0.        ,  0.        ,  0.93815104, -0.24479167],\n",
      "       [ 0.        ,  0.        ,  0.48958333,  0.93815104]])]\n",
      "Symplectic error:  8.477169712309612e-07\n",
      "Symplectic error:  5.426009455656956e-05\n",
      "[[0 0 0 0]]\n",
      "[[1.  0.  0.  0. ]\n",
      " [2.5 1.  0.  0. ]\n",
      " [0.  0.  1.  0. ]\n",
      " [0.  0.  2.5 1. ]]\n",
      "[[0. 0. 0. 0.]\n",
      " [0. 0. 0. 0.]\n",
      " [0. 0. 0. 0.]\n",
      " [0. 0. 0. 0.]\n",
      " [0. 0. 0. 0.]\n",
      " [0. 0. 0. 0.]\n",
      " [0. 0. 0. 0.]\n",
      " [0. 0. 0. 0.]\n",
      " [0. 0. 0. 0.]\n",
      " [0. 0. 0. 0.]\n",
      " [0. 0. 0. 0.]\n",
      " [0. 0. 0. 0.]\n",
      " [0. 0. 0. 0.]\n",
      " [0. 0. 0. 0.]\n",
      " [0. 0. 0. 0.]\n",
      " [0. 0. 0. 0.]]\n",
      "[[0.   0.   0.   0.  ]\n",
      " [0.   0.   0.   0.  ]\n",
      " [0.   0.   0.   0.  ]\n",
      " [0.   0.   0.   0.  ]\n",
      " [0.   0.   0.   0.  ]\n",
      " [0.   0.   0.   0.  ]\n",
      " [0.   0.   0.   0.  ]\n",
      " [0.   0.   0.   0.  ]\n",
      " [0.   0.   0.   0.  ]\n",
      " [0.   0.   0.   0.  ]\n",
      " [0.   0.   0.   0.  ]\n",
      " [0.   0.   0.   0.  ]\n",
      " [0.   0.   0.   0.  ]\n",
      " [0.   0.   0.   0.  ]\n",
      " [0.   0.   0.   0.  ]\n",
      " [0.   0.   0.   0.  ]\n",
      " [0.   0.   0.   0.  ]\n",
      " [0.   0.   0.   0.  ]\n",
      " [0.   0.   0.   0.  ]\n",
      " [0.   0.   0.   0.  ]\n",
      " [0.   0.   0.   0.  ]\n",
      " [1.25 0.   0.   0.  ]\n",
      " [0.   0.   0.   0.  ]\n",
      " [0.   0.   1.25 0.  ]\n",
      " [0.   0.   0.   0.  ]\n",
      " [0.   0.   0.   0.  ]\n",
      " [0.   0.   0.   0.  ]\n",
      " [0.   0.   0.   0.  ]\n",
      " [0.   0.   0.   0.  ]\n",
      " [0.   0.   0.   0.  ]\n",
      " [0.   0.   0.   0.  ]\n",
      " [1.25 0.   0.   0.  ]\n",
      " [0.   0.   0.   0.  ]\n",
      " [0.   0.   0.   0.  ]\n",
      " [0.   0.   0.   0.  ]\n",
      " [0.   0.   0.   0.  ]\n",
      " [0.   0.   0.   0.  ]\n",
      " [0.   0.   0.   0.  ]\n",
      " [0.   0.   0.   0.  ]\n",
      " [0.   0.   0.   0.  ]\n",
      " [0.   0.   0.   0.  ]\n",
      " [0.   0.   0.   0.  ]\n",
      " [0.   0.   0.   0.  ]\n",
      " [0.   0.   0.   0.  ]\n",
      " [0.   0.   0.   0.  ]\n",
      " [0.   0.   0.   0.  ]\n",
      " [0.   0.   0.   0.  ]\n",
      " [0.   0.   0.   0.  ]\n",
      " [0.   0.   0.   0.  ]\n",
      " [0.   0.   0.   0.  ]\n",
      " [0.   0.   0.   0.  ]\n",
      " [0.   0.   0.   0.  ]\n",
      " [0.   0.   0.   0.  ]\n",
      " [0.   0.   0.   0.  ]\n",
      " [0.   0.   0.   0.  ]\n",
      " [0.   0.   0.   0.  ]\n",
      " [0.   0.   0.   0.  ]\n",
      " [0.   0.   0.   0.  ]\n",
      " [0.   0.   0.   0.  ]\n",
      " [0.   0.   0.   0.  ]\n",
      " [0.   0.   0.   0.  ]\n",
      " [0.   0.   0.   0.  ]\n",
      " [0.   0.   0.   0.  ]\n",
      " [0.   0.   1.25 0.  ]]\n",
      "[[0 0 0 0]]\n",
      "[[ 0.98441569 -0.12434896  0.          0.        ]\n",
      " [ 0.24869792  0.98441612  0.          0.        ]\n",
      " [ 0.          0.          1.01566569  0.12565104]\n",
      " [ 0.          0.          0.25130208  1.01566527]]\n",
      "[[0 0 0 0]]\n",
      "[[ 1.06315104  0.25520833  0.          0.        ]\n",
      " [ 0.51041667  1.06312513  0.          0.        ]\n",
      " [ 0.          0.          0.93815104 -0.24479167]\n",
      " [ 0.          0.          0.48958333  0.9381795 ]]\n"
     ]
    }
   ],
   "source": [
    "fodo_Lie, fodo_Lie_corr = LieTrackingt(_k1,_k2,_ld,_lqf,_lqd,invector,_order=4)"
   ]
  },
  {
   "cell_type": "code",
   "execution_count": null,
   "metadata": {},
   "outputs": [
    {
     "name": "stderr",
     "output_type": "stream",
     "text": [
      "  1%|▏         | 13/1000 [00:01<02:20,  7.01it/s]"
     ]
    }
   ],
   "source": [
    "X_RK, X_Lie, X_Exact, X_Lie_corr, X_RK_corr = TrackFodo(_r0,1000)"
   ]
  },
  {
   "cell_type": "code",
   "execution_count": 66,
   "metadata": {},
   "outputs": [
    {
     "data": {
      "text/plain": [
       "[<matplotlib.lines.Line2D at 0x7f97a048f828>]"
      ]
     },
     "execution_count": 66,
     "metadata": {},
     "output_type": "execute_result"
    },
    {
     "data": {
      "image/png": "[encoded data removed]",
      "text/plain": [
       "<Figure size 864x576 with 2 Axes>"
      ]
     },
     "metadata": {
      "needs_background": "light"
     },
     "output_type": "display_data"
    }
   ],
   "source": [
    "# subplot grid\n",
    "fig = plt.figure(constrained_layout=True, figsize = (12,8))\n",
    "gs  = fig.add_gridspec(1, 2)\n",
    "\n",
    "ax1 = fig.add_subplot(gs[0,0])\n",
    "ax2 = fig.add_subplot(gs[0,1])\n",
    "\n",
    "\n",
    "ax1.set_title('x-px')\n",
    "ax2.set_title('y-py')\n",
    "\n",
    "# ax1.plot(X_RK[:, 0, 0], X_RK[:, 0, 1], '.', markersize = 2,label='RK')\n",
    "# ax2.plot(X_RK[:, 0, 2], X_RK[:, 0, 3], '.', markersize = 2,label='RK')\n",
    "\n",
    "# ax1.plot(X_Lie[:, 0, 0], X_Lie[:, 0, 1], '.', markersize = 2,label='Lie')\n",
    "# ax2.plot(X_Lie[:, 0, 2], X_Lie[:, 0, 3], '.', markersize = 2,label='Lie')\n",
    "\n",
    "# ax1.plot(X_Exact[:, 0], X_Exact[:, 1], '.', markersize = 2,label='Exact')\n",
    "# ax2.plot(X_Exact[:, 2], X_Exact[:, 3], '.', markersize = 2,label='Exact')\n",
    "\n",
    "ax1.scatter(X_Lie_corr[::7, 0, 0], X_Lie_corr[::7, 0, 1], s=2,label='Lie_corr',c=np.arange(len(X_RK_corr[::7, 0])),cmap=\"jet\")\n",
    "ax2.plot(X_Lie_corr[:, 0, 2], X_Lie_corr[:, 0, 3], '.', markersize = 2,label='Lie_corr')\n",
    "\n",
    "# ax1.scatter(X_RK_corr[::7, 0, 0], X_RK_corr[::7, 0, 1],s=1,label='RK_corr', c=np.arange(len(X_RK_corr[::7, 0])),cmap=\"jet\" )\n",
    "# ax2.plot(X_RK_corr[:, 0, 2], X_RK_corr[:, 0, 3], '.', markersize = 2,label='RK_corr')\n"
   ]
  },
  {
   "cell_type": "code",
   "execution_count": 61,
   "metadata": {},
   "outputs": [
    {
     "data": {
      "text/plain": [
       "array([ 1.00000000e-06,  3.46804399e-07, -7.59768682e-07, ...,\n",
       "       -2.67002845e+00, -8.92015815e-01,  1.35274911e+00])"
      ]
     },
     "execution_count": 61,
     "metadata": {},
     "output_type": "execute_result"
    }
   ],
   "source": [
    "X_RK_corr[0::7,0,0]"
   ]
  },
  {
   "cell_type": "code",
   "execution_count": 45,
   "metadata": {},
   "outputs": [
    {
     "data": {
      "text/plain": [
       "(422.934971859827, 463.300797006099, 2.97940762400148, -0.554757831896224)"
      ]
     },
     "execution_count": 45,
     "metadata": {},
     "output_type": "execute_result"
    }
   ],
   "source": [
    "quadf([1,0.2,3,0.4],6,-1.2)"
   ]
  },
  {
   "cell_type": "code",
   "execution_count": 32,
   "metadata": {},
   "outputs": [
    {
     "data": {
      "text/latex": [
       "$\\displaystyle \\left[\\begin{matrix}x \\cos{\\left(L \\sqrt{k_{1}} \\right)} + \\frac{p_{x} \\sin{\\left(L \\sqrt{k_{1}} \\right)}}{\\sqrt{k_{1}}}\\\\- \\sqrt{k_{1}} x \\sin{\\left(L \\sqrt{k_{1}} \\right)} + p_{x} \\cos{\\left(L \\sqrt{k_{1}} \\right)}\\\\y \\cosh{\\left(L \\sqrt{k_{1}} \\right)} + \\frac{p_{y} \\sinh{\\left(L \\sqrt{k_{1}} \\right)}}{\\sqrt{k_{1}}}\\\\\\sqrt{k_{1}} y \\sinh{\\left(L \\sqrt{k_{1}} \\right)} + p_{y} \\cosh{\\left(L \\sqrt{k_{1}} \\right)}\\end{matrix}\\right]$"
      ],
      "text/plain": [
       "Matrix([\n",
       "[  x*cos(L*sqrt(k_1)) + p_x*sin(L*sqrt(k_1))/sqrt(k_1)],\n",
       "[ -sqrt(k_1)*x*sin(L*sqrt(k_1)) + p_x*cos(L*sqrt(k_1))],\n",
       "[y*cosh(L*sqrt(k_1)) + p_y*sinh(L*sqrt(k_1))/sqrt(k_1)],\n",
       "[sqrt(k_1)*y*sinh(L*sqrt(k_1)) + p_y*cosh(L*sqrt(k_1))]])"
      ]
     },
     "execution_count": 32,
     "metadata": {},
     "output_type": "execute_result"
    }
   ],
   "source": [
    "RsymbQuad4D(beta0, gamma0,L,k1)*Matrix([[x],[px],[y],[py]])"
   ]
  },
  {
   "cell_type": "code",
   "execution_count": 25,
   "metadata": {},
   "outputs": [
    {
     "data": {
      "text/latex": [
       "$\\displaystyle L \\left(\\frac{k_{1} x^{2}}{2} - \\frac{k_{1} y^{2}}{2} + \\frac{p_{x}^{2}}{2} + \\frac{p_{y}^{2}}{2}\\right)$"
      ],
      "text/plain": [
       "L*(k_1*x**2/2 - k_1*y**2/2 + p_x**2/2 + p_y**2/2)"
      ]
     },
     "execution_count": 25,
     "metadata": {},
     "output_type": "execute_result"
    }
   ],
   "source": [
    "H = HamQuad6DParaxialSecondOrder(beta0,gamma0,L,x,px,y,py,delta,k1).subs(beta0*gamma0,oo).subs(beta0,1)\n",
    "H"
   ]
  },
  {
   "cell_type": "code",
   "execution_count": 24,
   "metadata": {},
   "outputs": [
    {
     "data": {
      "text/latex": [
       "$\\displaystyle \\frac{L p_{x}}{\\sqrt{- p_{x}^{2} - p_{y}^{2} + 1}}$"
      ],
      "text/plain": [
       "L*p_x/sqrt(-p_x**2 - p_y**2 + 1)"
      ]
     },
     "execution_count": 24,
     "metadata": {},
     "output_type": "execute_result"
    }
   ],
   "source": [
    "diff(H,px)"
   ]
  },
  {
   "cell_type": "code",
   "execution_count": 17,
   "metadata": {},
   "outputs": [
    {
     "data": {
      "text/latex": [
       "$\\displaystyle - \\frac{4 i}{3}$"
      ],
      "text/plain": [
       "-4*I/3"
      ]
     },
     "execution_count": 17,
     "metadata": {},
     "output_type": "execute_result"
    }
   ],
   "source": [
    "rep = list(zip([L,x,px,y,py],[4,0,1,2,3]))\n",
    "diff(H,px).subs(rep)"
   ]
  },
  {
   "cell_type": "code",
   "execution_count": null,
   "metadata": {},
   "outputs": [],
   "source": []
  }
 ],
 "metadata": {
  "kernelspec": {
   "display_name": "Python 3",
   "language": "python",
   "name": "python3"
  },
  "language_info": {
   "codemirror_mode": {
    "name": "ipython",
    "version": 3
   },
   "file_extension": ".py",
   "mimetype": "text/x-python",
   "name": "python",
   "nbconvert_exporter": "python",
   "pygments_lexer": "ipython3",
   "version": "3.6.12"
  },
  "toc": {
   "base_numbering": 1,
   "nav_menu": {},
   "number_sections": true,
   "sideBar": true,
   "skip_h1_title": false,
   "title_cell": "Table of Contents",
   "title_sidebar": "Contents",
   "toc_cell": false,
   "toc_position": {},
   "toc_section_display": true,
   "toc_window_display": false
  }
 },
 "nbformat": 4,
 "nbformat_minor": 4
}
