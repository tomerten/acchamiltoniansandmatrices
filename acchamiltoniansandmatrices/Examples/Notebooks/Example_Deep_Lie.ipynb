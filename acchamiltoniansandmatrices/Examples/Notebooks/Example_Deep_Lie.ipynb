{
 "cells": [
  {
   "cell_type": "code",
   "execution_count": 1,
   "metadata": {},
   "outputs": [
    {
     "data": {
      "text/html": [
       "<style>.container { width:90% !important; }</style>"
      ],
      "text/plain": [
       "<IPython.core.display.HTML object>"
      ]
     },
     "metadata": {},
     "output_type": "display_data"
    }
   ],
   "source": [
    "from IPython.core.display import display, HTML\n",
    "display(HTML(\"<style>.container { width:90% !important; }</style>\"))"
   ]
  },
  {
   "cell_type": "code",
   "execution_count": 105,
   "metadata": {},
   "outputs": [],
   "source": [
    "import numpy as np\n",
    "\n",
    "import sympy\n",
    "from sympy import Symbol,sqrt, symbols, oo, Derivative,diff, Matrix, print_latex, Rational, simplify\n",
    "\n",
    "import matplotlib.pyplot as plt\n",
    "\n",
    "\n",
    "import tensorflow as tf\n",
    "\n",
    "import keras\n",
    "from keras import backend as K\n",
    "from keras.engine.topology import Layer\n",
    "from keras.models import Sequential\n",
    "\n",
    "\n",
    "from keras.layers import Dense, LSTM\n",
    "\n",
    "import random\n",
    "\n",
    "from IPython.display import HTML"
   ]
  },
  {
   "cell_type": "code",
   "execution_count": 115,
   "metadata": {},
   "outputs": [],
   "source": [
    "from acchamiltoniansandmatrices.LieMaps.Poisson import PoissonBracket\n",
    "from acchamiltoniansandmatrices.MachineLearning.DeepLie_mods import LieMapBuilder, LieLayer\n",
    "from acchamiltoniansandmatrices.Hamiltonians.LatticeElementHamiltonians import (\n",
    "    HamDrift6D, \n",
    "    HamDrift4D,\n",
    "    HamDrift6DParaxialSecondOrder, \n",
    "    HamQuad6D, \n",
    "    HamQuad4D,\n",
    "    HamQuad6DParaxialSecondOrder, \n",
    "    HamQuad6DParaxialSecondOrderChroma,\n",
    "    HamSext6D\n",
    ")\n",
    "from acchamiltoniansandmatrices.Matrices.SymbMatrices import RsymbQuad4D\n",
    "from acchamiltoniansandmatrices.Matrices.NumpyMatrices import RnpQuad4D"
   ]
  },
  {
   "cell_type": "code",
   "execution_count": 4,
   "metadata": {},
   "outputs": [],
   "source": [
    "x, px, y, py, z, delta, eps, h , k0, k1, k2, sigma, betag ,f = symbols('x p_x y p_y z delta epsilon h k_0 k_1 k_2 sigma beta_gamma f', real=True)\n",
    "L, beta0, gamma0 = symbols(\" L beta_0 gamma_0\", real=True, positive=True)"
   ]
  },
  {
   "cell_type": "code",
   "execution_count": 47,
   "metadata": {},
   "outputs": [],
   "source": [
    "def drift(r,l):\n",
    "    \"\"\"\n",
    "    Drift map 4D\n",
    "    \"\"\"\n",
    "    rep = list(zip([L,x,px,y,py],[l,r[0],r[1],r[2],r[3]]))\n",
    "    \n",
    "    H = HamDrift4D(beta0,gamma0,L,x,px,y,py).subs(beta0*gamma0,oo).subs(beta0,1)\n",
    "    \n",
    "    xn = x + diff(H,px)\n",
    "    pxn = px\n",
    "    yn = y + diff(H,py)\n",
    "    pyn = py\n",
    "\n",
    "    return xn.subs(rep), pxn.subs(rep), yn.subs(rep), pyn.subs(rep)\n",
    "\n",
    "def quadf(r,l,k):\n",
    "    \"\"\"\n",
    "    Quad map 4D\n",
    "    \"\"\"\n",
    "    rep = list(zip([L,k1,x,px,y,py],[l,k,r[0],r[1],r[2],r[3]]))\n",
    "    zn = RsymbQuad4D(beta0, gamma0,L,k1)*Matrix([[x],[px],[y],[py]])\n",
    "    return zn[0].subs(rep), zn[1].subs(rep), zn[2].subs(rep), zn[3].subs(rep),"
   ]
  },
  {
   "cell_type": "code",
   "execution_count": 95,
   "metadata": {},
   "outputs": [],
   "source": [
    "def make_rhs(_ham,_coords,_mom):\n",
    "    _rhs = []\n",
    "    for coord, mom in zip(_coords,_mom):\n",
    "        _rhs.append(PoissonBracket(coord, _ham,coords=_coords,mom=_mom).doit())\n",
    "        _rhs.append(PoissonBracket(mom, _ham,coords=_coords,mom=_mom).doit())\n",
    "    \n",
    "    return _rhs"
   ]
  },
  {
   "cell_type": "code",
   "execution_count": 111,
   "metadata": {},
   "outputs": [],
   "source": [
    "def Ivanov_RK(kq1,kq2,l_d,l_qf,l_qd,_state, _order=1):\n",
    "    \n",
    "\n",
    "    exp_order = _order\n",
    "    integrator_loops = 10\n",
    "\n",
    "\n",
    "    state = np.array(_state)\n",
    "\n",
    "    drift_rhs = make_rhs(H_drift,i_coord,i_mom)\n",
    "    quadf_rhs = make_rhs(H_quad.subs(k1,kq1),i_coord,i_mom)\n",
    "    quadd_rhs = make_rhs(H_quad.subs(k1,kq2),i_coord,i_mom)\n",
    "\n",
    "\n",
    "\n",
    "    map_builder_drift = LieMapBuilder(state, drift_rhs, order=exp_order)\n",
    "    R_drift = map_builder_drift.getInitR()\n",
    "    R_drift = map_builder_drift.propogate(h=l_d/integrator_loops, N=integrator_loops, verbose=False)\n",
    "\n",
    "    map_builder_quadf = LieMapBuilder(state, quadf_rhs, order=exp_order)\n",
    "    R_quadf = map_builder_quadf.getInitR()\n",
    "    R_quadf = map_builder_quadf.propogate(h=l_qf/integrator_loops, N=integrator_loops, verbose=False)\n",
    "\n",
    "    map_builder_quadd = LieMapBuilder(state, quadd_rhs, order=exp_order)\n",
    "    R_quadd = map_builder_quadd.getInitR()\n",
    "    R_quadd = map_builder_quadd.propogate(h=l_qd/integrator_loops, N=integrator_loops, verbose=False)\n",
    "\n",
    "    W_drift_RK = map_builder_drift.convert_weights_to_full_nn(R_drift)\n",
    "    W_quadf_RK = map_builder_quadf.convert_weights_to_full_nn(R_quadf)\n",
    "    W_quadd_RK = map_builder_quadd.convert_weights_to_full_nn(R_quadd)\n",
    "\n",
    "\n",
    "\n",
    "    dim = len(state)  # predefined state vector dimension, contains physical parameters of a particle\n",
    "    order = _order # predefined order of nonlinearity, order of Lie map\n",
    "\n",
    "    \n",
    "\n",
    "    Drift_RK = LieLayer(output_dim = dim, order = order, input_shape = (dim,))\n",
    "    QuadF_RK = LieLayer(output_dim = dim, order = order, input_shape = (dim,))\n",
    "    QuadD_RK = LieLayer(output_dim = dim, order = order, input_shape = (dim,))\n",
    "\n",
    "    lattice = [QuadF_RK, Drift_RK, QuadD_RK, Drift_RK, QuadF_RK]\n",
    "\n",
    "    # simply construct a neural network (computatuonal graph)\n",
    "    fodo_RK = Sequential()\n",
    "    for el in lattice:\n",
    "        fodo_RK.add(el)\n",
    "\n",
    "    Drift_RK.set_weights(W_drift_RK)\n",
    "    QuadF_RK.set_weights(W_quadf_RK)\n",
    "    QuadD_RK.set_weights(W_quadd_RK)\n",
    "    \n",
    "    \n",
    "    W_drift_RK_corr = [W_drift_RK[0],correct_weigths(W_drift_RK[1]),W_drift_RK[2],W_drift_RK[3]]\n",
    "    W_quadf_RK_corr = [W_quadf_RK[0],correct_weigths(W_quadf_RK[1]),W_quadf_RK[2],W_quadf_RK[3]]\n",
    "    W_quadd_RK_corr = [W_quadd_RK[0],correct_weigths(W_quadd_RK[1]),W_quadd_RK[2],W_quadd_RK[3]]\n",
    "    \n",
    "    \n",
    "    printlist(W_drift_RK_corr)\n",
    "    printlist(W_quadf_RK_corr)\n",
    "    printlist(W_quadd_RK_corr)\n",
    "    \n",
    "\n",
    "    Drift_RK_corr = LieLayer(output_dim = dim, order = order, input_shape = (dim,))\n",
    "    QuadF_RK_corr = LieLayer(output_dim = dim, order = order, input_shape = (dim,))\n",
    "    QuadD_RK_corr = LieLayer(output_dim = dim, order = order, input_shape = (dim,))\n",
    "\n",
    "    lattice = [QuadF_RK_corr, Drift_RK_corr, QuadD_RK_corr, Drift_RK_corr, QuadF_RK_corr]\n",
    "\n",
    "    # simply construct a neural network (computatuonal graph)\n",
    "    fodo_RK_corr = Sequential()\n",
    "    for el in lattice:\n",
    "        fodo_RK_corr.add(el)\n",
    "\n",
    "    Drift_RK_corr.set_weights(W_drift_RK_corr)\n",
    "    QuadF_RK_corr.set_weights(W_quadf_RK_corr)\n",
    "    QuadD_RK_corr.set_weights(W_quadd_RK_corr)\n",
    "    \n",
    "    return fodo_RK, fodo_RK_corr\n"
   ]
  },
  {
   "cell_type": "code",
   "execution_count": 97,
   "metadata": {},
   "outputs": [],
   "source": [
    "def LieTracking(k1,k2,l_d,l_qf,l_qd,_order=2):\n",
    "    taylor_order = _order\n",
    "\n",
    "    H_quadf = H_quad.subs(sym_k,k1)\n",
    "    H_quadd = H_quad.subs(sym_k,k2)\n",
    "\n",
    "    L_drift = LieOperator(-l_d * H_drift,i_coord,i_mom)\n",
    "    L_quadf = LieOperator(-l_qf * H_quadf,i_coord,i_mom)\n",
    "    L_quadd = LieOperator(-l_qd * H_quadd,i_coord,i_mom)\n",
    "\n",
    "\n",
    "    taylor_drift = taylorize(L_drift,taylor_order)\n",
    "\n",
    "    taylor_quadf = taylorize(L_quadf,taylor_order)\n",
    "\n",
    "    taylor_quadd = taylorize(L_quadd,taylor_order)\n",
    "    \n",
    "    print(taylor_drift)\n",
    "    print(taylor_quadf)\n",
    "    print(taylor_quadd)\n",
    "    \n",
    "    nn_drift = taylor_to_weight_mat(taylor_drift)\n",
    "    nn_quadf = taylor_to_weight_mat(taylor_quadf)\n",
    "    nn_quadd = taylor_to_weight_mat(taylor_quadd)\n",
    "\n",
    "\n",
    "    \n",
    "#     corr_drift = correct_weights(M_taylor_drift[0])\n",
    "    corr_qf = correct_weigths(nn_quadf[0])\n",
    "    corr_qd = correct_weigths(nn_quadd[0])\n",
    "    \n",
    "    disp = np.array([[0,0,0,0]])\n",
    "\n",
    "\n",
    "    W_drift_Lie = [disp] + nn_drift\n",
    "    W_quadf_Lie = [disp] + nn_quadf\n",
    "    W_quadd_Lie = [disp] + nn_quadd\n",
    "    \n",
    "    \n",
    "    W_drift_Lie_corr = [disp] + nn_drift\n",
    "    W_quadf_Lie_corr = [disp] + [corr_qf]\n",
    "    W_quadd_Lie_corr = [disp] + [corr_qd]\n",
    "\n",
    "\n",
    "    printlist(W_drift_Lie_corr)\n",
    "    printlist(W_quadf_Lie_corr)\n",
    "    printlist(W_quadd_Lie_corr)\n",
    "\n",
    "\n",
    "    dim = len(tot_coords)\n",
    "\n",
    "\n",
    "    # e.g. QFA helps focusing particle in radial direction, and QDA in vertical one\n",
    "    Drift_Lie = LieLayer(output_dim = dim, order = len(nn_drift), input_shape = (dim,))\n",
    "    QuadF_Lie = LieLayer(output_dim = dim, order = len(nn_quadf), input_shape = (dim,))\n",
    "    QuadD_Lie = LieLayer(output_dim = dim, order = len(nn_quadd), input_shape = (dim,))\n",
    "\n",
    "    lattice = [QuadF_Lie, Drift_Lie, QuadD_Lie, Drift_Lie, QuadF_Lie]\n",
    "\n",
    "    # simply construct a neural network (computatuonal graph)\n",
    "    fodo_Lie = Sequential()\n",
    "    for el in lattice:\n",
    "        fodo_Lie.add(el)\n",
    "\n",
    "    Drift_Lie.set_weights(W_drift_Lie)\n",
    "    QuadF_Lie.set_weights(W_quadf_Lie)\n",
    "    QuadD_Lie.set_weights(W_quadd_Lie)\n",
    "    \n",
    "    \n",
    "\n",
    "    Drift_Lie_corr = LieLayer(output_dim = dim, order = len(nn_drift), input_shape = (dim,))\n",
    "    QuadF_Lie_corr = LieLayer(output_dim = dim, order = len(nn_quadf), input_shape = (dim,))\n",
    "    QuadD_Lie_corr = LieLayer(output_dim = dim, order = len(nn_quadd), input_shape = (dim,))\n",
    "\n",
    "    lattice = [QuadF_Lie_corr, Drift_Lie_corr, QuadD_Lie_corr, Drift_Lie_corr, QuadF_Lie_corr]\n",
    "\n",
    "    # simply construct a neural network (computatuonal graph)\n",
    "    fodo_Lie_corr = Sequential()\n",
    "    for el in lattice:\n",
    "        fodo_Lie_corr.add(el)\n",
    "\n",
    "    Drift_Lie_corr.set_weights(W_drift_Lie_corr)\n",
    "    QuadF_Lie_corr.set_weights(W_quadf_Lie_corr)\n",
    "    QuadD_Lie_corr.set_weights(W_quadd_Lie_corr)\n",
    "    \n",
    "    return fodo_Lie, fodo_Lie_corr\n",
    "\n",
    "def correct_weigths(M):\n",
    "    m11 = M[0,0]\n",
    "    m12 = M[0,1]\n",
    "    m21 = M[1,0]\n",
    "    m22 = M[1,1]\n",
    "    \n",
    "    error = np.linalg.norm(np.dot(M.T,np.dot(J,M)) - J)\n",
    "    \n",
    "    \n",
    "                           \n",
    "    \n",
    "    if m11*m22 - m12*m21 != 1:\n",
    "        print('Symplectic error: ', error)\n",
    "        if m11 != 0:\n",
    "            m22 = (1+m12*m21)/m11\n",
    "        elif m21 != 0:\n",
    "            m12 = (1-m11*m22)/m21\n",
    "        elif m12 != 0:\n",
    "            m21 = (1-m11*m22)/m12\n",
    "        else:\n",
    "            m11 = 1/m22\n",
    "    else:\n",
    "        print(\"The upper sub-matrix is symplectic.\")\n",
    "        \n",
    "    m33 = M[2,2]\n",
    "    m34 = M[2,3]\n",
    "    m43 = M[3,2]\n",
    "    m44 = M[3,3]\n",
    "    \n",
    "    if m33*m44 - m34*m43 != 1:\n",
    "        if m33 != 0:\n",
    "            m44 = (1+m34*m43)/m33\n",
    "        elif m43 != 0:\n",
    "            m34 = (1-m33*m44)/m43\n",
    "        elif m43 != 0:\n",
    "            m34 = (1-m33*m44)/m43\n",
    "        else:\n",
    "            m33 = 1/m44\n",
    "    else:\n",
    "        print(\"The lower sub-matrix is symplectic.\")\n",
    "    \n",
    "    return np.array([[m11,m12,0,0],[m21,m22,0,0],[0,0,m33,m34],[0,0,m43,m44]])\n",
    "\n",
    "def TrackFodo(r0,duration=100):\n",
    "    X_RK = []\n",
    "    X_Lie = []\n",
    "    X_Lie_corr = []\n",
    "    X_RK_corr = []\n",
    "\n",
    "    X_Exact = []\n",
    "\n",
    "\n",
    "\n",
    "    for pos in r0:\n",
    "        X0 = np.array(pos).reshape((-1, 4))\n",
    "        X_RK.append(X0)\n",
    "        X_Lie.append(X0)\n",
    "        X_Lie_corr.append(X0)\n",
    "        X_RK_corr.append(X0)\n",
    "\n",
    "        pos = np.array(pos)\n",
    "        X_Exact.append(pos)\n",
    "\n",
    "        for i in range(duration): \n",
    "            X_RK.append(fodo_RK.predict(X_RK[-1]))\n",
    "            X_Lie.append(fodo_Lie.predict(X_Lie[-1]))\n",
    "            X_Lie_corr.append(fodo_Lie_corr.predict(X_Lie_corr[-1]))\n",
    "            X_RK_corr.append(fodo_RK_corr.predict(X_RK_corr[-1]))\n",
    "\n",
    "            r = quadf(pos,_lqf,_k1)\n",
    "            r = drift(r,_ld)\n",
    "            r = quadff(r,_lqd,_k2)\n",
    "            r = drift(r,_ld)\n",
    "            r = quadf(r,_lqf,_k1)\n",
    "            \n",
    "            \n",
    "            X_Exact.append(r)\n",
    "            pos = np.copy(r)\n",
    "            \n",
    "    X_RK = np.array(X_RK)\n",
    "    X_Lie = np.array(X_Lie)\n",
    "    X_Lie_corr = np.array(X_Lie_corr)\n",
    "    X_RK_corr = np.array(X_RK_corr)\n",
    "    X_Exact = np.array(X_Exact)\n",
    "    \n",
    "    return X_RK, X_Lie, X_Exact, X_Lie_corr, X_RK_corr"
   ]
  },
  {
   "cell_type": "markdown",
   "metadata": {},
   "source": [
    "# Approximations"
   ]
  },
  {
   "cell_type": "code",
   "execution_count": null,
   "metadata": {},
   "outputs": [],
   "source": []
  },
  {
   "cell_type": "markdown",
   "metadata": {},
   "source": [
    "The first approximations we will make are\n",
    "$$\\frac{1}{\\beta_0^2\\gamma_0^2} \\rightarrow 0 \\\\\n",
    "\\beta_0 \\rightarrow 1,\n",
    "$$\n",
    "in that order."
   ]
  },
  {
   "cell_type": "code",
   "execution_count": 90,
   "metadata": {},
   "outputs": [],
   "source": [
    "# substitution lists\n",
    "repbg  = list(zip([beta0*gamma0, beta0],[oo,1]))\n",
    "repeps = list(zip([x,px,y,py],[eps*x,eps*px,y*eps,py*eps]))"
   ]
  },
  {
   "cell_type": "code",
   "execution_count": 91,
   "metadata": {},
   "outputs": [
    {
     "data": {
      "text/latex": [
       "$\\displaystyle L \\delta + \\frac{L p_{x}^{2}}{2 \\sqrt{\\delta^{2} + 2 \\delta + 1}} + \\frac{L p_{y}^{2}}{2 \\sqrt{\\delta^{2} + 2 \\delta + 1}} - L \\sqrt{\\delta^{2} + 2 \\delta + 1}$"
      ],
      "text/plain": [
       "L*delta + L*p_x**2/(2*sqrt(delta**2 + 2*delta + 1)) + L*p_y**2/(2*sqrt(delta**2 + 2*delta + 1)) - L*sqrt(delta**2 + 2*delta + 1)"
      ]
     },
     "execution_count": 91,
     "metadata": {},
     "output_type": "execute_result"
    }
   ],
   "source": [
    "# Drift first order\n",
    "HamDrift6D(beta0,gamma0,L,x,px,y,py,delta).subs(repbg).subs(repeps).series(eps,0,4).removeO().subs(eps,1).expand().collect(1)"
   ]
  },
  {
   "cell_type": "code",
   "execution_count": 92,
   "metadata": {},
   "outputs": [
    {
     "data": {
      "text/latex": [
       "$\\displaystyle L \\delta + \\frac{L p_{x}^{4} \\sqrt{\\delta^{2} + 2 \\delta + 1}}{8 \\left(\\delta^{4} + 4 \\delta^{3} + 6 \\delta^{2} + 4 \\delta + 1\\right)} + \\frac{L p_{x}^{2} p_{y}^{2} \\sqrt{\\delta^{2} + 2 \\delta + 1}}{4 \\left(\\delta^{4} + 4 \\delta^{3} + 6 \\delta^{2} + 4 \\delta + 1\\right)} + \\frac{L p_{x}^{2}}{2 \\sqrt{\\delta^{2} + 2 \\delta + 1}} + \\frac{L p_{y}^{4} \\sqrt{\\delta^{2} + 2 \\delta + 1}}{8 \\left(\\delta^{4} + 4 \\delta^{3} + 6 \\delta^{2} + 4 \\delta + 1\\right)} + \\frac{L p_{y}^{2}}{2 \\sqrt{\\delta^{2} + 2 \\delta + 1}} - L \\sqrt{\\delta^{2} + 2 \\delta + 1}$"
      ],
      "text/plain": [
       "L*delta + L*p_x**4*sqrt(delta**2 + 2*delta + 1)/(8*(delta**4 + 4*delta**3 + 6*delta**2 + 4*delta + 1)) + L*p_x**2*p_y**2*sqrt(delta**2 + 2*delta + 1)/(4*(delta**4 + 4*delta**3 + 6*delta**2 + 4*delta + 1)) + L*p_x**2/(2*sqrt(delta**2 + 2*delta + 1)) + L*p_y**4*sqrt(delta**2 + 2*delta + 1)/(8*(delta**4 + 4*delta**3 + 6*delta**2 + 4*delta + 1)) + L*p_y**2/(2*sqrt(delta**2 + 2*delta + 1)) - L*sqrt(delta**2 + 2*delta + 1)"
      ]
     },
     "execution_count": 92,
     "metadata": {},
     "output_type": "execute_result"
    }
   ],
   "source": [
    "# Drift second order\n",
    "HamDrift6D(beta0,gamma0,L,x,px,y,py,delta).subs(repbg).subs(repeps).series(eps,0,6).removeO().subs(eps,1).expand().collect(1)"
   ]
  },
  {
   "cell_type": "code",
   "execution_count": 93,
   "metadata": {},
   "outputs": [
    {
     "data": {
      "text/latex": [
       "$\\displaystyle L \\delta + \\frac{L p_{x}^{6} \\sqrt{\\delta^{2} + 2 \\delta + 1}}{16 \\left(\\delta^{6} + 6 \\delta^{5} + 15 \\delta^{4} + 20 \\delta^{3} + 15 \\delta^{2} + 6 \\delta + 1\\right)} + \\frac{3 L p_{x}^{4} p_{y}^{2} \\sqrt{\\delta^{2} + 2 \\delta + 1}}{16 \\left(\\delta^{6} + 6 \\delta^{5} + 15 \\delta^{4} + 20 \\delta^{3} + 15 \\delta^{2} + 6 \\delta + 1\\right)} + \\frac{L p_{x}^{4} \\sqrt{\\delta^{2} + 2 \\delta + 1}}{8 \\left(\\delta^{4} + 4 \\delta^{3} + 6 \\delta^{2} + 4 \\delta + 1\\right)} + \\frac{3 L p_{x}^{2} p_{y}^{4} \\sqrt{\\delta^{2} + 2 \\delta + 1}}{16 \\left(\\delta^{6} + 6 \\delta^{5} + 15 \\delta^{4} + 20 \\delta^{3} + 15 \\delta^{2} + 6 \\delta + 1\\right)} + \\frac{L p_{x}^{2} p_{y}^{2} \\sqrt{\\delta^{2} + 2 \\delta + 1}}{4 \\left(\\delta^{4} + 4 \\delta^{3} + 6 \\delta^{2} + 4 \\delta + 1\\right)} + \\frac{L p_{x}^{2}}{2 \\sqrt{\\delta^{2} + 2 \\delta + 1}} + \\frac{L p_{y}^{6} \\sqrt{\\delta^{2} + 2 \\delta + 1}}{16 \\left(\\delta^{6} + 6 \\delta^{5} + 15 \\delta^{4} + 20 \\delta^{3} + 15 \\delta^{2} + 6 \\delta + 1\\right)} + \\frac{L p_{y}^{4} \\sqrt{\\delta^{2} + 2 \\delta + 1}}{8 \\left(\\delta^{4} + 4 \\delta^{3} + 6 \\delta^{2} + 4 \\delta + 1\\right)} + \\frac{L p_{y}^{2}}{2 \\sqrt{\\delta^{2} + 2 \\delta + 1}} - L \\sqrt{\\delta^{2} + 2 \\delta + 1}$"
      ],
      "text/plain": [
       "L*delta + L*p_x**6*sqrt(delta**2 + 2*delta + 1)/(16*(delta**6 + 6*delta**5 + 15*delta**4 + 20*delta**3 + 15*delta**2 + 6*delta + 1)) + 3*L*p_x**4*p_y**2*sqrt(delta**2 + 2*delta + 1)/(16*(delta**6 + 6*delta**5 + 15*delta**4 + 20*delta**3 + 15*delta**2 + 6*delta + 1)) + L*p_x**4*sqrt(delta**2 + 2*delta + 1)/(8*(delta**4 + 4*delta**3 + 6*delta**2 + 4*delta + 1)) + 3*L*p_x**2*p_y**4*sqrt(delta**2 + 2*delta + 1)/(16*(delta**6 + 6*delta**5 + 15*delta**4 + 20*delta**3 + 15*delta**2 + 6*delta + 1)) + L*p_x**2*p_y**2*sqrt(delta**2 + 2*delta + 1)/(4*(delta**4 + 4*delta**3 + 6*delta**2 + 4*delta + 1)) + L*p_x**2/(2*sqrt(delta**2 + 2*delta + 1)) + L*p_y**6*sqrt(delta**2 + 2*delta + 1)/(16*(delta**6 + 6*delta**5 + 15*delta**4 + 20*delta**3 + 15*delta**2 + 6*delta + 1)) + L*p_y**4*sqrt(delta**2 + 2*delta + 1)/(8*(delta**4 + 4*delta**3 + 6*delta**2 + 4*delta + 1)) + L*p_y**2/(2*sqrt(delta**2 + 2*delta + 1)) - L*sqrt(delta**2 + 2*delta + 1)"
      ]
     },
     "execution_count": 93,
     "metadata": {},
     "output_type": "execute_result"
    }
   ],
   "source": [
    "# Drift third order\n",
    "HamDrift6D(beta0,gamma0,L,x,px,y,py,delta).subs(repbg).subs(repeps).series(eps,0,8).removeO().subs(eps,1).expand().collect(1)"
   ]
  },
  {
   "cell_type": "code",
   "execution_count": 89,
   "metadata": {},
   "outputs": [
    {
     "data": {
      "text/latex": [
       "$\\displaystyle L \\left(\\frac{k_{1} \\left(x^{2} - y^{2}\\right)}{2} + \\frac{p_{x}^{2}}{2} + \\frac{p_{y}^{2}}{2}\\right)$"
      ],
      "text/plain": [
       "L*(k_1*(x**2 - y**2)/2 + p_x**2/2 + p_y**2/2)"
      ]
     },
     "execution_count": 89,
     "metadata": {},
     "output_type": "execute_result"
    }
   ],
   "source": [
    "HamQuad6DParaxialSecondOrder(beta0,gamma0,L,x,px,y,py,delta,k1).subs(delta,0).collect(k1/2)"
   ]
  },
  {
   "cell_type": "code",
   "execution_count": 107,
   "metadata": {},
   "outputs": [
    {
     "data": {
      "text/latex": [
       "$\\displaystyle \\frac{p_{x}^{4}}{8} + \\frac{p_{x}^{2} p_{y}^{2}}{4} + \\frac{p_{x}^{2}}{2} + \\frac{p_{y}^{4}}{8} + \\frac{p_{y}^{2}}{2} - 1$"
      ],
      "text/plain": [
       "p_x**4/8 + p_x**2*p_y**2/4 + p_x**2/2 + p_y**4/8 + p_y**2/2 - 1"
      ]
     },
     "execution_count": 107,
     "metadata": {},
     "output_type": "execute_result"
    }
   ],
   "source": [
    "H_drift = simplify(HamDrift4D(beta0,gamma0,L,x,px,y,py).subs(repbg).subs(repeps).series(eps,0,6).removeO().subs(eps,1)/L)\n",
    "H_drift"
   ]
  },
  {
   "cell_type": "code",
   "execution_count": 108,
   "metadata": {},
   "outputs": [
    {
     "data": {
      "text/latex": [
       "$\\displaystyle \\frac{k_{1} \\left(x^{2} - y^{2}\\right)}{2} + \\frac{p_{x}^{2}}{2} + \\frac{p_{y}^{2}}{2}$"
      ],
      "text/plain": [
       "k_1*(x**2 - y**2)/2 + p_x**2/2 + p_y**2/2"
      ]
     },
     "execution_count": 108,
     "metadata": {},
     "output_type": "execute_result"
    }
   ],
   "source": [
    "H_quad = simplify(HamQuad6DParaxialSecondOrder(beta0,gamma0,L,x,px,y,py,delta,k1).subs(delta,0).collect(k1/2)/L)\n",
    "H_quad"
   ]
  },
  {
   "cell_type": "markdown",
   "metadata": {},
   "source": [
    "# FODO: Runge-Kutta integrator vs exact drift"
   ]
  },
  {
   "cell_type": "code",
   "execution_count": 94,
   "metadata": {},
   "outputs": [],
   "source": [
    "# sympletic\n",
    "J = np.array([[0,1,0,0],[-1,0,0,0],[0,0,0,1],[0,0,-1,0]])"
   ]
  },
  {
   "cell_type": "code",
   "execution_count": 109,
   "metadata": {},
   "outputs": [],
   "source": [
    "_k1 = 0.5\n",
    "_k2 = -0.5\n",
    "delta = 0\n",
    "\n",
    "_ld = 2.5\n",
    "_lqf = 0.25\n",
    "_lqd = 0.5\n",
    "\n",
    "_r0 = [[10e-7,0,10e-7,0],\n",
    "       [10e-4,0,10e-4,0],\n",
    "       [0.1,0,0.1,0],\n",
    "       [0.25,0,0.25,0],\n",
    "       [0.5,0,0.5,0],\n",
    "       [1,0,1,0],\n",
    "       [2,0,2,0]]\n",
    "\n",
    "i_coord = [x,y]\n",
    "i_mom = [px,py]\n",
    "invector = [x,px,y,py]"
   ]
  },
  {
   "cell_type": "code",
   "execution_count": 116,
   "metadata": {},
   "outputs": [
    {
     "name": "stdout",
     "output_type": "stream",
     "text": [
      "[x p_x y p_y]\n",
      "[p_x**3/2 + p_x*p_y**2/2 + p_x, 0, p_x**2*p_y/2 + p_y**3/2 + p_y, 0]\n",
      "[x p_x y p_y]\n",
      "[p_x, -0.5*x, p_y, 0.5*y]\n",
      "[x p_x y p_y]\n",
      "[p_x, 0.5*x, p_y, -0.5*y]\n"
     ]
    },
    {
     "ename": "AttributeError",
     "evalue": "Can't set the attribute \"trainable_weights\", likely because it conflicts with an existing read-only @property of the object. Please choose a different name.",
     "output_type": "error",
     "traceback": [
      "\u001b[0;31m-----------------------------------------\u001b[0m",
      "\u001b[0;31mAttributeError\u001b[0mTraceback (most recent call last)",
      "\u001b[0;32m~/.local/lib/python3.6/site-packages/tensorflow/python/keras/engine/base_layer.py\u001b[0m in \u001b[0;36m__setattr__\u001b[0;34m(self, name, value)\u001b[0m\n\u001b[1;32m   2761\u001b[0m       \u001b[0;32mtry\u001b[0m\u001b[0;34m:\u001b[0m\u001b[0;34m\u001b[0m\u001b[0;34m\u001b[0m\u001b[0m\n\u001b[0;32m-> 2762\u001b[0;31m         \u001b[0msuper\u001b[0m\u001b[0;34m(\u001b[0m\u001b[0mtracking\u001b[0m\u001b[0;34m.\u001b[0m\u001b[0mAutoTrackable\u001b[0m\u001b[0;34m,\u001b[0m \u001b[0mself\u001b[0m\u001b[0;34m)\u001b[0m\u001b[0;34m.\u001b[0m\u001b[0m__setattr__\u001b[0m\u001b[0;34m(\u001b[0m\u001b[0mname\u001b[0m\u001b[0;34m,\u001b[0m \u001b[0mvalue\u001b[0m\u001b[0;34m)\u001b[0m\u001b[0;34m\u001b[0m\u001b[0;34m\u001b[0m\u001b[0m\n\u001b[0m\u001b[1;32m   2763\u001b[0m       \u001b[0;32mexcept\u001b[0m \u001b[0mAttributeError\u001b[0m\u001b[0;34m:\u001b[0m\u001b[0;34m\u001b[0m\u001b[0;34m\u001b[0m\u001b[0m\n",
      "\u001b[0;31mAttributeError\u001b[0m: can't set attribute",
      "\nDuring handling of the above exception, another exception occurred:\n",
      "\u001b[0;31mAttributeError\u001b[0mTraceback (most recent call last)",
      "\u001b[0;32m<ipython-input-116-00944ae23d75>\u001b[0m in \u001b[0;36m<module>\u001b[0;34m\u001b[0m\n\u001b[0;32m----> 1\u001b[0;31m \u001b[0mfodo_RK\u001b[0m\u001b[0;34m,\u001b[0m \u001b[0mfodo_RK_corr\u001b[0m \u001b[0;34m=\u001b[0m \u001b[0mIvanov_RK\u001b[0m\u001b[0;34m(\u001b[0m\u001b[0m_k1\u001b[0m\u001b[0;34m,\u001b[0m\u001b[0m_k2\u001b[0m\u001b[0;34m,\u001b[0m\u001b[0m_ld\u001b[0m\u001b[0;34m,\u001b[0m\u001b[0m_lqf\u001b[0m\u001b[0;34m,\u001b[0m\u001b[0m_lqd\u001b[0m\u001b[0;34m,\u001b[0m\u001b[0minvector\u001b[0m\u001b[0;34m,\u001b[0m\u001b[0m_order\u001b[0m\u001b[0;34m=\u001b[0m\u001b[0;36m3\u001b[0m\u001b[0;34m)\u001b[0m\u001b[0;34m\u001b[0m\u001b[0;34m\u001b[0m\u001b[0m\n\u001b[0m\u001b[1;32m      2\u001b[0m \u001b[0mfodo_Lie\u001b[0m\u001b[0;34m,\u001b[0m \u001b[0mfodo_Lie_corr\u001b[0m \u001b[0;34m=\u001b[0m \u001b[0mLieTracking\u001b[0m\u001b[0;34m(\u001b[0m\u001b[0m_k1\u001b[0m\u001b[0;34m,\u001b[0m\u001b[0m_k2\u001b[0m\u001b[0;34m,\u001b[0m\u001b[0m_ld\u001b[0m\u001b[0;34m,\u001b[0m\u001b[0m_lqf\u001b[0m\u001b[0;34m,\u001b[0m\u001b[0m_lqd\u001b[0m\u001b[0;34m,\u001b[0m\u001b[0m_order\u001b[0m\u001b[0;34m=\u001b[0m\u001b[0;36m4\u001b[0m\u001b[0;34m)\u001b[0m\u001b[0;34m\u001b[0m\u001b[0;34m\u001b[0m\u001b[0m\n",
      "\u001b[0;32m<ipython-input-111-12eb26086193>\u001b[0m in \u001b[0;36mIvanov_RK\u001b[0;34m(kq1, kq2, l_d, l_qf, l_qd, _state, _order)\u001b[0m\n\u001b[1;32m     46\u001b[0m     \u001b[0mfodo_RK\u001b[0m \u001b[0;34m=\u001b[0m \u001b[0mSequential\u001b[0m\u001b[0;34m(\u001b[0m\u001b[0;34m)\u001b[0m\u001b[0;34m\u001b[0m\u001b[0;34m\u001b[0m\u001b[0m\n\u001b[1;32m     47\u001b[0m     \u001b[0;32mfor\u001b[0m \u001b[0mel\u001b[0m \u001b[0;32min\u001b[0m \u001b[0mlattice\u001b[0m\u001b[0;34m:\u001b[0m\u001b[0;34m\u001b[0m\u001b[0;34m\u001b[0m\u001b[0m\n\u001b[0;32m---> 48\u001b[0;31m         \u001b[0mfodo_RK\u001b[0m\u001b[0;34m.\u001b[0m\u001b[0madd\u001b[0m\u001b[0;34m(\u001b[0m\u001b[0mel\u001b[0m\u001b[0;34m)\u001b[0m\u001b[0;34m\u001b[0m\u001b[0;34m\u001b[0m\u001b[0m\n\u001b[0m\u001b[1;32m     49\u001b[0m \u001b[0;34m\u001b[0m\u001b[0m\n\u001b[1;32m     50\u001b[0m     \u001b[0mDrift_RK\u001b[0m\u001b[0;34m.\u001b[0m\u001b[0mset_weights\u001b[0m\u001b[0;34m(\u001b[0m\u001b[0mW_drift_RK\u001b[0m\u001b[0;34m)\u001b[0m\u001b[0;34m\u001b[0m\u001b[0;34m\u001b[0m\u001b[0m\n",
      "\u001b[0;32m~/.local/lib/python3.6/site-packages/tensorflow/python/training/tracking/base.py\u001b[0m in \u001b[0;36m_method_wrapper\u001b[0;34m(self, *args, **kwargs)\u001b[0m\n\u001b[1;32m    455\u001b[0m     \u001b[0mself\u001b[0m\u001b[0;34m.\u001b[0m\u001b[0m_self_setattr_tracking\u001b[0m \u001b[0;34m=\u001b[0m \u001b[0;32mFalse\u001b[0m  \u001b[0;31m# pylint: disable=protected-access\u001b[0m\u001b[0;34m\u001b[0m\u001b[0;34m\u001b[0m\u001b[0m\n\u001b[1;32m    456\u001b[0m     \u001b[0;32mtry\u001b[0m\u001b[0;34m:\u001b[0m\u001b[0;34m\u001b[0m\u001b[0;34m\u001b[0m\u001b[0m\n\u001b[0;32m--> 457\u001b[0;31m       \u001b[0mresult\u001b[0m \u001b[0;34m=\u001b[0m \u001b[0mmethod\u001b[0m\u001b[0;34m(\u001b[0m\u001b[0mself\u001b[0m\u001b[0;34m,\u001b[0m \u001b[0;34m*\u001b[0m\u001b[0margs\u001b[0m\u001b[0;34m,\u001b[0m \u001b[0;34m**\u001b[0m\u001b[0mkwargs\u001b[0m\u001b[0;34m)\u001b[0m\u001b[0;34m\u001b[0m\u001b[0;34m\u001b[0m\u001b[0m\n\u001b[0m\u001b[1;32m    458\u001b[0m     \u001b[0;32mfinally\u001b[0m\u001b[0;34m:\u001b[0m\u001b[0;34m\u001b[0m\u001b[0;34m\u001b[0m\u001b[0m\n\u001b[1;32m    459\u001b[0m       \u001b[0mself\u001b[0m\u001b[0;34m.\u001b[0m\u001b[0m_self_setattr_tracking\u001b[0m \u001b[0;34m=\u001b[0m \u001b[0mprevious_value\u001b[0m  \u001b[0;31m# pylint: disable=protected-access\u001b[0m\u001b[0;34m\u001b[0m\u001b[0;34m\u001b[0m\u001b[0m\n",
      "\u001b[0;32m~/.local/lib/python3.6/site-packages/tensorflow/python/keras/engine/sequential.py\u001b[0m in \u001b[0;36madd\u001b[0;34m(self, layer)\u001b[0m\n\u001b[1;32m    204\u001b[0m           \u001b[0;31m# and create the node connecting the current layer\u001b[0m\u001b[0;34m\u001b[0m\u001b[0;34m\u001b[0m\u001b[0;34m\u001b[0m\u001b[0m\n\u001b[1;32m    205\u001b[0m           \u001b[0;31m# to the input layer we just created.\u001b[0m\u001b[0;34m\u001b[0m\u001b[0;34m\u001b[0m\u001b[0;34m\u001b[0m\u001b[0m\n\u001b[0;32m--> 206\u001b[0;31m           \u001b[0mlayer\u001b[0m\u001b[0;34m(\u001b[0m\u001b[0mx\u001b[0m\u001b[0;34m)\u001b[0m\u001b[0;34m\u001b[0m\u001b[0;34m\u001b[0m\u001b[0m\n\u001b[0m\u001b[1;32m    207\u001b[0m           \u001b[0mset_inputs\u001b[0m \u001b[0;34m=\u001b[0m \u001b[0;32mTrue\u001b[0m\u001b[0;34m\u001b[0m\u001b[0;34m\u001b[0m\u001b[0m\n\u001b[1;32m    208\u001b[0m \u001b[0;34m\u001b[0m\u001b[0m\n",
      "\u001b[0;32m~/.local/lib/python3.6/site-packages/tensorflow/python/keras/engine/base_layer.py\u001b[0m in \u001b[0;36m__call__\u001b[0;34m(self, *args, **kwargs)\u001b[0m\n\u001b[1;32m    924\u001b[0m     \u001b[0;32mif\u001b[0m \u001b[0m_in_functional_construction_mode\u001b[0m\u001b[0;34m(\u001b[0m\u001b[0mself\u001b[0m\u001b[0;34m,\u001b[0m \u001b[0minputs\u001b[0m\u001b[0;34m,\u001b[0m \u001b[0margs\u001b[0m\u001b[0;34m,\u001b[0m \u001b[0mkwargs\u001b[0m\u001b[0;34m,\u001b[0m \u001b[0minput_list\u001b[0m\u001b[0;34m)\u001b[0m\u001b[0;34m:\u001b[0m\u001b[0;34m\u001b[0m\u001b[0;34m\u001b[0m\u001b[0m\n\u001b[1;32m    925\u001b[0m       return self._functional_construction_call(inputs, args, kwargs,\n\u001b[0;32m--> 926\u001b[0;31m                                                 input_list)\n\u001b[0m\u001b[1;32m    927\u001b[0m \u001b[0;34m\u001b[0m\u001b[0m\n\u001b[1;32m    928\u001b[0m     \u001b[0;31m# Maintains info about the `Layer.call` stack.\u001b[0m\u001b[0;34m\u001b[0m\u001b[0;34m\u001b[0m\u001b[0;34m\u001b[0m\u001b[0m\n",
      "\u001b[0;32m~/.local/lib/python3.6/site-packages/tensorflow/python/keras/engine/base_layer.py\u001b[0m in \u001b[0;36m_functional_construction_call\u001b[0;34m(self, inputs, args, kwargs, input_list)\u001b[0m\n\u001b[1;32m   1096\u001b[0m         \u001b[0;31m# Build layer if applicable (if the `build` method has been\u001b[0m\u001b[0;34m\u001b[0m\u001b[0;34m\u001b[0m\u001b[0;34m\u001b[0m\u001b[0m\n\u001b[1;32m   1097\u001b[0m         \u001b[0;31m# overridden).\u001b[0m\u001b[0;34m\u001b[0m\u001b[0;34m\u001b[0m\u001b[0;34m\u001b[0m\u001b[0m\n\u001b[0;32m-> 1098\u001b[0;31m         \u001b[0mself\u001b[0m\u001b[0;34m.\u001b[0m\u001b[0m_maybe_build\u001b[0m\u001b[0;34m(\u001b[0m\u001b[0minputs\u001b[0m\u001b[0;34m)\u001b[0m\u001b[0;34m\u001b[0m\u001b[0;34m\u001b[0m\u001b[0m\n\u001b[0m\u001b[1;32m   1099\u001b[0m         \u001b[0mcast_inputs\u001b[0m \u001b[0;34m=\u001b[0m \u001b[0mself\u001b[0m\u001b[0;34m.\u001b[0m\u001b[0m_maybe_cast_inputs\u001b[0m\u001b[0;34m(\u001b[0m\u001b[0minputs\u001b[0m\u001b[0;34m,\u001b[0m \u001b[0minput_list\u001b[0m\u001b[0;34m)\u001b[0m\u001b[0;34m\u001b[0m\u001b[0;34m\u001b[0m\u001b[0m\n\u001b[1;32m   1100\u001b[0m \u001b[0;34m\u001b[0m\u001b[0m\n",
      "\u001b[0;32m~/.local/lib/python3.6/site-packages/tensorflow/python/keras/engine/base_layer.py\u001b[0m in \u001b[0;36m_maybe_build\u001b[0;34m(self, inputs)\u001b[0m\n\u001b[1;32m   2641\u001b[0m         \u001b[0;31m# operations.\u001b[0m\u001b[0;34m\u001b[0m\u001b[0;34m\u001b[0m\u001b[0;34m\u001b[0m\u001b[0m\n\u001b[1;32m   2642\u001b[0m         \u001b[0;32mwith\u001b[0m \u001b[0mtf_utils\u001b[0m\u001b[0;34m.\u001b[0m\u001b[0mmaybe_init_scope\u001b[0m\u001b[0;34m(\u001b[0m\u001b[0mself\u001b[0m\u001b[0;34m)\u001b[0m\u001b[0;34m:\u001b[0m\u001b[0;34m\u001b[0m\u001b[0;34m\u001b[0m\u001b[0m\n\u001b[0;32m-> 2643\u001b[0;31m           \u001b[0mself\u001b[0m\u001b[0;34m.\u001b[0m\u001b[0mbuild\u001b[0m\u001b[0;34m(\u001b[0m\u001b[0minput_shapes\u001b[0m\u001b[0;34m)\u001b[0m  \u001b[0;31m# pylint:disable=not-callable\u001b[0m\u001b[0;34m\u001b[0m\u001b[0;34m\u001b[0m\u001b[0m\n\u001b[0m\u001b[1;32m   2644\u001b[0m       \u001b[0;31m# We must set also ensure that the layer is marked as built, and the build\u001b[0m\u001b[0;34m\u001b[0m\u001b[0;34m\u001b[0m\u001b[0;34m\u001b[0m\u001b[0m\n\u001b[1;32m   2645\u001b[0m       \u001b[0;31m# shape is stored since user defined build functions may not be calling\u001b[0m\u001b[0;34m\u001b[0m\u001b[0;34m\u001b[0m\u001b[0;34m\u001b[0m\u001b[0m\n",
      "\u001b[0;32m~/github-tomerten/acchamiltoniansandmatrices/acchamiltoniansandmatrices/MachineLearning/DeepLie_mods.py\u001b[0m in \u001b[0;36mbuild\u001b[0;34m(self, input_shape)\u001b[0m\n\u001b[1;32m    159\u001b[0m \u001b[0;34m\u001b[0m\u001b[0m\n\u001b[1;32m    160\u001b[0m         \u001b[0mself\u001b[0m\u001b[0;34m.\u001b[0m\u001b[0mW\u001b[0m\u001b[0;34m[\u001b[0m\u001b[0;36m1\u001b[0m\u001b[0;34m]\u001b[0m \u001b[0;34m=\u001b[0m \u001b[0mK\u001b[0m\u001b[0;34m.\u001b[0m\u001b[0mvariable\u001b[0m\u001b[0;34m(\u001b[0m\u001b[0mnp\u001b[0m\u001b[0;34m.\u001b[0m\u001b[0meye\u001b[0m\u001b[0;34m(\u001b[0m\u001b[0mN\u001b[0m\u001b[0;34m=\u001b[0m\u001b[0minput_dim\u001b[0m\u001b[0;34m,\u001b[0m \u001b[0mM\u001b[0m\u001b[0;34m=\u001b[0m\u001b[0mself\u001b[0m\u001b[0;34m.\u001b[0m\u001b[0moutput_dim\u001b[0m\u001b[0;34m)\u001b[0m\u001b[0;34m)\u001b[0m\u001b[0;34m\u001b[0m\u001b[0;34m\u001b[0m\u001b[0m\n\u001b[0;32m--> 161\u001b[0;31m         \u001b[0mself\u001b[0m\u001b[0;34m.\u001b[0m\u001b[0mtrainable_weights\u001b[0m \u001b[0;34m=\u001b[0m \u001b[0mself\u001b[0m\u001b[0;34m.\u001b[0m\u001b[0mW\u001b[0m\u001b[0;34m\u001b[0m\u001b[0;34m\u001b[0m\u001b[0m\n\u001b[0m\u001b[1;32m    162\u001b[0m         \u001b[0;32mreturn\u001b[0m\u001b[0;34m\u001b[0m\u001b[0;34m\u001b[0m\u001b[0m\n\u001b[1;32m    163\u001b[0m \u001b[0;34m\u001b[0m\u001b[0m\n",
      "\u001b[0;32m~/.local/lib/python3.6/site-packages/tensorflow/python/keras/engine/base_layer.py\u001b[0m in \u001b[0;36m__setattr__\u001b[0;34m(self, name, value)\u001b[0m\n\u001b[1;32m   2765\u001b[0m             ('Can\\'t set the attribute \"{}\", likely because it conflicts with '\n\u001b[1;32m   2766\u001b[0m              \u001b[0;34m'an existing read-only @property of the object. Please choose a '\u001b[0m\u001b[0;34m\u001b[0m\u001b[0;34m\u001b[0m\u001b[0m\n\u001b[0;32m-> 2767\u001b[0;31m              'different name.').format(name))\n\u001b[0m\u001b[1;32m   2768\u001b[0m       \u001b[0;32mreturn\u001b[0m\u001b[0;34m\u001b[0m\u001b[0;34m\u001b[0m\u001b[0m\n\u001b[1;32m   2769\u001b[0m \u001b[0;34m\u001b[0m\u001b[0m\n",
      "\u001b[0;31mAttributeError\u001b[0m: Can't set the attribute \"trainable_weights\", likely because it conflicts with an existing read-only @property of the object. Please choose a different name."
     ]
    }
   ],
   "source": [
    "fodo_RK, fodo_RK_corr = Ivanov_RK(_k1,_k2,_ld,_lqf,_lqd,invector,_order=3)\n",
    "fodo_Lie, fodo_Lie_corr = LieTracking(_k1,_k2,_ld,_lqf,_lqd,_order=4)"
   ]
  },
  {
   "cell_type": "code",
   "execution_count": 46,
   "metadata": {},
   "outputs": [
    {
     "data": {
      "text/plain": [
       "(1.01050835973583, -0.121026550330087, 1203.50943236670, 1318.37449328889)"
      ]
     },
     "execution_count": 46,
     "metadata": {},
     "output_type": "execute_result"
    }
   ],
   "source": [
    "quadf([1,0.2,3,0.4],6,1.2)"
   ]
  },
  {
   "cell_type": "code",
   "execution_count": 45,
   "metadata": {},
   "outputs": [
    {
     "data": {
      "text/plain": [
       "(422.934971859827, 463.300797006099, 2.97940762400148, -0.554757831896224)"
      ]
     },
     "execution_count": 45,
     "metadata": {},
     "output_type": "execute_result"
    }
   ],
   "source": [
    "quadf([1,0.2,3,0.4],6,-1.2)"
   ]
  },
  {
   "cell_type": "code",
   "execution_count": 32,
   "metadata": {},
   "outputs": [
    {
     "data": {
      "text/latex": [
       "$\\displaystyle \\left[\\begin{matrix}x \\cos{\\left(L \\sqrt{k_{1}} \\right)} + \\frac{p_{x} \\sin{\\left(L \\sqrt{k_{1}} \\right)}}{\\sqrt{k_{1}}}\\\\- \\sqrt{k_{1}} x \\sin{\\left(L \\sqrt{k_{1}} \\right)} + p_{x} \\cos{\\left(L \\sqrt{k_{1}} \\right)}\\\\y \\cosh{\\left(L \\sqrt{k_{1}} \\right)} + \\frac{p_{y} \\sinh{\\left(L \\sqrt{k_{1}} \\right)}}{\\sqrt{k_{1}}}\\\\\\sqrt{k_{1}} y \\sinh{\\left(L \\sqrt{k_{1}} \\right)} + p_{y} \\cosh{\\left(L \\sqrt{k_{1}} \\right)}\\end{matrix}\\right]$"
      ],
      "text/plain": [
       "Matrix([\n",
       "[  x*cos(L*sqrt(k_1)) + p_x*sin(L*sqrt(k_1))/sqrt(k_1)],\n",
       "[ -sqrt(k_1)*x*sin(L*sqrt(k_1)) + p_x*cos(L*sqrt(k_1))],\n",
       "[y*cosh(L*sqrt(k_1)) + p_y*sinh(L*sqrt(k_1))/sqrt(k_1)],\n",
       "[sqrt(k_1)*y*sinh(L*sqrt(k_1)) + p_y*cosh(L*sqrt(k_1))]])"
      ]
     },
     "execution_count": 32,
     "metadata": {},
     "output_type": "execute_result"
    }
   ],
   "source": [
    "RsymbQuad4D(beta0, gamma0,L,k1)*Matrix([[x],[px],[y],[py]])"
   ]
  },
  {
   "cell_type": "code",
   "execution_count": 25,
   "metadata": {},
   "outputs": [
    {
     "data": {
      "text/latex": [
       "$\\displaystyle L \\left(\\frac{k_{1} x^{2}}{2} - \\frac{k_{1} y^{2}}{2} + \\frac{p_{x}^{2}}{2} + \\frac{p_{y}^{2}}{2}\\right)$"
      ],
      "text/plain": [
       "L*(k_1*x**2/2 - k_1*y**2/2 + p_x**2/2 + p_y**2/2)"
      ]
     },
     "execution_count": 25,
     "metadata": {},
     "output_type": "execute_result"
    }
   ],
   "source": [
    "H = HamQuad6DParaxialSecondOrder(beta0,gamma0,L,x,px,y,py,delta,k1).subs(beta0*gamma0,oo).subs(beta0,1)\n",
    "H"
   ]
  },
  {
   "cell_type": "code",
   "execution_count": 24,
   "metadata": {},
   "outputs": [
    {
     "data": {
      "text/latex": [
       "$\\displaystyle \\frac{L p_{x}}{\\sqrt{- p_{x}^{2} - p_{y}^{2} + 1}}$"
      ],
      "text/plain": [
       "L*p_x/sqrt(-p_x**2 - p_y**2 + 1)"
      ]
     },
     "execution_count": 24,
     "metadata": {},
     "output_type": "execute_result"
    }
   ],
   "source": [
    "diff(H,px)"
   ]
  },
  {
   "cell_type": "code",
   "execution_count": 17,
   "metadata": {},
   "outputs": [
    {
     "data": {
      "text/latex": [
       "$\\displaystyle - \\frac{4 i}{3}$"
      ],
      "text/plain": [
       "-4*I/3"
      ]
     },
     "execution_count": 17,
     "metadata": {},
     "output_type": "execute_result"
    }
   ],
   "source": [
    "rep = list(zip([L,x,px,y,py],[4,0,1,2,3]))\n",
    "diff(H,px).subs(rep)"
   ]
  },
  {
   "cell_type": "code",
   "execution_count": null,
   "metadata": {},
   "outputs": [],
   "source": []
  }
 ],
 "metadata": {
  "kernelspec": {
   "display_name": "Python 3",
   "language": "python",
   "name": "python3"
  },
  "language_info": {
   "codemirror_mode": {
    "name": "ipython",
    "version": 3
   },
   "file_extension": ".py",
   "mimetype": "text/x-python",
   "name": "python",
   "nbconvert_exporter": "python",
   "pygments_lexer": "ipython3",
   "version": "3.6.10"
  },
  "toc": {
   "base_numbering": 1,
   "nav_menu": {},
   "number_sections": true,
   "sideBar": true,
   "skip_h1_title": false,
   "title_cell": "Table of Contents",
   "title_sidebar": "Contents",
   "toc_cell": false,
   "toc_position": {},
   "toc_section_display": true,
   "toc_window_display": false
  }
 },
 "nbformat": 4,
 "nbformat_minor": 4
}
