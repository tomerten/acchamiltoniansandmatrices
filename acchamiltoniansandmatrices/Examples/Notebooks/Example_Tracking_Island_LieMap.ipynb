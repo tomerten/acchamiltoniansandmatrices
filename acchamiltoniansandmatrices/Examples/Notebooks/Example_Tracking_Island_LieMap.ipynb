{
 "cells": [
  {
   "cell_type": "code",
   "execution_count": 1,
   "metadata": {},
   "outputs": [
    {
     "data": {
      "text/html": [
       "<style>.container { width:95% !important; }</style>"
      ],
      "text/plain": [
       "<IPython.core.display.HTML object>"
      ]
     },
     "metadata": {},
     "output_type": "display_data"
    }
   ],
   "source": [
    "from IPython.core.display import display, HTML\n",
    "display(HTML(\"<style>.container { width:95% !important; }</style>\"))\n",
    "\n",
    "%load_ext autoreload\n",
    "%autoreload 2"
   ]
  },
  {
   "cell_type": "code",
   "execution_count": 97,
   "metadata": {},
   "outputs": [],
   "source": [
    "from sympy import sqrt, cos, sin,  cosh,  sinh, Add\n",
    "from sympy import Symbol, S, oo, Rational, Function, pi , factorial, O, symbols, lambdify, I\n",
    "from sympy import Derivative, series, limit, Matrix, simplify, collect, solve, Poly, poly, diff, nsolve, transpose, factor_terms\n",
    "from sympy import latex, init_printing\n",
    "from sympy.core.numbers import NegativeOne, One, Zero\n",
    "from sympy.printing.latex import print_latex\n",
    "\n",
    "import numpy as np\n",
    "from tqdm import tqdm\n",
    "import ray\n",
    "\n",
    "from matplotlib import pyplot as plt\n",
    "from mpl_toolkits.mplot3d import axes3d\n",
    "import matplotlib.pyplot as plt\n",
    "from matplotlib import cm\n",
    "\n",
    "from acchamiltoniansandmatrices.Tracking.LinearMatrixTracking import nestList, GenerateNDimCoordinateGrid\n",
    "from acchamiltoniansandmatrices.Hamiltonians.LatticeElementHamiltonians import HamDrift6D, HamQuad6D\n",
    "from acchamiltoniansandmatrices.Hamiltonians.Operators import Poisson\n",
    "from acchamiltoniansandmatrices.LieMaps.Poisson import PoissonBracket\n",
    "from acchamiltoniansandmatrices.LieMaps.LieOperator import LieOperator\n",
    "from acchamiltoniansandmatrices.Utils.Plotting import multi_countour_plot\n",
    "from acchamiltoniansandmatrices.Factorization.Factorization import truncate, taylorize, dragt_finn_factorization\n",
    "from acchamiltoniansandmatrices.Utils.Polynomials import getpoly, RotationMatrix2D, explicitCheck, geteigenvects\n",
    "from acchamiltoniansandmatrices.Matrices.NumpyMatrices import RnpQuad6DChroma\n",
    "from acchamiltoniansandmatrices.Matrices.SymbMatrices import RsymbQuad6DChroma"
   ]
  },
  {
   "cell_type": "markdown",
   "metadata": {},
   "source": [
    "# Initialization - run once"
   ]
  },
  {
   "cell_type": "code",
   "execution_count": 3,
   "metadata": {},
   "outputs": [
    {
     "name": "stderr",
     "output_type": "stream",
     "text": [
      "2021-03-17 22:33:28,028\tINFO services.py:1172 -- View the Ray dashboard at http://127.0.0.1:8266\n"
     ]
    },
    {
     "data": {
      "text/plain": [
       "{'node_ip_address': '192.168.0.38',\n",
       " 'raylet_ip_address': '192.168.0.38',\n",
       " 'redis_address': '192.168.0.38:53113',\n",
       " 'object_store_address': '/tmp/ray/session_2021-03-17_22-33-26_613429_10596/sockets/plasma_store',\n",
       " 'raylet_socket_name': '/tmp/ray/session_2021-03-17_22-33-26_613429_10596/sockets/raylet',\n",
       " 'webui_url': '127.0.0.1:8266',\n",
       " 'session_dir': '/tmp/ray/session_2021-03-17_22-33-26_613429_10596',\n",
       " 'metrics_export_port': 46523,\n",
       " 'node_id': '6dbcb440e390213d072d86c92dd8e7c7df1add4d14c82440ee33ed2a'}"
      ]
     },
     "execution_count": 3,
     "metadata": {},
     "output_type": "execute_result"
    }
   ],
   "source": [
    "%matplotlib notebook\n",
    "init_printing() \n",
    "ray.init()"
   ]
  },
  {
   "cell_type": "markdown",
   "metadata": {},
   "source": [
    "# Symbolis and symbolic replacement lists"
   ]
  },
  {
   "cell_type": "markdown",
   "metadata": {},
   "source": [
    "## Symbols"
   ]
  },
  {
   "cell_type": "code",
   "execution_count": 98,
   "metadata": {},
   "outputs": [],
   "source": [
    "x, px, y, py, z, delta = symbols('x p_x y p_y z delta', real=True)\n",
    "eps, h , k0, k1, k2, sigma, betag = symbols('epsilon h k_0 k_1 k_2 sigma beta_gamma', real=True)\n",
    "L, beta0, gamma0 = symbols(\" L beta_0 gamma_0\", real=True, positive=True)\n",
    "\n",
    "# redefine for use in ringham - otherwise assumption errors\n",
    "LQF   = symbols(\"L_{QF}\")\n",
    "LQD   = symbols(\"L_{QD}\")\n",
    "LD    = symbols(\"L_D\")\n",
    "LD2   = symbols(\"L_{D2}\")\n",
    "KQF   = symbols(\"K_{QF}\")\n",
    "KQD   = symbols(\"K_{QD}\")\n",
    "dld   = symbols('\\delta{L_D}') # delta length drift"
   ]
  },
  {
   "cell_type": "markdown",
   "metadata": {},
   "source": [
    "## Replacements"
   ]
  },
  {
   "cell_type": "code",
   "execution_count": 99,
   "metadata": {},
   "outputs": [],
   "source": [
    "# standardized substitutions that are useful - ORDER IN LISTS COUNTS !!!!\n",
    "betagamma_rep = list(zip([beta0 * gamma0, beta0],[oo,1]))\n",
    "series_rep    = list(zip([px,py,delta],[eps*px,eps*py,eps*delta]))\n",
    "coord_rep     = list(zip([x,y],[eps*x,eps*y]))\n",
    "thin_rep      = list(zip([px,py,delta],[0,0,0]))\n",
    "xpx_rep       = list(zip([y,py,delta],[0,0,0]))\n",
    "eps_rep       = list(zip([x,y,z,px,py,delta],[eps*x,eps*y,0,px*eps,py*eps,0]))\n",
    "xyplane_rep   = list(zip([y,py,z,delta],[0,0,0,0]))"
   ]
  },
  {
   "cell_type": "markdown",
   "metadata": {},
   "source": [
    "# Island settings for tracking"
   ]
  },
  {
   "cell_type": "markdown",
   "metadata": {},
   "source": [
    "## Setup 1"
   ]
  },
  {
   "cell_type": "code",
   "execution_count": 100,
   "metadata": {},
   "outputs": [],
   "source": [
    "#Island setting\n",
    "_ld1 = 2.55\n",
    "_ld2 = 2.35 #2.48\n",
    "_lqf = 0.3\n",
    "_lqd = 0.804\n",
    "_k1  = 0.7\n",
    "_k2  = - 0.35\n",
    "\n",
    "repj = list(zip([LD,LD2,LQF,LQD,KQF,KQD,dld],[_ld1,_ld2,_lqf,_lqd,_k1,_k2,0]))"
   ]
  },
  {
   "cell_type": "markdown",
   "metadata": {},
   "source": [
    "## Setup 2"
   ]
  },
  {
   "cell_type": "code",
   "execution_count": 101,
   "metadata": {},
   "outputs": [],
   "source": [
    "#Island setting\n",
    "_ld1 = 3.5805\n",
    "_ld2 = 3.5805\n",
    "_lqf = 0.342\n",
    "_lqd = 0.668\n",
    "_k1  = 0.49\n",
    "_k2  = - 0.4999\n",
    "\n",
    "rept = list(zip([LD,LD2,LQF,LQD,KQF,KQD,dld],[_ld1,_ld2,_lqf,_lqd,_k1,_k2,0]))"
   ]
  },
  {
   "cell_type": "markdown",
   "metadata": {},
   "source": [
    "# Beam line definition"
   ]
  },
  {
   "cell_type": "code",
   "execution_count": 102,
   "metadata": {},
   "outputs": [],
   "source": [
    "eldict = { 'drift' : 1, 'quad'  : 2, 'squad' : 25, 'sext'  : 3}\n",
    "\n",
    "beamlines = [\n",
    "    [eldict['quad'] , 4, LQF, KQF, 0],\n",
    "    [eldict['drift'], 4, LD , Zero(), 0   ],\n",
    "    [eldict['quad'] , 4, LQD, KQD, 0],\n",
    "    [eldict['drift'], 4, LD , Zero(), 0   ],\n",
    "    [eldict['quad'] , 4, LQF, KQF, 0],\n",
    "]"
   ]
  },
  {
   "cell_type": "markdown",
   "metadata": {},
   "source": [
    "# Functions"
   ]
  },
  {
   "cell_type": "code",
   "execution_count": 103,
   "metadata": {},
   "outputs": [],
   "source": [
    "def gen(Ham, ox,opx,o, start=True):\n",
    "    \n",
    "    lox0  = LieOperator(Ham.subs(xyplane_rep),[x],[px])\n",
    "    lopx0 = LieOperator(Ham.subs(xyplane_rep),[x],[px])\n",
    "\n",
    "   \n",
    "    \n",
    "    def m(k):\n",
    "        return (lox0*k).doit().expand()\n",
    "\n",
    "    def n(k):\n",
    "        return (lopx0*k).doit().expand()\n",
    "    \n",
    "    if start:\n",
    "        xop   = LieOperator(x,[x],[px])\n",
    "        pxop  = LieOperator(px,[x],[px])\n",
    "        xopl  = list(nestList(m,xop,o))\n",
    "        pxopl = list(nestList(n,pxop,o))\n",
    "        \n",
    "    else:\n",
    "        xopl  = list(nestList(m,ox,o+1))[1:]\n",
    "        pxopl = list(nestList(n,opx,o+1))[1:]\n",
    "        \n",
    "    return xopl, pxopl\n",
    "\n",
    "def red(xopl, pxopl):\n",
    "    eqs = [Rational(1,factorial(i)) * l.ham  if i!=0 else l.ham for i,l in tqdm(enumerate(xopl))]\n",
    "    xops =sum(eqs)\n",
    "    \n",
    "    peqs = [Rational(1,factorial(i)) * l.ham if i!=0 else l.ham for i,l in tqdm(enumerate(pxopl))]\n",
    "    pxops =sum(peqs)\n",
    "    \n",
    "    return xops, pxops\n",
    "\n"
   ]
  },
  {
   "cell_type": "code",
   "execution_count": 104,
   "metadata": {},
   "outputs": [
    {
     "name": "stdout",
     "output_type": "stream",
     "text": [
      "p_x**2 + x**2\n",
      "p_x**2 + x**2\n",
      "p_x**2 + x**2\n",
      "p_x**2 + x**2\n",
      "p_x**2 + x**2\n",
      "p_x**2 + x**2\n",
      "p_x**2 + x**2\n",
      "p_x**2 + x**2\n",
      "p_x**2 + x**2\n",
      "p_x**2 + x**2\n",
      "p_x**2 + x**2\n",
      "p_x**2 + x**2\n",
      "p_x**2 + x**2\n",
      "p_x**2 + x**2\n",
      "p_x**2 + x**2\n",
      "p_x**2 + x**2\n",
      "p_x**2 + x**2\n",
      "p_x**2 + x**2\n",
      "p_x**2 + x**2\n",
      "p_x**2 + x**2\n",
      "p_x**2 + x**2\n",
      "p_x**2 + x**2\n",
      "p_x**2 + x**2\n",
      "p_x**2 + x**2\n"
     ]
    },
    {
     "name": "stderr",
     "output_type": "stream",
     "text": [
      "13it [00:00, 19314.90it/s]\n",
      "13it [00:00, 79483.90it/s]\n"
     ]
    },
    {
     "data": {
      "image/png": "[encoded data removed]",
      "text/latex": [
       "$\\displaystyle - \\frac{27809 p_{x}}{66825} + \\frac{141782 x}{155925}$"
      ],
      "text/plain": [
       "  27809⋅pₓ   141782⋅x\n",
       "- ──────── + ────────\n",
       "   66825      155925 "
      ]
     },
     "execution_count": 104,
     "metadata": {},
     "output_type": "execute_result"
    }
   ],
   "source": [
    "red(*gen(x**2+px**2,None,None,12))[1]"
   ]
  },
  {
   "cell_type": "code",
   "execution_count": 38,
   "metadata": {},
   "outputs": [],
   "source": [
    "_op_osc = LieOperator(x**2+px**2,[x],[px])"
   ]
  },
  {
   "cell_type": "code",
   "execution_count": 78,
   "metadata": {},
   "outputs": [
    {
     "name": "stderr",
     "output_type": "stream",
     "text": [
      "100%|██████████| 11/11 [00:00<00:00, 291.92it/s]\n"
     ]
    },
    {
     "data": {
      "image/png": "[encoded data removed]",
      "text/latex": [
       "$\\displaystyle - 0.416146651702207 p_{x} + 0.909296135962803 x$"
      ],
      "text/plain": [
       "-0.416146651702207⋅pₓ + 0.909296135962803⋅x"
      ]
     },
     "execution_count": 78,
     "metadata": {},
     "output_type": "execute_result"
    }
   ],
   "source": [
    "_op_osc.LieMap(px,12).ham"
   ]
  },
  {
   "cell_type": "code",
   "execution_count": 80,
   "metadata": {},
   "outputs": [
    {
     "data": {
      "image/png": "[encoded data removed]",
      "text/latex": [
       "$\\displaystyle e^{:<class 'sympy.core.symbol.Symbol'>:}$"
      ],
      "text/plain": [
       "LieOperator(x, [x], [p_x])"
      ]
     },
     "execution_count": 80,
     "metadata": {},
     "output_type": "execute_result"
    }
   ],
   "source": [
    "LieOperator(x, [x],[px])"
   ]
  },
  {
   "cell_type": "code",
   "execution_count": null,
   "metadata": {},
   "outputs": [],
   "source": []
  }
 ],
 "metadata": {
  "kernelspec": {
   "display_name": "Python [conda env:jnotebookenv] *",
   "language": "python",
   "name": "conda-env-jnotebookenv-py"
  },
  "language_info": {
   "codemirror_mode": {
    "name": "ipython",
    "version": 3
   },
   "file_extension": ".py",
   "mimetype": "text/x-python",
   "name": "python",
   "nbconvert_exporter": "python",
   "pygments_lexer": "ipython3",
   "version": "3.8.5"
  },
  "latex_envs": {
   "LaTeX_envs_menu_present": true,
   "autoclose": false,
   "autocomplete": true,
   "bibliofile": "biblio.bib",
   "cite_by": "apalike",
   "current_citInitial": 1,
   "eqLabelWithNumbers": true,
   "eqNumInitial": 1,
   "hotkeys": {
    "equation": "Ctrl-E",
    "itemize": "Ctrl-I"
   },
   "labels_anchors": false,
   "latex_user_defs": false,
   "report_style_numbering": false,
   "user_envs_cfg": false
  },
  "toc": {
   "base_numbering": 1,
   "nav_menu": {},
   "number_sections": true,
   "sideBar": true,
   "skip_h1_title": false,
   "title_cell": "Table of Contents",
   "title_sidebar": "Contents",
   "toc_cell": false,
   "toc_position": {},
   "toc_section_display": true,
   "toc_window_display": false
  }
 },
 "nbformat": 4,
 "nbformat_minor": 4
}
