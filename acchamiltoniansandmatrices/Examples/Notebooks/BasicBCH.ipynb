{
 "cells": [
  {
   "cell_type": "code",
   "execution_count": 1,
   "metadata": {},
   "outputs": [
    {
     "data": {
      "text/html": [
       "<style>.container { width:95% !important; }</style>"
      ],
      "text/plain": [
       "<IPython.core.display.HTML object>"
      ]
     },
     "metadata": {},
     "output_type": "display_data"
    }
   ],
   "source": [
    "from IPython.core.display import display, HTML\n",
    "display(HTML(\"<style>.container { width:95% !important; }</style>\"))\n",
    "\n",
    "%load_ext autoreload\n",
    "%autoreload 2"
   ]
  },
  {
   "cell_type": "code",
   "execution_count": 210,
   "metadata": {},
   "outputs": [],
   "source": [
    "from sympy import sqrt, cos, sin,  cosh,  sinh, Add\n",
    "from sympy import Symbol, S, oo, Rational, Function, pi , factorial, O, symbols, lambdify, I\n",
    "from sympy import Derivative, series, limit, Matrix, simplify, collect, solve, Poly, poly, diff, nsolve, transpose, factor_terms\n",
    "from sympy import latex, init_printing\n",
    "from sympy.core.numbers import NegativeOne, One, Zero\n",
    "from sympy.printing.latex import print_latex\n",
    "\n",
    "import numpy as np\n",
    "import pandas as pd\n",
    "from tqdm import tqdm\n",
    "import ray\n",
    "import time\n",
    "\n",
    "from matplotlib import pyplot as plt\n",
    "from mpl_toolkits.mplot3d import axes3d\n",
    "import matplotlib.pyplot as plt\n",
    "from matplotlib import cm\n",
    "from collections import defaultdict\n",
    "from itertools import product, combinations\n",
    "from functools import reduce\n",
    "from acchamiltoniansandmatrices.Tracking.LinearMatrixTracking import nestList, GenerateNDimCoordinateGrid\n",
    "from acchamiltoniansandmatrices.Hamiltonians.LatticeElementHamiltonians import HamDrift6D, HamQuad6D\n",
    "from acchamiltoniansandmatrices.Hamiltonians.Operators import Poisson\n",
    "from acchamiltoniansandmatrices.LieMaps.Poisson import PoissonBracket\n",
    "from acchamiltoniansandmatrices.LieMaps.LieOperator import LieOperator\n",
    "from acchamiltoniansandmatrices.Utils.Plotting import multi_countour_plot\n",
    "from acchamiltoniansandmatrices.Factorization.Factorization import truncate, taylorize, dragt_finn_factorization\n",
    "from acchamiltoniansandmatrices.Utils.Polynomials import getpoly, RotationMatrix2D, explicitCheck, geteigenvects\n",
    "from acchamiltoniansandmatrices.Matrices.NumpyMatrices import RnpQuad6DChroma\n",
    "from acchamiltoniansandmatrices.Matrices.SymbMatrices import RsymbQuad6DChroma\n",
    "from acchamiltoniansandmatrices.Integrators import integrator\n",
    "from acchamiltoniansandmatrices.Tracking.LinearMatrixTracking import nestList"
   ]
  },
  {
   "cell_type": "code",
   "execution_count": 3,
   "metadata": {},
   "outputs": [],
   "source": [
    "x, px, y, py, z, delta = symbols('x p_x y p_y z delta', real=True)\n",
    "eps, h , k0, k1, k2, sigma, betag = symbols('epsilon h k_0 k_1 k_2 sigma beta_gamma', real=True)\n",
    "L, beta0, gamma0 = symbols(\" L beta_0 gamma_0\", real=True, positive=True)\n",
    "x0,px0 = symbols('x_0 px_0') # to not overwrite anything"
   ]
  },
  {
   "cell_type": "code",
   "execution_count": 7,
   "metadata": {},
   "outputs": [],
   "source": [
    "p = symbols(\"p\")"
   ]
  },
  {
   "cell_type": "code",
   "execution_count": 8,
   "metadata": {},
   "outputs": [],
   "source": [
    "H1 = p**2+x**2\n",
    "H2 = p**2"
   ]
  },
  {
   "cell_type": "code",
   "execution_count": null,
   "metadata": {},
   "outputs": [],
   "source": [
    "\n",
    "    "
   ]
  },
  {
   "cell_type": "code",
   "execution_count": 63,
   "metadata": {},
   "outputs": [],
   "source": [
    "X = Function(\"X\")(x,px)\n",
    "Y = Function(\"Y\")(x,px)\n",
    "\n",
    "def bracket_generator(tuplist,X,Y):\n",
    "    _list = tuplist.copy()\n",
    "    _list.reverse()\n",
    "    \n",
    "    if _list[0][1] > 1 or _list[0][1]==0:\n",
    "        res = 0\n",
    "    else:\n",
    "        # first rightside brackets\n",
    "        def applybracketX(a):\n",
    "            return PoissonBracket(X,a,coords=[x],mom=[px])\n",
    "        \n",
    "        def applybracketY(a):\n",
    "            return PoissonBracket(Y,a,coords=[x],mom=[px])\n",
    "\n",
    "        res = list(nestList(applybracketX,Y,_list[0][0]))[-1]\n",
    "        \n",
    "        _list = _list[1:]\n",
    "        \n",
    "        while len(_list) >0:\n",
    "            res = list(nestList(applybracketY,res,_list[0][1]))[-1]\n",
    "            res = list(nestList(applybracketX,res,_list[0][0]))[-1]\n",
    "            _list = _list[1:]\n",
    "    return res\n"
   ]
  },
  {
   "cell_type": "code",
   "execution_count": 72,
   "metadata": {},
   "outputs": [
    {
     "data": {
      "text/latex": [
       "$\\displaystyle - \\lbrace \\lbrace X,Y \\rbrace ,X \\rbrace $"
      ],
      "text/plain": [
       "-PoissonBracket(PoissonBracket(X(x, p_x), Y(x, p_x)), X(x, p_x))"
      ]
     },
     "execution_count": 72,
     "metadata": {},
     "output_type": "execute_result"
    }
   ],
   "source": [
    "bracket_generator([(1,0),(1,1)],X,Y)"
   ]
  },
  {
   "cell_type": "code",
   "execution_count": 73,
   "metadata": {},
   "outputs": [],
   "source": [
    "def rsdict(n):\n",
    "    res = defaultdict(set)\n",
    "    for r in range(0,n+1):\n",
    "        for s in range(0,n+1):\n",
    "            res[r+s] = res[r+s].union({(r,s)})\n",
    "            \n",
    "    return res"
   ]
  },
  {
   "cell_type": "code",
   "execution_count": null,
   "metadata": {},
   "outputs": [],
   "source": [
    "n = 1\n",
    "tups = prod"
   ]
  },
  {
   "cell_type": "code",
   "execution_count": 74,
   "metadata": {},
   "outputs": [
    {
     "data": {
      "text/plain": [
       "defaultdict(set,\n",
       "            {0: {(0, 0)},\n",
       "             1: {(0, 1), (1, 0)},\n",
       "             2: {(0, 2), (1, 1), (2, 0)},\n",
       "             3: {(0, 3), (1, 2), (2, 1), (3, 0)},\n",
       "             4: {(1, 3), (2, 2), (3, 1)},\n",
       "             5: {(2, 3), (3, 2)},\n",
       "             6: {(3, 3)}})"
      ]
     },
     "execution_count": 74,
     "metadata": {},
     "output_type": "execute_result"
    }
   ],
   "source": [
    "rsdict(3)"
   ]
  },
  {
   "cell_type": "code",
   "execution_count": 105,
   "metadata": {},
   "outputs": [
    {
     "data": {
      "text/plain": [
       "[(0, 1), (0, 4)]"
      ]
     },
     "execution_count": 105,
     "metadata": {},
     "output_type": "execute_result"
    }
   ],
   "source": [
    "list([c for c in list(combinations(list(product(range(5),range(5)))[1:],2)) if sum([k+v for k,v in c])  == 5][0])"
   ]
  },
  {
   "cell_type": "code",
   "execution_count": 190,
   "metadata": {},
   "outputs": [],
   "source": [
    "class bicoloredTree():\n",
    "    def __init__(self, root):\n",
    "        self.root = root\n",
    "        self.children = []\n",
    "        self.Nodes = []\n",
    "        \n",
    "    def addNode(self, node):\n",
    "        self.children.append(node)\n",
    "        \n",
    "    def getAllNodes(self):\n",
    "        self.Nodes.append(self.root)\n",
    "        for child in self.children:\n",
    "            self.Nodes.append(child.color)\n",
    "        for child in self.children:\n",
    "            if child.getChildNodes(self.Nodes) != None:\n",
    "                child.getChildNodes(self.Nodes)\n",
    "                \n",
    "    def __mul__(self, other):\n",
    "        newtree = bicoloredTree(self.root)\n",
    "        for child in self.children:\n",
    "            newtree.children.append(child)\n",
    "        newtree.children.append(other)\n",
    "        \n",
    "        return newtree\n",
    "        \n",
    "    def __str__(self,level=0):\n",
    "        ret = \"\\t\"*level+repr(self.root.color)+\"\\n\"\n",
    "        for child in self.children:\n",
    "            ret += child.__str__(level+1)\n",
    "        return ret\n",
    "            \n",
    "    \n",
    "class Node():\n",
    "    def __init__(self, color):\n",
    "        self.color = color\n",
    "        self.children = []\n",
    "        \n",
    "    def addNode(self, node):\n",
    "        self.children.append(node)\n",
    "        \n",
    "    def getChildNodes(self, Tree):\n",
    "        for child in self.children:\n",
    "            if child.children:\n",
    "                child.getChildNodes(Tree)\n",
    "                Tree.append(child.color)\n",
    "                \n",
    "            else:\n",
    "                Tree.append(child.color)\n",
    "                \n",
    "    def __str__(self,level=0):\n",
    "        ret = \"\\t\"*level+repr(self.color)+\"\\n\"\n",
    "        for child in self.children:\n",
    "            ret += child.__str__(level+1)\n",
    "        return ret\n",
    "        \n",
    "        \n",
    "        \n",
    "        "
   ]
  },
  {
   "cell_type": "code",
   "execution_count": 199,
   "metadata": {},
   "outputs": [],
   "source": [
    "rootnode = Node('white')\n",
    "roottree1 = bicoloredTree(rootnode)\n",
    "roottree1.addNode(Node('black'))\n",
    "# roottree1.addNode(Node('black'))\n",
    "\n",
    "roottree2 = bicoloredTree(rootnode)\n",
    "roottree2.addNode(Node('black'))\n",
    "\n",
    "roottree3 = roottree1*roottree2\n",
    "\n",
    "rootnode2 = Node('black')\n",
    "roottree4 = bicoloredTree(rootnode2)\n",
    "\n",
    "roottree5 = roottree3*roottree4"
   ]
  },
  {
   "cell_type": "code",
   "execution_count": 196,
   "metadata": {},
   "outputs": [
    {
     "name": "stdout",
     "output_type": "stream",
     "text": [
      "'white'\n",
      "\t'black'\n",
      "\n"
     ]
    }
   ],
   "source": [
    "print(roottree1)"
   ]
  },
  {
   "cell_type": "code",
   "execution_count": 197,
   "metadata": {},
   "outputs": [
    {
     "name": "stdout",
     "output_type": "stream",
     "text": [
      "'white'\n",
      "\t'black'\n",
      "\n"
     ]
    }
   ],
   "source": [
    "print(roottree2)"
   ]
  },
  {
   "cell_type": "code",
   "execution_count": 200,
   "metadata": {},
   "outputs": [
    {
     "name": "stdout",
     "output_type": "stream",
     "text": [
      "'white'\n",
      "\t'black'\n",
      "\t'white'\n",
      "\t\t'black'\n",
      "\t'black'\n",
      "\n"
     ]
    }
   ],
   "source": [
    "print(roottree5)"
   ]
  },
  {
   "cell_type": "code",
   "execution_count": 224,
   "metadata": {},
   "outputs": [
    {
     "data": {
      "text/html": [
       "<div>\n",
       "<style scoped>\n",
       "    .dataframe tbody tr th:only-of-type {\n",
       "        vertical-align: middle;\n",
       "    }\n",
       "\n",
       "    .dataframe tbody tr th {\n",
       "        vertical-align: top;\n",
       "    }\n",
       "\n",
       "    .dataframe thead th {\n",
       "        text-align: right;\n",
       "    }\n",
       "</style>\n",
       "<table border=\"1\" class=\"dataframe\">\n",
       "  <thead>\n",
       "    <tr style=\"text-align: right;\">\n",
       "      <th></th>\n",
       "      <th>i'</th>\n",
       "      <th>i\"</th>\n",
       "      <th>p</th>\n",
       "      <th>q</th>\n",
       "    </tr>\n",
       "  </thead>\n",
       "  <tbody>\n",
       "    <tr>\n",
       "      <th>1</th>\n",
       "      <td>1</td>\n",
       "      <td>0</td>\n",
       "      <td>1</td>\n",
       "      <td>1</td>\n",
       "    </tr>\n",
       "    <tr>\n",
       "      <th>2</th>\n",
       "      <td>2</td>\n",
       "      <td>0</td>\n",
       "      <td>1</td>\n",
       "      <td>1</td>\n",
       "    </tr>\n",
       "    <tr>\n",
       "      <th>3</th>\n",
       "      <td>2</td>\n",
       "      <td>1</td>\n",
       "      <td>-1</td>\n",
       "      <td>2</td>\n",
       "    </tr>\n",
       "    <tr>\n",
       "      <th>4</th>\n",
       "      <td>3</td>\n",
       "      <td>1</td>\n",
       "      <td>1</td>\n",
       "      <td>12</td>\n",
       "    </tr>\n",
       "    <tr>\n",
       "      <th>5</th>\n",
       "      <td>3</td>\n",
       "      <td>2</td>\n",
       "      <td>-1</td>\n",
       "      <td>12</td>\n",
       "    </tr>\n",
       "    <tr>\n",
       "      <th>...</th>\n",
       "      <td>...</td>\n",
       "      <td>...</td>\n",
       "      <td>...</td>\n",
       "      <td>...</td>\n",
       "    </tr>\n",
       "    <tr>\n",
       "      <th>111009</th>\n",
       "      <td>225</td>\n",
       "      <td>223</td>\n",
       "      <td>1103152823</td>\n",
       "      <td>7039647014400</td>\n",
       "    </tr>\n",
       "    <tr>\n",
       "      <th>111010</th>\n",
       "      <td>226</td>\n",
       "      <td>223</td>\n",
       "      <td>-67787</td>\n",
       "      <td>4345461120</td>\n",
       "    </tr>\n",
       "    <tr>\n",
       "      <th>111011</th>\n",
       "      <td>225</td>\n",
       "      <td>224</td>\n",
       "      <td>-5253124501</td>\n",
       "      <td>33790305669120</td>\n",
       "    </tr>\n",
       "    <tr>\n",
       "      <th>111012</th>\n",
       "      <td>226</td>\n",
       "      <td>224</td>\n",
       "      <td>-3304971841</td>\n",
       "      <td>14079294028800</td>\n",
       "    </tr>\n",
       "    <tr>\n",
       "      <th>111013</th>\n",
       "      <td>226</td>\n",
       "      <td>225</td>\n",
       "      <td>-19234697</td>\n",
       "      <td>140792940288</td>\n",
       "    </tr>\n",
       "  </tbody>\n",
       "</table>\n",
       "<p>111013 rows × 4 columns</p>\n",
       "</div>"
      ],
      "text/plain": [
       "         i'   i\"           p               q\n",
       "1         1    0           1               1\n",
       "2         2    0           1               1\n",
       "3         2    1          -1               2\n",
       "4         3    1           1              12\n",
       "5         3    2          -1              12\n",
       "...     ...  ...         ...             ...\n",
       "111009  225  223  1103152823   7039647014400\n",
       "111010  226  223      -67787      4345461120\n",
       "111011  225  224 -5253124501  33790305669120\n",
       "111012  226  224 -3304971841  14079294028800\n",
       "111013  226  225   -19234697    140792940288\n",
       "\n",
       "[111013 rows x 4 columns]"
      ]
     },
     "execution_count": 224,
     "metadata": {},
     "output_type": "execute_result"
    }
   ],
   "source": [
    "dat = pd.read_csv(\"bchHall20.dat\", index_col=None,header=None, delim_whitespace=True,names=[\"i'\",\"i\\\"\",'p','q'])\n",
    "dat['coeff'] = dat['p']"
   ]
  },
  {
   "cell_type": "code",
   "execution_count": 229,
   "metadata": {},
   "outputs": [
    {
     "data": {
      "text/plain": [
       "111009    0.000157\n",
       "111010   -0.000016\n",
       "111011   -0.000155\n",
       "111012   -0.000235\n",
       "111013   -0.000137\n",
       "dtype: float64"
      ]
     },
     "execution_count": 229,
     "metadata": {},
     "output_type": "execute_result"
    }
   ],
   "source": [
    "dat.tail()['p'] / dat.tail()['q'].apply(lambda x: int(x))"
   ]
  },
  {
   "cell_type": "code",
   "execution_count": 243,
   "metadata": {
    "scrolled": true
   },
   "outputs": [
    {
     "data": {
      "text/latex": [
       "$\\displaystyle - \\lbrace X,Y \\rbrace $"
      ],
      "text/plain": [
       "-PoissonBracket(X(x, p_x), Y(x, p_x))"
      ]
     },
     "metadata": {},
     "output_type": "display_data"
    },
    {
     "name": "stdout",
     "output_type": "stream",
     "text": [
      "i: 3 , |i|: 2, i': 2, i\": 1, s_i: 1 \n"
     ]
    },
    {
     "data": {
      "text/latex": [
       "$\\displaystyle \\lbrace - \\lbrace X,Y \\rbrace ,X \\rbrace $"
      ],
      "text/plain": [
       "PoissonBracket(-PoissonBracket(X(x, p_x), Y(x, p_x)), X(x, p_x))"
      ]
     },
     "metadata": {},
     "output_type": "display_data"
    },
    {
     "name": "stdout",
     "output_type": "stream",
     "text": [
      "i: 4 , |i|: 3, i': 3, i\": 1, s_i: 2 \n"
     ]
    },
    {
     "data": {
      "text/latex": [
       "$\\displaystyle \\lbrace - \\lbrace X,Y \\rbrace ,Y \\rbrace $"
      ],
      "text/plain": [
       "PoissonBracket(-PoissonBracket(X(x, p_x), Y(x, p_x)), Y(x, p_x))"
      ]
     },
     "metadata": {},
     "output_type": "display_data"
    },
    {
     "name": "stdout",
     "output_type": "stream",
     "text": [
      "i: 5 , |i|: 3, i': 3, i\": 2, s_i: 1 \n"
     ]
    },
    {
     "data": {
      "text/latex": [
       "$\\displaystyle \\lbrace \\lbrace - \\lbrace X,Y \\rbrace ,X \\rbrace ,X \\rbrace $"
      ],
      "text/plain": [
       "PoissonBracket(PoissonBracket(-PoissonBracket(X(x, p_x), Y(x, p_x)), X(x, p_x)), X(x, p_x))"
      ]
     },
     "metadata": {},
     "output_type": "display_data"
    },
    {
     "name": "stdout",
     "output_type": "stream",
     "text": [
      "i: 6 , |i|: 4, i': 4, i\": 1, s_i: 6 \n"
     ]
    },
    {
     "data": {
      "text/latex": [
       "$\\displaystyle \\lbrace \\lbrace - \\lbrace X,Y \\rbrace ,X \\rbrace ,Y \\rbrace $"
      ],
      "text/plain": [
       "PoissonBracket(PoissonBracket(-PoissonBracket(X(x, p_x), Y(x, p_x)), X(x, p_x)), Y(x, p_x))"
      ]
     },
     "metadata": {},
     "output_type": "display_data"
    },
    {
     "name": "stdout",
     "output_type": "stream",
     "text": [
      "i: 7 , |i|: 4, i': 4, i\": 2, s_i: 2 \n"
     ]
    },
    {
     "data": {
      "text/latex": [
       "$\\displaystyle \\lbrace \\lbrace - \\lbrace X,Y \\rbrace ,Y \\rbrace ,Y \\rbrace $"
      ],
      "text/plain": [
       "PoissonBracket(PoissonBracket(-PoissonBracket(X(x, p_x), Y(x, p_x)), Y(x, p_x)), Y(x, p_x))"
      ]
     },
     "metadata": {},
     "output_type": "display_data"
    },
    {
     "name": "stdout",
     "output_type": "stream",
     "text": [
      "i: 8 , |i|: 4, i': 5, i\": 2, s_i: 2 \n"
     ]
    },
    {
     "data": {
      "text/latex": [
       "$\\displaystyle \\lbrace \\lbrace \\lbrace - \\lbrace X,Y \\rbrace ,X \\rbrace ,X \\rbrace ,X \\rbrace $"
      ],
      "text/plain": [
       "PoissonBracket(PoissonBracket(PoissonBracket(-PoissonBracket(X(x, p_x), Y(x, p_x)), X(x, p_x)), X(x, p_x)), X(x, p_x))"
      ]
     },
     "metadata": {},
     "output_type": "display_data"
    },
    {
     "name": "stdout",
     "output_type": "stream",
     "text": [
      "i: 9 , |i|: 5, i': 6, i\": 1, s_i:24 \n"
     ]
    },
    {
     "data": {
      "text/latex": [
       "$\\displaystyle \\lbrace \\lbrace \\lbrace - \\lbrace X,Y \\rbrace ,X \\rbrace ,X \\rbrace ,Y \\rbrace $"
      ],
      "text/plain": [
       "PoissonBracket(PoissonBracket(PoissonBracket(-PoissonBracket(X(x, p_x), Y(x, p_x)), X(x, p_x)), X(x, p_x)), Y(x, p_x))"
      ]
     },
     "metadata": {},
     "output_type": "display_data"
    },
    {
     "name": "stdout",
     "output_type": "stream",
     "text": [
      "i:10 , |i|: 5, i': 6, i\": 2, s_i: 6 \n"
     ]
    },
    {
     "data": {
      "text/latex": [
       "$\\displaystyle \\lbrace \\lbrace \\lbrace - \\lbrace X,Y \\rbrace ,X \\rbrace ,Y \\rbrace ,Y \\rbrace $"
      ],
      "text/plain": [
       "PoissonBracket(PoissonBracket(PoissonBracket(-PoissonBracket(X(x, p_x), Y(x, p_x)), X(x, p_x)), Y(x, p_x)), Y(x, p_x))"
      ]
     },
     "metadata": {},
     "output_type": "display_data"
    },
    {
     "name": "stdout",
     "output_type": "stream",
     "text": [
      "i:11 , |i|: 5, i': 7, i\": 2, s_i: 4 \n"
     ]
    },
    {
     "data": {
      "text/latex": [
       "$\\displaystyle \\lbrace \\lbrace \\lbrace - \\lbrace X,Y \\rbrace ,Y \\rbrace ,Y \\rbrace ,Y \\rbrace $"
      ],
      "text/plain": [
       "PoissonBracket(PoissonBracket(PoissonBracket(-PoissonBracket(X(x, p_x), Y(x, p_x)), Y(x, p_x)), Y(x, p_x)), Y(x, p_x))"
      ]
     },
     "metadata": {},
     "output_type": "display_data"
    },
    {
     "name": "stdout",
     "output_type": "stream",
     "text": [
      "i:12 , |i|: 5, i': 8, i\": 2, s_i: 6 \n"
     ]
    },
    {
     "data": {
      "text/latex": [
       "$\\displaystyle - \\lbrace - \\lbrace X,Y \\rbrace ,\\lbrace - \\lbrace X,Y \\rbrace ,X \\rbrace  \\rbrace $"
      ],
      "text/plain": [
       "-PoissonBracket(-PoissonBracket(X(x, p_x), Y(x, p_x)), PoissonBracket(-PoissonBracket(X(x, p_x), Y(x, p_x)), X(x, p_x)))"
      ]
     },
     "metadata": {},
     "output_type": "display_data"
    },
    {
     "name": "stdout",
     "output_type": "stream",
     "text": [
      "i:13 , |i|: 5, i': 4, i\": 3, s_i: 2 \n"
     ]
    },
    {
     "data": {
      "text/latex": [
       "$\\displaystyle - \\lbrace - \\lbrace X,Y \\rbrace ,\\lbrace - \\lbrace X,Y \\rbrace ,Y \\rbrace  \\rbrace $"
      ],
      "text/plain": [
       "-PoissonBracket(-PoissonBracket(X(x, p_x), Y(x, p_x)), PoissonBracket(-PoissonBracket(X(x, p_x), Y(x, p_x)), Y(x, p_x)))"
      ]
     },
     "metadata": {},
     "output_type": "display_data"
    },
    {
     "name": "stdout",
     "output_type": "stream",
     "text": [
      "i:14 , |i|: 5, i': 5, i\": 3, s_i: 1 \n"
     ]
    },
    {
     "data": {
      "text/latex": [
       "$\\displaystyle \\lbrace \\lbrace \\lbrace \\lbrace - \\lbrace X,Y \\rbrace ,X \\rbrace ,X \\rbrace ,X \\rbrace ,X \\rbrace $"
      ],
      "text/plain": [
       "PoissonBracket(PoissonBracket(PoissonBracket(PoissonBracket(-PoissonBracket(X(x, p_x), Y(x, p_x)), X(x, p_x)), X(x, p_x)), X(x, p_x)), X(x, p_x))"
      ]
     },
     "metadata": {},
     "output_type": "display_data"
    },
    {
     "name": "stdout",
     "output_type": "stream",
     "text": [
      "i:15 , |i|: 6, i': 9, i\": 1, s_i:120 \n"
     ]
    },
    {
     "data": {
      "text/latex": [
       "$\\displaystyle \\lbrace \\lbrace \\lbrace \\lbrace - \\lbrace X,Y \\rbrace ,X \\rbrace ,X \\rbrace ,X \\rbrace ,Y \\rbrace $"
      ],
      "text/plain": [
       "PoissonBracket(PoissonBracket(PoissonBracket(PoissonBracket(-PoissonBracket(X(x, p_x), Y(x, p_x)), X(x, p_x)), X(x, p_x)), X(x, p_x)), Y(x, p_x))"
      ]
     },
     "metadata": {},
     "output_type": "display_data"
    },
    {
     "name": "stdout",
     "output_type": "stream",
     "text": [
      "i:16 , |i|: 6, i': 9, i\": 2, s_i:24 \n"
     ]
    },
    {
     "data": {
      "text/latex": [
       "$\\displaystyle \\lbrace \\lbrace \\lbrace \\lbrace - \\lbrace X,Y \\rbrace ,X \\rbrace ,X \\rbrace ,Y \\rbrace ,Y \\rbrace $"
      ],
      "text/plain": [
       "PoissonBracket(PoissonBracket(PoissonBracket(PoissonBracket(-PoissonBracket(X(x, p_x), Y(x, p_x)), X(x, p_x)), X(x, p_x)), Y(x, p_x)), Y(x, p_x))"
      ]
     },
     "metadata": {},
     "output_type": "display_data"
    },
    {
     "name": "stdout",
     "output_type": "stream",
     "text": [
      "i:17 , |i|: 6, i':10, i\": 2, s_i:12 \n"
     ]
    },
    {
     "data": {
      "text/latex": [
       "$\\displaystyle \\lbrace \\lbrace \\lbrace \\lbrace - \\lbrace X,Y \\rbrace ,X \\rbrace ,Y \\rbrace ,Y \\rbrace ,Y \\rbrace $"
      ],
      "text/plain": [
       "PoissonBracket(PoissonBracket(PoissonBracket(PoissonBracket(-PoissonBracket(X(x, p_x), Y(x, p_x)), X(x, p_x)), Y(x, p_x)), Y(x, p_x)), Y(x, p_x))"
      ]
     },
     "metadata": {},
     "output_type": "display_data"
    },
    {
     "name": "stdout",
     "output_type": "stream",
     "text": [
      "i:18 , |i|: 6, i':11, i\": 2, s_i:12 \n"
     ]
    },
    {
     "data": {
      "text/latex": [
       "$\\displaystyle \\lbrace \\lbrace \\lbrace \\lbrace - \\lbrace X,Y \\rbrace ,Y \\rbrace ,Y \\rbrace ,Y \\rbrace ,Y \\rbrace $"
      ],
      "text/plain": [
       "PoissonBracket(PoissonBracket(PoissonBracket(PoissonBracket(-PoissonBracket(X(x, p_x), Y(x, p_x)), Y(x, p_x)), Y(x, p_x)), Y(x, p_x)), Y(x, p_x))"
      ]
     },
     "metadata": {},
     "output_type": "display_data"
    },
    {
     "name": "stdout",
     "output_type": "stream",
     "text": [
      "i:19 , |i|: 6, i':12, i\": 2, s_i:24 \n"
     ]
    },
    {
     "data": {
      "text/latex": [
       "$\\displaystyle - \\lbrace - \\lbrace X,Y \\rbrace ,\\lbrace \\lbrace - \\lbrace X,Y \\rbrace ,X \\rbrace ,X \\rbrace  \\rbrace $"
      ],
      "text/plain": [
       "-PoissonBracket(-PoissonBracket(X(x, p_x), Y(x, p_x)), PoissonBracket(PoissonBracket(-PoissonBracket(X(x, p_x), Y(x, p_x)), X(x, p_x)), X(x, p_x)))"
      ]
     },
     "metadata": {},
     "output_type": "display_data"
    },
    {
     "name": "stdout",
     "output_type": "stream",
     "text": [
      "i:20 , |i|: 6, i': 6, i\": 3, s_i: 6 \n"
     ]
    },
    {
     "data": {
      "text/latex": [
       "$\\displaystyle - \\lbrace - \\lbrace X,Y \\rbrace ,\\lbrace \\lbrace - \\lbrace X,Y \\rbrace ,X \\rbrace ,Y \\rbrace  \\rbrace $"
      ],
      "text/plain": [
       "-PoissonBracket(-PoissonBracket(X(x, p_x), Y(x, p_x)), PoissonBracket(PoissonBracket(-PoissonBracket(X(x, p_x), Y(x, p_x)), X(x, p_x)), Y(x, p_x)))"
      ]
     },
     "metadata": {},
     "output_type": "display_data"
    },
    {
     "name": "stdout",
     "output_type": "stream",
     "text": [
      "i:21 , |i|: 6, i': 7, i\": 3, s_i: 2 \n"
     ]
    },
    {
     "data": {
      "text/latex": [
       "$\\displaystyle - \\lbrace - \\lbrace X,Y \\rbrace ,\\lbrace \\lbrace - \\lbrace X,Y \\rbrace ,Y \\rbrace ,Y \\rbrace  \\rbrace $"
      ],
      "text/plain": [
       "-PoissonBracket(-PoissonBracket(X(x, p_x), Y(x, p_x)), PoissonBracket(PoissonBracket(-PoissonBracket(X(x, p_x), Y(x, p_x)), Y(x, p_x)), Y(x, p_x)))"
      ]
     },
     "metadata": {},
     "output_type": "display_data"
    },
    {
     "name": "stdout",
     "output_type": "stream",
     "text": [
      "i:22 , |i|: 6, i': 8, i\": 3, s_i: 2 \n"
     ]
    },
    {
     "data": {
      "text/latex": [
       "$\\displaystyle - \\lbrace \\lbrace - \\lbrace X,Y \\rbrace ,X \\rbrace ,\\lbrace - \\lbrace X,Y \\rbrace ,Y \\rbrace  \\rbrace $"
      ],
      "text/plain": [
       "-PoissonBracket(PoissonBracket(-PoissonBracket(X(x, p_x), Y(x, p_x)), X(x, p_x)), PoissonBracket(-PoissonBracket(X(x, p_x), Y(x, p_x)), Y(x, p_x)))"
      ]
     },
     "metadata": {},
     "output_type": "display_data"
    },
    {
     "name": "stdout",
     "output_type": "stream",
     "text": [
      "i:23 , |i|: 6, i': 5, i\": 4, s_i: 2 \n"
     ]
    },
    {
     "data": {
      "text/latex": [
       "$\\displaystyle \\lbrace \\lbrace \\lbrace \\lbrace \\lbrace - \\lbrace X,Y \\rbrace ,X \\rbrace ,X \\rbrace ,X \\rbrace ,X \\rbrace ,X \\rbrace $"
      ],
      "text/plain": [
       "PoissonBracket(PoissonBracket(PoissonBracket(PoissonBracket(PoissonBracket(-PoissonBracket(X(x, p_x), Y(x, p_x)), X(x, p_x)), X(x, p_x)), X(x, p_x)), X(x, p_x)), X(x, p_x))"
      ]
     },
     "metadata": {},
     "output_type": "display_data"
    },
    {
     "name": "stdout",
     "output_type": "stream",
     "text": [
      "i:24 , |i|: 7, i':15, i\": 1, s_i:720 \n"
     ]
    },
    {
     "data": {
      "text/latex": [
       "$\\displaystyle \\lbrace \\lbrace \\lbrace \\lbrace \\lbrace - \\lbrace X,Y \\rbrace ,X \\rbrace ,X \\rbrace ,X \\rbrace ,X \\rbrace ,Y \\rbrace $"
      ],
      "text/plain": [
       "PoissonBracket(PoissonBracket(PoissonBracket(PoissonBracket(PoissonBracket(-PoissonBracket(X(x, p_x), Y(x, p_x)), X(x, p_x)), X(x, p_x)), X(x, p_x)), X(x, p_x)), Y(x, p_x))"
      ]
     },
     "metadata": {},
     "output_type": "display_data"
    },
    {
     "name": "stdout",
     "output_type": "stream",
     "text": [
      "i:25 , |i|: 7, i':15, i\": 2, s_i:120 \n"
     ]
    },
    {
     "data": {
      "text/latex": [
       "$\\displaystyle \\lbrace \\lbrace \\lbrace \\lbrace \\lbrace - \\lbrace X,Y \\rbrace ,X \\rbrace ,X \\rbrace ,X \\rbrace ,Y \\rbrace ,Y \\rbrace $"
      ],
      "text/plain": [
       "PoissonBracket(PoissonBracket(PoissonBracket(PoissonBracket(PoissonBracket(-PoissonBracket(X(x, p_x), Y(x, p_x)), X(x, p_x)), X(x, p_x)), X(x, p_x)), Y(x, p_x)), Y(x, p_x))"
      ]
     },
     "metadata": {},
     "output_type": "display_data"
    },
    {
     "name": "stdout",
     "output_type": "stream",
     "text": [
      "i:26 , |i|: 7, i':16, i\": 2, s_i:48 \n"
     ]
    },
    {
     "data": {
      "text/latex": [
       "$\\displaystyle \\lbrace \\lbrace \\lbrace \\lbrace \\lbrace - \\lbrace X,Y \\rbrace ,X \\rbrace ,X \\rbrace ,Y \\rbrace ,Y \\rbrace ,Y \\rbrace $"
      ],
      "text/plain": [
       "PoissonBracket(PoissonBracket(PoissonBracket(PoissonBracket(PoissonBracket(-PoissonBracket(X(x, p_x), Y(x, p_x)), X(x, p_x)), X(x, p_x)), Y(x, p_x)), Y(x, p_x)), Y(x, p_x))"
      ]
     },
     "metadata": {},
     "output_type": "display_data"
    },
    {
     "name": "stdout",
     "output_type": "stream",
     "text": [
      "i:27 , |i|: 7, i':17, i\": 2, s_i:36 \n"
     ]
    },
    {
     "data": {
      "text/latex": [
       "$\\displaystyle \\lbrace \\lbrace \\lbrace \\lbrace \\lbrace - \\lbrace X,Y \\rbrace ,X \\rbrace ,Y \\rbrace ,Y \\rbrace ,Y \\rbrace ,Y \\rbrace $"
      ],
      "text/plain": [
       "PoissonBracket(PoissonBracket(PoissonBracket(PoissonBracket(PoissonBracket(-PoissonBracket(X(x, p_x), Y(x, p_x)), X(x, p_x)), Y(x, p_x)), Y(x, p_x)), Y(x, p_x)), Y(x, p_x))"
      ]
     },
     "metadata": {},
     "output_type": "display_data"
    },
    {
     "name": "stdout",
     "output_type": "stream",
     "text": [
      "i:28 , |i|: 7, i':18, i\": 2, s_i:48 \n"
     ]
    },
    {
     "data": {
      "text/latex": [
       "$\\displaystyle \\lbrace \\lbrace \\lbrace \\lbrace \\lbrace - \\lbrace X,Y \\rbrace ,Y \\rbrace ,Y \\rbrace ,Y \\rbrace ,Y \\rbrace ,Y \\rbrace $"
      ],
      "text/plain": [
       "PoissonBracket(PoissonBracket(PoissonBracket(PoissonBracket(PoissonBracket(-PoissonBracket(X(x, p_x), Y(x, p_x)), Y(x, p_x)), Y(x, p_x)), Y(x, p_x)), Y(x, p_x)), Y(x, p_x))"
      ]
     },
     "metadata": {},
     "output_type": "display_data"
    },
    {
     "name": "stdout",
     "output_type": "stream",
     "text": [
      "i:29 , |i|: 7, i':19, i\": 2, s_i:120 \n"
     ]
    },
    {
     "data": {
      "text/latex": [
       "$\\displaystyle - \\lbrace - \\lbrace X,Y \\rbrace ,\\lbrace \\lbrace \\lbrace - \\lbrace X,Y \\rbrace ,X \\rbrace ,X \\rbrace ,X \\rbrace  \\rbrace $"
      ],
      "text/plain": [
       "-PoissonBracket(-PoissonBracket(X(x, p_x), Y(x, p_x)), PoissonBracket(PoissonBracket(PoissonBracket(-PoissonBracket(X(x, p_x), Y(x, p_x)), X(x, p_x)), X(x, p_x)), X(x, p_x)))"
      ]
     },
     "metadata": {},
     "output_type": "display_data"
    },
    {
     "name": "stdout",
     "output_type": "stream",
     "text": [
      "i:30 , |i|: 7, i': 9, i\": 3, s_i:24 \n"
     ]
    },
    {
     "data": {
      "text/latex": [
       "$\\displaystyle - \\lbrace - \\lbrace X,Y \\rbrace ,\\lbrace \\lbrace \\lbrace - \\lbrace X,Y \\rbrace ,X \\rbrace ,X \\rbrace ,Y \\rbrace  \\rbrace $"
      ],
      "text/plain": [
       "-PoissonBracket(-PoissonBracket(X(x, p_x), Y(x, p_x)), PoissonBracket(PoissonBracket(PoissonBracket(-PoissonBracket(X(x, p_x), Y(x, p_x)), X(x, p_x)), X(x, p_x)), Y(x, p_x)))"
      ]
     },
     "metadata": {},
     "output_type": "display_data"
    },
    {
     "name": "stdout",
     "output_type": "stream",
     "text": [
      "i:31 , |i|: 7, i':10, i\": 3, s_i: 6 \n"
     ]
    },
    {
     "data": {
      "text/latex": [
       "$\\displaystyle - \\lbrace - \\lbrace X,Y \\rbrace ,\\lbrace \\lbrace \\lbrace - \\lbrace X,Y \\rbrace ,X \\rbrace ,Y \\rbrace ,Y \\rbrace  \\rbrace $"
      ],
      "text/plain": [
       "-PoissonBracket(-PoissonBracket(X(x, p_x), Y(x, p_x)), PoissonBracket(PoissonBracket(PoissonBracket(-PoissonBracket(X(x, p_x), Y(x, p_x)), X(x, p_x)), Y(x, p_x)), Y(x, p_x)))"
      ]
     },
     "metadata": {},
     "output_type": "display_data"
    },
    {
     "name": "stdout",
     "output_type": "stream",
     "text": [
      "i:32 , |i|: 7, i':11, i\": 3, s_i: 4 \n"
     ]
    },
    {
     "data": {
      "text/latex": [
       "$\\displaystyle - \\lbrace - \\lbrace X,Y \\rbrace ,\\lbrace \\lbrace \\lbrace - \\lbrace X,Y \\rbrace ,Y \\rbrace ,Y \\rbrace ,Y \\rbrace  \\rbrace $"
      ],
      "text/plain": [
       "-PoissonBracket(-PoissonBracket(X(x, p_x), Y(x, p_x)), PoissonBracket(PoissonBracket(PoissonBracket(-PoissonBracket(X(x, p_x), Y(x, p_x)), Y(x, p_x)), Y(x, p_x)), Y(x, p_x)))"
      ]
     },
     "metadata": {},
     "output_type": "display_data"
    },
    {
     "name": "stdout",
     "output_type": "stream",
     "text": [
      "i:33 , |i|: 7, i':12, i\": 3, s_i: 6 \n"
     ]
    },
    {
     "data": {
      "text/latex": [
       "$\\displaystyle \\lbrace - \\lbrace - \\lbrace X,Y \\rbrace ,\\lbrace - \\lbrace X,Y \\rbrace ,X \\rbrace  \\rbrace ,- \\lbrace X,Y \\rbrace  \\rbrace $"
      ],
      "text/plain": [
       "PoissonBracket(-PoissonBracket(-PoissonBracket(X(x, p_x), Y(x, p_x)), PoissonBracket(-PoissonBracket(X(x, p_x), Y(x, p_x)), X(x, p_x))), -PoissonBracket(X(x, p_x), Y(x, p_x)))"
      ]
     },
     "metadata": {},
     "output_type": "display_data"
    },
    {
     "name": "stdout",
     "output_type": "stream",
     "text": [
      "i:34 , |i|: 7, i':13, i\": 3, s_i: 4 \n"
     ]
    },
    {
     "data": {
      "text/latex": [
       "$\\displaystyle \\lbrace - \\lbrace - \\lbrace X,Y \\rbrace ,\\lbrace - \\lbrace X,Y \\rbrace ,Y \\rbrace  \\rbrace ,- \\lbrace X,Y \\rbrace  \\rbrace $"
      ],
      "text/plain": [
       "PoissonBracket(-PoissonBracket(-PoissonBracket(X(x, p_x), Y(x, p_x)), PoissonBracket(-PoissonBracket(X(x, p_x), Y(x, p_x)), Y(x, p_x))), -PoissonBracket(X(x, p_x), Y(x, p_x)))"
      ]
     },
     "metadata": {},
     "output_type": "display_data"
    },
    {
     "name": "stdout",
     "output_type": "stream",
     "text": [
      "i:35 , |i|: 7, i':14, i\": 3, s_i: 2 \n"
     ]
    },
    {
     "data": {
      "text/latex": [
       "$\\displaystyle - \\lbrace \\lbrace - \\lbrace X,Y \\rbrace ,X \\rbrace ,\\lbrace \\lbrace - \\lbrace X,Y \\rbrace ,X \\rbrace ,X \\rbrace  \\rbrace $"
      ],
      "text/plain": [
       "-PoissonBracket(PoissonBracket(-PoissonBracket(X(x, p_x), Y(x, p_x)), X(x, p_x)), PoissonBracket(PoissonBracket(-PoissonBracket(X(x, p_x), Y(x, p_x)), X(x, p_x)), X(x, p_x)))"
      ]
     },
     "metadata": {},
     "output_type": "display_data"
    },
    {
     "name": "stdout",
     "output_type": "stream",
     "text": [
      "i:36 , |i|: 7, i': 6, i\": 4, s_i:12 \n"
     ]
    },
    {
     "data": {
      "text/latex": [
       "$\\displaystyle - \\lbrace \\lbrace - \\lbrace X,Y \\rbrace ,X \\rbrace ,\\lbrace \\lbrace - \\lbrace X,Y \\rbrace ,X \\rbrace ,Y \\rbrace  \\rbrace $"
      ],
      "text/plain": [
       "-PoissonBracket(PoissonBracket(-PoissonBracket(X(x, p_x), Y(x, p_x)), X(x, p_x)), PoissonBracket(PoissonBracket(-PoissonBracket(X(x, p_x), Y(x, p_x)), X(x, p_x)), Y(x, p_x)))"
      ]
     },
     "metadata": {},
     "output_type": "display_data"
    },
    {
     "name": "stdout",
     "output_type": "stream",
     "text": [
      "i:37 , |i|: 7, i': 7, i\": 4, s_i: 4 \n"
     ]
    },
    {
     "data": {
      "text/latex": [
       "$\\displaystyle - \\lbrace \\lbrace - \\lbrace X,Y \\rbrace ,X \\rbrace ,\\lbrace \\lbrace - \\lbrace X,Y \\rbrace ,Y \\rbrace ,Y \\rbrace  \\rbrace $"
      ],
      "text/plain": [
       "-PoissonBracket(PoissonBracket(-PoissonBracket(X(x, p_x), Y(x, p_x)), X(x, p_x)), PoissonBracket(PoissonBracket(-PoissonBracket(X(x, p_x), Y(x, p_x)), Y(x, p_x)), Y(x, p_x)))"
      ]
     },
     "metadata": {},
     "output_type": "display_data"
    },
    {
     "name": "stdout",
     "output_type": "stream",
     "text": [
      "i:38 , |i|: 7, i': 8, i\": 4, s_i: 4 \n"
     ]
    },
    {
     "data": {
      "text/latex": [
       "$\\displaystyle - \\lbrace \\lbrace - \\lbrace X,Y \\rbrace ,Y \\rbrace ,\\lbrace \\lbrace - \\lbrace X,Y \\rbrace ,X \\rbrace ,X \\rbrace  \\rbrace $"
      ],
      "text/plain": [
       "-PoissonBracket(PoissonBracket(-PoissonBracket(X(x, p_x), Y(x, p_x)), Y(x, p_x)), PoissonBracket(PoissonBracket(-PoissonBracket(X(x, p_x), Y(x, p_x)), X(x, p_x)), X(x, p_x)))"
      ]
     },
     "metadata": {},
     "output_type": "display_data"
    },
    {
     "name": "stdout",
     "output_type": "stream",
     "text": [
      "i:39 , |i|: 7, i': 6, i\": 5, s_i: 6 \n"
     ]
    },
    {
     "data": {
      "text/latex": [
       "$\\displaystyle - \\lbrace \\lbrace - \\lbrace X,Y \\rbrace ,Y \\rbrace ,\\lbrace \\lbrace - \\lbrace X,Y \\rbrace ,X \\rbrace ,Y \\rbrace  \\rbrace $"
      ],
      "text/plain": [
       "-PoissonBracket(PoissonBracket(-PoissonBracket(X(x, p_x), Y(x, p_x)), Y(x, p_x)), PoissonBracket(PoissonBracket(-PoissonBracket(X(x, p_x), Y(x, p_x)), X(x, p_x)), Y(x, p_x)))"
      ]
     },
     "metadata": {},
     "output_type": "display_data"
    },
    {
     "name": "stdout",
     "output_type": "stream",
     "text": [
      "i:40 , |i|: 7, i': 7, i\": 5, s_i: 2 \n"
     ]
    },
    {
     "data": {
      "text/latex": [
       "$\\displaystyle - \\lbrace \\lbrace - \\lbrace X,Y \\rbrace ,Y \\rbrace ,\\lbrace \\lbrace - \\lbrace X,Y \\rbrace ,Y \\rbrace ,Y \\rbrace  \\rbrace $"
      ],
      "text/plain": [
       "-PoissonBracket(PoissonBracket(-PoissonBracket(X(x, p_x), Y(x, p_x)), Y(x, p_x)), PoissonBracket(PoissonBracket(-PoissonBracket(X(x, p_x), Y(x, p_x)), Y(x, p_x)), Y(x, p_x)))"
      ]
     },
     "metadata": {},
     "output_type": "display_data"
    },
    {
     "name": "stdout",
     "output_type": "stream",
     "text": [
      "i:41 , |i|: 7, i': 8, i\": 5, s_i: 2 \n"
     ]
    },
    {
     "data": {
      "text/latex": [
       "$\\displaystyle \\lbrace \\lbrace \\lbrace \\lbrace \\lbrace \\lbrace - \\lbrace X,Y \\rbrace ,X \\rbrace ,X \\rbrace ,X \\rbrace ,X \\rbrace ,X \\rbrace ,X \\rbrace $"
      ],
      "text/plain": [
       "PoissonBracket(PoissonBracket(PoissonBracket(PoissonBracket(PoissonBracket(PoissonBracket(-PoissonBracket(X(x, p_x), Y(x, p_x)), X(x, p_x)), X(x, p_x)), X(x, p_x)), X(x, p_x)), X(x, p_x)), X(x, p_x))"
      ]
     },
     "metadata": {},
     "output_type": "display_data"
    },
    {
     "name": "stdout",
     "output_type": "stream",
     "text": [
      "i:42 , |i|: 8, i':24, i\": 1, s_i:5040 \n"
     ]
    },
    {
     "data": {
      "text/latex": [
       "$\\displaystyle \\lbrace \\lbrace \\lbrace \\lbrace \\lbrace \\lbrace - \\lbrace X,Y \\rbrace ,X \\rbrace ,X \\rbrace ,X \\rbrace ,X \\rbrace ,X \\rbrace ,Y \\rbrace $"
      ],
      "text/plain": [
       "PoissonBracket(PoissonBracket(PoissonBracket(PoissonBracket(PoissonBracket(PoissonBracket(-PoissonBracket(X(x, p_x), Y(x, p_x)), X(x, p_x)), X(x, p_x)), X(x, p_x)), X(x, p_x)), X(x, p_x)), Y(x, p_x))"
      ]
     },
     "metadata": {},
     "output_type": "display_data"
    },
    {
     "name": "stdout",
     "output_type": "stream",
     "text": [
      "i:43 , |i|: 8, i':24, i\": 2, s_i:720 \n"
     ]
    },
    {
     "data": {
      "text/latex": [
       "$\\displaystyle \\lbrace \\lbrace \\lbrace \\lbrace \\lbrace \\lbrace - \\lbrace X,Y \\rbrace ,X \\rbrace ,X \\rbrace ,X \\rbrace ,X \\rbrace ,Y \\rbrace ,Y \\rbrace $"
      ],
      "text/plain": [
       "PoissonBracket(PoissonBracket(PoissonBracket(PoissonBracket(PoissonBracket(PoissonBracket(-PoissonBracket(X(x, p_x), Y(x, p_x)), X(x, p_x)), X(x, p_x)), X(x, p_x)), X(x, p_x)), Y(x, p_x)), Y(x, p_x))"
      ]
     },
     "metadata": {},
     "output_type": "display_data"
    },
    {
     "name": "stdout",
     "output_type": "stream",
     "text": [
      "i:44 , |i|: 8, i':25, i\": 2, s_i:240 \n"
     ]
    },
    {
     "data": {
      "text/latex": [
       "$\\displaystyle \\lbrace \\lbrace \\lbrace \\lbrace \\lbrace \\lbrace - \\lbrace X,Y \\rbrace ,X \\rbrace ,X \\rbrace ,X \\rbrace ,Y \\rbrace ,Y \\rbrace ,Y \\rbrace $"
      ],
      "text/plain": [
       "PoissonBracket(PoissonBracket(PoissonBracket(PoissonBracket(PoissonBracket(PoissonBracket(-PoissonBracket(X(x, p_x), Y(x, p_x)), X(x, p_x)), X(x, p_x)), X(x, p_x)), Y(x, p_x)), Y(x, p_x)), Y(x, p_x))"
      ]
     },
     "metadata": {},
     "output_type": "display_data"
    },
    {
     "name": "stdout",
     "output_type": "stream",
     "text": [
      "i:45 , |i|: 8, i':26, i\": 2, s_i:144 \n"
     ]
    },
    {
     "data": {
      "text/latex": [
       "$\\displaystyle \\lbrace \\lbrace \\lbrace \\lbrace \\lbrace \\lbrace - \\lbrace X,Y \\rbrace ,X \\rbrace ,X \\rbrace ,Y \\rbrace ,Y \\rbrace ,Y \\rbrace ,Y \\rbrace $"
      ],
      "text/plain": [
       "PoissonBracket(PoissonBracket(PoissonBracket(PoissonBracket(PoissonBracket(PoissonBracket(-PoissonBracket(X(x, p_x), Y(x, p_x)), X(x, p_x)), X(x, p_x)), Y(x, p_x)), Y(x, p_x)), Y(x, p_x)), Y(x, p_x))"
      ]
     },
     "metadata": {},
     "output_type": "display_data"
    },
    {
     "name": "stdout",
     "output_type": "stream",
     "text": [
      "i:46 , |i|: 8, i':27, i\": 2, s_i:144 \n"
     ]
    },
    {
     "data": {
      "text/latex": [
       "$\\displaystyle \\lbrace \\lbrace \\lbrace \\lbrace \\lbrace \\lbrace - \\lbrace X,Y \\rbrace ,X \\rbrace ,Y \\rbrace ,Y \\rbrace ,Y \\rbrace ,Y \\rbrace ,Y \\rbrace $"
      ],
      "text/plain": [
       "PoissonBracket(PoissonBracket(PoissonBracket(PoissonBracket(PoissonBracket(PoissonBracket(-PoissonBracket(X(x, p_x), Y(x, p_x)), X(x, p_x)), Y(x, p_x)), Y(x, p_x)), Y(x, p_x)), Y(x, p_x)), Y(x, p_x))"
      ]
     },
     "metadata": {},
     "output_type": "display_data"
    },
    {
     "name": "stdout",
     "output_type": "stream",
     "text": [
      "i:47 , |i|: 8, i':28, i\": 2, s_i:240 \n"
     ]
    },
    {
     "data": {
      "text/latex": [
       "$\\displaystyle \\lbrace \\lbrace \\lbrace \\lbrace \\lbrace \\lbrace - \\lbrace X,Y \\rbrace ,Y \\rbrace ,Y \\rbrace ,Y \\rbrace ,Y \\rbrace ,Y \\rbrace ,Y \\rbrace $"
      ],
      "text/plain": [
       "PoissonBracket(PoissonBracket(PoissonBracket(PoissonBracket(PoissonBracket(PoissonBracket(-PoissonBracket(X(x, p_x), Y(x, p_x)), Y(x, p_x)), Y(x, p_x)), Y(x, p_x)), Y(x, p_x)), Y(x, p_x)), Y(x, p_x))"
      ]
     },
     "metadata": {},
     "output_type": "display_data"
    },
    {
     "name": "stdout",
     "output_type": "stream",
     "text": [
      "i:48 , |i|: 8, i':29, i\": 2, s_i:720 \n"
     ]
    },
    {
     "data": {
      "text/latex": [
       "$\\displaystyle - \\lbrace - \\lbrace X,Y \\rbrace ,\\lbrace \\lbrace \\lbrace \\lbrace - \\lbrace X,Y \\rbrace ,X \\rbrace ,X \\rbrace ,X \\rbrace ,X \\rbrace  \\rbrace $"
      ],
      "text/plain": [
       "-PoissonBracket(-PoissonBracket(X(x, p_x), Y(x, p_x)), PoissonBracket(PoissonBracket(PoissonBracket(PoissonBracket(-PoissonBracket(X(x, p_x), Y(x, p_x)), X(x, p_x)), X(x, p_x)), X(x, p_x)), X(x, p_x)))"
      ]
     },
     "metadata": {},
     "output_type": "display_data"
    },
    {
     "name": "stdout",
     "output_type": "stream",
     "text": [
      "i:49 , |i|: 8, i':15, i\": 3, s_i:120 \n"
     ]
    },
    {
     "data": {
      "text/latex": [
       "$\\displaystyle - \\lbrace - \\lbrace X,Y \\rbrace ,\\lbrace \\lbrace \\lbrace \\lbrace - \\lbrace X,Y \\rbrace ,X \\rbrace ,X \\rbrace ,X \\rbrace ,Y \\rbrace  \\rbrace $"
      ],
      "text/plain": [
       "-PoissonBracket(-PoissonBracket(X(x, p_x), Y(x, p_x)), PoissonBracket(PoissonBracket(PoissonBracket(PoissonBracket(-PoissonBracket(X(x, p_x), Y(x, p_x)), X(x, p_x)), X(x, p_x)), X(x, p_x)), Y(x, p_x)))"
      ]
     },
     "metadata": {},
     "output_type": "display_data"
    },
    {
     "name": "stdout",
     "output_type": "stream",
     "text": [
      "i:50 , |i|: 8, i':16, i\": 3, s_i:24 \n"
     ]
    },
    {
     "data": {
      "text/latex": [
       "$\\displaystyle - \\lbrace - \\lbrace X,Y \\rbrace ,\\lbrace \\lbrace \\lbrace \\lbrace - \\lbrace X,Y \\rbrace ,X \\rbrace ,X \\rbrace ,Y \\rbrace ,Y \\rbrace  \\rbrace $"
      ],
      "text/plain": [
       "-PoissonBracket(-PoissonBracket(X(x, p_x), Y(x, p_x)), PoissonBracket(PoissonBracket(PoissonBracket(PoissonBracket(-PoissonBracket(X(x, p_x), Y(x, p_x)), X(x, p_x)), X(x, p_x)), Y(x, p_x)), Y(x, p_x)))"
      ]
     },
     "metadata": {},
     "output_type": "display_data"
    },
    {
     "name": "stdout",
     "output_type": "stream",
     "text": [
      "i:51 , |i|: 8, i':17, i\": 3, s_i:12 \n"
     ]
    },
    {
     "data": {
      "text/latex": [
       "$\\displaystyle - \\lbrace - \\lbrace X,Y \\rbrace ,\\lbrace \\lbrace \\lbrace \\lbrace - \\lbrace X,Y \\rbrace ,X \\rbrace ,Y \\rbrace ,Y \\rbrace ,Y \\rbrace  \\rbrace $"
      ],
      "text/plain": [
       "-PoissonBracket(-PoissonBracket(X(x, p_x), Y(x, p_x)), PoissonBracket(PoissonBracket(PoissonBracket(PoissonBracket(-PoissonBracket(X(x, p_x), Y(x, p_x)), X(x, p_x)), Y(x, p_x)), Y(x, p_x)), Y(x, p_x)))"
      ]
     },
     "metadata": {},
     "output_type": "display_data"
    },
    {
     "name": "stdout",
     "output_type": "stream",
     "text": [
      "i:52 , |i|: 8, i':18, i\": 3, s_i:12 \n"
     ]
    },
    {
     "data": {
      "text/latex": [
       "$\\displaystyle - \\lbrace - \\lbrace X,Y \\rbrace ,\\lbrace \\lbrace \\lbrace \\lbrace - \\lbrace X,Y \\rbrace ,Y \\rbrace ,Y \\rbrace ,Y \\rbrace ,Y \\rbrace  \\rbrace $"
      ],
      "text/plain": [
       "-PoissonBracket(-PoissonBracket(X(x, p_x), Y(x, p_x)), PoissonBracket(PoissonBracket(PoissonBracket(PoissonBracket(-PoissonBracket(X(x, p_x), Y(x, p_x)), Y(x, p_x)), Y(x, p_x)), Y(x, p_x)), Y(x, p_x)))"
      ]
     },
     "metadata": {},
     "output_type": "display_data"
    },
    {
     "name": "stdout",
     "output_type": "stream",
     "text": [
      "i:53 , |i|: 8, i':19, i\": 3, s_i:24 \n"
     ]
    },
    {
     "data": {
      "text/latex": [
       "$\\displaystyle \\lbrace - \\lbrace - \\lbrace X,Y \\rbrace ,\\lbrace \\lbrace - \\lbrace X,Y \\rbrace ,X \\rbrace ,X \\rbrace  \\rbrace ,- \\lbrace X,Y \\rbrace  \\rbrace $"
      ],
      "text/plain": [
       "PoissonBracket(-PoissonBracket(-PoissonBracket(X(x, p_x), Y(x, p_x)), PoissonBracket(PoissonBracket(-PoissonBracket(X(x, p_x), Y(x, p_x)), X(x, p_x)), X(x, p_x))), -PoissonBracket(X(x, p_x), Y(x, p_x)))"
      ]
     },
     "metadata": {},
     "output_type": "display_data"
    },
    {
     "name": "stdout",
     "output_type": "stream",
     "text": [
      "i:54 , |i|: 8, i':20, i\": 3, s_i:12 \n"
     ]
    },
    {
     "data": {
      "text/latex": [
       "$\\displaystyle \\lbrace - \\lbrace - \\lbrace X,Y \\rbrace ,\\lbrace \\lbrace - \\lbrace X,Y \\rbrace ,X \\rbrace ,Y \\rbrace  \\rbrace ,- \\lbrace X,Y \\rbrace  \\rbrace $"
      ],
      "text/plain": [
       "PoissonBracket(-PoissonBracket(-PoissonBracket(X(x, p_x), Y(x, p_x)), PoissonBracket(PoissonBracket(-PoissonBracket(X(x, p_x), Y(x, p_x)), X(x, p_x)), Y(x, p_x))), -PoissonBracket(X(x, p_x), Y(x, p_x)))"
      ]
     },
     "metadata": {},
     "output_type": "display_data"
    },
    {
     "name": "stdout",
     "output_type": "stream",
     "text": [
      "i:55 , |i|: 8, i':21, i\": 3, s_i: 4 \n"
     ]
    },
    {
     "data": {
      "text/latex": [
       "$\\displaystyle \\lbrace - \\lbrace - \\lbrace X,Y \\rbrace ,\\lbrace \\lbrace - \\lbrace X,Y \\rbrace ,Y \\rbrace ,Y \\rbrace  \\rbrace ,- \\lbrace X,Y \\rbrace  \\rbrace $"
      ],
      "text/plain": [
       "PoissonBracket(-PoissonBracket(-PoissonBracket(X(x, p_x), Y(x, p_x)), PoissonBracket(PoissonBracket(-PoissonBracket(X(x, p_x), Y(x, p_x)), Y(x, p_x)), Y(x, p_x))), -PoissonBracket(X(x, p_x), Y(x, p_x)))"
      ]
     },
     "metadata": {},
     "output_type": "display_data"
    },
    {
     "name": "stdout",
     "output_type": "stream",
     "text": [
      "i:56 , |i|: 8, i':22, i\": 3, s_i: 4 \n"
     ]
    },
    {
     "data": {
      "text/latex": [
       "$\\displaystyle - \\lbrace \\lbrace - \\lbrace X,Y \\rbrace ,X \\rbrace ,\\lbrace \\lbrace \\lbrace - \\lbrace X,Y \\rbrace ,X \\rbrace ,X \\rbrace ,X \\rbrace  \\rbrace $"
      ],
      "text/plain": [
       "-PoissonBracket(PoissonBracket(-PoissonBracket(X(x, p_x), Y(x, p_x)), X(x, p_x)), PoissonBracket(PoissonBracket(PoissonBracket(-PoissonBracket(X(x, p_x), Y(x, p_x)), X(x, p_x)), X(x, p_x)), X(x, p_x)))"
      ]
     },
     "metadata": {},
     "output_type": "display_data"
    },
    {
     "name": "stdout",
     "output_type": "stream",
     "text": [
      "i:57 , |i|: 8, i': 9, i\": 4, s_i:48 \n"
     ]
    },
    {
     "data": {
      "text/latex": [
       "$\\displaystyle - \\lbrace \\lbrace - \\lbrace X,Y \\rbrace ,X \\rbrace ,\\lbrace \\lbrace \\lbrace - \\lbrace X,Y \\rbrace ,X \\rbrace ,X \\rbrace ,Y \\rbrace  \\rbrace $"
      ],
      "text/plain": [
       "-PoissonBracket(PoissonBracket(-PoissonBracket(X(x, p_x), Y(x, p_x)), X(x, p_x)), PoissonBracket(PoissonBracket(PoissonBracket(-PoissonBracket(X(x, p_x), Y(x, p_x)), X(x, p_x)), X(x, p_x)), Y(x, p_x)))"
      ]
     },
     "metadata": {},
     "output_type": "display_data"
    },
    {
     "name": "stdout",
     "output_type": "stream",
     "text": [
      "i:58 , |i|: 8, i':10, i\": 4, s_i:12 \n"
     ]
    },
    {
     "data": {
      "text/latex": [
       "$\\displaystyle - \\lbrace \\lbrace - \\lbrace X,Y \\rbrace ,X \\rbrace ,\\lbrace \\lbrace \\lbrace - \\lbrace X,Y \\rbrace ,X \\rbrace ,Y \\rbrace ,Y \\rbrace  \\rbrace $"
      ],
      "text/plain": [
       "-PoissonBracket(PoissonBracket(-PoissonBracket(X(x, p_x), Y(x, p_x)), X(x, p_x)), PoissonBracket(PoissonBracket(PoissonBracket(-PoissonBracket(X(x, p_x), Y(x, p_x)), X(x, p_x)), Y(x, p_x)), Y(x, p_x)))"
      ]
     },
     "metadata": {},
     "output_type": "display_data"
    },
    {
     "name": "stdout",
     "output_type": "stream",
     "text": [
      "i:59 , |i|: 8, i':11, i\": 4, s_i: 8 \n"
     ]
    },
    {
     "data": {
      "text/latex": [
       "$\\displaystyle - \\lbrace \\lbrace - \\lbrace X,Y \\rbrace ,X \\rbrace ,\\lbrace \\lbrace \\lbrace - \\lbrace X,Y \\rbrace ,Y \\rbrace ,Y \\rbrace ,Y \\rbrace  \\rbrace $"
      ],
      "text/plain": [
       "-PoissonBracket(PoissonBracket(-PoissonBracket(X(x, p_x), Y(x, p_x)), X(x, p_x)), PoissonBracket(PoissonBracket(PoissonBracket(-PoissonBracket(X(x, p_x), Y(x, p_x)), Y(x, p_x)), Y(x, p_x)), Y(x, p_x)))"
      ]
     },
     "metadata": {},
     "output_type": "display_data"
    },
    {
     "name": "stdout",
     "output_type": "stream",
     "text": [
      "i:60 , |i|: 8, i':12, i\": 4, s_i:12 \n"
     ]
    },
    {
     "data": {
      "text/latex": [
       "$\\displaystyle \\lbrace - \\lbrace - \\lbrace X,Y \\rbrace ,\\lbrace - \\lbrace X,Y \\rbrace ,X \\rbrace  \\rbrace ,\\lbrace - \\lbrace X,Y \\rbrace ,X \\rbrace  \\rbrace $"
      ],
      "text/plain": [
       "PoissonBracket(-PoissonBracket(-PoissonBracket(X(x, p_x), Y(x, p_x)), PoissonBracket(-PoissonBracket(X(x, p_x), Y(x, p_x)), X(x, p_x))), PoissonBracket(-PoissonBracket(X(x, p_x), Y(x, p_x)), X(x, p_x)))"
      ]
     },
     "metadata": {},
     "output_type": "display_data"
    },
    {
     "name": "stdout",
     "output_type": "stream",
     "text": [
      "i:61 , |i|: 8, i':13, i\": 4, s_i: 4 \n"
     ]
    },
    {
     "data": {
      "text/latex": [
       "$\\displaystyle \\lbrace - \\lbrace - \\lbrace X,Y \\rbrace ,\\lbrace - \\lbrace X,Y \\rbrace ,Y \\rbrace  \\rbrace ,\\lbrace - \\lbrace X,Y \\rbrace ,X \\rbrace  \\rbrace $"
      ],
      "text/plain": [
       "PoissonBracket(-PoissonBracket(-PoissonBracket(X(x, p_x), Y(x, p_x)), PoissonBracket(-PoissonBracket(X(x, p_x), Y(x, p_x)), Y(x, p_x))), PoissonBracket(-PoissonBracket(X(x, p_x), Y(x, p_x)), X(x, p_x)))"
      ]
     },
     "metadata": {},
     "output_type": "display_data"
    },
    {
     "name": "stdout",
     "output_type": "stream",
     "text": [
      "i:62 , |i|: 8, i':14, i\": 4, s_i: 2 \n"
     ]
    },
    {
     "data": {
      "text/latex": [
       "$\\displaystyle - \\lbrace \\lbrace - \\lbrace X,Y \\rbrace ,Y \\rbrace ,\\lbrace \\lbrace \\lbrace - \\lbrace X,Y \\rbrace ,X \\rbrace ,X \\rbrace ,X \\rbrace  \\rbrace $"
      ],
      "text/plain": [
       "-PoissonBracket(PoissonBracket(-PoissonBracket(X(x, p_x), Y(x, p_x)), Y(x, p_x)), PoissonBracket(PoissonBracket(PoissonBracket(-PoissonBracket(X(x, p_x), Y(x, p_x)), X(x, p_x)), X(x, p_x)), X(x, p_x)))"
      ]
     },
     "metadata": {},
     "output_type": "display_data"
    },
    {
     "name": "stdout",
     "output_type": "stream",
     "text": [
      "i:63 , |i|: 8, i': 9, i\": 5, s_i:24 \n"
     ]
    },
    {
     "data": {
      "text/latex": [
       "$\\displaystyle - \\lbrace \\lbrace - \\lbrace X,Y \\rbrace ,Y \\rbrace ,\\lbrace \\lbrace \\lbrace - \\lbrace X,Y \\rbrace ,X \\rbrace ,X \\rbrace ,Y \\rbrace  \\rbrace $"
      ],
      "text/plain": [
       "-PoissonBracket(PoissonBracket(-PoissonBracket(X(x, p_x), Y(x, p_x)), Y(x, p_x)), PoissonBracket(PoissonBracket(PoissonBracket(-PoissonBracket(X(x, p_x), Y(x, p_x)), X(x, p_x)), X(x, p_x)), Y(x, p_x)))"
      ]
     },
     "metadata": {},
     "output_type": "display_data"
    },
    {
     "name": "stdout",
     "output_type": "stream",
     "text": [
      "i:64 , |i|: 8, i':10, i\": 5, s_i: 6 \n"
     ]
    },
    {
     "data": {
      "text/latex": [
       "$\\displaystyle - \\lbrace \\lbrace - \\lbrace X,Y \\rbrace ,Y \\rbrace ,\\lbrace \\lbrace \\lbrace - \\lbrace X,Y \\rbrace ,X \\rbrace ,Y \\rbrace ,Y \\rbrace  \\rbrace $"
      ],
      "text/plain": [
       "-PoissonBracket(PoissonBracket(-PoissonBracket(X(x, p_x), Y(x, p_x)), Y(x, p_x)), PoissonBracket(PoissonBracket(PoissonBracket(-PoissonBracket(X(x, p_x), Y(x, p_x)), X(x, p_x)), Y(x, p_x)), Y(x, p_x)))"
      ]
     },
     "metadata": {},
     "output_type": "display_data"
    },
    {
     "name": "stdout",
     "output_type": "stream",
     "text": [
      "i:65 , |i|: 8, i':11, i\": 5, s_i: 4 \n"
     ]
    },
    {
     "data": {
      "text/latex": [
       "$\\displaystyle - \\lbrace \\lbrace - \\lbrace X,Y \\rbrace ,Y \\rbrace ,\\lbrace \\lbrace \\lbrace - \\lbrace X,Y \\rbrace ,Y \\rbrace ,Y \\rbrace ,Y \\rbrace  \\rbrace $"
      ],
      "text/plain": [
       "-PoissonBracket(PoissonBracket(-PoissonBracket(X(x, p_x), Y(x, p_x)), Y(x, p_x)), PoissonBracket(PoissonBracket(PoissonBracket(-PoissonBracket(X(x, p_x), Y(x, p_x)), Y(x, p_x)), Y(x, p_x)), Y(x, p_x)))"
      ]
     },
     "metadata": {},
     "output_type": "display_data"
    },
    {
     "name": "stdout",
     "output_type": "stream",
     "text": [
      "i:66 , |i|: 8, i':12, i\": 5, s_i: 6 \n"
     ]
    },
    {
     "data": {
      "text/latex": [
       "$\\displaystyle \\lbrace - \\lbrace - \\lbrace X,Y \\rbrace ,\\lbrace - \\lbrace X,Y \\rbrace ,X \\rbrace  \\rbrace ,\\lbrace - \\lbrace X,Y \\rbrace ,Y \\rbrace  \\rbrace $"
      ],
      "text/plain": [
       "PoissonBracket(-PoissonBracket(-PoissonBracket(X(x, p_x), Y(x, p_x)), PoissonBracket(-PoissonBracket(X(x, p_x), Y(x, p_x)), X(x, p_x))), PoissonBracket(-PoissonBracket(X(x, p_x), Y(x, p_x)), Y(x, p_x)))"
      ]
     },
     "metadata": {},
     "output_type": "display_data"
    },
    {
     "name": "stdout",
     "output_type": "stream",
     "text": [
      "i:67 , |i|: 8, i':13, i\": 5, s_i: 2 \n"
     ]
    },
    {
     "data": {
      "text/latex": [
       "$\\displaystyle \\lbrace - \\lbrace - \\lbrace X,Y \\rbrace ,\\lbrace - \\lbrace X,Y \\rbrace ,Y \\rbrace  \\rbrace ,\\lbrace - \\lbrace X,Y \\rbrace ,Y \\rbrace  \\rbrace $"
      ],
      "text/plain": [
       "PoissonBracket(-PoissonBracket(-PoissonBracket(X(x, p_x), Y(x, p_x)), PoissonBracket(-PoissonBracket(X(x, p_x), Y(x, p_x)), Y(x, p_x))), PoissonBracket(-PoissonBracket(X(x, p_x), Y(x, p_x)), Y(x, p_x)))"
      ]
     },
     "metadata": {},
     "output_type": "display_data"
    },
    {
     "name": "stdout",
     "output_type": "stream",
     "text": [
      "i:68 , |i|: 8, i':14, i\": 5, s_i: 1 \n"
     ]
    },
    {
     "data": {
      "text/latex": [
       "$\\displaystyle - \\lbrace \\lbrace \\lbrace - \\lbrace X,Y \\rbrace ,X \\rbrace ,X \\rbrace ,\\lbrace \\lbrace - \\lbrace X,Y \\rbrace ,X \\rbrace ,Y \\rbrace  \\rbrace $"
      ],
      "text/plain": [
       "-PoissonBracket(PoissonBracket(PoissonBracket(-PoissonBracket(X(x, p_x), Y(x, p_x)), X(x, p_x)), X(x, p_x)), PoissonBracket(PoissonBracket(-PoissonBracket(X(x, p_x), Y(x, p_x)), X(x, p_x)), Y(x, p_x)))"
      ]
     },
     "metadata": {},
     "output_type": "display_data"
    },
    {
     "name": "stdout",
     "output_type": "stream",
     "text": [
      "i:69 , |i|: 8, i': 7, i\": 6, s_i:12 \n"
     ]
    },
    {
     "data": {
      "text/latex": [
       "$\\displaystyle - \\lbrace \\lbrace \\lbrace - \\lbrace X,Y \\rbrace ,X \\rbrace ,X \\rbrace ,\\lbrace \\lbrace - \\lbrace X,Y \\rbrace ,Y \\rbrace ,Y \\rbrace  \\rbrace $"
      ],
      "text/plain": [
       "-PoissonBracket(PoissonBracket(PoissonBracket(-PoissonBracket(X(x, p_x), Y(x, p_x)), X(x, p_x)), X(x, p_x)), PoissonBracket(PoissonBracket(-PoissonBracket(X(x, p_x), Y(x, p_x)), Y(x, p_x)), Y(x, p_x)))"
      ]
     },
     "metadata": {},
     "output_type": "display_data"
    },
    {
     "name": "stdout",
     "output_type": "stream",
     "text": [
      "i:70 , |i|: 8, i': 8, i\": 6, s_i:12 \n"
     ]
    },
    {
     "data": {
      "text/latex": [
       "$\\displaystyle - \\lbrace \\lbrace \\lbrace - \\lbrace X,Y \\rbrace ,X \\rbrace ,Y \\rbrace ,\\lbrace \\lbrace - \\lbrace X,Y \\rbrace ,Y \\rbrace ,Y \\rbrace  \\rbrace $"
      ],
      "text/plain": [
       "-PoissonBracket(PoissonBracket(PoissonBracket(-PoissonBracket(X(x, p_x), Y(x, p_x)), X(x, p_x)), Y(x, p_x)), PoissonBracket(PoissonBracket(-PoissonBracket(X(x, p_x), Y(x, p_x)), Y(x, p_x)), Y(x, p_x)))"
      ]
     },
     "metadata": {},
     "output_type": "display_data"
    },
    {
     "name": "stdout",
     "output_type": "stream",
     "text": [
      "i:71 , |i|: 8, i': 8, i\": 7, s_i: 4 \n"
     ]
    },
    {
     "data": {
      "text/latex": [
       "$\\displaystyle \\lbrace \\lbrace \\lbrace \\lbrace \\lbrace \\lbrace \\lbrace - \\lbrace X,Y \\rbrace ,X \\rbrace ,X \\rbrace ,X \\rbrace ,X \\rbrace ,X \\rbrace ,X \\rbrace ,X \\rbrace $"
      ],
      "text/plain": [
       "PoissonBracket(PoissonBracket(PoissonBracket(PoissonBracket(PoissonBracket(PoissonBracket(PoissonBracket(-PoissonBracket(X(x, p_x), Y(x, p_x)), X(x, p_x)), X(x, p_x)), X(x, p_x)), X(x, p_x)), X(x, p_x)), X(x, p_x)), X(x, p_x))"
      ]
     },
     "metadata": {},
     "output_type": "display_data"
    },
    {
     "name": "stdout",
     "output_type": "stream",
     "text": [
      "i:72 , |i|: 9, i':42, i\": 1, s_i:40320 \n"
     ]
    },
    {
     "data": {
      "text/latex": [
       "$\\displaystyle \\lbrace \\lbrace \\lbrace \\lbrace \\lbrace \\lbrace \\lbrace - \\lbrace X,Y \\rbrace ,X \\rbrace ,X \\rbrace ,X \\rbrace ,X \\rbrace ,X \\rbrace ,X \\rbrace ,Y \\rbrace $"
      ],
      "text/plain": [
       "PoissonBracket(PoissonBracket(PoissonBracket(PoissonBracket(PoissonBracket(PoissonBracket(PoissonBracket(-PoissonBracket(X(x, p_x), Y(x, p_x)), X(x, p_x)), X(x, p_x)), X(x, p_x)), X(x, p_x)), X(x, p_x)), X(x, p_x)), Y(x, p_x))"
      ]
     },
     "metadata": {},
     "output_type": "display_data"
    },
    {
     "name": "stdout",
     "output_type": "stream",
     "text": [
      "i:73 , |i|: 9, i':42, i\": 2, s_i:5040 \n"
     ]
    },
    {
     "data": {
      "text/latex": [
       "$\\displaystyle \\lbrace \\lbrace \\lbrace \\lbrace \\lbrace \\lbrace \\lbrace - \\lbrace X,Y \\rbrace ,X \\rbrace ,X \\rbrace ,X \\rbrace ,X \\rbrace ,X \\rbrace ,Y \\rbrace ,Y \\rbrace $"
      ],
      "text/plain": [
       "PoissonBracket(PoissonBracket(PoissonBracket(PoissonBracket(PoissonBracket(PoissonBracket(PoissonBracket(-PoissonBracket(X(x, p_x), Y(x, p_x)), X(x, p_x)), X(x, p_x)), X(x, p_x)), X(x, p_x)), X(x, p_x)), Y(x, p_x)), Y(x, p_x))"
      ]
     },
     "metadata": {},
     "output_type": "display_data"
    },
    {
     "name": "stdout",
     "output_type": "stream",
     "text": [
      "i:74 , |i|: 9, i':43, i\": 2, s_i:1440 \n"
     ]
    },
    {
     "data": {
      "text/latex": [
       "$\\displaystyle \\lbrace \\lbrace \\lbrace \\lbrace \\lbrace \\lbrace \\lbrace - \\lbrace X,Y \\rbrace ,X \\rbrace ,X \\rbrace ,X \\rbrace ,X \\rbrace ,Y \\rbrace ,Y \\rbrace ,Y \\rbrace $"
      ],
      "text/plain": [
       "PoissonBracket(PoissonBracket(PoissonBracket(PoissonBracket(PoissonBracket(PoissonBracket(PoissonBracket(-PoissonBracket(X(x, p_x), Y(x, p_x)), X(x, p_x)), X(x, p_x)), X(x, p_x)), X(x, p_x)), Y(x, p_x)), Y(x, p_x)), Y(x, p_x))"
      ]
     },
     "metadata": {},
     "output_type": "display_data"
    },
    {
     "name": "stdout",
     "output_type": "stream",
     "text": [
      "i:75 , |i|: 9, i':44, i\": 2, s_i:720 \n"
     ]
    },
    {
     "data": {
      "text/latex": [
       "$\\displaystyle \\lbrace \\lbrace \\lbrace \\lbrace \\lbrace \\lbrace \\lbrace - \\lbrace X,Y \\rbrace ,X \\rbrace ,X \\rbrace ,X \\rbrace ,Y \\rbrace ,Y \\rbrace ,Y \\rbrace ,Y \\rbrace $"
      ],
      "text/plain": [
       "PoissonBracket(PoissonBracket(PoissonBracket(PoissonBracket(PoissonBracket(PoissonBracket(PoissonBracket(-PoissonBracket(X(x, p_x), Y(x, p_x)), X(x, p_x)), X(x, p_x)), X(x, p_x)), Y(x, p_x)), Y(x, p_x)), Y(x, p_x)), Y(x, p_x))"
      ]
     },
     "metadata": {},
     "output_type": "display_data"
    },
    {
     "name": "stdout",
     "output_type": "stream",
     "text": [
      "i:76 , |i|: 9, i':45, i\": 2, s_i:576 \n"
     ]
    },
    {
     "data": {
      "text/latex": [
       "$\\displaystyle \\lbrace \\lbrace \\lbrace \\lbrace \\lbrace \\lbrace \\lbrace - \\lbrace X,Y \\rbrace ,X \\rbrace ,X \\rbrace ,Y \\rbrace ,Y \\rbrace ,Y \\rbrace ,Y \\rbrace ,Y \\rbrace $"
      ],
      "text/plain": [
       "PoissonBracket(PoissonBracket(PoissonBracket(PoissonBracket(PoissonBracket(PoissonBracket(PoissonBracket(-PoissonBracket(X(x, p_x), Y(x, p_x)), X(x, p_x)), X(x, p_x)), Y(x, p_x)), Y(x, p_x)), Y(x, p_x)), Y(x, p_x)), Y(x, p_x))"
      ]
     },
     "metadata": {},
     "output_type": "display_data"
    },
    {
     "name": "stdout",
     "output_type": "stream",
     "text": [
      "i:77 , |i|: 9, i':46, i\": 2, s_i:720 \n"
     ]
    },
    {
     "data": {
      "text/latex": [
       "$\\displaystyle \\lbrace \\lbrace \\lbrace \\lbrace \\lbrace \\lbrace \\lbrace - \\lbrace X,Y \\rbrace ,X \\rbrace ,Y \\rbrace ,Y \\rbrace ,Y \\rbrace ,Y \\rbrace ,Y \\rbrace ,Y \\rbrace $"
      ],
      "text/plain": [
       "PoissonBracket(PoissonBracket(PoissonBracket(PoissonBracket(PoissonBracket(PoissonBracket(PoissonBracket(-PoissonBracket(X(x, p_x), Y(x, p_x)), X(x, p_x)), Y(x, p_x)), Y(x, p_x)), Y(x, p_x)), Y(x, p_x)), Y(x, p_x)), Y(x, p_x))"
      ]
     },
     "metadata": {},
     "output_type": "display_data"
    },
    {
     "name": "stdout",
     "output_type": "stream",
     "text": [
      "i:78 , |i|: 9, i':47, i\": 2, s_i:1440 \n"
     ]
    },
    {
     "data": {
      "text/latex": [
       "$\\displaystyle \\lbrace \\lbrace \\lbrace \\lbrace \\lbrace \\lbrace \\lbrace - \\lbrace X,Y \\rbrace ,Y \\rbrace ,Y \\rbrace ,Y \\rbrace ,Y \\rbrace ,Y \\rbrace ,Y \\rbrace ,Y \\rbrace $"
      ],
      "text/plain": [
       "PoissonBracket(PoissonBracket(PoissonBracket(PoissonBracket(PoissonBracket(PoissonBracket(PoissonBracket(-PoissonBracket(X(x, p_x), Y(x, p_x)), Y(x, p_x)), Y(x, p_x)), Y(x, p_x)), Y(x, p_x)), Y(x, p_x)), Y(x, p_x)), Y(x, p_x))"
      ]
     },
     "metadata": {},
     "output_type": "display_data"
    },
    {
     "name": "stdout",
     "output_type": "stream",
     "text": [
      "i:79 , |i|: 9, i':48, i\": 2, s_i:5040 \n"
     ]
    },
    {
     "data": {
      "text/latex": [
       "$\\displaystyle - \\lbrace - \\lbrace X,Y \\rbrace ,\\lbrace \\lbrace \\lbrace \\lbrace \\lbrace - \\lbrace X,Y \\rbrace ,X \\rbrace ,X \\rbrace ,X \\rbrace ,X \\rbrace ,X \\rbrace  \\rbrace $"
      ],
      "text/plain": [
       "-PoissonBracket(-PoissonBracket(X(x, p_x), Y(x, p_x)), PoissonBracket(PoissonBracket(PoissonBracket(PoissonBracket(PoissonBracket(-PoissonBracket(X(x, p_x), Y(x, p_x)), X(x, p_x)), X(x, p_x)), X(x, p_x)), X(x, p_x)), X(x, p_x)))"
      ]
     },
     "metadata": {},
     "output_type": "display_data"
    },
    {
     "name": "stdout",
     "output_type": "stream",
     "text": [
      "i:80 , |i|: 9, i':24, i\": 3, s_i:720 \n"
     ]
    },
    {
     "data": {
      "text/latex": [
       "$\\displaystyle - \\lbrace - \\lbrace X,Y \\rbrace ,\\lbrace \\lbrace \\lbrace \\lbrace \\lbrace - \\lbrace X,Y \\rbrace ,X \\rbrace ,X \\rbrace ,X \\rbrace ,X \\rbrace ,Y \\rbrace  \\rbrace $"
      ],
      "text/plain": [
       "-PoissonBracket(-PoissonBracket(X(x, p_x), Y(x, p_x)), PoissonBracket(PoissonBracket(PoissonBracket(PoissonBracket(PoissonBracket(-PoissonBracket(X(x, p_x), Y(x, p_x)), X(x, p_x)), X(x, p_x)), X(x, p_x)), X(x, p_x)), Y(x, p_x)))"
      ]
     },
     "metadata": {},
     "output_type": "display_data"
    },
    {
     "name": "stdout",
     "output_type": "stream",
     "text": [
      "i:81 , |i|: 9, i':25, i\": 3, s_i:120 \n"
     ]
    },
    {
     "data": {
      "text/latex": [
       "$\\displaystyle - \\lbrace - \\lbrace X,Y \\rbrace ,\\lbrace \\lbrace \\lbrace \\lbrace \\lbrace - \\lbrace X,Y \\rbrace ,X \\rbrace ,X \\rbrace ,X \\rbrace ,Y \\rbrace ,Y \\rbrace  \\rbrace $"
      ],
      "text/plain": [
       "-PoissonBracket(-PoissonBracket(X(x, p_x), Y(x, p_x)), PoissonBracket(PoissonBracket(PoissonBracket(PoissonBracket(PoissonBracket(-PoissonBracket(X(x, p_x), Y(x, p_x)), X(x, p_x)), X(x, p_x)), X(x, p_x)), Y(x, p_x)), Y(x, p_x)))"
      ]
     },
     "metadata": {},
     "output_type": "display_data"
    },
    {
     "name": "stdout",
     "output_type": "stream",
     "text": [
      "i:82 , |i|: 9, i':26, i\": 3, s_i:48 \n"
     ]
    },
    {
     "data": {
      "text/latex": [
       "$\\displaystyle - \\lbrace - \\lbrace X,Y \\rbrace ,\\lbrace \\lbrace \\lbrace \\lbrace \\lbrace - \\lbrace X,Y \\rbrace ,X \\rbrace ,X \\rbrace ,Y \\rbrace ,Y \\rbrace ,Y \\rbrace  \\rbrace $"
      ],
      "text/plain": [
       "-PoissonBracket(-PoissonBracket(X(x, p_x), Y(x, p_x)), PoissonBracket(PoissonBracket(PoissonBracket(PoissonBracket(PoissonBracket(-PoissonBracket(X(x, p_x), Y(x, p_x)), X(x, p_x)), X(x, p_x)), Y(x, p_x)), Y(x, p_x)), Y(x, p_x)))"
      ]
     },
     "metadata": {},
     "output_type": "display_data"
    },
    {
     "name": "stdout",
     "output_type": "stream",
     "text": [
      "i:83 , |i|: 9, i':27, i\": 3, s_i:36 \n"
     ]
    },
    {
     "data": {
      "text/latex": [
       "$\\displaystyle - \\lbrace - \\lbrace X,Y \\rbrace ,\\lbrace \\lbrace \\lbrace \\lbrace \\lbrace - \\lbrace X,Y \\rbrace ,X \\rbrace ,Y \\rbrace ,Y \\rbrace ,Y \\rbrace ,Y \\rbrace  \\rbrace $"
      ],
      "text/plain": [
       "-PoissonBracket(-PoissonBracket(X(x, p_x), Y(x, p_x)), PoissonBracket(PoissonBracket(PoissonBracket(PoissonBracket(PoissonBracket(-PoissonBracket(X(x, p_x), Y(x, p_x)), X(x, p_x)), Y(x, p_x)), Y(x, p_x)), Y(x, p_x)), Y(x, p_x)))"
      ]
     },
     "metadata": {},
     "output_type": "display_data"
    },
    {
     "name": "stdout",
     "output_type": "stream",
     "text": [
      "i:84 , |i|: 9, i':28, i\": 3, s_i:48 \n"
     ]
    },
    {
     "data": {
      "text/latex": [
       "$\\displaystyle - \\lbrace - \\lbrace X,Y \\rbrace ,\\lbrace \\lbrace \\lbrace \\lbrace \\lbrace - \\lbrace X,Y \\rbrace ,Y \\rbrace ,Y \\rbrace ,Y \\rbrace ,Y \\rbrace ,Y \\rbrace  \\rbrace $"
      ],
      "text/plain": [
       "-PoissonBracket(-PoissonBracket(X(x, p_x), Y(x, p_x)), PoissonBracket(PoissonBracket(PoissonBracket(PoissonBracket(PoissonBracket(-PoissonBracket(X(x, p_x), Y(x, p_x)), Y(x, p_x)), Y(x, p_x)), Y(x, p_x)), Y(x, p_x)), Y(x, p_x)))"
      ]
     },
     "metadata": {},
     "output_type": "display_data"
    },
    {
     "name": "stdout",
     "output_type": "stream",
     "text": [
      "i:85 , |i|: 9, i':29, i\": 3, s_i:120 \n"
     ]
    },
    {
     "data": {
      "text/latex": [
       "$\\displaystyle \\lbrace - \\lbrace - \\lbrace X,Y \\rbrace ,\\lbrace \\lbrace \\lbrace - \\lbrace X,Y \\rbrace ,X \\rbrace ,X \\rbrace ,X \\rbrace  \\rbrace ,- \\lbrace X,Y \\rbrace  \\rbrace $"
      ],
      "text/plain": [
       "PoissonBracket(-PoissonBracket(-PoissonBracket(X(x, p_x), Y(x, p_x)), PoissonBracket(PoissonBracket(PoissonBracket(-PoissonBracket(X(x, p_x), Y(x, p_x)), X(x, p_x)), X(x, p_x)), X(x, p_x))), -PoissonBracket(X(x, p_x), Y(x, p_x)))"
      ]
     },
     "metadata": {},
     "output_type": "display_data"
    },
    {
     "name": "stdout",
     "output_type": "stream",
     "text": [
      "i:86 , |i|: 9, i':30, i\": 3, s_i:48 \n"
     ]
    },
    {
     "data": {
      "text/latex": [
       "$\\displaystyle \\lbrace - \\lbrace - \\lbrace X,Y \\rbrace ,\\lbrace \\lbrace \\lbrace - \\lbrace X,Y \\rbrace ,X \\rbrace ,X \\rbrace ,Y \\rbrace  \\rbrace ,- \\lbrace X,Y \\rbrace  \\rbrace $"
      ],
      "text/plain": [
       "PoissonBracket(-PoissonBracket(-PoissonBracket(X(x, p_x), Y(x, p_x)), PoissonBracket(PoissonBracket(PoissonBracket(-PoissonBracket(X(x, p_x), Y(x, p_x)), X(x, p_x)), X(x, p_x)), Y(x, p_x))), -PoissonBracket(X(x, p_x), Y(x, p_x)))"
      ]
     },
     "metadata": {},
     "output_type": "display_data"
    },
    {
     "name": "stdout",
     "output_type": "stream",
     "text": [
      "i:87 , |i|: 9, i':31, i\": 3, s_i:12 \n"
     ]
    },
    {
     "data": {
      "text/latex": [
       "$\\displaystyle \\lbrace - \\lbrace - \\lbrace X,Y \\rbrace ,\\lbrace \\lbrace \\lbrace - \\lbrace X,Y \\rbrace ,X \\rbrace ,Y \\rbrace ,Y \\rbrace  \\rbrace ,- \\lbrace X,Y \\rbrace  \\rbrace $"
      ],
      "text/plain": [
       "PoissonBracket(-PoissonBracket(-PoissonBracket(X(x, p_x), Y(x, p_x)), PoissonBracket(PoissonBracket(PoissonBracket(-PoissonBracket(X(x, p_x), Y(x, p_x)), X(x, p_x)), Y(x, p_x)), Y(x, p_x))), -PoissonBracket(X(x, p_x), Y(x, p_x)))"
      ]
     },
     "metadata": {},
     "output_type": "display_data"
    },
    {
     "name": "stdout",
     "output_type": "stream",
     "text": [
      "i:88 , |i|: 9, i':32, i\": 3, s_i: 8 \n"
     ]
    },
    {
     "data": {
      "text/latex": [
       "$\\displaystyle \\lbrace - \\lbrace - \\lbrace X,Y \\rbrace ,\\lbrace \\lbrace \\lbrace - \\lbrace X,Y \\rbrace ,Y \\rbrace ,Y \\rbrace ,Y \\rbrace  \\rbrace ,- \\lbrace X,Y \\rbrace  \\rbrace $"
      ],
      "text/plain": [
       "PoissonBracket(-PoissonBracket(-PoissonBracket(X(x, p_x), Y(x, p_x)), PoissonBracket(PoissonBracket(PoissonBracket(-PoissonBracket(X(x, p_x), Y(x, p_x)), Y(x, p_x)), Y(x, p_x)), Y(x, p_x))), -PoissonBracket(X(x, p_x), Y(x, p_x)))"
      ]
     },
     "metadata": {},
     "output_type": "display_data"
    },
    {
     "name": "stdout",
     "output_type": "stream",
     "text": [
      "i:89 , |i|: 9, i':33, i\": 3, s_i:12 \n"
     ]
    },
    {
     "data": {
      "text/latex": [
       "$\\displaystyle - \\lbrace - \\lbrace X,Y \\rbrace ,\\lbrace - \\lbrace - \\lbrace X,Y \\rbrace ,\\lbrace - \\lbrace X,Y \\rbrace ,X \\rbrace  \\rbrace ,- \\lbrace X,Y \\rbrace  \\rbrace  \\rbrace $"
      ],
      "text/plain": [
       "-PoissonBracket(-PoissonBracket(X(x, p_x), Y(x, p_x)), PoissonBracket(-PoissonBracket(-PoissonBracket(X(x, p_x), Y(x, p_x)), PoissonBracket(-PoissonBracket(X(x, p_x), Y(x, p_x)), X(x, p_x))), -PoissonBracket(X(x, p_x), Y(x, p_x))))"
      ]
     },
     "metadata": {},
     "output_type": "display_data"
    },
    {
     "name": "stdout",
     "output_type": "stream",
     "text": [
      "i:90 , |i|: 9, i':34, i\": 3, s_i:12 \n"
     ]
    },
    {
     "data": {
      "text/latex": [
       "$\\displaystyle - \\lbrace - \\lbrace X,Y \\rbrace ,\\lbrace - \\lbrace - \\lbrace X,Y \\rbrace ,\\lbrace - \\lbrace X,Y \\rbrace ,Y \\rbrace  \\rbrace ,- \\lbrace X,Y \\rbrace  \\rbrace  \\rbrace $"
      ],
      "text/plain": [
       "-PoissonBracket(-PoissonBracket(X(x, p_x), Y(x, p_x)), PoissonBracket(-PoissonBracket(-PoissonBracket(X(x, p_x), Y(x, p_x)), PoissonBracket(-PoissonBracket(X(x, p_x), Y(x, p_x)), Y(x, p_x))), -PoissonBracket(X(x, p_x), Y(x, p_x))))"
      ]
     },
     "metadata": {},
     "output_type": "display_data"
    },
    {
     "name": "stdout",
     "output_type": "stream",
     "text": [
      "i:91 , |i|: 9, i':35, i\": 3, s_i: 6 \n"
     ]
    },
    {
     "data": {
      "text/latex": [
       "$\\displaystyle - \\lbrace \\lbrace - \\lbrace X,Y \\rbrace ,X \\rbrace ,\\lbrace \\lbrace \\lbrace \\lbrace - \\lbrace X,Y \\rbrace ,X \\rbrace ,X \\rbrace ,X \\rbrace ,X \\rbrace  \\rbrace $"
      ],
      "text/plain": [
       "-PoissonBracket(PoissonBracket(-PoissonBracket(X(x, p_x), Y(x, p_x)), X(x, p_x)), PoissonBracket(PoissonBracket(PoissonBracket(PoissonBracket(-PoissonBracket(X(x, p_x), Y(x, p_x)), X(x, p_x)), X(x, p_x)), X(x, p_x)), X(x, p_x)))"
      ]
     },
     "metadata": {},
     "output_type": "display_data"
    },
    {
     "name": "stdout",
     "output_type": "stream",
     "text": [
      "i:92 , |i|: 9, i':15, i\": 4, s_i:240 \n"
     ]
    },
    {
     "data": {
      "text/latex": [
       "$\\displaystyle - \\lbrace \\lbrace - \\lbrace X,Y \\rbrace ,X \\rbrace ,\\lbrace \\lbrace \\lbrace \\lbrace - \\lbrace X,Y \\rbrace ,X \\rbrace ,X \\rbrace ,X \\rbrace ,Y \\rbrace  \\rbrace $"
      ],
      "text/plain": [
       "-PoissonBracket(PoissonBracket(-PoissonBracket(X(x, p_x), Y(x, p_x)), X(x, p_x)), PoissonBracket(PoissonBracket(PoissonBracket(PoissonBracket(-PoissonBracket(X(x, p_x), Y(x, p_x)), X(x, p_x)), X(x, p_x)), X(x, p_x)), Y(x, p_x)))"
      ]
     },
     "metadata": {},
     "output_type": "display_data"
    },
    {
     "name": "stdout",
     "output_type": "stream",
     "text": [
      "i:93 , |i|: 9, i':16, i\": 4, s_i:48 \n"
     ]
    },
    {
     "data": {
      "text/latex": [
       "$\\displaystyle - \\lbrace \\lbrace - \\lbrace X,Y \\rbrace ,X \\rbrace ,\\lbrace \\lbrace \\lbrace \\lbrace - \\lbrace X,Y \\rbrace ,X \\rbrace ,X \\rbrace ,Y \\rbrace ,Y \\rbrace  \\rbrace $"
      ],
      "text/plain": [
       "-PoissonBracket(PoissonBracket(-PoissonBracket(X(x, p_x), Y(x, p_x)), X(x, p_x)), PoissonBracket(PoissonBracket(PoissonBracket(PoissonBracket(-PoissonBracket(X(x, p_x), Y(x, p_x)), X(x, p_x)), X(x, p_x)), Y(x, p_x)), Y(x, p_x)))"
      ]
     },
     "metadata": {},
     "output_type": "display_data"
    },
    {
     "name": "stdout",
     "output_type": "stream",
     "text": [
      "i:94 , |i|: 9, i':17, i\": 4, s_i:24 \n"
     ]
    },
    {
     "data": {
      "text/latex": [
       "$\\displaystyle - \\lbrace \\lbrace - \\lbrace X,Y \\rbrace ,X \\rbrace ,\\lbrace \\lbrace \\lbrace \\lbrace - \\lbrace X,Y \\rbrace ,X \\rbrace ,Y \\rbrace ,Y \\rbrace ,Y \\rbrace  \\rbrace $"
      ],
      "text/plain": [
       "-PoissonBracket(PoissonBracket(-PoissonBracket(X(x, p_x), Y(x, p_x)), X(x, p_x)), PoissonBracket(PoissonBracket(PoissonBracket(PoissonBracket(-PoissonBracket(X(x, p_x), Y(x, p_x)), X(x, p_x)), Y(x, p_x)), Y(x, p_x)), Y(x, p_x)))"
      ]
     },
     "metadata": {},
     "output_type": "display_data"
    },
    {
     "name": "stdout",
     "output_type": "stream",
     "text": [
      "i:95 , |i|: 9, i':18, i\": 4, s_i:24 \n"
     ]
    },
    {
     "data": {
      "text/latex": [
       "$\\displaystyle - \\lbrace \\lbrace - \\lbrace X,Y \\rbrace ,X \\rbrace ,\\lbrace \\lbrace \\lbrace \\lbrace - \\lbrace X,Y \\rbrace ,Y \\rbrace ,Y \\rbrace ,Y \\rbrace ,Y \\rbrace  \\rbrace $"
      ],
      "text/plain": [
       "-PoissonBracket(PoissonBracket(-PoissonBracket(X(x, p_x), Y(x, p_x)), X(x, p_x)), PoissonBracket(PoissonBracket(PoissonBracket(PoissonBracket(-PoissonBracket(X(x, p_x), Y(x, p_x)), Y(x, p_x)), Y(x, p_x)), Y(x, p_x)), Y(x, p_x)))"
      ]
     },
     "metadata": {},
     "output_type": "display_data"
    },
    {
     "name": "stdout",
     "output_type": "stream",
     "text": [
      "i:96 , |i|: 9, i':19, i\": 4, s_i:48 \n"
     ]
    },
    {
     "data": {
      "text/latex": [
       "$\\displaystyle \\lbrace - \\lbrace - \\lbrace X,Y \\rbrace ,\\lbrace \\lbrace - \\lbrace X,Y \\rbrace ,X \\rbrace ,X \\rbrace  \\rbrace ,\\lbrace - \\lbrace X,Y \\rbrace ,X \\rbrace  \\rbrace $"
      ],
      "text/plain": [
       "PoissonBracket(-PoissonBracket(-PoissonBracket(X(x, p_x), Y(x, p_x)), PoissonBracket(PoissonBracket(-PoissonBracket(X(x, p_x), Y(x, p_x)), X(x, p_x)), X(x, p_x))), PoissonBracket(-PoissonBracket(X(x, p_x), Y(x, p_x)), X(x, p_x)))"
      ]
     },
     "metadata": {},
     "output_type": "display_data"
    },
    {
     "name": "stdout",
     "output_type": "stream",
     "text": [
      "i:97 , |i|: 9, i':20, i\": 4, s_i:12 \n"
     ]
    },
    {
     "data": {
      "text/latex": [
       "$\\displaystyle \\lbrace - \\lbrace - \\lbrace X,Y \\rbrace ,\\lbrace \\lbrace - \\lbrace X,Y \\rbrace ,X \\rbrace ,Y \\rbrace  \\rbrace ,\\lbrace - \\lbrace X,Y \\rbrace ,X \\rbrace  \\rbrace $"
      ],
      "text/plain": [
       "PoissonBracket(-PoissonBracket(-PoissonBracket(X(x, p_x), Y(x, p_x)), PoissonBracket(PoissonBracket(-PoissonBracket(X(x, p_x), Y(x, p_x)), X(x, p_x)), Y(x, p_x))), PoissonBracket(-PoissonBracket(X(x, p_x), Y(x, p_x)), X(x, p_x)))"
      ]
     },
     "metadata": {},
     "output_type": "display_data"
    },
    {
     "name": "stdout",
     "output_type": "stream",
     "text": [
      "i:98 , |i|: 9, i':21, i\": 4, s_i: 4 \n"
     ]
    },
    {
     "data": {
      "text/latex": [
       "$\\displaystyle \\lbrace - \\lbrace - \\lbrace X,Y \\rbrace ,\\lbrace \\lbrace - \\lbrace X,Y \\rbrace ,Y \\rbrace ,Y \\rbrace  \\rbrace ,\\lbrace - \\lbrace X,Y \\rbrace ,X \\rbrace  \\rbrace $"
      ],
      "text/plain": [
       "PoissonBracket(-PoissonBracket(-PoissonBracket(X(x, p_x), Y(x, p_x)), PoissonBracket(PoissonBracket(-PoissonBracket(X(x, p_x), Y(x, p_x)), Y(x, p_x)), Y(x, p_x))), PoissonBracket(-PoissonBracket(X(x, p_x), Y(x, p_x)), X(x, p_x)))"
      ]
     },
     "metadata": {},
     "output_type": "display_data"
    },
    {
     "name": "stdout",
     "output_type": "stream",
     "text": [
      "i:99 , |i|: 9, i':22, i\": 4, s_i: 4 \n"
     ]
    },
    {
     "data": {
      "text/latex": [
       "$\\displaystyle \\lbrace - \\lbrace \\lbrace - \\lbrace X,Y \\rbrace ,X \\rbrace ,\\lbrace - \\lbrace X,Y \\rbrace ,Y \\rbrace  \\rbrace ,\\lbrace - \\lbrace X,Y \\rbrace ,X \\rbrace  \\rbrace $"
      ],
      "text/plain": [
       "PoissonBracket(-PoissonBracket(PoissonBracket(-PoissonBracket(X(x, p_x), Y(x, p_x)), X(x, p_x)), PoissonBracket(-PoissonBracket(X(x, p_x), Y(x, p_x)), Y(x, p_x))), PoissonBracket(-PoissonBracket(X(x, p_x), Y(x, p_x)), X(x, p_x)))"
      ]
     },
     "metadata": {},
     "output_type": "display_data"
    },
    {
     "name": "stdout",
     "output_type": "stream",
     "text": [
      "i:100 , |i|: 9, i':23, i\": 4, s_i: 8 \n"
     ]
    },
    {
     "data": {
      "text/latex": [
       "$\\displaystyle - \\lbrace \\lbrace - \\lbrace X,Y \\rbrace ,Y \\rbrace ,\\lbrace \\lbrace \\lbrace \\lbrace - \\lbrace X,Y \\rbrace ,X \\rbrace ,X \\rbrace ,X \\rbrace ,X \\rbrace  \\rbrace $"
      ],
      "text/plain": [
       "-PoissonBracket(PoissonBracket(-PoissonBracket(X(x, p_x), Y(x, p_x)), Y(x, p_x)), PoissonBracket(PoissonBracket(PoissonBracket(PoissonBracket(-PoissonBracket(X(x, p_x), Y(x, p_x)), X(x, p_x)), X(x, p_x)), X(x, p_x)), X(x, p_x)))"
      ]
     },
     "metadata": {},
     "output_type": "display_data"
    },
    {
     "name": "stdout",
     "output_type": "stream",
     "text": [
      "i:101 , |i|: 9, i':15, i\": 5, s_i:120 \n"
     ]
    },
    {
     "data": {
      "text/latex": [
       "$\\displaystyle - \\lbrace \\lbrace - \\lbrace X,Y \\rbrace ,Y \\rbrace ,\\lbrace \\lbrace \\lbrace \\lbrace - \\lbrace X,Y \\rbrace ,X \\rbrace ,X \\rbrace ,X \\rbrace ,Y \\rbrace  \\rbrace $"
      ],
      "text/plain": [
       "-PoissonBracket(PoissonBracket(-PoissonBracket(X(x, p_x), Y(x, p_x)), Y(x, p_x)), PoissonBracket(PoissonBracket(PoissonBracket(PoissonBracket(-PoissonBracket(X(x, p_x), Y(x, p_x)), X(x, p_x)), X(x, p_x)), X(x, p_x)), Y(x, p_x)))"
      ]
     },
     "metadata": {},
     "output_type": "display_data"
    },
    {
     "name": "stdout",
     "output_type": "stream",
     "text": [
      "i:102 , |i|: 9, i':16, i\": 5, s_i:24 \n"
     ]
    },
    {
     "data": {
      "text/latex": [
       "$\\displaystyle - \\lbrace \\lbrace - \\lbrace X,Y \\rbrace ,Y \\rbrace ,\\lbrace \\lbrace \\lbrace \\lbrace - \\lbrace X,Y \\rbrace ,X \\rbrace ,X \\rbrace ,Y \\rbrace ,Y \\rbrace  \\rbrace $"
      ],
      "text/plain": [
       "-PoissonBracket(PoissonBracket(-PoissonBracket(X(x, p_x), Y(x, p_x)), Y(x, p_x)), PoissonBracket(PoissonBracket(PoissonBracket(PoissonBracket(-PoissonBracket(X(x, p_x), Y(x, p_x)), X(x, p_x)), X(x, p_x)), Y(x, p_x)), Y(x, p_x)))"
      ]
     },
     "metadata": {},
     "output_type": "display_data"
    },
    {
     "name": "stdout",
     "output_type": "stream",
     "text": [
      "i:103 , |i|: 9, i':17, i\": 5, s_i:12 \n"
     ]
    },
    {
     "data": {
      "text/latex": [
       "$\\displaystyle - \\lbrace \\lbrace - \\lbrace X,Y \\rbrace ,Y \\rbrace ,\\lbrace \\lbrace \\lbrace \\lbrace - \\lbrace X,Y \\rbrace ,X \\rbrace ,Y \\rbrace ,Y \\rbrace ,Y \\rbrace  \\rbrace $"
      ],
      "text/plain": [
       "-PoissonBracket(PoissonBracket(-PoissonBracket(X(x, p_x), Y(x, p_x)), Y(x, p_x)), PoissonBracket(PoissonBracket(PoissonBracket(PoissonBracket(-PoissonBracket(X(x, p_x), Y(x, p_x)), X(x, p_x)), Y(x, p_x)), Y(x, p_x)), Y(x, p_x)))"
      ]
     },
     "metadata": {},
     "output_type": "display_data"
    },
    {
     "name": "stdout",
     "output_type": "stream",
     "text": [
      "i:104 , |i|: 9, i':18, i\": 5, s_i:12 \n"
     ]
    },
    {
     "data": {
      "text/latex": [
       "$\\displaystyle - \\lbrace \\lbrace - \\lbrace X,Y \\rbrace ,Y \\rbrace ,\\lbrace \\lbrace \\lbrace \\lbrace - \\lbrace X,Y \\rbrace ,Y \\rbrace ,Y \\rbrace ,Y \\rbrace ,Y \\rbrace  \\rbrace $"
      ],
      "text/plain": [
       "-PoissonBracket(PoissonBracket(-PoissonBracket(X(x, p_x), Y(x, p_x)), Y(x, p_x)), PoissonBracket(PoissonBracket(PoissonBracket(PoissonBracket(-PoissonBracket(X(x, p_x), Y(x, p_x)), Y(x, p_x)), Y(x, p_x)), Y(x, p_x)), Y(x, p_x)))"
      ]
     },
     "metadata": {},
     "output_type": "display_data"
    },
    {
     "name": "stdout",
     "output_type": "stream",
     "text": [
      "i:105 , |i|: 9, i':19, i\": 5, s_i:24 \n"
     ]
    },
    {
     "data": {
      "text/latex": [
       "$\\displaystyle \\lbrace - \\lbrace - \\lbrace X,Y \\rbrace ,\\lbrace \\lbrace - \\lbrace X,Y \\rbrace ,X \\rbrace ,X \\rbrace  \\rbrace ,\\lbrace - \\lbrace X,Y \\rbrace ,Y \\rbrace  \\rbrace $"
      ],
      "text/plain": [
       "PoissonBracket(-PoissonBracket(-PoissonBracket(X(x, p_x), Y(x, p_x)), PoissonBracket(PoissonBracket(-PoissonBracket(X(x, p_x), Y(x, p_x)), X(x, p_x)), X(x, p_x))), PoissonBracket(-PoissonBracket(X(x, p_x), Y(x, p_x)), Y(x, p_x)))"
      ]
     },
     "metadata": {},
     "output_type": "display_data"
    },
    {
     "name": "stdout",
     "output_type": "stream",
     "text": [
      "i:106 , |i|: 9, i':20, i\": 5, s_i: 6 \n"
     ]
    },
    {
     "data": {
      "text/latex": [
       "$\\displaystyle \\lbrace - \\lbrace - \\lbrace X,Y \\rbrace ,\\lbrace \\lbrace - \\lbrace X,Y \\rbrace ,X \\rbrace ,Y \\rbrace  \\rbrace ,\\lbrace - \\lbrace X,Y \\rbrace ,Y \\rbrace  \\rbrace $"
      ],
      "text/plain": [
       "PoissonBracket(-PoissonBracket(-PoissonBracket(X(x, p_x), Y(x, p_x)), PoissonBracket(PoissonBracket(-PoissonBracket(X(x, p_x), Y(x, p_x)), X(x, p_x)), Y(x, p_x))), PoissonBracket(-PoissonBracket(X(x, p_x), Y(x, p_x)), Y(x, p_x)))"
      ]
     },
     "metadata": {},
     "output_type": "display_data"
    },
    {
     "name": "stdout",
     "output_type": "stream",
     "text": [
      "i:107 , |i|: 9, i':21, i\": 5, s_i: 2 \n"
     ]
    },
    {
     "data": {
      "text/latex": [
       "$\\displaystyle \\lbrace - \\lbrace - \\lbrace X,Y \\rbrace ,\\lbrace \\lbrace - \\lbrace X,Y \\rbrace ,Y \\rbrace ,Y \\rbrace  \\rbrace ,\\lbrace - \\lbrace X,Y \\rbrace ,Y \\rbrace  \\rbrace $"
      ],
      "text/plain": [
       "PoissonBracket(-PoissonBracket(-PoissonBracket(X(x, p_x), Y(x, p_x)), PoissonBracket(PoissonBracket(-PoissonBracket(X(x, p_x), Y(x, p_x)), Y(x, p_x)), Y(x, p_x))), PoissonBracket(-PoissonBracket(X(x, p_x), Y(x, p_x)), Y(x, p_x)))"
      ]
     },
     "metadata": {},
     "output_type": "display_data"
    },
    {
     "name": "stdout",
     "output_type": "stream",
     "text": [
      "i:108 , |i|: 9, i':22, i\": 5, s_i: 2 \n"
     ]
    },
    {
     "data": {
      "text/latex": [
       "$\\displaystyle \\lbrace - \\lbrace \\lbrace - \\lbrace X,Y \\rbrace ,X \\rbrace ,\\lbrace - \\lbrace X,Y \\rbrace ,Y \\rbrace  \\rbrace ,\\lbrace - \\lbrace X,Y \\rbrace ,Y \\rbrace  \\rbrace $"
      ],
      "text/plain": [
       "PoissonBracket(-PoissonBracket(PoissonBracket(-PoissonBracket(X(x, p_x), Y(x, p_x)), X(x, p_x)), PoissonBracket(-PoissonBracket(X(x, p_x), Y(x, p_x)), Y(x, p_x))), PoissonBracket(-PoissonBracket(X(x, p_x), Y(x, p_x)), Y(x, p_x)))"
      ]
     },
     "metadata": {},
     "output_type": "display_data"
    },
    {
     "name": "stdout",
     "output_type": "stream",
     "text": [
      "i:109 , |i|: 9, i':23, i\": 5, s_i: 2 \n"
     ]
    },
    {
     "data": {
      "text/latex": [
       "$\\displaystyle - \\lbrace \\lbrace \\lbrace - \\lbrace X,Y \\rbrace ,X \\rbrace ,X \\rbrace ,\\lbrace \\lbrace \\lbrace - \\lbrace X,Y \\rbrace ,X \\rbrace ,X \\rbrace ,X \\rbrace  \\rbrace $"
      ],
      "text/plain": [
       "-PoissonBracket(PoissonBracket(PoissonBracket(-PoissonBracket(X(x, p_x), Y(x, p_x)), X(x, p_x)), X(x, p_x)), PoissonBracket(PoissonBracket(PoissonBracket(-PoissonBracket(X(x, p_x), Y(x, p_x)), X(x, p_x)), X(x, p_x)), X(x, p_x)))"
      ]
     },
     "metadata": {},
     "output_type": "display_data"
    },
    {
     "name": "stdout",
     "output_type": "stream",
     "text": [
      "i:110 , |i|: 9, i': 9, i\": 6, s_i:144 \n"
     ]
    },
    {
     "data": {
      "text/latex": [
       "$\\displaystyle - \\lbrace \\lbrace \\lbrace - \\lbrace X,Y \\rbrace ,X \\rbrace ,X \\rbrace ,\\lbrace \\lbrace \\lbrace - \\lbrace X,Y \\rbrace ,X \\rbrace ,X \\rbrace ,Y \\rbrace  \\rbrace $"
      ],
      "text/plain": [
       "-PoissonBracket(PoissonBracket(PoissonBracket(-PoissonBracket(X(x, p_x), Y(x, p_x)), X(x, p_x)), X(x, p_x)), PoissonBracket(PoissonBracket(PoissonBracket(-PoissonBracket(X(x, p_x), Y(x, p_x)), X(x, p_x)), X(x, p_x)), Y(x, p_x)))"
      ]
     },
     "metadata": {},
     "output_type": "display_data"
    },
    {
     "name": "stdout",
     "output_type": "stream",
     "text": [
      "i:111 , |i|: 9, i':10, i\": 6, s_i:36 \n"
     ]
    },
    {
     "data": {
      "text/latex": [
       "$\\displaystyle - \\lbrace \\lbrace \\lbrace - \\lbrace X,Y \\rbrace ,X \\rbrace ,X \\rbrace ,\\lbrace \\lbrace \\lbrace - \\lbrace X,Y \\rbrace ,X \\rbrace ,Y \\rbrace ,Y \\rbrace  \\rbrace $"
      ],
      "text/plain": [
       "-PoissonBracket(PoissonBracket(PoissonBracket(-PoissonBracket(X(x, p_x), Y(x, p_x)), X(x, p_x)), X(x, p_x)), PoissonBracket(PoissonBracket(PoissonBracket(-PoissonBracket(X(x, p_x), Y(x, p_x)), X(x, p_x)), Y(x, p_x)), Y(x, p_x)))"
      ]
     },
     "metadata": {},
     "output_type": "display_data"
    },
    {
     "name": "stdout",
     "output_type": "stream",
     "text": [
      "i:112 , |i|: 9, i':11, i\": 6, s_i:24 \n"
     ]
    },
    {
     "data": {
      "text/latex": [
       "$\\displaystyle - \\lbrace \\lbrace \\lbrace - \\lbrace X,Y \\rbrace ,X \\rbrace ,X \\rbrace ,\\lbrace \\lbrace \\lbrace - \\lbrace X,Y \\rbrace ,Y \\rbrace ,Y \\rbrace ,Y \\rbrace  \\rbrace $"
      ],
      "text/plain": [
       "-PoissonBracket(PoissonBracket(PoissonBracket(-PoissonBracket(X(x, p_x), Y(x, p_x)), X(x, p_x)), X(x, p_x)), PoissonBracket(PoissonBracket(PoissonBracket(-PoissonBracket(X(x, p_x), Y(x, p_x)), Y(x, p_x)), Y(x, p_x)), Y(x, p_x)))"
      ]
     },
     "metadata": {},
     "output_type": "display_data"
    },
    {
     "name": "stdout",
     "output_type": "stream",
     "text": [
      "i:113 , |i|: 9, i':12, i\": 6, s_i:36 \n"
     ]
    },
    {
     "data": {
      "text/latex": [
       "$\\displaystyle \\lbrace - \\lbrace - \\lbrace X,Y \\rbrace ,\\lbrace - \\lbrace X,Y \\rbrace ,X \\rbrace  \\rbrace ,\\lbrace \\lbrace - \\lbrace X,Y \\rbrace ,X \\rbrace ,X \\rbrace  \\rbrace $"
      ],
      "text/plain": [
       "PoissonBracket(-PoissonBracket(-PoissonBracket(X(x, p_x), Y(x, p_x)), PoissonBracket(-PoissonBracket(X(x, p_x), Y(x, p_x)), X(x, p_x))), PoissonBracket(PoissonBracket(-PoissonBracket(X(x, p_x), Y(x, p_x)), X(x, p_x)), X(x, p_x)))"
      ]
     },
     "metadata": {},
     "output_type": "display_data"
    },
    {
     "name": "stdout",
     "output_type": "stream",
     "text": [
      "i:114 , |i|: 9, i':13, i\": 6, s_i:12 \n"
     ]
    },
    {
     "data": {
      "text/latex": [
       "$\\displaystyle \\lbrace - \\lbrace - \\lbrace X,Y \\rbrace ,\\lbrace - \\lbrace X,Y \\rbrace ,Y \\rbrace  \\rbrace ,\\lbrace \\lbrace - \\lbrace X,Y \\rbrace ,X \\rbrace ,X \\rbrace  \\rbrace $"
      ],
      "text/plain": [
       "PoissonBracket(-PoissonBracket(-PoissonBracket(X(x, p_x), Y(x, p_x)), PoissonBracket(-PoissonBracket(X(x, p_x), Y(x, p_x)), Y(x, p_x))), PoissonBracket(PoissonBracket(-PoissonBracket(X(x, p_x), Y(x, p_x)), X(x, p_x)), X(x, p_x)))"
      ]
     },
     "metadata": {},
     "output_type": "display_data"
    },
    {
     "name": "stdout",
     "output_type": "stream",
     "text": [
      "i:115 , |i|: 9, i':14, i\": 6, s_i: 6 \n"
     ]
    },
    {
     "data": {
      "text/latex": [
       "$\\displaystyle - \\lbrace \\lbrace \\lbrace - \\lbrace X,Y \\rbrace ,X \\rbrace ,Y \\rbrace ,\\lbrace \\lbrace \\lbrace - \\lbrace X,Y \\rbrace ,X \\rbrace ,X \\rbrace ,X \\rbrace  \\rbrace $"
      ],
      "text/plain": [
       "-PoissonBracket(PoissonBracket(PoissonBracket(-PoissonBracket(X(x, p_x), Y(x, p_x)), X(x, p_x)), Y(x, p_x)), PoissonBracket(PoissonBracket(PoissonBracket(-PoissonBracket(X(x, p_x), Y(x, p_x)), X(x, p_x)), X(x, p_x)), X(x, p_x)))"
      ]
     },
     "metadata": {},
     "output_type": "display_data"
    },
    {
     "name": "stdout",
     "output_type": "stream",
     "text": [
      "i:116 , |i|: 9, i': 9, i\": 7, s_i:48 \n"
     ]
    },
    {
     "data": {
      "text/latex": [
       "$\\displaystyle - \\lbrace \\lbrace \\lbrace - \\lbrace X,Y \\rbrace ,X \\rbrace ,Y \\rbrace ,\\lbrace \\lbrace \\lbrace - \\lbrace X,Y \\rbrace ,X \\rbrace ,X \\rbrace ,Y \\rbrace  \\rbrace $"
      ],
      "text/plain": [
       "-PoissonBracket(PoissonBracket(PoissonBracket(-PoissonBracket(X(x, p_x), Y(x, p_x)), X(x, p_x)), Y(x, p_x)), PoissonBracket(PoissonBracket(PoissonBracket(-PoissonBracket(X(x, p_x), Y(x, p_x)), X(x, p_x)), X(x, p_x)), Y(x, p_x)))"
      ]
     },
     "metadata": {},
     "output_type": "display_data"
    },
    {
     "name": "stdout",
     "output_type": "stream",
     "text": [
      "i:117 , |i|: 9, i':10, i\": 7, s_i:12 \n"
     ]
    },
    {
     "data": {
      "text/latex": [
       "$\\displaystyle - \\lbrace \\lbrace \\lbrace - \\lbrace X,Y \\rbrace ,X \\rbrace ,Y \\rbrace ,\\lbrace \\lbrace \\lbrace - \\lbrace X,Y \\rbrace ,X \\rbrace ,Y \\rbrace ,Y \\rbrace  \\rbrace $"
      ],
      "text/plain": [
       "-PoissonBracket(PoissonBracket(PoissonBracket(-PoissonBracket(X(x, p_x), Y(x, p_x)), X(x, p_x)), Y(x, p_x)), PoissonBracket(PoissonBracket(PoissonBracket(-PoissonBracket(X(x, p_x), Y(x, p_x)), X(x, p_x)), Y(x, p_x)), Y(x, p_x)))"
      ]
     },
     "metadata": {},
     "output_type": "display_data"
    },
    {
     "name": "stdout",
     "output_type": "stream",
     "text": [
      "i:118 , |i|: 9, i':11, i\": 7, s_i: 8 \n"
     ]
    },
    {
     "data": {
      "text/latex": [
       "$\\displaystyle - \\lbrace \\lbrace \\lbrace - \\lbrace X,Y \\rbrace ,X \\rbrace ,Y \\rbrace ,\\lbrace \\lbrace \\lbrace - \\lbrace X,Y \\rbrace ,Y \\rbrace ,Y \\rbrace ,Y \\rbrace  \\rbrace $"
      ],
      "text/plain": [
       "-PoissonBracket(PoissonBracket(PoissonBracket(-PoissonBracket(X(x, p_x), Y(x, p_x)), X(x, p_x)), Y(x, p_x)), PoissonBracket(PoissonBracket(PoissonBracket(-PoissonBracket(X(x, p_x), Y(x, p_x)), Y(x, p_x)), Y(x, p_x)), Y(x, p_x)))"
      ]
     },
     "metadata": {},
     "output_type": "display_data"
    },
    {
     "name": "stdout",
     "output_type": "stream",
     "text": [
      "i:119 , |i|: 9, i':12, i\": 7, s_i:12 \n"
     ]
    },
    {
     "data": {
      "text/latex": [
       "$\\displaystyle \\lbrace - \\lbrace - \\lbrace X,Y \\rbrace ,\\lbrace - \\lbrace X,Y \\rbrace ,X \\rbrace  \\rbrace ,\\lbrace \\lbrace - \\lbrace X,Y \\rbrace ,X \\rbrace ,Y \\rbrace  \\rbrace $"
      ],
      "text/plain": [
       "PoissonBracket(-PoissonBracket(-PoissonBracket(X(x, p_x), Y(x, p_x)), PoissonBracket(-PoissonBracket(X(x, p_x), Y(x, p_x)), X(x, p_x))), PoissonBracket(PoissonBracket(-PoissonBracket(X(x, p_x), Y(x, p_x)), X(x, p_x)), Y(x, p_x)))"
      ]
     },
     "metadata": {},
     "output_type": "display_data"
    },
    {
     "name": "stdout",
     "output_type": "stream",
     "text": [
      "i:120 , |i|: 9, i':13, i\": 7, s_i: 4 \n"
     ]
    },
    {
     "data": {
      "text/latex": [
       "$\\displaystyle \\lbrace - \\lbrace - \\lbrace X,Y \\rbrace ,\\lbrace - \\lbrace X,Y \\rbrace ,Y \\rbrace  \\rbrace ,\\lbrace \\lbrace - \\lbrace X,Y \\rbrace ,X \\rbrace ,Y \\rbrace  \\rbrace $"
      ],
      "text/plain": [
       "PoissonBracket(-PoissonBracket(-PoissonBracket(X(x, p_x), Y(x, p_x)), PoissonBracket(-PoissonBracket(X(x, p_x), Y(x, p_x)), Y(x, p_x))), PoissonBracket(PoissonBracket(-PoissonBracket(X(x, p_x), Y(x, p_x)), X(x, p_x)), Y(x, p_x)))"
      ]
     },
     "metadata": {},
     "output_type": "display_data"
    },
    {
     "name": "stdout",
     "output_type": "stream",
     "text": [
      "i:121 , |i|: 9, i':14, i\": 7, s_i: 2 \n"
     ]
    },
    {
     "data": {
      "text/latex": [
       "$\\displaystyle - \\lbrace \\lbrace \\lbrace - \\lbrace X,Y \\rbrace ,Y \\rbrace ,Y \\rbrace ,\\lbrace \\lbrace \\lbrace - \\lbrace X,Y \\rbrace ,X \\rbrace ,X \\rbrace ,X \\rbrace  \\rbrace $"
      ],
      "text/plain": [
       "-PoissonBracket(PoissonBracket(PoissonBracket(-PoissonBracket(X(x, p_x), Y(x, p_x)), Y(x, p_x)), Y(x, p_x)), PoissonBracket(PoissonBracket(PoissonBracket(-PoissonBracket(X(x, p_x), Y(x, p_x)), X(x, p_x)), X(x, p_x)), X(x, p_x)))"
      ]
     },
     "metadata": {},
     "output_type": "display_data"
    },
    {
     "name": "stdout",
     "output_type": "stream",
     "text": [
      "i:122 , |i|: 9, i': 9, i\": 8, s_i:48 \n"
     ]
    },
    {
     "data": {
      "text/latex": [
       "$\\displaystyle - \\lbrace \\lbrace \\lbrace - \\lbrace X,Y \\rbrace ,Y \\rbrace ,Y \\rbrace ,\\lbrace \\lbrace \\lbrace - \\lbrace X,Y \\rbrace ,X \\rbrace ,X \\rbrace ,Y \\rbrace  \\rbrace $"
      ],
      "text/plain": [
       "-PoissonBracket(PoissonBracket(PoissonBracket(-PoissonBracket(X(x, p_x), Y(x, p_x)), Y(x, p_x)), Y(x, p_x)), PoissonBracket(PoissonBracket(PoissonBracket(-PoissonBracket(X(x, p_x), Y(x, p_x)), X(x, p_x)), X(x, p_x)), Y(x, p_x)))"
      ]
     },
     "metadata": {},
     "output_type": "display_data"
    },
    {
     "name": "stdout",
     "output_type": "stream",
     "text": [
      "i:123 , |i|: 9, i':10, i\": 8, s_i:12 \n"
     ]
    },
    {
     "data": {
      "text/latex": [
       "$\\displaystyle - \\lbrace \\lbrace \\lbrace - \\lbrace X,Y \\rbrace ,Y \\rbrace ,Y \\rbrace ,\\lbrace \\lbrace \\lbrace - \\lbrace X,Y \\rbrace ,X \\rbrace ,Y \\rbrace ,Y \\rbrace  \\rbrace $"
      ],
      "text/plain": [
       "-PoissonBracket(PoissonBracket(PoissonBracket(-PoissonBracket(X(x, p_x), Y(x, p_x)), Y(x, p_x)), Y(x, p_x)), PoissonBracket(PoissonBracket(PoissonBracket(-PoissonBracket(X(x, p_x), Y(x, p_x)), X(x, p_x)), Y(x, p_x)), Y(x, p_x)))"
      ]
     },
     "metadata": {},
     "output_type": "display_data"
    },
    {
     "name": "stdout",
     "output_type": "stream",
     "text": [
      "i:124 , |i|: 9, i':11, i\": 8, s_i: 8 \n"
     ]
    },
    {
     "data": {
      "text/latex": [
       "$\\displaystyle - \\lbrace \\lbrace \\lbrace - \\lbrace X,Y \\rbrace ,Y \\rbrace ,Y \\rbrace ,\\lbrace \\lbrace \\lbrace - \\lbrace X,Y \\rbrace ,Y \\rbrace ,Y \\rbrace ,Y \\rbrace  \\rbrace $"
      ],
      "text/plain": [
       "-PoissonBracket(PoissonBracket(PoissonBracket(-PoissonBracket(X(x, p_x), Y(x, p_x)), Y(x, p_x)), Y(x, p_x)), PoissonBracket(PoissonBracket(PoissonBracket(-PoissonBracket(X(x, p_x), Y(x, p_x)), Y(x, p_x)), Y(x, p_x)), Y(x, p_x)))"
      ]
     },
     "metadata": {},
     "output_type": "display_data"
    },
    {
     "name": "stdout",
     "output_type": "stream",
     "text": [
      "i:125 , |i|: 9, i':12, i\": 8, s_i:12 \n"
     ]
    },
    {
     "data": {
      "text/latex": [
       "$\\displaystyle \\lbrace - \\lbrace - \\lbrace X,Y \\rbrace ,\\lbrace - \\lbrace X,Y \\rbrace ,X \\rbrace  \\rbrace ,\\lbrace \\lbrace - \\lbrace X,Y \\rbrace ,Y \\rbrace ,Y \\rbrace  \\rbrace $"
      ],
      "text/plain": [
       "PoissonBracket(-PoissonBracket(-PoissonBracket(X(x, p_x), Y(x, p_x)), PoissonBracket(-PoissonBracket(X(x, p_x), Y(x, p_x)), X(x, p_x))), PoissonBracket(PoissonBracket(-PoissonBracket(X(x, p_x), Y(x, p_x)), Y(x, p_x)), Y(x, p_x)))"
      ]
     },
     "metadata": {},
     "output_type": "display_data"
    },
    {
     "name": "stdout",
     "output_type": "stream",
     "text": [
      "i:126 , |i|: 9, i':13, i\": 8, s_i: 4 \n"
     ]
    },
    {
     "data": {
      "text/latex": [
       "$\\displaystyle \\lbrace - \\lbrace - \\lbrace X,Y \\rbrace ,\\lbrace - \\lbrace X,Y \\rbrace ,Y \\rbrace  \\rbrace ,\\lbrace \\lbrace - \\lbrace X,Y \\rbrace ,Y \\rbrace ,Y \\rbrace  \\rbrace $"
      ],
      "text/plain": [
       "PoissonBracket(-PoissonBracket(-PoissonBracket(X(x, p_x), Y(x, p_x)), PoissonBracket(-PoissonBracket(X(x, p_x), Y(x, p_x)), Y(x, p_x))), PoissonBracket(PoissonBracket(-PoissonBracket(X(x, p_x), Y(x, p_x)), Y(x, p_x)), Y(x, p_x)))"
      ]
     },
     "metadata": {},
     "output_type": "display_data"
    },
    {
     "name": "stdout",
     "output_type": "stream",
     "text": [
      "i:127 , |i|: 9, i':14, i\": 8, s_i: 2 \n"
     ]
    }
   ],
   "source": [
    "a=1\n",
    "b=0\n",
    "c=2\n",
    "d=0\n",
    "ia=1\n",
    "ib=1\n",
    "\n",
    "iprime = {1:1,2:2}\n",
    "idprime = {1:0,2:0}\n",
    "ia ={1:1,2:1}\n",
    "ei = {1:X, 2:Y}\n",
    "si = {1:1,2:1}\n",
    "ki = {1:0,2:0}\n",
    "\n",
    "roottreeblack = bicoloredTree(Node('black'))\n",
    "roottreewhite = bicoloredTree(Node('white'))\n",
    "ui = {1: roottreeblack, 2:roottreewhite}\n",
    "i=3\n",
    "for n in range(2,10):\n",
    "    for j in range(1,i):\n",
    "        for k in range(j+1,i):\n",
    "            if ia[j] + ia[k] == n and j >= idprime[k]:\n",
    "                idprime[i] = j\n",
    "                iprime[i] =k\n",
    "                ia[i]=n\n",
    "                \n",
    "                # ki\n",
    "                if idprime[iprime[i]] != idprime[i]:\n",
    "                    ki[i] = 1\n",
    "                else:\n",
    "                    ki[i] = ki[iprime[i]] + 1\n",
    "                si[i] = ki[i]*si[iprime[i]]*si[idprime[i]]\n",
    "                ui[i] = ui[iprime[i]] * ui[idprime[i]]\n",
    "                ei[i]=PoissonBracket(ei[iprime[i]],ei[idprime[i]],coords=[x],mom=[px])\n",
    "                print(\"i:{:2} , |i|:{:2}, i':{:2}, i\\\":{:2}, s_i:{:2} \".format(i,ia[i],iprime[i],idprime[i],si[i],display(ei[i])))\n",
    "                i = i+1\n"
   ]
  },
  {
   "cell_type": "code",
   "execution_count": 234,
   "metadata": {},
   "outputs": [
    {
     "data": {
      "text/plain": [
       "{1: 1,\n",
       " 2: 1,\n",
       " 3: 2,\n",
       " 4: 3,\n",
       " 5: 3,\n",
       " 6: 4,\n",
       " 7: 4,\n",
       " 8: 4,\n",
       " 9: 5,\n",
       " 10: 5,\n",
       " 11: 5,\n",
       " 12: 5,\n",
       " 13: 5,\n",
       " 14: 5,\n",
       " 15: 6,\n",
       " 16: 6,\n",
       " 17: 6,\n",
       " 18: 6,\n",
       " 19: 6,\n",
       " 20: 6,\n",
       " 21: 6,\n",
       " 22: 6,\n",
       " 23: 6}"
      ]
     },
     "execution_count": 234,
     "metadata": {},
     "output_type": "execute_result"
    }
   ],
   "source": [
    "ia"
   ]
  },
  {
   "cell_type": "code",
   "execution_count": 266,
   "metadata": {},
   "outputs": [
    {
     "name": "stdout",
     "output_type": "stream",
     "text": [
      "[1, 1]\n",
      "[X(x, p_x), Y(x, p_x)]\n",
      "[-1/2]\n",
      "[-PoissonBracket(X(x, p_x), Y(x, p_x))]\n"
     ]
    },
    {
     "data": {
      "text/latex": [
       "$\\displaystyle 2 X{\\left(x,p_{x} \\right)} + 2 Y{\\left(x,p_{x} \\right)} + \\frac{\\lbrace X,Y \\rbrace }{2}$"
      ],
      "text/plain": [
       "2*X(x, p_x) + 2*Y(x, p_x) + PoissonBracket(X(x, p_x), Y(x, p_x))/2"
      ]
     },
     "execution_count": 266,
     "metadata": {},
     "output_type": "execute_result"
    }
   ],
   "source": [
    "res = X + Y\n",
    "\n",
    "for i in range(1,3):\n",
    "    # get the relevant brackets\n",
    "    ilist = [k for k,v in ia.items() if v==i]\n",
    "    bracketlist = [ei[j] for j in ilist]\n",
    "    \n",
    "    # get the coeffcients\n",
    "    coefflist = [Rational(dat.loc[j,'p'],dat.loc[j,'q']) for j in ilist]\n",
    "    print(coefflist)\n",
    "    print(bracketlist)\n",
    "    for c,b in zip(coefflist, bracketlist):\n",
    "        res += c * b\n",
    "res"
   ]
  },
  {
   "cell_type": "code",
   "execution_count": 242,
   "metadata": {},
   "outputs": [
    {
     "data": {
      "text/latex": [
       "$\\displaystyle \\frac{98 p_{x}^{2}}{45} - \\frac{10 p_{x} x}{3} + \\frac{107 x^{2}}{45}$"
      ],
      "text/plain": [
       "98*p_x**2/45 - 10*p_x*x/3 + 107*x**2/45"
      ]
     },
     "execution_count": 242,
     "metadata": {},
     "output_type": "execute_result"
    }
   ],
   "source": [
    "#e**X*e**Y\n",
    "res.subs(X,px**2).subs(Y,px**2+x**2).doit()"
   ]
  },
  {
   "cell_type": "code",
   "execution_count": 208,
   "metadata": {},
   "outputs": [
    {
     "name": "stdout",
     "output_type": "stream",
     "text": [
      "'white'\n",
      "\t'black'\n",
      "\n",
      "'white'\n",
      "\t'black'\n",
      "\t'black'\n",
      "\n",
      "'white'\n",
      "\t'black'\n",
      "\t'white'\n",
      "\n"
     ]
    }
   ],
   "source": [
    "for i in range(3,6):\n",
    "    print(ui[i])"
   ]
  },
  {
   "cell_type": "code",
   "execution_count": 245,
   "metadata": {},
   "outputs": [],
   "source": [
    "from acchamiltoniansandmatrices.LieMaps.BCH import generate_bch_expression"
   ]
  },
  {
   "cell_type": "code",
   "execution_count": 263,
   "metadata": {},
   "outputs": [
    {
     "data": {
      "text/latex": [
       "$\\displaystyle X{\\left(x,p_{x} \\right)} + Y{\\left(x,p_{x} \\right)} + \\frac{\\lbrace X,Y \\rbrace }{2} + \\frac{\\lbrace - \\lbrace X,Y \\rbrace ,X \\rbrace }{12} - \\frac{\\lbrace - \\lbrace X,Y \\rbrace ,Y \\rbrace }{12} + \\frac{\\lbrace - \\lbrace X,Y \\rbrace ,\\lbrace - \\lbrace X,Y \\rbrace ,X \\rbrace  \\rbrace }{120} + \\frac{\\lbrace - \\lbrace X,Y \\rbrace ,\\lbrace - \\lbrace X,Y \\rbrace ,Y \\rbrace  \\rbrace }{360} + \\frac{\\lbrace \\lbrace - \\lbrace X,Y \\rbrace ,X \\rbrace ,Y \\rbrace }{24} - \\frac{\\lbrace \\lbrace \\lbrace - \\lbrace X,Y \\rbrace ,X \\rbrace ,X \\rbrace ,X \\rbrace }{720} - \\frac{\\lbrace \\lbrace \\lbrace - \\lbrace X,Y \\rbrace ,X \\rbrace ,X \\rbrace ,Y \\rbrace }{180} + \\frac{\\lbrace \\lbrace \\lbrace - \\lbrace X,Y \\rbrace ,X \\rbrace ,Y \\rbrace ,Y \\rbrace }{180} + \\frac{\\lbrace \\lbrace \\lbrace - \\lbrace X,Y \\rbrace ,Y \\rbrace ,Y \\rbrace ,Y \\rbrace }{720}$"
      ],
      "text/plain": [
       "X(x, p_x) + Y(x, p_x) + PoissonBracket(X(x, p_x), Y(x, p_x))/2 + PoissonBracket(-PoissonBracket(X(x, p_x), Y(x, p_x)), X(x, p_x))/12 - PoissonBracket(-PoissonBracket(X(x, p_x), Y(x, p_x)), Y(x, p_x))/12 + PoissonBracket(-PoissonBracket(X(x, p_x), Y(x, p_x)), PoissonBracket(-PoissonBracket(X(x, p_x), Y(x, p_x)), X(x, p_x)))/120 + PoissonBracket(-PoissonBracket(X(x, p_x), Y(x, p_x)), PoissonBracket(-PoissonBracket(X(x, p_x), Y(x, p_x)), Y(x, p_x)))/360 + PoissonBracket(PoissonBracket(-PoissonBracket(X(x, p_x), Y(x, p_x)), X(x, p_x)), Y(x, p_x))/24 - PoissonBracket(PoissonBracket(PoissonBracket(-PoissonBracket(X(x, p_x), Y(x, p_x)), X(x, p_x)), X(x, p_x)), X(x, p_x))/720 - PoissonBracket(PoissonBracket(PoissonBracket(-PoissonBracket(X(x, p_x), Y(x, p_x)), X(x, p_x)), X(x, p_x)), Y(x, p_x))/180 + PoissonBracket(PoissonBracket(PoissonBracket(-PoissonBracket(X(x, p_x), Y(x, p_x)), X(x, p_x)), Y(x, p_x)), Y(x, p_x))/180 + PoissonBracket(PoissonBracket(PoissonBracket(-PoissonBracket(X(x, p_x), Y(x, p_x)), Y(x, p_x)), Y(x, p_x)), Y(x, p_x))/720"
      ]
     },
     "execution_count": 263,
     "metadata": {},
     "output_type": "execute_result"
    }
   ],
   "source": [
    "generate_bch_expression(order=5,coords=[x],mom=[px])"
   ]
  },
  {
   "cell_type": "code",
   "execution_count": 137,
   "metadata": {},
   "outputs": [
    {
     "data": {
      "text/latex": [
       "$\\displaystyle \\lbrace - \\lbrace X,Y \\rbrace ,X \\rbrace $"
      ],
      "text/plain": [
       "PoissonBracket(-PoissonBracket(X(x, p_x), Y(x, p_x)), X(x, p_x))"
      ]
     },
     "metadata": {},
     "output_type": "display_data"
    }
   ],
   "source": [
    "display(ei[4])"
   ]
  },
  {
   "cell_type": "code",
   "execution_count": 132,
   "metadata": {},
   "outputs": [
    {
     "data": {
      "text/latex": [
       "$\\displaystyle - \\lbrace X,Y \\rbrace $"
      ],
      "text/plain": [
       "-PoissonBracket(X(x, p_x), Y(x, p_x))"
      ]
     },
     "execution_count": 132,
     "metadata": {},
     "output_type": "execute_result"
    }
   ],
   "source": [
    "ei[3]"
   ]
  },
  {
   "cell_type": "code",
   "execution_count": 133,
   "metadata": {},
   "outputs": [
    {
     "data": {
      "text/latex": [
       "$\\displaystyle \\lbrace - \\lbrace X,Y \\rbrace ,X \\rbrace $"
      ],
      "text/plain": [
       "PoissonBracket(-PoissonBracket(X(x, p_x), Y(x, p_x)), X(x, p_x))"
      ]
     },
     "execution_count": 133,
     "metadata": {},
     "output_type": "execute_result"
    }
   ],
   "source": [
    "ei[4]"
   ]
  },
  {
   "cell_type": "code",
   "execution_count": 134,
   "metadata": {},
   "outputs": [
    {
     "data": {
      "text/latex": [
       "$\\displaystyle \\lbrace - \\lbrace X,Y \\rbrace ,Y \\rbrace $"
      ],
      "text/plain": [
       "PoissonBracket(-PoissonBracket(X(x, p_x), Y(x, p_x)), Y(x, p_x))"
      ]
     },
     "execution_count": 134,
     "metadata": {},
     "output_type": "execute_result"
    }
   ],
   "source": [
    "ei[5]"
   ]
  },
  {
   "cell_type": "code",
   "execution_count": 135,
   "metadata": {},
   "outputs": [
    {
     "data": {
      "text/latex": [
       "$\\displaystyle \\lbrace \\lbrace - \\lbrace X,Y \\rbrace ,X \\rbrace ,X \\rbrace $"
      ],
      "text/plain": [
       "PoissonBracket(PoissonBracket(-PoissonBracket(X(x, p_x), Y(x, p_x)), X(x, p_x)), X(x, p_x))"
      ]
     },
     "execution_count": 135,
     "metadata": {},
     "output_type": "execute_result"
    }
   ],
   "source": [
    "ei[6]"
   ]
  },
  {
   "cell_type": "code",
   "execution_count": 17,
   "metadata": {},
   "outputs": [],
   "source": [
    "def rsdict(n):\n",
    "    res = defaultdict(set)\n",
    "    for r in range(0,n+1):\n",
    "        for s in range(0,n+1):\n",
    "            res[r+s] = res[r+s].union({(r,s)})\n",
    "            \n",
    "    return res\n",
    "\n",
    "def rscoeff(rsdict,n):\n",
    "    rssum  = dict()\n",
    "    rsprod = dict()\n",
    "    for i in range(2,n):\n",
    "            rssum[i]  = sum([r+s for r,s in rsdict[i]])\n",
    "            rsprod[i] = reduce((lambda k,l: k *l),)"
   ]
  },
  {
   "cell_type": "code",
   "execution_count": 18,
   "metadata": {},
   "outputs": [
    {
     "data": {
      "text/plain": [
       "defaultdict(set, {2: {(1, 1)}, 3: {(1, 2), (2, 1)}, 4: {(2, 2)}})"
      ]
     },
     "execution_count": 18,
     "metadata": {},
     "output_type": "execute_result"
    }
   ],
   "source": [
    "rsdict(2)"
   ]
  },
  {
   "cell_type": "markdown",
   "metadata": {},
   "source": [
    "# Effective Hams "
   ]
  },
  {
   "cell_type": "code",
   "execution_count": null,
   "metadata": {},
   "outputs": [],
   "source": []
  }
 ],
 "metadata": {
  "kernelspec": {
   "display_name": "Python [conda env:jnotebookenv] *",
   "language": "python",
   "name": "conda-env-jnotebookenv-py"
  },
  "language_info": {
   "codemirror_mode": {
    "name": "ipython",
    "version": 3
   },
   "file_extension": ".py",
   "mimetype": "text/x-python",
   "name": "python",
   "nbconvert_exporter": "python",
   "pygments_lexer": "ipython3",
   "version": "3.8.5"
  },
  "latex_envs": {
   "LaTeX_envs_menu_present": true,
   "autoclose": false,
   "autocomplete": true,
   "bibliofile": "biblio.bib",
   "cite_by": "apalike",
   "current_citInitial": 1,
   "eqLabelWithNumbers": true,
   "eqNumInitial": 1,
   "hotkeys": {
    "equation": "Ctrl-E",
    "itemize": "Ctrl-I"
   },
   "labels_anchors": false,
   "latex_user_defs": false,
   "report_style_numbering": false,
   "user_envs_cfg": false
  },
  "toc": {
   "base_numbering": 1,
   "nav_menu": {},
   "number_sections": true,
   "sideBar": true,
   "skip_h1_title": false,
   "title_cell": "Table of Contents",
   "title_sidebar": "Contents",
   "toc_cell": false,
   "toc_position": {},
   "toc_section_display": true,
   "toc_window_display": false
  }
 },
 "nbformat": 4,
 "nbformat_minor": 4
}
