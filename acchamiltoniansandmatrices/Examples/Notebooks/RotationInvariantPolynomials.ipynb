{
 "cells": [
  {
   "cell_type": "code",
   "execution_count": 1,
   "metadata": {},
   "outputs": [
    {
     "data": {
      "text/html": [
       "<style>.container { width:90% !important; }</style>"
      ],
      "text/plain": [
       "<IPython.core.display.HTML object>"
      ]
     },
     "metadata": {},
     "output_type": "display_data"
    }
   ],
   "source": [
    "from IPython.core.display import display, HTML\n",
    "display(HTML(\"<style>.container { width:90% !important; }</style>\"))\n",
    "%load_ext autoreload\n",
    "%autoreload 2"
   ]
  },
  {
   "cell_type": "code",
   "execution_count": 4,
   "metadata": {},
   "outputs": [],
   "source": [
    "from sympy import (\n",
    "    Derivative, \n",
    "    S, \n",
    "    Symbol, \n",
    "    series, \n",
    "    sqrt, \n",
    "    symbols, \n",
    "    oo, \n",
    "    limit, \n",
    "    Rational, \n",
    "    cos, \n",
    "    sin, \n",
    "    cosh, \n",
    "    sinh, \n",
    "    Matrix, \n",
    "    simplify, \n",
    "    latex, \n",
    "    lambdify,\n",
    "    Function,\n",
    "    collect,\n",
    "    lambdify,\n",
    "    solve,\n",
    "    Eq,\n",
    "    Poly,\n",
    "    Derivative,\n",
    "    together,\n",
    "    Poly,\n",
    "    I\n",
    ")\n",
    "from sympy.core.numbers import NegativeOne, One, Zero\n",
    "import numpy as np\n",
    "import pandas as pd\n",
    "from sympy import init_printing\n",
    "init_printing() \n",
    "\n",
    "from sympy.printing.latex import print_latex\n",
    "from matplotlib import pyplot as plt\n",
    "from mpl_toolkits.mplot3d import axes3d\n",
    "import matplotlib.pyplot as plt\n",
    "from matplotlib import cm\n",
    "%matplotlib notebook\n",
    "from pymad_hzb.PlotTools import new_plot_elems_madx\n",
    "from mpl_toolkits.mplot3d import axes3d\n",
    "import matplotlib.pyplot as plt\n",
    "from matplotlib import cm"
   ]
  },
  {
   "cell_type": "markdown",
   "metadata": {
    "slideshow": {
     "slide_type": "slide"
    }
   },
   "source": [
    "# Polynomials invariant under rotations"
   ]
  },
  {
   "cell_type": "markdown",
   "metadata": {
    "slideshow": {
     "slide_type": "fragment"
    }
   },
   "source": [
    "https://math.stackexchange.com/questions/3211530/invariant-polynomials-under-rotations"
   ]
  },
  {
   "cell_type": "markdown",
   "metadata": {
    "slideshow": {
     "slide_type": "subslide"
    }
   },
   "source": [
    "## Definitions\n",
    "First we need to define which rotation we are considering. Therefor we fix $n\\geq 0$ and define the rotation map:\n",
    "$$R: \\mathbb{R}^2 \\rightarrow \\mathbb{R},\\quad R = \n",
    "\\begin{pmatrix}\n",
    "\\cos{\\left(\\frac{2\\pi}{n}\\right)} & -\\sin{\\left(\\frac{2\\pi}{n}\\right)}\\\\\n",
    "\\sin{\\left(\\frac{2\\pi}{n}\\right)} &  \\cos{\\left(\\frac{2\\pi}{n}\\right)}\\\\\n",
    "\\end{pmatrix}$$\n",
    "\n",
    "Let us now define the space of all two-variable real polynomials by $\\mathbb{R}[x,y]$, and $P \\in \\mathbb{R}[x,y]$ as a function\n",
    "$P:\\mathbb{R}^2 \\rightarrow \\mathbb{R}$. Let now $L$ be a linear map defined such that:\n",
    "$$L:\\mathbb{R}[x,y] \\rightarrow \\mathbb{R}[x,y], \\quad LP=P \\circ R.$$\n"
   ]
  },
  {
   "cell_type": "markdown",
   "metadata": {
    "slideshow": {
     "slide_type": "subslide"
    }
   },
   "source": [
    "\n",
    "## Invariance under $L$\n",
    "A polynomial $Q$ is then invariant when $LQ=Q$, i.e. $Q$ is an eigenvector of $L$ with eigenvalue 1. In other words we are looking for the 1-eigenspace of $L$.\n",
    "\n",
    "Let $\\mathbb{R}[x,y]_d$ be the subspace of all homogenous degree-$d$ polynomials. As an example consider:\n",
    "$$\\mathbb{R}[x,y]_3=\\text{span}\\lbrace x^3,x^2y,xy^2,y^3 \\rbrace.$$\n",
    "\n",
    "Notice that $L\\left( \\mathbb{R}[x,y]_d \\right) \\subseteq \\mathbb{R}[x,y]_d$. This allows the investigation of $L$ on each degree-$d$ subspace individually, which we denote by $L_d:\\mathbb{R}[x,y]_d  \\rightarrow \\mathbb{R}[x,y]_d$."
   ]
  },
  {
   "cell_type": "markdown",
   "metadata": {
    "slideshow": {
     "slide_type": "subslide"
    }
   },
   "source": [
    "## Eigenvalues of $L_d$\n",
    "\n",
    "If $\\lambda,\\mu$ are the eigenvalues of $R$, then the eigenvalues of $L_d$ must be:\n",
    "$$\\lambda^d, \\lambda^{d-1}\\mu,\\cdots,\\lambda\\mu^{d-1},\\mu^d.$$\n",
    "\n",
    "You can see this by changing to the complex plane where $R$ diagonalizes, with some eigenvectors $u,v$ corresponding to $\\lambda$ and $\\mu$. After coordinate transforming to $(u,v)$ we have \n",
    ":\n",
    "$$L(u^av^b)=\\lambda^a\\mu^bu^av^b,$$\n",
    "etc... But we know exactly the eigenvalues of $R$: $\\omega$ and $\\omega^{-1}$, with $\\omega=\\exp{\\left( \\frac{2 \\pi i}{n}\\right)}$. A primitive nth root of unity. So the eigenvalues are \n",
    "$$\\color{red}{\\omega^{-d},\\omega^{-d+2},\\cdots, \\omega^{d-2},\\omega^d}.$$\n",
    "\n",
    "The dimension of the 1-eigenspace of $L_d$ is the same as the number of eigenvalues that are equal to 1, and $\\omega^i=1$ exactly when n divides i."
   ]
  },
  {
   "cell_type": "markdown",
   "metadata": {
    "slideshow": {
     "slide_type": "subslide"
    }
   },
   "source": [
    "## Subspace of invariant polynomials for specific n of at most degree d\n",
    "\n",
    "Let us first tabulate the eigenvalues of the operators $L_0,L_1,\\cdots,L_d$.\n",
    "\n",
    "$$\n",
    "\\begin{array}{l|ccccccccccc}\n",
    "L_0&&&&&&\\omega^0&&&&& \\\\\n",
    "L_1&&&&&\\omega^{-1}&&\\omega^{1}&&&& \\\\\n",
    "L_2&&&&\\omega^{-2}&&\\omega^0&&\\omega^{2}&&& \\\\\n",
    "L_3&&&\\omega^{-3}&&\\omega^{-1}&&\\omega^{1}&&\\omega^{3}&& \\\\\n",
    "L_4&&\\omega^{-4}&&\\omega^{-2}&&\\omega^0&&\\omega^{2}&&\\omega^{4}& \\\\\n",
    "L_5&\\omega^{-5}&&\\omega^{-3}&&\\omega^{-1}&&\\omega^{1}&&\\omega^{3}&& \\omega^{5}\n",
    "\\end{array}\n",
    "$$\n",
    "\n",
    "Take now $n=3$ and $d\\leq 5$, then the $\\omega^i$ in the table above for which 3 divides $i$ are the answer. "
   ]
  },
  {
   "cell_type": "markdown",
   "metadata": {
    "slideshow": {
     "slide_type": "subslide"
    }
   },
   "source": [
    "## Invariant functions \n",
    "$L_0$ is a constant function.\n",
    "After that the middle column are even power of the length function $\\sqrt{x^2+y^2}$, i.e. $x^2+y^2, x^4+2x^2y^2+y^4$ and so on. For the uneven powers (see further) consider $\\omega^3,\\omega^{-3}$ for which the functions $x^3-3xy^2,3x^2y-y^3$ are invariant.\n",
    "\n",
    "Since\n",
    "$$L(u^av^b)=\\omega^{a-b}u^av^b$$ \n",
    "the condition for invariance is that $a-b$ has to be divisible by $n$.\n",
    "\n",
    "Consider again $n=3$, then we have the two monomials $u^3,v^3$, but $u=x+iy,v=x-iy$ so one can not extract the invariant polynomials directly. But we can look at the real and imaginary part of $u^3+v^3$."
   ]
  },
  {
   "cell_type": "code",
   "execution_count": 5,
   "metadata": {
    "slideshow": {
     "slide_type": "fragment"
    }
   },
   "outputs": [],
   "source": [
    "x,y = symbols(\"x y\", real=True)"
   ]
  },
  {
   "cell_type": "code",
   "execution_count": 27,
   "metadata": {
    "slideshow": {
     "slide_type": "fragment"
    }
   },
   "outputs": [
    {
     "data": {
      "image/png": "[encoded data removed]",
      "text/latex": [
       "$\\displaystyle x^{3} - 3 x y^{2}$"
      ],
      "text/plain": [
       " 3        2\n",
       "x  - 3⋅x⋅y "
      ]
     },
     "execution_count": 27,
     "metadata": {},
     "output_type": "execute_result"
    }
   ],
   "source": [
    "simplify(Rational(1,2)*((x-I*y)**3 + (x+I*y)**3)).expand()"
   ]
  },
  {
   "cell_type": "code",
   "execution_count": 29,
   "metadata": {
    "slideshow": {
     "slide_type": "fragment"
    }
   },
   "outputs": [
    {
     "data": {
      "image/png": "[encoded data removed]",
      "text/latex": [
       "$\\displaystyle 3 x^{2} y - y^{3}$"
      ],
      "text/plain": [
       "   2      3\n",
       "3⋅x ⋅y - y "
      ]
     },
     "execution_count": 29,
     "metadata": {},
     "output_type": "execute_result"
    }
   ],
   "source": [
    "simplify(Rational(1,2)/I*(-(x-I*y)**3 + (x+I*y)**3)).expand()"
   ]
  },
  {
   "cell_type": "markdown",
   "metadata": {
    "slideshow": {
     "slide_type": "subslide"
    }
   },
   "source": [
    "## Explicit verification invariance\n",
    "\n",
    "For n=3 we have explicitly:\n",
    "$$R=\\left[\\begin{matrix}-0.5 & - \\frac{\\sqrt{3}}{2}\\\\\\frac{\\sqrt{3}}{2} & -0.5\\end{matrix}\\right]\n",
    "$$\n",
    "So that \n",
    "$$\\left[\\begin{matrix}x\\\\y\\end{matrix}\\right] \\rightarrow \\left[\\begin{matrix}- 0.5 x - \\frac{\\sqrt{3} y}{2}\\\\\\frac{\\sqrt{3} x}{2} - 0.5 y\\end{matrix}\\right]\n",
    "$$"
   ]
  },
  {
   "cell_type": "code",
   "execution_count": 16,
   "metadata": {
    "slideshow": {
     "slide_type": "skip"
    }
   },
   "outputs": [
    {
     "data": {
      "image/png": "[encoded data removed]",
      "text/latex": [
       "$\\displaystyle \\left[\\begin{matrix}-0.5 & - \\frac{\\sqrt{3}}{2}\\\\\\frac{\\sqrt{3}}{2} & -0.5\\end{matrix}\\right]$"
      ],
      "text/plain": [
       "⎡      -√3 ⎤\n",
       "⎢-0.5  ────⎥\n",
       "⎢       2  ⎥\n",
       "⎢          ⎥\n",
       "⎢ √3       ⎥\n",
       "⎢ ──   -0.5⎥\n",
       "⎣ 2        ⎦"
      ]
     },
     "execution_count": 16,
     "metadata": {},
     "output_type": "execute_result"
    }
   ],
   "source": [
    "R = Matrix([[-1/2,-sqrt(3)/2],[sqrt(3)/2,-1/2]])"
   ]
  },
  {
   "cell_type": "code",
   "execution_count": 19,
   "metadata": {
    "slideshow": {
     "slide_type": "skip"
    }
   },
   "outputs": [],
   "source": [
    "xpr = R * Matrix([[x],[y]])"
   ]
  },
  {
   "cell_type": "code",
   "execution_count": 32,
   "metadata": {
    "slideshow": {
     "slide_type": "skip"
    }
   },
   "outputs": [
    {
     "name": "stdout",
     "output_type": "stream",
     "text": [
      "\\left[\\begin{matrix}- 0.5 x - \\frac{\\sqrt{3} y}{2}\\\\\\frac{\\sqrt{3} x}{2} - 0.5 y\\end{matrix}\\right]\n"
     ]
    }
   ],
   "source": [
    "print_latex(xpr)"
   ]
  },
  {
   "cell_type": "code",
   "execution_count": 33,
   "metadata": {
    "slideshow": {
     "slide_type": "fragment"
    }
   },
   "outputs": [
    {
     "data": {
      "image/png": "[encoded data removed]",
      "text/latex": [
       "$\\displaystyle 1.0 x^{3} - 3.0 x y^{2}$"
      ],
      "text/plain": [
       "     3          2\n",
       "1.0⋅x  - 3.0⋅x⋅y "
      ]
     },
     "execution_count": 33,
     "metadata": {},
     "output_type": "execute_result"
    }
   ],
   "source": [
    "simplify(xpr[0]**3 -3 * xpr[0]*xpr[1]**2).expand()"
   ]
  },
  {
   "cell_type": "code",
   "execution_count": 34,
   "metadata": {
    "slideshow": {
     "slide_type": "fragment"
    }
   },
   "outputs": [
    {
     "data": {
      "image/png": "[encoded data removed]",
      "text/latex": [
       "$\\displaystyle - 3.0 x^{2} y + 1.0 y^{3}$"
      ],
      "text/plain": [
       "       2          3\n",
       "- 3.0⋅x ⋅y + 1.0⋅y "
      ]
     },
     "execution_count": 34,
     "metadata": {},
     "output_type": "execute_result"
    }
   ],
   "source": [
    "simplify(xpr[1]**3 -3 * xpr[0]**2*xpr[1]).expand()"
   ]
  },
  {
   "cell_type": "code",
   "execution_count": 35,
   "metadata": {
    "slideshow": {
     "slide_type": "fragment"
    }
   },
   "outputs": [
    {
     "data": {
      "image/png": "[encoded data removed]",
      "text/latex": [
       "$\\displaystyle - 1.25 x^{3} - 0.75 \\sqrt{3} x^{2} y + 0.75 x y^{2} - 0.75 \\sqrt{3} y^{3}$"
      ],
      "text/plain": [
       "        3            2             2            3\n",
       "- 1.25⋅x  - 0.75⋅√3⋅x ⋅y + 0.75⋅x⋅y  - 0.75⋅√3⋅y "
      ]
     },
     "execution_count": 35,
     "metadata": {},
     "output_type": "execute_result"
    }
   ],
   "source": [
    "# eq from paper not invariant\n",
    "simplify(xpr[0]**3 +3 * xpr[0]*xpr[1]**2)"
   ]
  },
  {
   "cell_type": "code",
   "execution_count": 36,
   "metadata": {},
   "outputs": [
    {
     "data": {
      "image/png": "[encoded data removed]",
      "text/latex": [
       "$\\displaystyle x^{4} - 6 x^{2} y^{2} + y^{4}$"
      ],
      "text/plain": [
       " 4      2  2    4\n",
       "x  - 6⋅x ⋅y  + y "
      ]
     },
     "execution_count": 36,
     "metadata": {},
     "output_type": "execute_result"
    }
   ],
   "source": [
    "simplify(Rational(1,2)*((x-I*y)**4 + (x+I*y)**4)).expand()"
   ]
  },
  {
   "cell_type": "code",
   "execution_count": 38,
   "metadata": {},
   "outputs": [
    {
     "data": {
      "image/png": "[encoded data removed]",
      "text/latex": [
       "$\\displaystyle 4 x^{3} y - 4 x y^{3}$"
      ],
      "text/plain": [
       "   3          3\n",
       "4⋅x ⋅y - 4⋅x⋅y "
      ]
     },
     "execution_count": 38,
     "metadata": {},
     "output_type": "execute_result"
    }
   ],
   "source": [
    "simplify(Rational(1,2)/I*(-(x-I*y)**4 + (x+I*y)**4)).expand()"
   ]
  },
  {
   "cell_type": "code",
   "execution_count": 45,
   "metadata": {},
   "outputs": [
    {
     "data": {
      "image/png": "[encoded data removed]",
      "text/latex": [
       "$\\displaystyle 2 x^{2} - 2 y^{2}$"
      ],
      "text/plain": [
       "   2      2\n",
       "2⋅x  - 2⋅y "
      ]
     },
     "execution_count": 45,
     "metadata": {},
     "output_type": "execute_result"
    }
   ],
   "source": [
    "simplify((x-I*y)**2+ (x+I*y)**2)"
   ]
  },
  {
   "cell_type": "code",
   "execution_count": null,
   "metadata": {},
   "outputs": [],
   "source": []
  }
 ],
 "metadata": {
  "celltoolbar": "Slideshow",
  "kernelspec": {
   "display_name": "Python 3",
   "language": "python",
   "name": "python3"
  },
  "language_info": {
   "codemirror_mode": {
    "name": "ipython",
    "version": 3
   },
   "file_extension": ".py",
   "mimetype": "text/x-python",
   "name": "python",
   "nbconvert_exporter": "python",
   "pygments_lexer": "ipython3",
   "version": "3.6.12"
  },
  "toc": {
   "base_numbering": 1,
   "nav_menu": {},
   "number_sections": true,
   "sideBar": true,
   "skip_h1_title": false,
   "title_cell": "Table of Contents",
   "title_sidebar": "Contents",
   "toc_cell": false,
   "toc_position": {},
   "toc_section_display": true,
   "toc_window_display": false
  }
 },
 "nbformat": 4,
 "nbformat_minor": 4
}
