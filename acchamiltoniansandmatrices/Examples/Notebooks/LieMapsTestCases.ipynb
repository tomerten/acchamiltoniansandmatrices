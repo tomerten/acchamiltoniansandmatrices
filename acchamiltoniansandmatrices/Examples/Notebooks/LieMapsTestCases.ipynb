{
 "cells": [
  {
   "cell_type": "code",
   "execution_count": 1,
   "metadata": {},
   "outputs": [
    {
     "data": {
      "text/html": [
       "<style>.container { width:95% !important; }</style>"
      ],
      "text/plain": [
       "<IPython.core.display.HTML object>"
      ]
     },
     "metadata": {},
     "output_type": "display_data"
    }
   ],
   "source": [
    "from IPython.core.display import display, HTML\n",
    "display(HTML(\"<style>.container { width:95% !important; }</style>\"))\n",
    "\n",
    "%load_ext autoreload\n",
    "%autoreload 2"
   ]
  },
  {
   "cell_type": "code",
   "execution_count": 2,
   "metadata": {},
   "outputs": [],
   "source": [
    "from sympy import sqrt, cos, sin,  cosh,  sinh, Add\n",
    "from sympy import Symbol, S, oo, Rational, Function, pi , factorial, O, symbols, lambdify, I\n",
    "from sympy import Derivative, series, limit, Matrix, simplify, collect, solve, Poly, poly, diff, nsolve, transpose, factor_terms\n",
    "from sympy import latex, init_printing\n",
    "from sympy.core.numbers import NegativeOne, One, Zero\n",
    "from sympy.printing.latex import print_latex\n",
    "\n",
    "import numpy as np\n",
    "from tqdm import tqdm\n",
    "import ray\n",
    "import time\n",
    "\n",
    "from matplotlib import pyplot as plt\n",
    "from mpl_toolkits.mplot3d import axes3d\n",
    "import matplotlib.pyplot as plt\n",
    "from matplotlib import cm\n",
    "\n",
    "from acchamiltoniansandmatrices.Tracking.LinearMatrixTracking import nestList, GenerateNDimCoordinateGrid\n",
    "from acchamiltoniansandmatrices.Hamiltonians.LatticeElementHamiltonians import HamDrift6D, HamQuad6D\n",
    "from acchamiltoniansandmatrices.Hamiltonians.Operators import Poisson\n",
    "from acchamiltoniansandmatrices.LieMaps.Poisson import PoissonBracket\n",
    "from acchamiltoniansandmatrices.LieMaps.LieOperator import LieOperator\n",
    "from acchamiltoniansandmatrices.Utils.Plotting import multi_countour_plot\n",
    "from acchamiltoniansandmatrices.Factorization.Factorization import truncate, taylorize, dragt_finn_factorization\n",
    "from acchamiltoniansandmatrices.Utils.Polynomials import getpoly, RotationMatrix2D, explicitCheck, geteigenvects\n",
    "from acchamiltoniansandmatrices.Matrices.NumpyMatrices import RnpQuad6DChroma\n",
    "from acchamiltoniansandmatrices.Matrices.SymbMatrices import RsymbQuad6DChroma\n",
    "from acchamiltoniansandmatrices.Integrators import integrator"
   ]
  },
  {
   "cell_type": "code",
   "execution_count": 3,
   "metadata": {},
   "outputs": [
    {
     "name": "stderr",
     "output_type": "stream",
     "text": [
      "2021-03-22 15:20:51,530\tINFO services.py:1172 -- View the Ray dashboard at http://127.0.0.1:8266\n"
     ]
    },
    {
     "data": {
      "text/plain": [
       "{'node_ip_address': '192.168.0.38',\n",
       " 'raylet_ip_address': '192.168.0.38',\n",
       " 'redis_address': '192.168.0.38:56076',\n",
       " 'object_store_address': '/tmp/ray/session_2021-03-22_15-20-50_190875_16000/sockets/plasma_store',\n",
       " 'raylet_socket_name': '/tmp/ray/session_2021-03-22_15-20-50_190875_16000/sockets/raylet',\n",
       " 'webui_url': '127.0.0.1:8266',\n",
       " 'session_dir': '/tmp/ray/session_2021-03-22_15-20-50_190875_16000',\n",
       " 'metrics_export_port': 44191,\n",
       " 'node_id': '45dc31e8b9e58bf266e7b18be8c56488a113ac4f44dd6d9cf7007510'}"
      ]
     },
     "execution_count": 3,
     "metadata": {},
     "output_type": "execute_result"
    }
   ],
   "source": [
    "%matplotlib notebook\n",
    "init_printing() \n",
    "ray.init()"
   ]
  },
  {
   "cell_type": "code",
   "execution_count": 4,
   "metadata": {},
   "outputs": [],
   "source": [
    "x, px, y, py, z, delta = symbols('x p_x y p_y z delta', real=True)\n",
    "eps, h , k0, k1, k2, sigma, betag = symbols('epsilon h k_0 k_1 k_2 sigma beta_gamma', real=True)\n",
    "L, beta0, gamma0 = symbols(\" L beta_0 gamma_0\", real=True, positive=True)\n",
    "x0,px0 = symbols('x_0 px_0') # to not overwrite anything\n",
    "\n",
    "# redefine for use in ringham - otherwise assumption errors\n",
    "LQF   = symbols(\"L_{QF}\")\n",
    "LQD   = symbols(\"L_{QD}\")\n",
    "LD    = symbols(\"L_D\")\n",
    "LD2   = symbols(\"L_{D2}\")\n",
    "KQF   = symbols(\"K_{QF}\")\n",
    "KQD   = symbols(\"K_{QD}\")\n",
    "dld   = symbols('\\delta{L_D}') # delta length drift"
   ]
  },
  {
   "cell_type": "code",
   "execution_count": 5,
   "metadata": {},
   "outputs": [],
   "source": [
    "# standardized substitutions that are useful - ORDER IN LISTS COUNTS !!!!\n",
    "betagamma_rep = list(zip([beta0 * gamma0, beta0],[oo,1]))\n",
    "series_rep    = list(zip([px,py,delta],[eps*px,eps*py,eps*delta]))\n",
    "coord_rep     = list(zip([x,y],[eps*x,eps*y]))\n",
    "thin_rep      = list(zip([px,py,delta],[0,0,0]))\n",
    "xpx_rep       = list(zip([y,py,delta],[0,0,0]))\n",
    "eps_rep       = list(zip([x,y,z,px,py,delta],[eps*x,eps*y,0,px*eps,py*eps,0]))\n",
    "xyplane_rep   = list(zip([y,py,z,delta],[0,0,0,0]))\n",
    "track_rep     = list(zip([x,px],[x0,px0]))\n",
    "inv_track_rep = list(zip([x0,px0],[x,px]))"
   ]
  },
  {
   "cell_type": "code",
   "execution_count": 18,
   "metadata": {},
   "outputs": [],
   "source": [
    "#Island setting\n",
    "_ld1 = 2.55\n",
    "_ld2 = 2.35 #2.48\n",
    "_lqf = 0.3\n",
    "_lqd = 0.804\n",
    "_k1  = 0.7\n",
    "_k2  = - 0.35\n",
    "\n",
    "repj = list(zip([LD,LD2,LQF,LQD,KQF,KQD,dld],[_ld1,_ld2,_lqf,_lqd,_k1,_k2,0]))"
   ]
  },
  {
   "cell_type": "code",
   "execution_count": 19,
   "metadata": {},
   "outputs": [],
   "source": [
    "#Island setting\n",
    "_ld1 = 3.5805\n",
    "_ld2 = 3.5805\n",
    "_lqf = 0.342\n",
    "_lqd = 0.668\n",
    "_k1  = 0.49\n",
    "_k2  = - 0.4999\n",
    "\n",
    "rept = list(zip([LD,LD2,LQF,LQD,KQF,KQD,dld],[_ld1,_ld2,_lqf,_lqd,_k1,_k2,0]))"
   ]
  },
  {
   "cell_type": "code",
   "execution_count": 20,
   "metadata": {},
   "outputs": [],
   "source": [
    "eldict = { 'drift' : 1, 'quad'  : 2, 'squad' : 25, 'sext'  : 3}\n",
    "\n",
    "beamlines = [\n",
    "    [eldict['quad'] , 4, LQF, KQF, 0],\n",
    "    [eldict['drift'], 4, LD , Zero(), 0   ],\n",
    "    [eldict['quad'] , 4, LQD, KQD, 0],\n",
    "    [eldict['drift'], 4, LD , Zero(), 0   ],\n",
    "    [eldict['quad'] , 4, LQF, KQF, 0],\n",
    "]"
   ]
  },
  {
   "cell_type": "code",
   "execution_count": 21,
   "metadata": {},
   "outputs": [],
   "source": [
    "def AssignHam(element, order=3, length=1, k=1,flag=1):\n",
    "    '''\n",
    "    Element:\n",
    "    1 = drift space\n",
    "    2 = quadrupole\n",
    "    25 = skew quadrupole\n",
    "    3 = sextupole\n",
    "    35 = skew sextupole - tbp\n",
    "    '''\n",
    "    order = order +1\n",
    " \n",
    "    if element == 1:\n",
    "        # drift hamiltonian\n",
    "        H = NegativeOne() * HamDrift6D(beta0, gamma0, length,x,px,y,py,delta)\n",
    "        H = H.subs(betagamma_rep)\n",
    "        H = H.subs(series_rep).series(eps,0,n=order).removeO()\n",
    "        H = simplify(H.subs(eps,One()) - H.subs(eps,Zero()))\n",
    "\n",
    "        \n",
    "    elif element == 2:\n",
    "        # quadrupole - thin is set by flag\n",
    "        H = NegativeOne() * HamQuad6D(beta0,gamma0,length,x,px,y,py,delta,k)\n",
    "        H = H.subs(betagamma_rep)\n",
    "        H = H.subs(series_rep).series(eps,n=order).removeO()\n",
    "        H = H.subs(coord_rep)\n",
    "        H = simplify(H.subs(eps,One()) - H.subs(eps,Zero()))\n",
    "        \n",
    "        if flag:\n",
    "            H = H.subs(thin_rep)\n",
    "        \n",
    "#         H = quad(order, length, strength, flag)\n",
    "    elif element == 25:\n",
    "        H = NegativeOne() *  HamSQuad6D(beta0,gamma0,length,x,px,y,py,delta,k)\n",
    "        H = H.subs(betagamma_rep)\n",
    "        H = H.subs(series_rep).series(eps,n=order).removeO()\n",
    "        H = H.subs(coord_rep)\n",
    "        H = simplify(H.subs(eps,One()) - H.subs(eps,Zero()))\n",
    "        \n",
    "        if flag:\n",
    "            H = H.subs(thin_rep)\n",
    "#         H = skew_quad(order, length, strength, flag)\n",
    "        \n",
    "    elif element == 3:\n",
    "        H = NegativeOne() *  HamSext6D(beta0,gamma0,length,x,px,y,py,delta,k)\n",
    "        H = H.subs(betagamma_rep)\n",
    "        H = H.subs(series_rep).series(eps,n=order).removeO()\n",
    "        H = H.subs(coord_rep)\n",
    "        H = simplify(H.subs(eps,One()) - H.subs(eps,Zero()))\n",
    "        \n",
    "        if flag:\n",
    "            H = H.subs(thin_rep)\n",
    "\n",
    "    else:\n",
    "        raise ValueError(element, ' no such reference in library.')      \n",
    "    \n",
    "    return H"
   ]
  },
  {
   "cell_type": "code",
   "execution_count": 22,
   "metadata": {},
   "outputs": [],
   "source": [
    "def New_FIG(x,px,y,py,d2=False):\n",
    "    fig = plt.figure(constrained_layout=True, figsize = (12,6))\n",
    "    \n",
    "    if d2:\n",
    "        gs  = fig.add_gridspec(1, 2)\n",
    "        ax1 = fig.add_subplot(gs[0,0])\n",
    "        ax2 = fig.add_subplot(gs[0,1])\n",
    "        ax2.set_xlabel('$y$')\n",
    "        ax2.set_ylabel('$p_y$')\n",
    "        ax2.plot(y,py,'k.',alpha=.1, label='Exact')\n",
    "    else:\n",
    "        gs  = fig.add_gridspec(1, 1)\n",
    "        ax1 = fig.add_subplot(gs[0,0])\n",
    "\n",
    "    ax1.set_xlabel('$x$')\n",
    "    ax1.set_ylabel('$p_x$')\n",
    "    ax1.plot(x,px,'k.',alpha=.1, label='Exact')"
   ]
  },
  {
   "cell_type": "code",
   "execution_count": 23,
   "metadata": {},
   "outputs": [],
   "source": [
    "def truncatexpx(func, order):\n",
    "    _e = symbols('epsilon')\n",
    "    func = func.subs(x0,_e*x0).subs(px0,_e*px0)\n",
    "    func = func + O(_e**(order+1))\n",
    "    return func.removeO().subs(_e,1)"
   ]
  },
  {
   "cell_type": "code",
   "execution_count": 38,
   "metadata": {},
   "outputs": [],
   "source": [
    "def codict(expr, *x):\n",
    "    collected = Poly(expr, *x).as_expr()\n",
    "    return dict(i.as_independent(*x)[::-1] for i in Add.make_args(collected))"
   ]
  },
  {
   "cell_type": "code",
   "execution_count": 24,
   "metadata": {},
   "outputs": [
    {
     "name": "stdout",
     "output_type": "stream",
     "text": [
      "Shape: (6, 2, 30, 1, 1, 1, 1) - Number of paritcles: 60 \n"
     ]
    }
   ],
   "source": [
    "dpx = 0.0 # to get into islands\n",
    "\n",
    "R0 = GenerateNDimCoordinateGrid(6,2,man_ranges={\n",
    "    0:[1.0000e-06, 1.0000e-04, 1.0000e-02, 1.0000e+00, 2.5000e-01,\n",
    "       3.5000e-01, 4.5000e-01, 5.5000e-01, 6.5000e-01, 8.0000e-01,\n",
    "       9.0000e-01, 1.0000e+00, 1.1000e+00, 1.2000e+00, 1.3000e+00,\n",
    "       1.4000e+00, 1.5000e+00, 1.6000e+00, 1.7000e+00, 1.8000e+00,\n",
    "       1.8500e+00, 1.9000e+00, 1.9500e+00, 2.0000e+00, 2.0125e+00,\n",
    "       2.0250e+00, 2.0500e+00, 2.1000e+00, 2.2000e+00, 2.3000e+00],\n",
    "    1:[0,dpx],\n",
    "    2:[0],\n",
    "    3:[0],\n",
    "    4:[0],\n",
    "    5:[0]\n",
    "})\n",
    "r0 = R0.T.reshape(int(R0.size/6),6)"
   ]
  },
  {
   "cell_type": "code",
   "execution_count": 31,
   "metadata": {},
   "outputs": [],
   "source": [
    "HQF2 = AssignHam(*[eldict['quad'] , 2, LQF, KQF, 0])\n",
    "HD_4 = AssignHam(*[eldict['drift'], 4, LD , Zero(), 0])\n",
    "HQD2 = AssignHam(*[eldict['quad'] , 2, LQD, KQD, 0])"
   ]
  },
  {
   "cell_type": "code",
   "execution_count": 39,
   "metadata": {},
   "outputs": [
    {
     "data": {
      "image/png": "[encoded data removed]",
      "text/latex": [
       "$\\displaystyle \\left\\{ p_{x}^{2} : -0.171, \\  x^{2} : -0.08379\\right\\}$"
      ],
      "text/plain": [
       "⎧  2           2          ⎫\n",
       "⎨pₓ : -0.171, x : -0.08379⎬\n",
       "⎩                         ⎭"
      ]
     },
     "execution_count": 39,
     "metadata": {},
     "output_type": "execute_result"
    }
   ],
   "source": [
    "codict(HQF2.subs(xyplane_rep).expand().subs(rept),x,px)"
   ]
  },
  {
   "cell_type": "code",
   "execution_count": 50,
   "metadata": {},
   "outputs": [
    {
     "data": {
      "image/png": "[encoded data removed]",
      "text/latex": [
       "$\\displaystyle - 4.0 p_{x}^{3} + x$"
      ],
      "text/plain": [
       "        3    \n",
       "- 4.0⋅pₓ  + x"
      ]
     },
     "execution_count": 50,
     "metadata": {},
     "output_type": "execute_result"
    }
   ],
   "source": [
    "LieOperator(px**4,[x],[px]).LieMap(x,4).ham"
   ]
  },
  {
   "cell_type": "code",
   "execution_count": 55,
   "metadata": {},
   "outputs": [],
   "source": [
    "g40, g31, g22, g13, g04 = symbols(\"g_{40} g_{31} g_{22} g_{13} g_{04}\")\n",
    "h20, h11, h02 = symbols(\"h_{40} h_{11} h_{02}\")\n",
    "K, L = symbols(\"K L\")"
   ]
  },
  {
   "cell_type": "code",
   "execution_count": 80,
   "metadata": {},
   "outputs": [
    {
     "data": {
      "image/png": "[encoded data removed]",
      "text/latex": [
       "$\\displaystyle \\left( \\frac{h_{02} p_{x}^{2}}{2} + \\frac{h_{11} p_{x} x}{2} + \\frac{h_{40} x^{2}}{2}, \\  g_{04} p_{x}^{4} + g_{13} p_{x}^{3} x + g_{22} p_{x}^{2} x^{2} + g_{31} p_{x} x^{3} + g_{40} x^{4}\\right)$"
      ],
      "text/plain": [
       "⎛         2                         2                                         \n",
       "⎜h_{02}⋅pₓ    h_{11}⋅pₓ⋅x   h_{40}⋅x            4            3              2 \n",
       "⎜────────── + ─────────── + ─────────, g_{04}⋅pₓ  + g_{13}⋅pₓ ⋅x + g_{22}⋅pₓ ⋅\n",
       "⎝    2             2            2                                             \n",
       "\n",
       "                             ⎞\n",
       " 2              3           4⎟\n",
       "x  + g_{31}⋅pₓ⋅x  + g_{40}⋅x ⎟\n",
       "                             ⎠"
      ]
     },
     "execution_count": 80,
     "metadata": {},
     "output_type": "execute_result"
    }
   ],
   "source": [
    "H2 = Rational(1,2)  * ( h20*x**2 + h11*x*px + h02*px**2 )\n",
    "H4 =  g40*x**4 +  g31*x**3*px + g22*x**2*px**2 + g13*x*px**3 + g04*px**4\n",
    "H2, H4"
   ]
  },
  {
   "cell_type": "code",
   "execution_count": 81,
   "metadata": {},
   "outputs": [
    {
     "data": {
      "image/png": "[encoded data removed]",
      "text/latex": [
       "$\\displaystyle \\frac{h_{02} p_{x}^{2}}{2} + \\frac{h_{11} p_{x} x}{2} + \\frac{h_{40} x^{2}}{2}$"
      ],
      "text/plain": [
       "         2                         2\n",
       "h_{02}⋅pₓ    h_{11}⋅pₓ⋅x   h_{40}⋅x \n",
       "────────── + ─────────── + ─────────\n",
       "    2             2            2    "
      ]
     },
     "execution_count": 81,
     "metadata": {},
     "output_type": "execute_result"
    }
   ],
   "source": [
    "H2"
   ]
  },
  {
   "cell_type": "code",
   "execution_count": 82,
   "metadata": {},
   "outputs": [],
   "source": [
    "H2_op = LieOperator(H2, [x], [px])\n",
    "H4_op = LieOperator(H4, [x], [px])"
   ]
  },
  {
   "cell_type": "code",
   "execution_count": 83,
   "metadata": {},
   "outputs": [
    {
     "data": {
      "image/png": "[encoded data removed]",
      "text/latex": [
       "$\\displaystyle g_{04} p_{x}^{4} + g_{13} p_{x}^{3} x + g_{22} p_{x}^{2} x^{2} + g_{31} p_{x} x^{3} + g_{40} x^{4} + \\frac{h_{02} p_{x}^{2}}{2} + \\frac{h_{11} p_{x} x}{2} + \\frac{h_{40} x^{2}}{2}$"
      ],
      "text/plain": [
       "                                                                              \n",
       "         4            3              2  2              3           4   h_{02}⋅\n",
       "g_{04}⋅pₓ  + g_{13}⋅pₓ ⋅x + g_{22}⋅pₓ ⋅x  + g_{31}⋅pₓ⋅x  + g_{40}⋅x  + ───────\n",
       "                                                                           2  \n",
       "\n",
       "  2                         2\n",
       "pₓ    h_{11}⋅pₓ⋅x   h_{40}⋅x \n",
       "─── + ─────────── + ─────────\n",
       "           2            2    "
      ]
     },
     "execution_count": 83,
     "metadata": {},
     "output_type": "execute_result"
    }
   ],
   "source": [
    "H4_op.BCH(H2_op,1).ham"
   ]
  },
  {
   "cell_type": "code",
   "execution_count": 89,
   "metadata": {},
   "outputs": [
    {
     "data": {
      "image/png": "[encoded data removed]",
      "text/latex": [
       "$\\displaystyle - \\frac{g_{13} h_{11} p_{x}^{3} x}{2} + g_{22} h_{02} p_{x}^{3} x - g_{22} h_{40} p_{x} x^{3} + \\frac{g_{31} h_{11} p_{x} x^{3}}{2} + 2 g_{31} p_{x} x^{3} + 2 g_{40} h_{02} p_{x} x^{3} + p_{x}^{4} \\left(- g_{04} h_{11} + 2 g_{04} + \\frac{g_{13} h_{02}}{2}\\right) + p_{x}^{2} x^{2} \\left(- \\frac{3 g_{13} h_{40}}{2} + 2 g_{22} + \\frac{3 g_{31} h_{02}}{2}\\right) + 2 p_{x}^{2} x \\left(- g_{04} h_{40} p_{x} + g_{13} p_{x}\\right) + x^{4} \\left(- \\frac{g_{31} h_{40}}{2} + g_{40} h_{11} + 2 g_{40}\\right)$"
      ],
      "text/plain": [
       "                  3                                                           \n",
       "  g_{13}⋅h_{11}⋅pₓ ⋅x                   3                       3   g_{31}⋅h_{\n",
       "- ─────────────────── + g_{22}⋅h_{02}⋅pₓ ⋅x - g_{22}⋅h_{40}⋅pₓ⋅x  + ──────────\n",
       "           2                                                                 2\n",
       "\n",
       "        3                                                                     \n",
       "11}⋅pₓ⋅x                 3                       3     4 ⎛                    \n",
       "───────── + 2⋅g_{31}⋅pₓ⋅x  + 2⋅g_{40}⋅h_{02}⋅pₓ⋅x  + pₓ ⋅⎜-g_{04}⋅h_{11} + 2⋅g\n",
       "                                                         ⎝                    \n",
       "\n",
       "                                                                              \n",
       "        g_{13}⋅h_{02}⎞     2  2 ⎛  3⋅g_{13}⋅h_{40}              3⋅g_{31}⋅h_{02\n",
       "_{04} + ─────────────⎟ + pₓ ⋅x ⋅⎜- ─────────────── + 2⋅g_{22} + ──────────────\n",
       "              2      ⎠          ⎝         2                            2      \n",
       "\n",
       "                                                                              \n",
       "}⎞       2                                      4 ⎛  g_{31}⋅h_{40}            \n",
       "─⎟ + 2⋅pₓ ⋅x⋅(-g_{04}⋅h_{40}⋅pₓ + g_{13}⋅pₓ) + x ⋅⎜- ───────────── + g_{40}⋅h_\n",
       " ⎠                                                ⎝        2                  \n",
       "\n",
       "                \n",
       "               ⎞\n",
       "{11} + 2⋅g_{40}⎟\n",
       "               ⎠"
      ]
     },
     "execution_count": 89,
     "metadata": {},
     "output_type": "execute_result"
    }
   ],
   "source": [
    "(H4_op.BCH(H2_op,2).doit().ham.expand()-(H2-H4)).collect(px**4).collect(x**4).collect(x*2*px**2)"
   ]
  },
  {
   "cell_type": "code",
   "execution_count": 85,
   "metadata": {},
   "outputs": [
    {
     "data": {
      "image/png": "[encoded data removed]",
      "text/latex": [
       "$\\displaystyle \\left[ g_{04} p_{x}^{4}, \\  g_{40} x^{4}, \\  g_{13} p_{x}^{3} x, \\  g_{22} p_{x}^{2} x^{2}, \\  g_{31} p_{x} x^{3}, \\  g_{40} h_{11} x^{4}, \\  \\frac{g_{13} h_{02} p_{x}^{4}}{2}, \\  - g_{04} h_{11} p_{x}^{4}, \\  - \\frac{g_{31} h_{40} x^{4}}{2}, \\  g_{22} h_{02} p_{x}^{3} x, \\  \\frac{g_{31} h_{11} p_{x} x^{3}}{2}, \\  - g_{22} h_{40} p_{x} x^{3}, \\  - 2 g_{04} h_{40} p_{x}^{3} x, \\  2 g_{40} h_{02} p_{x} x^{3}, \\  - \\frac{3 g_{13} h_{40} p_{x}^{2} x^{2}}{2}, \\  - \\frac{g_{13} h_{11} p_{x}^{3} x}{2}, \\  \\frac{3 g_{31} h_{02} p_{x}^{2} x^{2}}{2}\\right]$"
      ],
      "text/plain": [
       "⎡                                                                             \n",
       "⎢         4          4           3             2  2             3             \n",
       "⎢g_{04}⋅pₓ , g_{40}⋅x , g_{13}⋅pₓ ⋅x, g_{22}⋅pₓ ⋅x , g_{31}⋅pₓ⋅x , g_{40}⋅h_{1\n",
       "⎣                                                                             \n",
       "\n",
       "                       4                                      4               \n",
       "    4  g_{13}⋅h_{02}⋅pₓ                    4  -g_{31}⋅h_{40}⋅x                \n",
       "1}⋅x , ─────────────────, -g_{04}⋅h_{11}⋅pₓ , ──────────────────, g_{22}⋅h_{02\n",
       "               2                                      2                       \n",
       "\n",
       "                           3                                                  \n",
       "    3    g_{31}⋅h_{11}⋅pₓ⋅x                      3                     3      \n",
       "}⋅pₓ ⋅x, ───────────────────, -g_{22}⋅h_{40}⋅pₓ⋅x , -2⋅g_{04}⋅h_{40}⋅pₓ ⋅x, 2⋅\n",
       "                  2                                                           \n",
       "\n",
       "                                        2  2                    3             \n",
       "                  3  -3⋅g_{13}⋅h_{40}⋅pₓ ⋅x    -g_{13}⋅h_{11}⋅pₓ ⋅x   3⋅g_{31}\n",
       "g_{40}⋅h_{02}⋅pₓ⋅x , ────────────────────────, ─────────────────────, ────────\n",
       "                                2                        2                    \n",
       "\n",
       "          2  2⎤\n",
       "⋅h_{02}⋅pₓ ⋅x ⎥\n",
       "──────────────⎥\n",
       "  2           ⎦"
      ]
     },
     "execution_count": 85,
     "metadata": {},
     "output_type": "execute_result"
    }
   ],
   "source": [
    "[a  for a in H4_op.BCH(H2_op,2).doit().ham.expand().args if Poly(a,[x,px]).total_degree()==4]"
   ]
  },
  {
   "cell_type": "code",
   "execution_count": 90,
   "metadata": {},
   "outputs": [],
   "source": [
    "A,B,C = symbols(\"A B C\")"
   ]
  },
  {
   "cell_type": "code",
   "execution_count": 132,
   "metadata": {},
   "outputs": [],
   "source": [
    "ex = LieOperator(A*x**2+B*x*px+C*px**2,[x],[px]).LieMap(x,8).ham.collect(x).collect(px)\n",
    "epx = LieOperator(A*x**2+B*x*px+C*px**2,[x],[px]).LieMap(px,8).ham.collect(x).collect(px)\n",
    "\n",
    "M = Matrix([[ 0.08956728, 13.9617203 ],\n",
    "       [-0.0710475 ,  0.08956728]])"
   ]
  },
  {
   "cell_type": "code",
   "execution_count": 133,
   "metadata": {},
   "outputs": [],
   "source": [
    "eq1 = ex.coeff(x)- M[0,0]-1\n",
    "eq2 = ex.coeff(px)- M[0,1]-1\n",
    "eq3 = epx.coeff(x)- M[1,0]-1\n",
    "eq4 = epx.coeff(x)- M[1,1]-1"
   ]
  },
  {
   "cell_type": "code",
   "execution_count": 137,
   "metadata": {
    "scrolled": false
   },
   "outputs": [
    {
     "data": {
      "text/plain": [
       "array([ 1.2042854 ,  5.87070519, 11.32087997])"
      ]
     },
     "execution_count": 137,
     "metadata": {},
     "output_type": "execute_result"
    }
   ],
   "source": [
    "from scipy.optimize import fsolve\n",
    "\n",
    "def func(arr):\n",
    "\n",
    "    return [\n",
    "        eq1.subs(A, arr[0]).subs(B,arr[1]).subs(C,arr[2]),\n",
    "        eq2.subs(A, arr[0]).subs(B,arr[1]).subs(C,arr[2]),\n",
    "        eq3.subs(A, arr[0]).subs(B,arr[1]).subs(C,arr[2])\n",
    "    ]\n",
    "\n",
    "root = fsolve(func, [2, 1,12])\n",
    "\n",
    "root"
   ]
  },
  {
   "cell_type": "code",
   "execution_count": null,
   "metadata": {},
   "outputs": [],
   "source": [
    "NL4.subs()"
   ]
  },
  {
   "cell_type": "code",
   "execution_count": null,
   "metadata": {},
   "outputs": [],
   "source": [
    "def HQF2_symmetric_map(r0):\n",
    "    _x = r[:,0]\n",
    "    _px = r[:,1]\n",
    "    _y = r[:,2]\n",
    "    _py = r[:,3]\n",
    "    _z = r[:,4]\n",
    "    _pz = r[:,5]\n",
    "    \n",
    "    cp2 = HQ2F.coef(px**2)\n",
    "    cx2 = HQ2F.coef(x**2)\n",
    "    \n",
    "    xn = LieOperator()\n",
    "    return np.array([xn, pxn, yn, pyn, zn, pzn]).transpose()"
   ]
  }
 ],
 "metadata": {
  "kernelspec": {
   "display_name": "Python [conda env:jnotebookenv] *",
   "language": "python",
   "name": "conda-env-jnotebookenv-py"
  },
  "language_info": {
   "codemirror_mode": {
    "name": "ipython",
    "version": 3
   },
   "file_extension": ".py",
   "mimetype": "text/x-python",
   "name": "python",
   "nbconvert_exporter": "python",
   "pygments_lexer": "ipython3",
   "version": "3.8.5"
  },
  "latex_envs": {
   "LaTeX_envs_menu_present": true,
   "autoclose": false,
   "autocomplete": true,
   "bibliofile": "biblio.bib",
   "cite_by": "apalike",
   "current_citInitial": 1,
   "eqLabelWithNumbers": true,
   "eqNumInitial": 1,
   "hotkeys": {
    "equation": "Ctrl-E",
    "itemize": "Ctrl-I"
   },
   "labels_anchors": false,
   "latex_user_defs": false,
   "report_style_numbering": false,
   "user_envs_cfg": false
  },
  "toc": {
   "base_numbering": 1,
   "nav_menu": {},
   "number_sections": true,
   "sideBar": true,
   "skip_h1_title": false,
   "title_cell": "Table of Contents",
   "title_sidebar": "Contents",
   "toc_cell": false,
   "toc_position": {},
   "toc_section_display": true,
   "toc_window_display": false
  }
 },
 "nbformat": 4,
 "nbformat_minor": 4
}
