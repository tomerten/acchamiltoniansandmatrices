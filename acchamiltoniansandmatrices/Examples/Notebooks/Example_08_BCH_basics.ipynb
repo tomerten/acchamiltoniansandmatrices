{
 "cells": [
  {
   "cell_type": "code",
   "execution_count": 1,
   "metadata": {},
   "outputs": [
    {
     "data": {
      "text/html": [
       "<style>.container { width:95% !important; }</style>"
      ],
      "text/plain": [
       "<IPython.core.display.HTML object>"
      ]
     },
     "metadata": {},
     "output_type": "display_data"
    }
   ],
   "source": [
    "from IPython.core.display import display, HTML\n",
    "display(HTML(\"<style>.container { width:95% !important; }</style>\"))\n",
    "\n",
    "%load_ext autoreload\n",
    "%autoreload 2"
   ]
  },
  {
   "cell_type": "code",
   "execution_count": 6,
   "metadata": {},
   "outputs": [],
   "source": [
    "from sympy import sqrt, cos, sin,  cosh,  sinh, Add\n",
    "from sympy import Symbol, S, oo, Rational, Function, pi , factorial, O, symbols, lambdify, I\n",
    "from sympy import Derivative, series, limit, Matrix, simplify, collect, solve, Poly, poly, diff, nsolve, transpose, factor_terms\n",
    "from sympy import latex, init_printing\n",
    "from sympy.core.numbers import NegativeOne, One, Zero\n",
    "from sympy.printing.latex import print_latex\n",
    "\n",
    "import numpy as np\n",
    "import pandas as pd\n",
    "from tqdm import tqdm\n",
    "import ray\n",
    "import time\n",
    "\n",
    "from matplotlib import pyplot as plt\n",
    "from mpl_toolkits.mplot3d import axes3d\n",
    "import matplotlib.pyplot as plt\n",
    "from matplotlib import cm\n",
    "from collections import defaultdict\n",
    "from itertools import product, combinations\n",
    "from functools import reduce\n",
    "from acchamiltoniansandmatrices.Tracking.LinearMatrixTracking import nestList, GenerateNDimCoordinateGrid\n",
    "from acchamiltoniansandmatrices.Hamiltonians.LatticeElementHamiltonians import HamDrift6D, HamQuad6D\n",
    "from acchamiltoniansandmatrices.Hamiltonians.Operators import Poisson\n",
    "from acchamiltoniansandmatrices.LieMaps.Poisson import PoissonBracket\n",
    "from acchamiltoniansandmatrices.LieMaps.LieOperator import LieOperator\n",
    "from acchamiltoniansandmatrices.Utils.Plotting import multi_countour_plot\n",
    "from acchamiltoniansandmatrices.Factorization.Factorization import truncate, taylorize, dragt_finn_factorization\n",
    "from acchamiltoniansandmatrices.Utils.Polynomials import getpoly, RotationMatrix2D, explicitCheck, geteigenvects\n",
    "from acchamiltoniansandmatrices.Matrices.NumpyMatrices import RnpQuad6DChroma\n",
    "from acchamiltoniansandmatrices.Matrices.SymbMatrices import RsymbQuad6DChroma\n",
    "from acchamiltoniansandmatrices.Integrators import integrator\n",
    "from acchamiltoniansandmatrices.Tracking.LinearMatrixTracking import nestList\n",
    "\n",
    "from acchamiltoniansandmatrices.LieMaps.BCH import generate_bch_expression"
   ]
  },
  {
   "cell_type": "code",
   "execution_count": 4,
   "metadata": {},
   "outputs": [],
   "source": [
    "x, px, y, py, z, delta = symbols('x p_x y p_y z delta', real=True)\n",
    "eps, h , k0, k1, k2, sigma, betag = symbols('epsilon h k_0 k_1 k_2 sigma beta_gamma', real=True)\n",
    "L, beta0, gamma0 = symbols(\" L beta_0 gamma_0\", real=True, positive=True)\n",
    "x0,px0 = symbols('x_0 px_0') # to not overwrite anything\n",
    "p = symbols(\"p\")"
   ]
  },
  {
   "cell_type": "code",
   "execution_count": 5,
   "metadata": {},
   "outputs": [],
   "source": [
    "H1 = p**2+x**2\n",
    "H2 = p**2"
   ]
  },
  {
   "cell_type": "markdown",
   "metadata": {},
   "source": [
    "# Comparing old_BCH with new"
   ]
  },
  {
   "cell_type": "code",
   "execution_count": 14,
   "metadata": {},
   "outputs": [],
   "source": [
    "X = Function(\"X\")(x,px)\n",
    "Y = Function(\"Y\")(x,px)\n",
    "\n",
    "Lo1 = LieOperator(X,[x],[p]) \n",
    "Lo2 = LieOperator(Y,[x],[p])"
   ]
  },
  {
   "cell_type": "markdown",
   "metadata": {},
   "source": [
    "## order 2"
   ]
  },
  {
   "cell_type": "code",
   "execution_count": 27,
   "metadata": {},
   "outputs": [
    {
     "data": {
      "text/latex": [
       "$\\displaystyle X{\\left(x,p_{x} \\right)} + Y{\\left(x,p_{x} \\right)} + \\frac{\\lbrace X,Y \\rbrace }{2}$"
      ],
      "text/plain": [
       "X(x, p_x) + Y(x, p_x) + PoissonBracket(X(x, p_x), Y(x, p_x))/2"
      ]
     },
     "execution_count": 27,
     "metadata": {},
     "output_type": "execute_result"
    }
   ],
   "source": [
    "Lo1.BCH(Lo2,2).ham"
   ]
  },
  {
   "cell_type": "code",
   "execution_count": 26,
   "metadata": {},
   "outputs": [
    {
     "data": {
      "text/latex": [
       "$\\displaystyle X{\\left(x,p_{x} \\right)} + Y{\\left(x,p_{x} \\right)} + \\frac{\\lbrace X,Y \\rbrace }{2}$"
      ],
      "text/plain": [
       "X(x, p_x) + Y(x, p_x) + PoissonBracket(X(x, p_x), Y(x, p_x))/2"
      ]
     },
     "execution_count": 26,
     "metadata": {},
     "output_type": "execute_result"
    }
   ],
   "source": [
    "generate_bch_expression(order=2,coords=[x],mom=[px])"
   ]
  },
  {
   "cell_type": "markdown",
   "metadata": {},
   "source": [
    "## order 3"
   ]
  },
  {
   "cell_type": "code",
   "execution_count": 30,
   "metadata": {},
   "outputs": [
    {
     "data": {
      "text/latex": [
       "$\\displaystyle X{\\left(x,p_{x} \\right)} + Y{\\left(x,p_{x} \\right)} + \\frac{\\lbrace X,Y \\rbrace }{2} - \\frac{\\lbrace \\lbrace X,Y \\rbrace ,X \\rbrace }{12} + \\frac{\\lbrace \\lbrace X,Y \\rbrace ,Y \\rbrace }{12}$"
      ],
      "text/plain": [
       "X(x, p_x) + Y(x, p_x) + PoissonBracket(X(x, p_x), Y(x, p_x))/2 - PoissonBracket(PoissonBracket(X(x, p_x), Y(x, p_x)), X(x, p_x))/12 + PoissonBracket(PoissonBracket(X(x, p_x), Y(x, p_x)), Y(x, p_x))/12"
      ]
     },
     "execution_count": 30,
     "metadata": {},
     "output_type": "execute_result"
    }
   ],
   "source": [
    "Lo1.BCH(Lo2,3).ham.expand(commutator=True)"
   ]
  },
  {
   "cell_type": "code",
   "execution_count": 31,
   "metadata": {},
   "outputs": [
    {
     "data": {
      "text/latex": [
       "$\\displaystyle X{\\left(x,p_{x} \\right)} + Y{\\left(x,p_{x} \\right)} + \\frac{\\lbrace X,Y \\rbrace }{2} - \\frac{\\lbrace \\lbrace X,Y \\rbrace ,X \\rbrace }{12} + \\frac{\\lbrace \\lbrace X,Y \\rbrace ,Y \\rbrace }{12}$"
      ],
      "text/plain": [
       "X(x, p_x) + Y(x, p_x) + PoissonBracket(X(x, p_x), Y(x, p_x))/2 - PoissonBracket(PoissonBracket(X(x, p_x), Y(x, p_x)), X(x, p_x))/12 + PoissonBracket(PoissonBracket(X(x, p_x), Y(x, p_x)), Y(x, p_x))/12"
      ]
     },
     "execution_count": 31,
     "metadata": {},
     "output_type": "execute_result"
    }
   ],
   "source": [
    "generate_bch_expression(order=3,coords=[x],mom=[px]).expand(commutator=True)"
   ]
  },
  {
   "cell_type": "markdown",
   "metadata": {},
   "source": [
    "## order 4"
   ]
  },
  {
   "cell_type": "code",
   "execution_count": 32,
   "metadata": {},
   "outputs": [
    {
     "data": {
      "text/latex": [
       "$\\displaystyle X{\\left(x,p_{x} \\right)} + Y{\\left(x,p_{x} \\right)} + \\frac{\\lbrace X,Y \\rbrace }{2} - \\frac{\\lbrace \\lbrace X,Y \\rbrace ,X \\rbrace }{12} + \\frac{\\lbrace \\lbrace X,Y \\rbrace ,Y \\rbrace }{12} - \\frac{\\lbrace \\lbrace \\lbrace X,Y \\rbrace ,X \\rbrace ,Y \\rbrace }{24}$"
      ],
      "text/plain": [
       "X(x, p_x) + Y(x, p_x) + PoissonBracket(X(x, p_x), Y(x, p_x))/2 - PoissonBracket(PoissonBracket(X(x, p_x), Y(x, p_x)), X(x, p_x))/12 + PoissonBracket(PoissonBracket(X(x, p_x), Y(x, p_x)), Y(x, p_x))/12 - PoissonBracket(PoissonBracket(PoissonBracket(X(x, p_x), Y(x, p_x)), X(x, p_x)), Y(x, p_x))/24"
      ]
     },
     "execution_count": 32,
     "metadata": {},
     "output_type": "execute_result"
    }
   ],
   "source": [
    "Lo1.BCH(Lo2,4).ham.expand(commutator=True)"
   ]
  },
  {
   "cell_type": "code",
   "execution_count": 33,
   "metadata": {},
   "outputs": [
    {
     "data": {
      "text/latex": [
       "$\\displaystyle X{\\left(x,p_{x} \\right)} + Y{\\left(x,p_{x} \\right)} + \\frac{\\lbrace X,Y \\rbrace }{2} - \\frac{\\lbrace \\lbrace X,Y \\rbrace ,X \\rbrace }{12} + \\frac{\\lbrace \\lbrace X,Y \\rbrace ,Y \\rbrace }{12} - \\frac{\\lbrace \\lbrace \\lbrace X,Y \\rbrace ,X \\rbrace ,Y \\rbrace }{24}$"
      ],
      "text/plain": [
       "X(x, p_x) + Y(x, p_x) + PoissonBracket(X(x, p_x), Y(x, p_x))/2 - PoissonBracket(PoissonBracket(X(x, p_x), Y(x, p_x)), X(x, p_x))/12 + PoissonBracket(PoissonBracket(X(x, p_x), Y(x, p_x)), Y(x, p_x))/12 - PoissonBracket(PoissonBracket(PoissonBracket(X(x, p_x), Y(x, p_x)), X(x, p_x)), Y(x, p_x))/24"
      ]
     },
     "execution_count": 33,
     "metadata": {},
     "output_type": "execute_result"
    }
   ],
   "source": [
    "generate_bch_expression(order=4,coords=[x],mom=[px]).expand(commutator=True)"
   ]
  },
  {
   "cell_type": "markdown",
   "metadata": {},
   "source": [
    "## order 5"
   ]
  },
  {
   "cell_type": "code",
   "execution_count": 37,
   "metadata": {},
   "outputs": [
    {
     "data": {
      "text/latex": [
       "$\\displaystyle X{\\left(x,p_{x} \\right)} + Y{\\left(x,p_{x} \\right)} - \\lbrace \\frac{X{\\left(x,p_{x} \\right)}}{720},\\lbrace \\lbrace \\lbrace X,Y \\rbrace ,X \\rbrace ,X \\rbrace  \\rbrace  - \\lbrace \\frac{X{\\left(x,p_{x} \\right)}}{360},\\lbrace \\lbrace \\lbrace X,Y \\rbrace ,Y \\rbrace ,Y \\rbrace  \\rbrace  + \\frac{\\lbrace X,Y \\rbrace }{2} + \\lbrace \\frac{Y{\\left(x,p_{x} \\right)}}{720},\\lbrace \\lbrace \\lbrace X,Y \\rbrace ,Y \\rbrace ,Y \\rbrace  \\rbrace  - \\frac{\\lbrace \\lbrace X,Y \\rbrace ,X \\rbrace }{12} + \\frac{\\lbrace \\lbrace X,Y \\rbrace ,Y \\rbrace }{12} - \\frac{\\lbrace \\lbrace \\lbrace X,Y \\rbrace ,X \\rbrace ,Y \\rbrace }{24} - \\frac{\\lbrace \\lbrace \\lbrace \\lbrace X,Y \\rbrace ,X \\rbrace ,X \\rbrace ,Y \\rbrace }{360} + \\frac{\\lbrace \\lbrace \\lbrace \\lbrace X,Y \\rbrace ,X \\rbrace ,Y \\rbrace ,X \\rbrace }{120} - \\frac{\\lbrace \\lbrace \\lbrace \\lbrace X,Y \\rbrace ,Y \\rbrace ,X \\rbrace ,Y \\rbrace }{120}$"
      ],
      "text/plain": [
       "X(x, p_x) + Y(x, p_x) - PoissonBracket(X(x, p_x)/720, PoissonBracket(PoissonBracket(PoissonBracket(X(x, p_x), Y(x, p_x)), X(x, p_x)), X(x, p_x))) - PoissonBracket(X(x, p_x)/360, PoissonBracket(PoissonBracket(PoissonBracket(X(x, p_x), Y(x, p_x)), Y(x, p_x)), Y(x, p_x))) + PoissonBracket(X(x, p_x), Y(x, p_x))/2 + PoissonBracket(Y(x, p_x)/720, PoissonBracket(PoissonBracket(PoissonBracket(X(x, p_x), Y(x, p_x)), Y(x, p_x)), Y(x, p_x))) - PoissonBracket(PoissonBracket(X(x, p_x), Y(x, p_x)), X(x, p_x))/12 + PoissonBracket(PoissonBracket(X(x, p_x), Y(x, p_x)), Y(x, p_x))/12 - PoissonBracket(PoissonBracket(PoissonBracket(X(x, p_x), Y(x, p_x)), X(x, p_x)), Y(x, p_x))/24 - PoissonBracket(PoissonBracket(PoissonBracket(PoissonBracket(X(x, p_x), Y(x, p_x)), X(x, p_x)), X(x, p_x)), Y(x, p_x))/360 + PoissonBracket(PoissonBracket(PoissonBracket(PoissonBracket(X(x, p_x), Y(x, p_x)), X(x, p_x)), Y(x, p_x)), X(x, p_x))/120 - PoissonBracket(PoissonBracket(PoissonBracket(PoissonBracket(X(x, p_x), Y(x, p_x)), Y(x, p_x)), X(x, p_x)), Y(x, p_x))/120"
      ]
     },
     "execution_count": 37,
     "metadata": {},
     "output_type": "execute_result"
    }
   ],
   "source": [
    "Lo1.BCH(Lo2,5).ham.expand(commutator=True)"
   ]
  },
  {
   "cell_type": "code",
   "execution_count": 38,
   "metadata": {},
   "outputs": [
    {
     "data": {
      "text/latex": [
       "$\\displaystyle X{\\left(x,p_{x} \\right)} + Y{\\left(x,p_{x} \\right)} + \\frac{\\lbrace X,Y \\rbrace }{2} - \\frac{\\lbrace \\lbrace X,Y \\rbrace ,X \\rbrace }{12} + \\frac{\\lbrace \\lbrace X,Y \\rbrace ,Y \\rbrace }{12} - \\frac{\\lbrace - \\lbrace \\lbrace X,Y \\rbrace ,X \\rbrace ,- \\lbrace X,Y \\rbrace  \\rbrace }{120} - \\frac{\\lbrace \\lbrace \\lbrace X,Y \\rbrace ,X \\rbrace ,Y \\rbrace }{24} - \\frac{\\lbrace - \\lbrace \\lbrace X,Y \\rbrace ,Y \\rbrace ,- \\lbrace X,Y \\rbrace  \\rbrace }{360} + \\frac{\\lbrace \\lbrace \\lbrace \\lbrace X,Y \\rbrace ,X \\rbrace ,X \\rbrace ,X \\rbrace }{720} + \\frac{\\lbrace \\lbrace \\lbrace \\lbrace X,Y \\rbrace ,X \\rbrace ,X \\rbrace ,Y \\rbrace }{180} - \\frac{\\lbrace \\lbrace \\lbrace \\lbrace X,Y \\rbrace ,X \\rbrace ,Y \\rbrace ,Y \\rbrace }{180} - \\frac{\\lbrace \\lbrace \\lbrace \\lbrace X,Y \\rbrace ,Y \\rbrace ,Y \\rbrace ,Y \\rbrace }{720}$"
      ],
      "text/plain": [
       "X(x, p_x) + Y(x, p_x) + PoissonBracket(X(x, p_x), Y(x, p_x))/2 - PoissonBracket(PoissonBracket(X(x, p_x), Y(x, p_x)), X(x, p_x))/12 + PoissonBracket(PoissonBracket(X(x, p_x), Y(x, p_x)), Y(x, p_x))/12 - PoissonBracket(-PoissonBracket(PoissonBracket(X(x, p_x), Y(x, p_x)), X(x, p_x)), -PoissonBracket(X(x, p_x), Y(x, p_x)))/120 - PoissonBracket(PoissonBracket(PoissonBracket(X(x, p_x), Y(x, p_x)), X(x, p_x)), Y(x, p_x))/24 - PoissonBracket(-PoissonBracket(PoissonBracket(X(x, p_x), Y(x, p_x)), Y(x, p_x)), -PoissonBracket(X(x, p_x), Y(x, p_x)))/360 + PoissonBracket(PoissonBracket(PoissonBracket(PoissonBracket(X(x, p_x), Y(x, p_x)), X(x, p_x)), X(x, p_x)), X(x, p_x))/720 + PoissonBracket(PoissonBracket(PoissonBracket(PoissonBracket(X(x, p_x), Y(x, p_x)), X(x, p_x)), X(x, p_x)), Y(x, p_x))/180 - PoissonBracket(PoissonBracket(PoissonBracket(PoissonBracket(X(x, p_x), Y(x, p_x)), X(x, p_x)), Y(x, p_x)), Y(x, p_x))/180 - PoissonBracket(PoissonBracket(PoissonBracket(PoissonBracket(X(x, p_x), Y(x, p_x)), Y(x, p_x)), Y(x, p_x)), Y(x, p_x))/720"
      ]
     },
     "execution_count": 38,
     "metadata": {},
     "output_type": "execute_result"
    }
   ],
   "source": [
    "generate_bch_expression(order=5,coords=[x],mom=[px]).expand(commutator=True)"
   ]
  },
  {
   "cell_type": "markdown",
   "metadata": {},
   "source": [
    "# Practical example"
   ]
  },
  {
   "cell_type": "code",
   "execution_count": 54,
   "metadata": {},
   "outputs": [
    {
     "data": {
      "text/latex": [
       "$\\displaystyle 2 p^{2} + x^{2}$"
      ],
      "text/plain": [
       "2*p**2 + x**2"
      ]
     },
     "execution_count": 54,
     "metadata": {},
     "output_type": "execute_result"
    }
   ],
   "source": [
    "Lo1.BCH(Lo2,1).ham.subs(X,H2).subs(Y,H1).doit()"
   ]
  },
  {
   "cell_type": "code",
   "execution_count": 43,
   "metadata": {},
   "outputs": [
    {
     "data": {
      "text/latex": [
       "$\\displaystyle 2 p^{2} + x^{2}$"
      ],
      "text/plain": [
       "2*p**2 + x**2"
      ]
     },
     "execution_count": 43,
     "metadata": {},
     "output_type": "execute_result"
    }
   ],
   "source": [
    "generate_bch_expression(order=1,coords=[x],mom=[px]).expand(commutator=True).subs(X,H2).subs(Y,H1)"
   ]
  },
  {
   "cell_type": "code",
   "execution_count": 55,
   "metadata": {},
   "outputs": [
    {
     "data": {
      "text/latex": [
       "$\\displaystyle 2 p^{2} - 2 p x + x^{2}$"
      ],
      "text/plain": [
       "2*p**2 - 2*p*x + x**2"
      ]
     },
     "execution_count": 55,
     "metadata": {},
     "output_type": "execute_result"
    }
   ],
   "source": [
    "Lo1.BCH(Lo2,2).ham.subs(X,H2).subs(Y,H1).doit()"
   ]
  },
  {
   "cell_type": "code",
   "execution_count": 45,
   "metadata": {},
   "outputs": [
    {
     "data": {
      "text/latex": [
       "$\\displaystyle 2 p^{2} - 2 p x + x^{2}$"
      ],
      "text/plain": [
       "2*p**2 - 2*p*x + x**2"
      ]
     },
     "execution_count": 45,
     "metadata": {},
     "output_type": "execute_result"
    }
   ],
   "source": [
    "generate_bch_expression(order=2,coords=[x],mom=[px]).expand(commutator=True).subs(X,H2).subs(Y,H1).doit()"
   ]
  },
  {
   "cell_type": "code",
   "execution_count": 56,
   "metadata": {},
   "outputs": [
    {
     "data": {
      "text/latex": [
       "$\\displaystyle \\frac{8 p^{2}}{3} - 2 p x + x^{2}$"
      ],
      "text/plain": [
       "8*p**2/3 - 2*p*x + x**2"
      ]
     },
     "execution_count": 56,
     "metadata": {},
     "output_type": "execute_result"
    }
   ],
   "source": [
    "Lo1.BCH(Lo2,3).ham.subs(X,H2).subs(Y,H1).doit()"
   ]
  },
  {
   "cell_type": "code",
   "execution_count": 46,
   "metadata": {},
   "outputs": [
    {
     "data": {
      "text/latex": [
       "$\\displaystyle 2 p^{2} - 2 p x + \\frac{5 x^{2}}{3}$"
      ],
      "text/plain": [
       "2*p**2 - 2*p*x + 5*x**2/3"
      ]
     },
     "execution_count": 46,
     "metadata": {},
     "output_type": "execute_result"
    }
   ],
   "source": [
    "generate_bch_expression(order=3,coords=[x],mom=[px]).expand(commutator=True).subs(X,H2).subs(Y,H1).doit()"
   ]
  },
  {
   "cell_type": "code",
   "execution_count": 57,
   "metadata": {},
   "outputs": [
    {
     "data": {
      "text/latex": [
       "$\\displaystyle \\frac{8 p^{2}}{3} - \\frac{10 p x}{3} + x^{2}$"
      ],
      "text/plain": [
       "8*p**2/3 - 10*p*x/3 + x**2"
      ]
     },
     "execution_count": 57,
     "metadata": {},
     "output_type": "execute_result"
    }
   ],
   "source": [
    "Lo1.BCH(Lo2,4).ham.subs(X,H2).subs(Y,H1).doit()"
   ]
  },
  {
   "cell_type": "code",
   "execution_count": 47,
   "metadata": {},
   "outputs": [
    {
     "data": {
      "text/latex": [
       "$\\displaystyle 2 p^{2} - \\frac{10 p x}{3} + \\frac{5 x^{2}}{3}$"
      ],
      "text/plain": [
       "2*p**2 - 10*p*x/3 + 5*x**2/3"
      ]
     },
     "execution_count": 47,
     "metadata": {},
     "output_type": "execute_result"
    }
   ],
   "source": [
    "generate_bch_expression(order=4,coords=[x],mom=[px]).expand(commutator=True).subs(X,H2).subs(Y,H1).doit()"
   ]
  },
  {
   "cell_type": "code",
   "execution_count": 58,
   "metadata": {},
   "outputs": [
    {
     "data": {
      "text/latex": [
       "$\\displaystyle \\frac{32 p^{2}}{15} - \\frac{10 p x}{3} + \\frac{23 x^{2}}{15}$"
      ],
      "text/plain": [
       "32*p**2/15 - 10*p*x/3 + 23*x**2/15"
      ]
     },
     "execution_count": 58,
     "metadata": {},
     "output_type": "execute_result"
    }
   ],
   "source": [
    "Lo1.BCH(Lo2,5).ham.subs(X,H2).subs(Y,H1).doit()"
   ]
  },
  {
   "cell_type": "code",
   "execution_count": 59,
   "metadata": {},
   "outputs": [
    {
     "data": {
      "text/latex": [
       "$\\displaystyle 2 p^{2} - 2 p x + x^{2}$"
      ],
      "text/plain": [
       "2*p**2 - 2*p*x + x**2"
      ]
     },
     "execution_count": 59,
     "metadata": {},
     "output_type": "execute_result"
    }
   ],
   "source": [
    "generate_bch_expression(order=5,coords=[x],mom=[px]).subs(X,H2).subs(Y,H1).doit()"
   ]
  },
  {
   "cell_type": "code",
   "execution_count": 63,
   "metadata": {},
   "outputs": [
    {
     "data": {
      "text/latex": [
       "$\\displaystyle 2 p^{2} - 2 p x + x^{2}$"
      ],
      "text/plain": [
       "2*p**2 - 2*p*x + x**2"
      ]
     },
     "execution_count": 63,
     "metadata": {},
     "output_type": "execute_result"
    }
   ],
   "source": [
    "generate_bch_expression(order=6,coords=[x],mom=[px]).subs(X,H2).subs(Y,H1).doit()"
   ]
  },
  {
   "cell_type": "code",
   "execution_count": null,
   "metadata": {},
   "outputs": [],
   "source": []
  }
 ],
 "metadata": {
  "kernelspec": {
   "display_name": "Python [conda env:jnotebookenv] *",
   "language": "python",
   "name": "conda-env-jnotebookenv-py"
  },
  "language_info": {
   "codemirror_mode": {
    "name": "ipython",
    "version": 3
   },
   "file_extension": ".py",
   "mimetype": "text/x-python",
   "name": "python",
   "nbconvert_exporter": "python",
   "pygments_lexer": "ipython3",
   "version": "3.8.5"
  },
  "latex_envs": {
   "LaTeX_envs_menu_present": true,
   "autoclose": false,
   "autocomplete": true,
   "bibliofile": "biblio.bib",
   "cite_by": "apalike",
   "current_citInitial": 1,
   "eqLabelWithNumbers": true,
   "eqNumInitial": 1,
   "hotkeys": {
    "equation": "Ctrl-E",
    "itemize": "Ctrl-I"
   },
   "labels_anchors": false,
   "latex_user_defs": false,
   "report_style_numbering": false,
   "user_envs_cfg": false
  },
  "toc": {
   "base_numbering": 1,
   "nav_menu": {},
   "number_sections": true,
   "sideBar": true,
   "skip_h1_title": false,
   "title_cell": "Table of Contents",
   "title_sidebar": "Contents",
   "toc_cell": false,
   "toc_position": {},
   "toc_section_display": true,
   "toc_window_display": false
  }
 },
 "nbformat": 4,
 "nbformat_minor": 4
}
